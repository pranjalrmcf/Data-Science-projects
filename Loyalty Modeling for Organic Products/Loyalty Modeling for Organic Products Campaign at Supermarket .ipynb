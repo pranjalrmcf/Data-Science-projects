{
 "cells": [
  {
   "cell_type": "markdown",
   "metadata": {},
   "source": [
    "# Importing Libraries"
   ]
  },
  {
   "cell_type": "code",
   "execution_count": 23,
   "metadata": {},
   "outputs": [],
   "source": [
    "import numpy as np\n",
    "import pandas as pd\n",
    "import matplotlib.pyplot as plt\n",
    "import seaborn as sns\n",
    "from scipy.stats import norm, lognorm, shapiro"
   ]
  },
  {
   "cell_type": "markdown",
   "metadata": {},
   "source": [
    "# Importing the Data for ML Project"
   ]
  },
  {
   "cell_type": "code",
   "execution_count": 2,
   "metadata": {},
   "outputs": [],
   "source": [
    "df=pd.read_csv('organics.csv')"
   ]
  },
  {
   "cell_type": "code",
   "execution_count": 3,
   "metadata": {},
   "outputs": [
    {
     "data": {
      "text/plain": [
       "(22223, 12)"
      ]
     },
     "execution_count": 3,
     "metadata": {},
     "output_type": "execute_result"
    }
   ],
   "source": [
    "df.shape"
   ]
  },
  {
   "cell_type": "code",
   "execution_count": 4,
   "metadata": {
    "scrolled": true
   },
   "outputs": [
    {
     "data": {
      "text/html": [
       "<div>\n",
       "<style scoped>\n",
       "    .dataframe tbody tr th:only-of-type {\n",
       "        vertical-align: middle;\n",
       "    }\n",
       "\n",
       "    .dataframe tbody tr th {\n",
       "        vertical-align: top;\n",
       "    }\n",
       "\n",
       "    .dataframe thead th {\n",
       "        text-align: right;\n",
       "    }\n",
       "</style>\n",
       "<table border=\"1\" class=\"dataframe\">\n",
       "  <thead>\n",
       "    <tr style=\"text-align: right;\">\n",
       "      <th></th>\n",
       "      <th>Customer_Loyalty_ID</th>\n",
       "      <th>Gender</th>\n",
       "      <th>Geographic_Region</th>\n",
       "      <th>Loyalty_Status</th>\n",
       "      <th>Neigborhood_Cluster-55_Level</th>\n",
       "      <th>Neighborhood_Cluster-7_Level</th>\n",
       "      <th>Television_Region</th>\n",
       "      <th>Affluence_Grade</th>\n",
       "      <th>Age</th>\n",
       "      <th>Loyalty_Card_Tenure</th>\n",
       "      <th>Organics_Purchase_Indicator</th>\n",
       "      <th>Total_Spend</th>\n",
       "    </tr>\n",
       "  </thead>\n",
       "  <tbody>\n",
       "    <tr>\n",
       "      <th>0</th>\n",
       "      <td>140</td>\n",
       "      <td>U</td>\n",
       "      <td>Midlands</td>\n",
       "      <td>Gold</td>\n",
       "      <td>16.0</td>\n",
       "      <td>C</td>\n",
       "      <td>Wales &amp; West</td>\n",
       "      <td>10.0</td>\n",
       "      <td>76.0</td>\n",
       "      <td>4.0</td>\n",
       "      <td>0</td>\n",
       "      <td>16000</td>\n",
       "    </tr>\n",
       "    <tr>\n",
       "      <th>1</th>\n",
       "      <td>620</td>\n",
       "      <td>U</td>\n",
       "      <td>Midlands</td>\n",
       "      <td>Gold</td>\n",
       "      <td>35.0</td>\n",
       "      <td>D</td>\n",
       "      <td>Wales &amp; West</td>\n",
       "      <td>4.0</td>\n",
       "      <td>49.0</td>\n",
       "      <td>5.0</td>\n",
       "      <td>0</td>\n",
       "      <td>6000</td>\n",
       "    </tr>\n",
       "    <tr>\n",
       "      <th>2</th>\n",
       "      <td>868</td>\n",
       "      <td>F</td>\n",
       "      <td>Midlands</td>\n",
       "      <td>Silver</td>\n",
       "      <td>27.0</td>\n",
       "      <td>D</td>\n",
       "      <td>Wales &amp; West</td>\n",
       "      <td>5.0</td>\n",
       "      <td>70.0</td>\n",
       "      <td>8.0</td>\n",
       "      <td>1</td>\n",
       "      <td>2</td>\n",
       "    </tr>\n",
       "    <tr>\n",
       "      <th>3</th>\n",
       "      <td>1120</td>\n",
       "      <td>M</td>\n",
       "      <td>Midlands</td>\n",
       "      <td>Tin</td>\n",
       "      <td>51.0</td>\n",
       "      <td>F</td>\n",
       "      <td>Midlands</td>\n",
       "      <td>10.0</td>\n",
       "      <td>65.0</td>\n",
       "      <td>7.0</td>\n",
       "      <td>1</td>\n",
       "      <td>1</td>\n",
       "    </tr>\n",
       "    <tr>\n",
       "      <th>4</th>\n",
       "      <td>2313</td>\n",
       "      <td>F</td>\n",
       "      <td>Midlands</td>\n",
       "      <td>Tin</td>\n",
       "      <td>4.0</td>\n",
       "      <td>A</td>\n",
       "      <td>Midlands</td>\n",
       "      <td>11.0</td>\n",
       "      <td>68.0</td>\n",
       "      <td>8.0</td>\n",
       "      <td>0</td>\n",
       "      <td>1</td>\n",
       "    </tr>\n",
       "  </tbody>\n",
       "</table>\n",
       "</div>"
      ],
      "text/plain": [
       "   Customer_Loyalty_ID Gender Geographic_Region Loyalty_Status  \\\n",
       "0                  140      U          Midlands           Gold   \n",
       "1                  620      U          Midlands           Gold   \n",
       "2                  868      F          Midlands         Silver   \n",
       "3                 1120      M          Midlands            Tin   \n",
       "4                 2313      F          Midlands            Tin   \n",
       "\n",
       "   Neigborhood_Cluster-55_Level Neighborhood_Cluster-7_Level  \\\n",
       "0                          16.0                            C   \n",
       "1                          35.0                            D   \n",
       "2                          27.0                            D   \n",
       "3                          51.0                            F   \n",
       "4                           4.0                            A   \n",
       "\n",
       "  Television_Region  Affluence_Grade   Age  Loyalty_Card_Tenure  \\\n",
       "0      Wales & West             10.0  76.0                  4.0   \n",
       "1      Wales & West              4.0  49.0                  5.0   \n",
       "2      Wales & West              5.0  70.0                  8.0   \n",
       "3          Midlands             10.0  65.0                  7.0   \n",
       "4          Midlands             11.0  68.0                  8.0   \n",
       "\n",
       "   Organics_Purchase_Indicator  Total_Spend  \n",
       "0                            0        16000  \n",
       "1                            0         6000  \n",
       "2                            1            2  \n",
       "3                            1            1  \n",
       "4                            0            1  "
      ]
     },
     "execution_count": 4,
     "metadata": {},
     "output_type": "execute_result"
    }
   ],
   "source": [
    "df.head()"
   ]
  },
  {
   "cell_type": "code",
   "execution_count": 6,
   "metadata": {},
   "outputs": [
    {
     "data": {
      "text/plain": [
       "Customer_Loyalty_ID               int64\n",
       "Gender                           object\n",
       "Geographic_Region                object\n",
       "Loyalty_Status                   object\n",
       "Neigborhood_Cluster-55_Level    float64\n",
       "Neighborhood_Cluster-7_Level     object\n",
       "Television_Region                object\n",
       "Affluence_Grade                 float64\n",
       "Age                             float64\n",
       "Loyalty_Card_Tenure             float64\n",
       "Organics_Purchase_Indicator       int64\n",
       "Total_Spend                       int64\n",
       "dtype: object"
      ]
     },
     "execution_count": 6,
     "metadata": {},
     "output_type": "execute_result"
    }
   ],
   "source": [
    "df.dtypes"
   ]
  },
  {
   "cell_type": "markdown",
   "metadata": {},
   "source": [
    "# Setting Display options to ensure feature name visibility"
   ]
  },
  {
   "cell_type": "code",
   "execution_count": 7,
   "metadata": {},
   "outputs": [],
   "source": [
    "pd.set_option('display.max_columns',None)"
   ]
  },
  {
   "cell_type": "markdown",
   "metadata": {},
   "source": [
    "# Warning Suppression "
   ]
  },
  {
   "cell_type": "code",
   "execution_count": 8,
   "metadata": {},
   "outputs": [],
   "source": [
    "import warnings\n",
    "warnings.filterwarnings('ignore')"
   ]
  },
  {
   "cell_type": "markdown",
   "metadata": {},
   "source": [
    "# Drop ID Feature from the dataset"
   ]
  },
  {
   "cell_type": "code",
   "execution_count": 9,
   "metadata": {},
   "outputs": [],
   "source": [
    "df=df.drop(['Customer_Loyalty_ID'],axis=1)"
   ]
  },
  {
   "cell_type": "markdown",
   "metadata": {},
   "source": [
    "# Defining Target and Independent Features"
   ]
  },
  {
   "cell_type": "code",
   "execution_count": 10,
   "metadata": {},
   "outputs": [],
   "source": [
    "Y=df[['Organics_Purchase_Indicator']]\n",
    "X=df.drop(['Organics_Purchase_Indicator'],axis=1)"
   ]
  },
  {
   "cell_type": "code",
   "execution_count": 11,
   "metadata": {},
   "outputs": [
    {
     "data": {
      "text/plain": [
       "Organics_Purchase_Indicator\n",
       "0    16718\n",
       "1     5505\n",
       "Name: count, dtype: int64"
      ]
     },
     "execution_count": 11,
     "metadata": {},
     "output_type": "execute_result"
    }
   ],
   "source": [
    "Y['Organics_Purchase_Indicator'].value_counts()"
   ]
  },
  {
   "cell_type": "code",
   "execution_count": 12,
   "metadata": {},
   "outputs": [
    {
     "data": {
      "text/plain": [
       "(22223, 1)"
      ]
     },
     "execution_count": 12,
     "metadata": {},
     "output_type": "execute_result"
    }
   ],
   "source": [
    "Y.shape"
   ]
  },
  {
   "cell_type": "markdown",
   "metadata": {},
   "source": [
    "# Get the Response Rate"
   ]
  },
  {
   "cell_type": "code",
   "execution_count": 13,
   "metadata": {},
   "outputs": [
    {
     "data": {
      "text/plain": [
       "Organics_Purchase_Indicator    0.247716\n",
       "dtype: float64"
      ]
     },
     "execution_count": 13,
     "metadata": {},
     "output_type": "execute_result"
    }
   ],
   "source": [
    "Y.mean()"
   ]
  },
  {
   "cell_type": "markdown",
   "metadata": {},
   "source": [
    "# Split features into Numerical and Categorical"
   ]
  },
  {
   "cell_type": "code",
   "execution_count": 14,
   "metadata": {},
   "outputs": [],
   "source": [
    "num=X.select_dtypes(include=\"number\")\n",
    "char=X.select_dtypes(include=\"object\")"
   ]
  },
  {
   "cell_type": "code",
   "execution_count": 15,
   "metadata": {},
   "outputs": [],
   "source": [
    "def unique_levels(x):\n",
    "    x=x.value_counts().count()\n",
    "    return(x)\n",
    "df_value_counts=pd.DataFrame(num.apply(lambda x : unique_levels(x)))"
   ]
  },
  {
   "cell_type": "code",
   "execution_count": 16,
   "metadata": {},
   "outputs": [
    {
     "data": {
      "text/html": [
       "<div>\n",
       "<style scoped>\n",
       "    .dataframe tbody tr th:only-of-type {\n",
       "        vertical-align: middle;\n",
       "    }\n",
       "\n",
       "    .dataframe tbody tr th {\n",
       "        vertical-align: top;\n",
       "    }\n",
       "\n",
       "    .dataframe thead th {\n",
       "        text-align: right;\n",
       "    }\n",
       "</style>\n",
       "<table border=\"1\" class=\"dataframe\">\n",
       "  <thead>\n",
       "    <tr style=\"text-align: right;\">\n",
       "      <th></th>\n",
       "      <th>feature_levels</th>\n",
       "    </tr>\n",
       "  </thead>\n",
       "  <tbody>\n",
       "    <tr>\n",
       "      <th>Neigborhood_Cluster-55_Level</th>\n",
       "      <td>55</td>\n",
       "    </tr>\n",
       "    <tr>\n",
       "      <th>Affluence_Grade</th>\n",
       "      <td>33</td>\n",
       "    </tr>\n",
       "    <tr>\n",
       "      <th>Age</th>\n",
       "      <td>62</td>\n",
       "    </tr>\n",
       "    <tr>\n",
       "      <th>Loyalty_Card_Tenure</th>\n",
       "      <td>39</td>\n",
       "    </tr>\n",
       "    <tr>\n",
       "      <th>Total_Spend</th>\n",
       "      <td>2597</td>\n",
       "    </tr>\n",
       "  </tbody>\n",
       "</table>\n",
       "</div>"
      ],
      "text/plain": [
       "                              feature_levels\n",
       "Neigborhood_Cluster-55_Level              55\n",
       "Affluence_Grade                           33\n",
       "Age                                       62\n",
       "Loyalty_Card_Tenure                       39\n",
       "Total_Spend                             2597"
      ]
     },
     "execution_count": 16,
     "metadata": {},
     "output_type": "execute_result"
    }
   ],
   "source": [
    "df_value_counts.columns=['feature_levels']\n",
    "df_value_counts.head()"
   ]
  },
  {
   "cell_type": "code",
   "execution_count": 17,
   "metadata": {},
   "outputs": [
    {
     "name": "stdout",
     "output_type": "stream",
     "text": [
      "The shape of numerical dataframe : (22223, 5)\n",
      "The shape of categorical datafrme : (22223, 5)\n"
     ]
    }
   ],
   "source": [
    "print (\"The shape of numerical dataframe :\",num.shape)\n",
    "print (\"The shape of categorical datafrme :\",char.shape)"
   ]
  },
  {
   "cell_type": "markdown",
   "metadata": {},
   "source": [
    "# Outlier Analysis of Numerical Features"
   ]
  },
  {
   "cell_type": "code",
   "execution_count": 18,
   "metadata": {
    "scrolled": true
   },
   "outputs": [
    {
     "data": {
      "text/html": [
       "<div>\n",
       "<style scoped>\n",
       "    .dataframe tbody tr th:only-of-type {\n",
       "        vertical-align: middle;\n",
       "    }\n",
       "\n",
       "    .dataframe tbody tr th {\n",
       "        vertical-align: top;\n",
       "    }\n",
       "\n",
       "    .dataframe thead th {\n",
       "        text-align: right;\n",
       "    }\n",
       "</style>\n",
       "<table border=\"1\" class=\"dataframe\">\n",
       "  <thead>\n",
       "    <tr style=\"text-align: right;\">\n",
       "      <th></th>\n",
       "      <th>Neigborhood_Cluster-55_Level</th>\n",
       "      <th>Affluence_Grade</th>\n",
       "      <th>Age</th>\n",
       "      <th>Loyalty_Card_Tenure</th>\n",
       "      <th>Total_Spend</th>\n",
       "    </tr>\n",
       "  </thead>\n",
       "  <tbody>\n",
       "    <tr>\n",
       "      <th>count</th>\n",
       "      <td>21549.000000</td>\n",
       "      <td>21138.000000</td>\n",
       "      <td>20715.000000</td>\n",
       "      <td>21942.000000</td>\n",
       "      <td>2.222300e+04</td>\n",
       "    </tr>\n",
       "    <tr>\n",
       "      <th>mean</th>\n",
       "      <td>27.193652</td>\n",
       "      <td>8.711893</td>\n",
       "      <td>53.797152</td>\n",
       "      <td>6.564670</td>\n",
       "      <td>1.418558e+05</td>\n",
       "    </tr>\n",
       "    <tr>\n",
       "      <th>std</th>\n",
       "      <td>15.751547</td>\n",
       "      <td>3.421125</td>\n",
       "      <td>13.206048</td>\n",
       "      <td>4.657113</td>\n",
       "      <td>5.611938e+05</td>\n",
       "    </tr>\n",
       "    <tr>\n",
       "      <th>min</th>\n",
       "      <td>1.000000</td>\n",
       "      <td>0.000000</td>\n",
       "      <td>18.000000</td>\n",
       "      <td>0.000000</td>\n",
       "      <td>1.000000e+00</td>\n",
       "    </tr>\n",
       "    <tr>\n",
       "      <th>1%</th>\n",
       "      <td>1.000000</td>\n",
       "      <td>2.000000</td>\n",
       "      <td>27.000000</td>\n",
       "      <td>1.000000</td>\n",
       "      <td>1.000000e+00</td>\n",
       "    </tr>\n",
       "    <tr>\n",
       "      <th>5%</th>\n",
       "      <td>4.000000</td>\n",
       "      <td>4.000000</td>\n",
       "      <td>32.000000</td>\n",
       "      <td>1.000000</td>\n",
       "      <td>1.000000e+00</td>\n",
       "    </tr>\n",
       "    <tr>\n",
       "      <th>10%</th>\n",
       "      <td>6.000000</td>\n",
       "      <td>5.000000</td>\n",
       "      <td>36.000000</td>\n",
       "      <td>2.000000</td>\n",
       "      <td>1.000000e+00</td>\n",
       "    </tr>\n",
       "    <tr>\n",
       "      <th>25%</th>\n",
       "      <td>14.000000</td>\n",
       "      <td>6.000000</td>\n",
       "      <td>44.000000</td>\n",
       "      <td>4.000000</td>\n",
       "      <td>1.000000e+00</td>\n",
       "    </tr>\n",
       "    <tr>\n",
       "      <th>50%</th>\n",
       "      <td>27.000000</td>\n",
       "      <td>8.000000</td>\n",
       "      <td>54.000000</td>\n",
       "      <td>5.000000</td>\n",
       "      <td>2.500000e+03</td>\n",
       "    </tr>\n",
       "    <tr>\n",
       "      <th>75%</th>\n",
       "      <td>38.000000</td>\n",
       "      <td>11.000000</td>\n",
       "      <td>64.000000</td>\n",
       "      <td>8.000000</td>\n",
       "      <td>8.000000e+03</td>\n",
       "    </tr>\n",
       "    <tr>\n",
       "      <th>85%</th>\n",
       "      <td>49.000000</td>\n",
       "      <td>12.000000</td>\n",
       "      <td>69.000000</td>\n",
       "      <td>9.000000</td>\n",
       "      <td>2.902870e+04</td>\n",
       "    </tr>\n",
       "    <tr>\n",
       "      <th>90%</th>\n",
       "      <td>51.000000</td>\n",
       "      <td>13.000000</td>\n",
       "      <td>72.000000</td>\n",
       "      <td>11.000000</td>\n",
       "      <td>4.078740e+05</td>\n",
       "    </tr>\n",
       "    <tr>\n",
       "      <th>99%</th>\n",
       "      <td>53.000000</td>\n",
       "      <td>19.000000</td>\n",
       "      <td>78.000000</td>\n",
       "      <td>27.000000</td>\n",
       "      <td>2.299813e+06</td>\n",
       "    </tr>\n",
       "    <tr>\n",
       "      <th>max</th>\n",
       "      <td>55.000000</td>\n",
       "      <td>34.000000</td>\n",
       "      <td>79.000000</td>\n",
       "      <td>39.000000</td>\n",
       "      <td>2.963138e+07</td>\n",
       "    </tr>\n",
       "  </tbody>\n",
       "</table>\n",
       "</div>"
      ],
      "text/plain": [
       "       Neigborhood_Cluster-55_Level  Affluence_Grade           Age  \\\n",
       "count                  21549.000000     21138.000000  20715.000000   \n",
       "mean                      27.193652         8.711893     53.797152   \n",
       "std                       15.751547         3.421125     13.206048   \n",
       "min                        1.000000         0.000000     18.000000   \n",
       "1%                         1.000000         2.000000     27.000000   \n",
       "5%                         4.000000         4.000000     32.000000   \n",
       "10%                        6.000000         5.000000     36.000000   \n",
       "25%                       14.000000         6.000000     44.000000   \n",
       "50%                       27.000000         8.000000     54.000000   \n",
       "75%                       38.000000        11.000000     64.000000   \n",
       "85%                       49.000000        12.000000     69.000000   \n",
       "90%                       51.000000        13.000000     72.000000   \n",
       "99%                       53.000000        19.000000     78.000000   \n",
       "max                       55.000000        34.000000     79.000000   \n",
       "\n",
       "       Loyalty_Card_Tenure   Total_Spend  \n",
       "count         21942.000000  2.222300e+04  \n",
       "mean              6.564670  1.418558e+05  \n",
       "std               4.657113  5.611938e+05  \n",
       "min               0.000000  1.000000e+00  \n",
       "1%                1.000000  1.000000e+00  \n",
       "5%                1.000000  1.000000e+00  \n",
       "10%               2.000000  1.000000e+00  \n",
       "25%               4.000000  1.000000e+00  \n",
       "50%               5.000000  2.500000e+03  \n",
       "75%               8.000000  8.000000e+03  \n",
       "85%               9.000000  2.902870e+04  \n",
       "90%              11.000000  4.078740e+05  \n",
       "99%              27.000000  2.299813e+06  \n",
       "max              39.000000  2.963138e+07  "
      ]
     },
     "execution_count": 18,
     "metadata": {},
     "output_type": "execute_result"
    }
   ],
   "source": [
    "num.describe(percentiles=[0.01,0.05,0.10,0.25,0.50,0.75,0.85,0.9,0.99])"
   ]
  },
  {
   "cell_type": "markdown",
   "metadata": {},
   "source": [
    "# Capping and Flooring of outliers"
   ]
  },
  {
   "cell_type": "code",
   "execution_count": 19,
   "metadata": {},
   "outputs": [],
   "source": [
    "def outlier_cap(x):\n",
    "    x=x.clip(lower=x.quantile(0.01))\n",
    "    x=x.clip(upper=x.quantile(0.99))\n",
    "    return(x)"
   ]
  },
  {
   "cell_type": "code",
   "execution_count": 20,
   "metadata": {},
   "outputs": [],
   "source": [
    "num=num.apply(lambda x : outlier_cap(x))"
   ]
  },
  {
   "cell_type": "code",
   "execution_count": 21,
   "metadata": {
    "scrolled": true
   },
   "outputs": [
    {
     "data": {
      "text/html": [
       "<div>\n",
       "<style scoped>\n",
       "    .dataframe tbody tr th:only-of-type {\n",
       "        vertical-align: middle;\n",
       "    }\n",
       "\n",
       "    .dataframe tbody tr th {\n",
       "        vertical-align: top;\n",
       "    }\n",
       "\n",
       "    .dataframe thead th {\n",
       "        text-align: right;\n",
       "    }\n",
       "</style>\n",
       "<table border=\"1\" class=\"dataframe\">\n",
       "  <thead>\n",
       "    <tr style=\"text-align: right;\">\n",
       "      <th></th>\n",
       "      <th>Neigborhood_Cluster-55_Level</th>\n",
       "      <th>Affluence_Grade</th>\n",
       "      <th>Age</th>\n",
       "      <th>Loyalty_Card_Tenure</th>\n",
       "      <th>Total_Spend</th>\n",
       "    </tr>\n",
       "  </thead>\n",
       "  <tbody>\n",
       "    <tr>\n",
       "      <th>count</th>\n",
       "      <td>21549.000000</td>\n",
       "      <td>21138.000000</td>\n",
       "      <td>20715.000000</td>\n",
       "      <td>21942.000000</td>\n",
       "      <td>2.222300e+04</td>\n",
       "    </tr>\n",
       "    <tr>\n",
       "      <th>mean</th>\n",
       "      <td>27.187201</td>\n",
       "      <td>8.684833</td>\n",
       "      <td>53.820227</td>\n",
       "      <td>6.534591</td>\n",
       "      <td>1.273761e+05</td>\n",
       "    </tr>\n",
       "    <tr>\n",
       "      <th>std</th>\n",
       "      <td>15.740610</td>\n",
       "      <td>3.302267</td>\n",
       "      <td>13.125310</td>\n",
       "      <td>4.493736</td>\n",
       "      <td>4.039612e+05</td>\n",
       "    </tr>\n",
       "    <tr>\n",
       "      <th>min</th>\n",
       "      <td>1.000000</td>\n",
       "      <td>2.000000</td>\n",
       "      <td>27.000000</td>\n",
       "      <td>1.000000</td>\n",
       "      <td>1.000000e+00</td>\n",
       "    </tr>\n",
       "    <tr>\n",
       "      <th>1%</th>\n",
       "      <td>1.000000</td>\n",
       "      <td>2.000000</td>\n",
       "      <td>27.000000</td>\n",
       "      <td>1.000000</td>\n",
       "      <td>1.000000e+00</td>\n",
       "    </tr>\n",
       "    <tr>\n",
       "      <th>5%</th>\n",
       "      <td>4.000000</td>\n",
       "      <td>4.000000</td>\n",
       "      <td>32.000000</td>\n",
       "      <td>1.000000</td>\n",
       "      <td>1.000000e+00</td>\n",
       "    </tr>\n",
       "    <tr>\n",
       "      <th>10%</th>\n",
       "      <td>6.000000</td>\n",
       "      <td>5.000000</td>\n",
       "      <td>36.000000</td>\n",
       "      <td>2.000000</td>\n",
       "      <td>1.000000e+00</td>\n",
       "    </tr>\n",
       "    <tr>\n",
       "      <th>25%</th>\n",
       "      <td>14.000000</td>\n",
       "      <td>6.000000</td>\n",
       "      <td>44.000000</td>\n",
       "      <td>4.000000</td>\n",
       "      <td>1.000000e+00</td>\n",
       "    </tr>\n",
       "    <tr>\n",
       "      <th>50%</th>\n",
       "      <td>27.000000</td>\n",
       "      <td>8.000000</td>\n",
       "      <td>54.000000</td>\n",
       "      <td>5.000000</td>\n",
       "      <td>2.500000e+03</td>\n",
       "    </tr>\n",
       "    <tr>\n",
       "      <th>75%</th>\n",
       "      <td>38.000000</td>\n",
       "      <td>11.000000</td>\n",
       "      <td>64.000000</td>\n",
       "      <td>8.000000</td>\n",
       "      <td>8.000000e+03</td>\n",
       "    </tr>\n",
       "    <tr>\n",
       "      <th>85%</th>\n",
       "      <td>49.000000</td>\n",
       "      <td>12.000000</td>\n",
       "      <td>69.000000</td>\n",
       "      <td>9.000000</td>\n",
       "      <td>2.902870e+04</td>\n",
       "    </tr>\n",
       "    <tr>\n",
       "      <th>90%</th>\n",
       "      <td>51.000000</td>\n",
       "      <td>13.000000</td>\n",
       "      <td>72.000000</td>\n",
       "      <td>11.000000</td>\n",
       "      <td>4.078740e+05</td>\n",
       "    </tr>\n",
       "    <tr>\n",
       "      <th>99%</th>\n",
       "      <td>53.000000</td>\n",
       "      <td>19.000000</td>\n",
       "      <td>78.000000</td>\n",
       "      <td>27.000000</td>\n",
       "      <td>2.299665e+06</td>\n",
       "    </tr>\n",
       "    <tr>\n",
       "      <th>max</th>\n",
       "      <td>53.000000</td>\n",
       "      <td>19.000000</td>\n",
       "      <td>78.000000</td>\n",
       "      <td>27.000000</td>\n",
       "      <td>2.299813e+06</td>\n",
       "    </tr>\n",
       "  </tbody>\n",
       "</table>\n",
       "</div>"
      ],
      "text/plain": [
       "       Neigborhood_Cluster-55_Level  Affluence_Grade           Age  \\\n",
       "count                  21549.000000     21138.000000  20715.000000   \n",
       "mean                      27.187201         8.684833     53.820227   \n",
       "std                       15.740610         3.302267     13.125310   \n",
       "min                        1.000000         2.000000     27.000000   \n",
       "1%                         1.000000         2.000000     27.000000   \n",
       "5%                         4.000000         4.000000     32.000000   \n",
       "10%                        6.000000         5.000000     36.000000   \n",
       "25%                       14.000000         6.000000     44.000000   \n",
       "50%                       27.000000         8.000000     54.000000   \n",
       "75%                       38.000000        11.000000     64.000000   \n",
       "85%                       49.000000        12.000000     69.000000   \n",
       "90%                       51.000000        13.000000     72.000000   \n",
       "99%                       53.000000        19.000000     78.000000   \n",
       "max                       53.000000        19.000000     78.000000   \n",
       "\n",
       "       Loyalty_Card_Tenure   Total_Spend  \n",
       "count         21942.000000  2.222300e+04  \n",
       "mean              6.534591  1.273761e+05  \n",
       "std               4.493736  4.039612e+05  \n",
       "min               1.000000  1.000000e+00  \n",
       "1%                1.000000  1.000000e+00  \n",
       "5%                1.000000  1.000000e+00  \n",
       "10%               2.000000  1.000000e+00  \n",
       "25%               4.000000  1.000000e+00  \n",
       "50%               5.000000  2.500000e+03  \n",
       "75%               8.000000  8.000000e+03  \n",
       "85%               9.000000  2.902870e+04  \n",
       "90%              11.000000  4.078740e+05  \n",
       "99%              27.000000  2.299665e+06  \n",
       "max              27.000000  2.299813e+06  "
      ]
     },
     "execution_count": 21,
     "metadata": {},
     "output_type": "execute_result"
    }
   ],
   "source": [
    "num.describe(percentiles=[0.01,0.05,0.10,0.25,0.50,0.75,0.85,0.9,0.99])"
   ]
  },
  {
   "cell_type": "markdown",
   "metadata": {},
   "source": [
    "# Missing Value Handling - Numerical Features "
   ]
  },
  {
   "cell_type": "code",
   "execution_count": 22,
   "metadata": {},
   "outputs": [
    {
     "data": {
      "text/plain": [
       "Neigborhood_Cluster-55_Level    0.030329\n",
       "Affluence_Grade                 0.048823\n",
       "Age                             0.067858\n",
       "Loyalty_Card_Tenure             0.012645\n",
       "Total_Spend                     0.000000\n",
       "dtype: float64"
      ]
     },
     "execution_count": 22,
     "metadata": {},
     "output_type": "execute_result"
    }
   ],
   "source": [
    "num.isnull().mean()"
   ]
  },
  {
   "cell_type": "markdown",
   "metadata": {},
   "source": [
    "# Missing Value Handling - Numerical Features (Imputation with Mean)"
   ]
  },
  {
   "cell_type": "code",
   "execution_count": 24,
   "metadata": {},
   "outputs": [
    {
     "name": "stdout",
     "output_type": "stream",
     "text": [
      "       Neigborhood_Cluster-55_Level  Affluence_Grade           Age  \\\n",
      "count                  22223.000000     22223.000000  22223.000000   \n",
      "mean                      27.178861         8.669759     53.825582   \n",
      "std                       15.741933         3.303529     13.113407   \n",
      "min                      -18.216966        -2.806990     15.221341   \n",
      "25%                       14.000000         6.000000     44.000000   \n",
      "50%                       27.000000         8.000000     54.000000   \n",
      "75%                       38.000000        11.000000     64.000000   \n",
      "max                       73.246895        19.000000     94.131581   \n",
      "\n",
      "       Loyalty_Card_Tenure  \n",
      "count         22223.000000  \n",
      "mean              6.534420  \n",
      "std               4.492483  \n",
      "min              -6.067157  \n",
      "25%               4.000000  \n",
      "50%               5.000000  \n",
      "75%               8.000000  \n",
      "max              27.000000  \n"
     ]
    }
   ],
   "source": [
    "# Identify numerical columns with missing values\n",
    "numerical_columns = num.columns\n",
    "missing_columns = num.drop(['Total_Spend'], axis = 1).columns\n",
    "\n",
    "\n",
    "def impute_normal_distribution(df, col):\n",
    "    data = num[col].dropna()\n",
    "    mu, std = norm.fit(data)\n",
    "    missing_indices = num[col].isnull()\n",
    "    imputed_values = norm.rvs(loc=mu, scale=std, size=missing_indices.sum())\n",
    "    num.loc[missing_indices, col] = imputed_values\n",
    "\n",
    "\n",
    "# Determine the distribution type for each column and apply the appropriate imputation method\n",
    "for col in missing_columns:\n",
    "    data = num[col].dropna()\n",
    "    impute_normal_distribution(num, col)\n",
    "\n",
    "# Validate the imputation\n",
    "print(num[missing_columns].describe())"
   ]
  },
  {
   "cell_type": "code",
   "execution_count": 25,
   "metadata": {},
   "outputs": [
    {
     "data": {
      "text/plain": [
       "Neigborhood_Cluster-55_Level    0.0\n",
       "Affluence_Grade                 0.0\n",
       "Age                             0.0\n",
       "Loyalty_Card_Tenure             0.0\n",
       "Total_Spend                     0.0\n",
       "dtype: float64"
      ]
     },
     "execution_count": 25,
     "metadata": {},
     "output_type": "execute_result"
    }
   ],
   "source": [
    "num.isnull().mean()"
   ]
  },
  {
   "cell_type": "code",
   "execution_count": 110,
   "metadata": {
    "scrolled": true
   },
   "outputs": [],
   "source": [
    "# from sklearn.impute import SimpleImputer\n",
    "# imputer = SimpleImputer(missing_values=np.nan, strategy='mean')\n",
    "# num_1=pd.DataFrame(imputer.fit_transform(num),index=num.index,columns=num.columns)"
   ]
  },
  {
   "cell_type": "code",
   "execution_count": 111,
   "metadata": {
    "scrolled": true
   },
   "outputs": [
    {
     "data": {
      "text/plain": [
       "Neigborhood_Cluster-55_Level    0.0\n",
       "Affluence_Grade                 0.0\n",
       "Age                             0.0\n",
       "Loyalty_Card_Tenure             0.0\n",
       "Total_Spend                     0.0\n",
       "dtype: float64"
      ]
     },
     "execution_count": 111,
     "metadata": {},
     "output_type": "execute_result"
    }
   ],
   "source": [
    "# num_1.isnull().mean()"
   ]
  },
  {
   "cell_type": "markdown",
   "metadata": {},
   "source": [
    "# Missing Value Handling - Categorical Features (Remove >25% Missing Rows)"
   ]
  },
  {
   "cell_type": "code",
   "execution_count": 26,
   "metadata": {
    "scrolled": true
   },
   "outputs": [
    {
     "data": {
      "text/plain": [
       "Gender                          0.113036\n",
       "Geographic_Region               0.020924\n",
       "Loyalty_Status                  0.000000\n",
       "Neighborhood_Cluster-7_Level    0.030329\n",
       "Television_Region               0.020924\n",
       "dtype: float64"
      ]
     },
     "execution_count": 26,
     "metadata": {},
     "output_type": "execute_result"
    }
   ],
   "source": [
    "char.isnull().mean()"
   ]
  },
  {
   "cell_type": "code",
   "execution_count": 27,
   "metadata": {},
   "outputs": [],
   "source": [
    "from sklearn.impute import SimpleImputer\n",
    "imputer = SimpleImputer(missing_values=np.nan, strategy='most_frequent')\n",
    "char=pd.DataFrame(imputer.fit_transform(char),index=char.index,columns=char.columns)"
   ]
  },
  {
   "cell_type": "code",
   "execution_count": 28,
   "metadata": {},
   "outputs": [
    {
     "data": {
      "text/plain": [
       "Gender                          0.0\n",
       "Geographic_Region               0.0\n",
       "Loyalty_Status                  0.0\n",
       "Neighborhood_Cluster-7_Level    0.0\n",
       "Television_Region               0.0\n",
       "dtype: float64"
      ]
     },
     "execution_count": 28,
     "metadata": {},
     "output_type": "execute_result"
    }
   ],
   "source": [
    "char.isnull().mean()"
   ]
  },
  {
   "cell_type": "markdown",
   "metadata": {},
   "source": [
    "# Feature Selection - Numerical Features "
   ]
  },
  {
   "cell_type": "markdown",
   "metadata": {},
   "source": [
    "# Part 1 : Remove Features with 0 Variance"
   ]
  },
  {
   "cell_type": "code",
   "execution_count": 29,
   "metadata": {},
   "outputs": [],
   "source": [
    "from sklearn.feature_selection import VarianceThreshold\n",
    "\n",
    "varselector= VarianceThreshold(threshold=0)\n",
    "varselector.fit_transform(num)\n",
    "# Get columns to keep and create new dataframe with those only\n",
    "cols = varselector.get_support(indices=True)\n",
    "num = num.iloc[:,cols]"
   ]
  },
  {
   "cell_type": "code",
   "execution_count": 30,
   "metadata": {},
   "outputs": [
    {
     "data": {
      "text/plain": [
       "Neigborhood_Cluster-55_Level       16.0\n",
       "Affluence_Grade                    10.0\n",
       "Age                                76.0\n",
       "Loyalty_Card_Tenure                 4.0\n",
       "Total_Spend                     16000.0\n",
       "Name: 0, dtype: float64"
      ]
     },
     "execution_count": 30,
     "metadata": {},
     "output_type": "execute_result"
    }
   ],
   "source": [
    "num.iloc[0]"
   ]
  },
  {
   "cell_type": "markdown",
   "metadata": {},
   "source": [
    "# Part 2 - Bi Variate Analysis (Feature Discretization)"
   ]
  },
  {
   "cell_type": "code",
   "execution_count": 31,
   "metadata": {
    "scrolled": true
   },
   "outputs": [
    {
     "data": {
      "text/html": [
       "<div>\n",
       "<style scoped>\n",
       "    .dataframe tbody tr th:only-of-type {\n",
       "        vertical-align: middle;\n",
       "    }\n",
       "\n",
       "    .dataframe tbody tr th {\n",
       "        vertical-align: top;\n",
       "    }\n",
       "\n",
       "    .dataframe thead th {\n",
       "        text-align: right;\n",
       "    }\n",
       "</style>\n",
       "<table border=\"1\" class=\"dataframe\">\n",
       "  <thead>\n",
       "    <tr style=\"text-align: right;\">\n",
       "      <th></th>\n",
       "      <th>Neigborhood_Cluster-55_Level_Rank</th>\n",
       "      <th>Affluence_Grade_Rank</th>\n",
       "      <th>Age_Rank</th>\n",
       "      <th>Loyalty_Card_Tenure_Rank</th>\n",
       "      <th>Total_Spend_Rank</th>\n",
       "    </tr>\n",
       "  </thead>\n",
       "  <tbody>\n",
       "    <tr>\n",
       "      <th>0</th>\n",
       "      <td>2.0</td>\n",
       "      <td>6.0</td>\n",
       "      <td>9.0</td>\n",
       "      <td>3.0</td>\n",
       "      <td>6.0</td>\n",
       "    </tr>\n",
       "    <tr>\n",
       "      <th>1</th>\n",
       "      <td>6.0</td>\n",
       "      <td>0.0</td>\n",
       "      <td>3.0</td>\n",
       "      <td>4.0</td>\n",
       "      <td>5.0</td>\n",
       "    </tr>\n",
       "    <tr>\n",
       "      <th>2</th>\n",
       "      <td>5.0</td>\n",
       "      <td>1.0</td>\n",
       "      <td>8.0</td>\n",
       "      <td>6.0</td>\n",
       "      <td>1.0</td>\n",
       "    </tr>\n",
       "    <tr>\n",
       "      <th>3</th>\n",
       "      <td>9.0</td>\n",
       "      <td>6.0</td>\n",
       "      <td>7.0</td>\n",
       "      <td>5.0</td>\n",
       "      <td>0.0</td>\n",
       "    </tr>\n",
       "    <tr>\n",
       "      <th>4</th>\n",
       "      <td>0.0</td>\n",
       "      <td>7.0</td>\n",
       "      <td>8.0</td>\n",
       "      <td>6.0</td>\n",
       "      <td>0.0</td>\n",
       "    </tr>\n",
       "  </tbody>\n",
       "</table>\n",
       "</div>"
      ],
      "text/plain": [
       "   Neigborhood_Cluster-55_Level_Rank  Affluence_Grade_Rank  Age_Rank  \\\n",
       "0                                2.0                   6.0       9.0   \n",
       "1                                6.0                   0.0       3.0   \n",
       "2                                5.0                   1.0       8.0   \n",
       "3                                9.0                   6.0       7.0   \n",
       "4                                0.0                   7.0       8.0   \n",
       "\n",
       "   Loyalty_Card_Tenure_Rank  Total_Spend_Rank  \n",
       "0                       3.0               6.0  \n",
       "1                       4.0               5.0  \n",
       "2                       6.0               1.0  \n",
       "3                       5.0               0.0  \n",
       "4                       6.0               0.0  "
      ]
     },
     "execution_count": 31,
     "metadata": {},
     "output_type": "execute_result"
    }
   ],
   "source": [
    "from sklearn.preprocessing import KBinsDiscretizer\n",
    "discrete=KBinsDiscretizer(n_bins=10,encode='ordinal', strategy='quantile')\n",
    "num_binned=pd.DataFrame(discrete.fit_transform(num),index=num.index, columns=num.columns).add_suffix('_Rank')\n",
    "num_binned.head()"
   ]
  },
  {
   "cell_type": "code",
   "execution_count": 32,
   "metadata": {},
   "outputs": [
    {
     "data": {
      "image/png": "[encoded data removed]",
      "text/plain": [
       "<Figure size 640x480 with 1 Axes>"
      ]
     },
     "metadata": {},
     "output_type": "display_data"
    },
    {
     "data": {
      "image/png": "[encoded data removed]",
      "text/plain": [
       "<Figure size 640x480 with 1 Axes>"
      ]
     },
     "metadata": {},
     "output_type": "display_data"
    },
    {
     "data": {
      "image/png": "[encoded data removed]",
      "text/plain": [
       "<Figure size 640x480 with 1 Axes>"
      ]
     },
     "metadata": {},
     "output_type": "display_data"
    },
    {
     "data": {
      "image/png": "[encoded data removed]",
      "text/plain": [
       "<Figure size 640x480 with 1 Axes>"
      ]
     },
     "metadata": {},
     "output_type": "display_data"
    },
    {
     "data": {
      "image/png": "[encoded data removed]",
      "text/plain": [
       "<Figure size 640x480 with 1 Axes>"
      ]
     },
     "metadata": {},
     "output_type": "display_data"
    }
   ],
   "source": [
    "X_bin_combined=pd.concat([Y,num_binned],axis=1,join='inner')\n",
    "\n",
    "from numpy import mean\n",
    "for col in (num_binned.columns):\n",
    "    plt.figure()\n",
    "    sns.lineplot(x=col,y=X_bin_combined['Organics_Purchase_Indicator'].mean(),data=X_bin_combined,color='red')\n",
    "    sns.barplot(x=col, y='Organics_Purchase_Indicator',data=X_bin_combined, estimator=mean )\n",
    "plt.show()"
   ]
  },
  {
   "cell_type": "markdown",
   "metadata": {},
   "source": [
    "# Standardization"
   ]
  },
  {
   "cell_type": "code",
   "execution_count": 45,
   "metadata": {},
   "outputs": [],
   "source": [
    "from sklearn.preprocessing import StandardScaler\n",
    "sc = StandardScaler()\n",
    "for column in num.columns:\n",
    "    num[num.columns] = sc.fit_transform(num[num.columns])"
   ]
  },
  {
   "cell_type": "code",
   "execution_count": 46,
   "metadata": {},
   "outputs": [
    {
     "data": {
      "text/html": [
       "<div>\n",
       "<style scoped>\n",
       "    .dataframe tbody tr th:only-of-type {\n",
       "        vertical-align: middle;\n",
       "    }\n",
       "\n",
       "    .dataframe tbody tr th {\n",
       "        vertical-align: top;\n",
       "    }\n",
       "\n",
       "    .dataframe thead th {\n",
       "        text-align: right;\n",
       "    }\n",
       "</style>\n",
       "<table border=\"1\" class=\"dataframe\">\n",
       "  <thead>\n",
       "    <tr style=\"text-align: right;\">\n",
       "      <th></th>\n",
       "      <th>Neigborhood_Cluster-55_Level</th>\n",
       "      <th>Affluence_Grade</th>\n",
       "      <th>Age</th>\n",
       "      <th>Loyalty_Card_Tenure</th>\n",
       "      <th>Total_Spend</th>\n",
       "    </tr>\n",
       "  </thead>\n",
       "  <tbody>\n",
       "    <tr>\n",
       "      <th>0</th>\n",
       "      <td>-0.786499</td>\n",
       "      <td>0.634017</td>\n",
       "      <td>1.499571</td>\n",
       "      <td>-0.676730</td>\n",
       "      <td>0.407454</td>\n",
       "    </tr>\n",
       "    <tr>\n",
       "      <th>1</th>\n",
       "      <td>0.550522</td>\n",
       "      <td>-1.490117</td>\n",
       "      <td>-0.498992</td>\n",
       "      <td>-0.389539</td>\n",
       "      <td>-0.005099</td>\n",
       "    </tr>\n",
       "    <tr>\n",
       "      <th>2</th>\n",
       "      <td>0.012124</td>\n",
       "      <td>-1.294684</td>\n",
       "      <td>1.310947</td>\n",
       "      <td>0.595116</td>\n",
       "      <td>-0.731120</td>\n",
       "    </tr>\n",
       "    <tr>\n",
       "      <th>3</th>\n",
       "      <td>1.456824</td>\n",
       "      <td>0.634017</td>\n",
       "      <td>0.984565</td>\n",
       "      <td>0.266898</td>\n",
       "      <td>-0.732921</td>\n",
       "    </tr>\n",
       "    <tr>\n",
       "      <th>4</th>\n",
       "      <td>-1.392196</td>\n",
       "      <td>0.954400</td>\n",
       "      <td>1.192263</td>\n",
       "      <td>0.595116</td>\n",
       "      <td>-0.732921</td>\n",
       "    </tr>\n",
       "  </tbody>\n",
       "</table>\n",
       "</div>"
      ],
      "text/plain": [
       "   Neigborhood_Cluster-55_Level  Affluence_Grade       Age  \\\n",
       "0                     -0.786499         0.634017  1.499571   \n",
       "1                      0.550522        -1.490117 -0.498992   \n",
       "2                      0.012124        -1.294684  1.310947   \n",
       "3                      1.456824         0.634017  0.984565   \n",
       "4                     -1.392196         0.954400  1.192263   \n",
       "\n",
       "   Loyalty_Card_Tenure  Total_Spend  \n",
       "0            -0.676730     0.407454  \n",
       "1            -0.389539    -0.005099  \n",
       "2             0.595116    -0.731120  \n",
       "3             0.266898    -0.732921  \n",
       "4             0.595116    -0.732921  "
      ]
     },
     "execution_count": 46,
     "metadata": {},
     "output_type": "execute_result"
    }
   ],
   "source": [
    "num.head()"
   ]
  },
  {
   "cell_type": "code",
   "execution_count": 47,
   "metadata": {},
   "outputs": [],
   "source": [
    "select_features_df_num=num"
   ]
  },
  {
   "cell_type": "markdown",
   "metadata": {},
   "source": [
    "# Feature Selection - Categorical Features "
   ]
  },
  {
   "cell_type": "code",
   "execution_count": 34,
   "metadata": {},
   "outputs": [
    {
     "data": {
      "text/html": [
       "<div>\n",
       "<style scoped>\n",
       "    .dataframe tbody tr th:only-of-type {\n",
       "        vertical-align: middle;\n",
       "    }\n",
       "\n",
       "    .dataframe tbody tr th {\n",
       "        vertical-align: top;\n",
       "    }\n",
       "\n",
       "    .dataframe thead th {\n",
       "        text-align: right;\n",
       "    }\n",
       "</style>\n",
       "<table border=\"1\" class=\"dataframe\">\n",
       "  <thead>\n",
       "    <tr style=\"text-align: right;\">\n",
       "      <th></th>\n",
       "      <th>0</th>\n",
       "    </tr>\n",
       "  </thead>\n",
       "  <tbody>\n",
       "    <tr>\n",
       "      <th>Gender</th>\n",
       "      <td>3</td>\n",
       "    </tr>\n",
       "    <tr>\n",
       "      <th>Geographic_Region</th>\n",
       "      <td>5</td>\n",
       "    </tr>\n",
       "    <tr>\n",
       "      <th>Loyalty_Status</th>\n",
       "      <td>4</td>\n",
       "    </tr>\n",
       "    <tr>\n",
       "      <th>Neighborhood_Cluster-7_Level</th>\n",
       "      <td>7</td>\n",
       "    </tr>\n",
       "    <tr>\n",
       "      <th>Television_Region</th>\n",
       "      <td>13</td>\n",
       "    </tr>\n",
       "  </tbody>\n",
       "</table>\n",
       "</div>"
      ],
      "text/plain": [
       "                               0\n",
       "Gender                         3\n",
       "Geographic_Region              5\n",
       "Loyalty_Status                 4\n",
       "Neighborhood_Cluster-7_Level   7\n",
       "Television_Region             13"
      ]
     },
     "execution_count": 34,
     "metadata": {},
     "output_type": "execute_result"
    }
   ],
   "source": [
    "def unique_levels(x):\n",
    "    x=x.value_counts().count()\n",
    "    return(x)\n",
    "char_unique_levels=pd.DataFrame(char.apply(lambda x : unique_levels(x)))\n",
    "char_unique_levels"
   ]
  },
  {
   "cell_type": "markdown",
   "metadata": {},
   "source": [
    "# Part 1 - Bi Variate Analysis"
   ]
  },
  {
   "cell_type": "code",
   "execution_count": 35,
   "metadata": {},
   "outputs": [
    {
     "data": {
      "image/png": "[encoded data removed]",
      "text/plain": [
       "<Figure size 640x480 with 1 Axes>"
      ]
     },
     "metadata": {},
     "output_type": "display_data"
    },
    {
     "data": {
      "image/png": "[encoded data removed]",
      "text/plain": [
       "<Figure size 640x480 with 1 Axes>"
      ]
     },
     "metadata": {},
     "output_type": "display_data"
    },
    {
     "data": {
      "image/png": "[encoded data removed]",
      "text/plain": [
       "<Figure size 640x480 with 1 Axes>"
      ]
     },
     "metadata": {},
     "output_type": "display_data"
    },
    {
     "data": {
      "image/png": "[encoded data removed]",
      "text/plain": [
       "<Figure size 640x480 with 1 Axes>"
      ]
     },
     "metadata": {},
     "output_type": "display_data"
    },
    {
     "data": {
      "image/png": "[encoded data removed]",
      "text/plain": [
       "<Figure size 640x480 with 1 Axes>"
      ]
     },
     "metadata": {},
     "output_type": "display_data"
    }
   ],
   "source": [
    "import matplotlib.pyplot as plt\n",
    "import seaborn as sns\n",
    "X_char_merged=pd.concat([Y,char],axis=1,join='inner')\n",
    "\n",
    "from numpy import mean\n",
    "for col in (char.columns):\n",
    "    plt.figure()\n",
    "    sns.lineplot(x=col,y=X_bin_combined['Organics_Purchase_Indicator'].mean(),data=X_char_merged,color='red')\n",
    "    sns.barplot(x=col, y='Organics_Purchase_Indicator',data=X_char_merged, estimator=mean )\n",
    "plt.show()"
   ]
  },
  {
   "cell_type": "code",
   "execution_count": 36,
   "metadata": {},
   "outputs": [],
   "source": [
    "char_droplist=['Geographic_Region','Television_Region']\n",
    "char=char.drop(char_droplist,axis=1)"
   ]
  },
  {
   "cell_type": "code",
   "execution_count": 37,
   "metadata": {},
   "outputs": [
    {
     "data": {
      "text/html": [
       "<div>\n",
       "<style scoped>\n",
       "    .dataframe tbody tr th:only-of-type {\n",
       "        vertical-align: middle;\n",
       "    }\n",
       "\n",
       "    .dataframe tbody tr th {\n",
       "        vertical-align: top;\n",
       "    }\n",
       "\n",
       "    .dataframe thead th {\n",
       "        text-align: right;\n",
       "    }\n",
       "</style>\n",
       "<table border=\"1\" class=\"dataframe\">\n",
       "  <thead>\n",
       "    <tr style=\"text-align: right;\">\n",
       "      <th></th>\n",
       "      <th>Gender</th>\n",
       "      <th>Loyalty_Status</th>\n",
       "      <th>Neighborhood_Cluster-7_Level</th>\n",
       "    </tr>\n",
       "  </thead>\n",
       "  <tbody>\n",
       "    <tr>\n",
       "      <th>0</th>\n",
       "      <td>2</td>\n",
       "      <td>0</td>\n",
       "      <td>2</td>\n",
       "    </tr>\n",
       "    <tr>\n",
       "      <th>1</th>\n",
       "      <td>2</td>\n",
       "      <td>0</td>\n",
       "      <td>3</td>\n",
       "    </tr>\n",
       "    <tr>\n",
       "      <th>2</th>\n",
       "      <td>0</td>\n",
       "      <td>2</td>\n",
       "      <td>3</td>\n",
       "    </tr>\n",
       "    <tr>\n",
       "      <th>3</th>\n",
       "      <td>1</td>\n",
       "      <td>3</td>\n",
       "      <td>5</td>\n",
       "    </tr>\n",
       "    <tr>\n",
       "      <th>4</th>\n",
       "      <td>0</td>\n",
       "      <td>3</td>\n",
       "      <td>0</td>\n",
       "    </tr>\n",
       "  </tbody>\n",
       "</table>\n",
       "</div>"
      ],
      "text/plain": [
       "   Gender  Loyalty_Status  Neighborhood_Cluster-7_Level\n",
       "0       2               0                             2\n",
       "1       2               0                             3\n",
       "2       0               2                             3\n",
       "3       1               3                             5\n",
       "4       0               3                             0"
      ]
     },
     "execution_count": 37,
     "metadata": {},
     "output_type": "execute_result"
    }
   ],
   "source": [
    "from sklearn.preprocessing import LabelEncoder\n",
    "\n",
    "# Initialize LabelEncoder\n",
    "label_encoder = LabelEncoder()\n",
    "\n",
    "# Apply LabelEncoder to each column\n",
    "for column in char.columns:\n",
    "    char[column] = label_encoder.fit_transform(char[column])\n",
    "\n",
    "char.head()"
   ]
  },
  {
   "cell_type": "code",
   "execution_count": 38,
   "metadata": {
    "scrolled": true
   },
   "outputs": [],
   "source": [
    "select_features_df_char = char"
   ]
  },
  {
   "cell_type": "markdown",
   "metadata": {},
   "source": [
    "# Creating the Master Feature Set for Model Development"
   ]
  },
  {
   "cell_type": "code",
   "execution_count": 48,
   "metadata": {},
   "outputs": [],
   "source": [
    "X_all=pd.concat([select_features_df_char,select_features_df_num],axis=1,join=\"inner\")"
   ]
  },
  {
   "cell_type": "code",
   "execution_count": 49,
   "metadata": {},
   "outputs": [
    {
     "data": {
      "text/html": [
       "<div>\n",
       "<style scoped>\n",
       "    .dataframe tbody tr th:only-of-type {\n",
       "        vertical-align: middle;\n",
       "    }\n",
       "\n",
       "    .dataframe tbody tr th {\n",
       "        vertical-align: top;\n",
       "    }\n",
       "\n",
       "    .dataframe thead th {\n",
       "        text-align: right;\n",
       "    }\n",
       "</style>\n",
       "<table border=\"1\" class=\"dataframe\">\n",
       "  <thead>\n",
       "    <tr style=\"text-align: right;\">\n",
       "      <th></th>\n",
       "      <th>Gender</th>\n",
       "      <th>Loyalty_Status</th>\n",
       "      <th>Neighborhood_Cluster-7_Level</th>\n",
       "      <th>Neigborhood_Cluster-55_Level</th>\n",
       "      <th>Affluence_Grade</th>\n",
       "      <th>Age</th>\n",
       "      <th>Loyalty_Card_Tenure</th>\n",
       "      <th>Total_Spend</th>\n",
       "    </tr>\n",
       "  </thead>\n",
       "  <tbody>\n",
       "    <tr>\n",
       "      <th>0</th>\n",
       "      <td>2</td>\n",
       "      <td>0</td>\n",
       "      <td>2</td>\n",
       "      <td>-0.786499</td>\n",
       "      <td>0.634017</td>\n",
       "      <td>1.499571</td>\n",
       "      <td>-0.676730</td>\n",
       "      <td>0.407454</td>\n",
       "    </tr>\n",
       "    <tr>\n",
       "      <th>1</th>\n",
       "      <td>2</td>\n",
       "      <td>0</td>\n",
       "      <td>3</td>\n",
       "      <td>0.550522</td>\n",
       "      <td>-1.490117</td>\n",
       "      <td>-0.498992</td>\n",
       "      <td>-0.389539</td>\n",
       "      <td>-0.005099</td>\n",
       "    </tr>\n",
       "    <tr>\n",
       "      <th>2</th>\n",
       "      <td>0</td>\n",
       "      <td>2</td>\n",
       "      <td>3</td>\n",
       "      <td>0.012124</td>\n",
       "      <td>-1.294684</td>\n",
       "      <td>1.310947</td>\n",
       "      <td>0.595116</td>\n",
       "      <td>-0.731120</td>\n",
       "    </tr>\n",
       "    <tr>\n",
       "      <th>3</th>\n",
       "      <td>1</td>\n",
       "      <td>3</td>\n",
       "      <td>5</td>\n",
       "      <td>1.456824</td>\n",
       "      <td>0.634017</td>\n",
       "      <td>0.984565</td>\n",
       "      <td>0.266898</td>\n",
       "      <td>-0.732921</td>\n",
       "    </tr>\n",
       "    <tr>\n",
       "      <th>4</th>\n",
       "      <td>0</td>\n",
       "      <td>3</td>\n",
       "      <td>0</td>\n",
       "      <td>-1.392196</td>\n",
       "      <td>0.954400</td>\n",
       "      <td>1.192263</td>\n",
       "      <td>0.595116</td>\n",
       "      <td>-0.732921</td>\n",
       "    </tr>\n",
       "  </tbody>\n",
       "</table>\n",
       "</div>"
      ],
      "text/plain": [
       "   Gender  Loyalty_Status  Neighborhood_Cluster-7_Level  \\\n",
       "0       2               0                             2   \n",
       "1       2               0                             3   \n",
       "2       0               2                             3   \n",
       "3       1               3                             5   \n",
       "4       0               3                             0   \n",
       "\n",
       "   Neigborhood_Cluster-55_Level  Affluence_Grade       Age  \\\n",
       "0                     -0.786499         0.634017  1.499571   \n",
       "1                      0.550522        -1.490117 -0.498992   \n",
       "2                      0.012124        -1.294684  1.310947   \n",
       "3                      1.456824         0.634017  0.984565   \n",
       "4                     -1.392196         0.954400  1.192263   \n",
       "\n",
       "   Loyalty_Card_Tenure  Total_Spend  \n",
       "0            -0.676730     0.407454  \n",
       "1            -0.389539    -0.005099  \n",
       "2             0.595116    -0.731120  \n",
       "3             0.266898    -0.732921  \n",
       "4             0.595116    -0.732921  "
      ]
     },
     "execution_count": 49,
     "metadata": {},
     "output_type": "execute_result"
    }
   ],
   "source": [
    "X_all.head()"
   ]
  },
  {
   "cell_type": "markdown",
   "metadata": {},
   "source": [
    "# Train Test Split"
   ]
  },
  {
   "cell_type": "code",
   "execution_count": 50,
   "metadata": {},
   "outputs": [],
   "source": [
    "from sklearn.model_selection import train_test_split\n",
    "X_train, X_test, y_train, y_test=train_test_split(X_all, Y, test_size=0.3, random_state=42)"
   ]
  },
  {
   "cell_type": "code",
   "execution_count": 51,
   "metadata": {},
   "outputs": [
    {
     "name": "stdout",
     "output_type": "stream",
     "text": [
      "Shape of Training Data (15556, 8)\n",
      "Shape of Testing Data (6667, 8)\n",
      "Response Rate in Training Data Organics_Purchase_Indicator    0.247686\n",
      "dtype: float64\n",
      "Response Rate in Testing Data Organics_Purchase_Indicator    0.247788\n",
      "dtype: float64\n"
     ]
    }
   ],
   "source": [
    "print(\"Shape of Training Data\",X_train.shape)\n",
    "print(\"Shape of Testing Data\",X_test.shape)\n",
    "print(\"Response Rate in Training Data\",y_train.mean())\n",
    "print(\"Response Rate in Testing Data\",y_test.mean())"
   ]
  },
  {
   "cell_type": "markdown",
   "metadata": {},
   "source": [
    "# Building Decision Tree Model"
   ]
  },
  {
   "cell_type": "code",
   "execution_count": 52,
   "metadata": {},
   "outputs": [],
   "source": [
    "from sklearn.tree import DecisionTreeClassifier\n",
    "dtree=DecisionTreeClassifier(criterion='gini',random_state=42)"
   ]
  },
  {
   "cell_type": "markdown",
   "metadata": {},
   "source": [
    "# Grid Search for Model Optimization"
   ]
  },
  {
   "cell_type": "code",
   "execution_count": 53,
   "metadata": {},
   "outputs": [
    {
     "name": "stdout",
     "output_type": "stream",
     "text": [
      "Best Parameters using grid search: \n",
      " {'max_depth': 5, 'min_samples_split': 750}\n"
     ]
    }
   ],
   "source": [
    "# Min_Samples_Split starting from 5% of training base\n",
    "from sklearn.model_selection import GridSearchCV\n",
    "param_dist = {'max_depth': [3, 5, 6, 7], 'min_samples_split': [750, 1000, 1250, 1500] }\n",
    "tree_grid = GridSearchCV(dtree, cv = 10, param_grid=param_dist,n_jobs = 3)\n",
    "tree_grid.fit(X_train,y_train) \n",
    "print('Best Parameters using grid search: \\n', tree_grid.best_params_)"
   ]
  },
  {
   "cell_type": "code",
   "execution_count": 54,
   "metadata": {},
   "outputs": [
    {
     "data": {
      "text/html": [
       "<style>#sk-container-id-1 {color: black;background-color: white;}#sk-container-id-1 pre{padding: 0;}#sk-container-id-1 div.sk-toggleable {background-color: white;}#sk-container-id-1 label.sk-toggleable__label {cursor: pointer;display: block;width: 100%;margin-bottom: 0;padding: 0.3em;box-sizing: border-box;text-align: center;}#sk-container-id-1 label.sk-toggleable__label-arrow:before {content: \"▸\";float: left;margin-right: 0.25em;color: #696969;}#sk-container-id-1 label.sk-toggleable__label-arrow:hover:before {color: black;}#sk-container-id-1 div.sk-estimator:hover label.sk-toggleable__label-arrow:before {color: black;}#sk-container-id-1 div.sk-toggleable__content {max-height: 0;max-width: 0;overflow: hidden;text-align: left;background-color: #f0f8ff;}#sk-container-id-1 div.sk-toggleable__content pre {margin: 0.2em;color: black;border-radius: 0.25em;background-color: #f0f8ff;}#sk-container-id-1 input.sk-toggleable__control:checked~div.sk-toggleable__content {max-height: 200px;max-width: 100%;overflow: auto;}#sk-container-id-1 input.sk-toggleable__control:checked~label.sk-toggleable__label-arrow:before {content: \"▾\";}#sk-container-id-1 div.sk-estimator input.sk-toggleable__control:checked~label.sk-toggleable__label {background-color: #d4ebff;}#sk-container-id-1 div.sk-label input.sk-toggleable__control:checked~label.sk-toggleable__label {background-color: #d4ebff;}#sk-container-id-1 input.sk-hidden--visually {border: 0;clip: rect(1px 1px 1px 1px);clip: rect(1px, 1px, 1px, 1px);height: 1px;margin: -1px;overflow: hidden;padding: 0;position: absolute;width: 1px;}#sk-container-id-1 div.sk-estimator {font-family: monospace;background-color: #f0f8ff;border: 1px dotted black;border-radius: 0.25em;box-sizing: border-box;margin-bottom: 0.5em;}#sk-container-id-1 div.sk-estimator:hover {background-color: #d4ebff;}#sk-container-id-1 div.sk-parallel-item::after {content: \"\";width: 100%;border-bottom: 1px solid gray;flex-grow: 1;}#sk-container-id-1 div.sk-label:hover label.sk-toggleable__label {background-color: #d4ebff;}#sk-container-id-1 div.sk-serial::before {content: \"\";position: absolute;border-left: 1px solid gray;box-sizing: border-box;top: 0;bottom: 0;left: 50%;z-index: 0;}#sk-container-id-1 div.sk-serial {display: flex;flex-direction: column;align-items: center;background-color: white;padding-right: 0.2em;padding-left: 0.2em;position: relative;}#sk-container-id-1 div.sk-item {position: relative;z-index: 1;}#sk-container-id-1 div.sk-parallel {display: flex;align-items: stretch;justify-content: center;background-color: white;position: relative;}#sk-container-id-1 div.sk-item::before, #sk-container-id-1 div.sk-parallel-item::before {content: \"\";position: absolute;border-left: 1px solid gray;box-sizing: border-box;top: 0;bottom: 0;left: 50%;z-index: -1;}#sk-container-id-1 div.sk-parallel-item {display: flex;flex-direction: column;z-index: 1;position: relative;background-color: white;}#sk-container-id-1 div.sk-parallel-item:first-child::after {align-self: flex-end;width: 50%;}#sk-container-id-1 div.sk-parallel-item:last-child::after {align-self: flex-start;width: 50%;}#sk-container-id-1 div.sk-parallel-item:only-child::after {width: 0;}#sk-container-id-1 div.sk-dashed-wrapped {border: 1px dashed gray;margin: 0 0.4em 0.5em 0.4em;box-sizing: border-box;padding-bottom: 0.4em;background-color: white;}#sk-container-id-1 div.sk-label label {font-family: monospace;font-weight: bold;display: inline-block;line-height: 1.2em;}#sk-container-id-1 div.sk-label-container {text-align: center;}#sk-container-id-1 div.sk-container {/* jupyter's `normalize.less` sets `[hidden] { display: none; }` but bootstrap.min.css set `[hidden] { display: none !important; }` so we also need the `!important` here to be able to override the default hidden behavior on the sphinx rendered scikit-learn.org. See: https://github.com/scikit-learn/scikit-learn/issues/21755 */display: inline-block !important;position: relative;}#sk-container-id-1 div.sk-text-repr-fallback {display: none;}</style><div id=\"sk-container-id-1\" class=\"sk-top-container\"><div class=\"sk-text-repr-fallback\"><pre>DecisionTreeClassifier(max_depth=5, min_samples_split=750, random_state=0)</pre><b>In a Jupyter environment, please rerun this cell to show the HTML representation or trust the notebook. <br />On GitHub, the HTML representation is unable to render, please try loading this page with nbviewer.org.</b></div><div class=\"sk-container\" hidden><div class=\"sk-item\"><div class=\"sk-estimator sk-toggleable\"><input class=\"sk-toggleable__control sk-hidden--visually\" id=\"sk-estimator-id-1\" type=\"checkbox\" checked><label for=\"sk-estimator-id-1\" class=\"sk-toggleable__label sk-toggleable__label-arrow\">DecisionTreeClassifier</label><div class=\"sk-toggleable__content\"><pre>DecisionTreeClassifier(max_depth=5, min_samples_split=750, random_state=0)</pre></div></div></div></div></div>"
      ],
      "text/plain": [
       "DecisionTreeClassifier(max_depth=5, min_samples_split=750, random_state=0)"
      ]
     },
     "execution_count": 54,
     "metadata": {},
     "output_type": "execute_result"
    }
   ],
   "source": [
    "dtree=DecisionTreeClassifier(criterion='gini',random_state=0,max_depth=5,min_samples_split=750)\n",
    "dtree.fit(X_train,y_train)"
   ]
  },
  {
   "cell_type": "markdown",
   "metadata": {},
   "source": [
    "# Building Random Forest Model"
   ]
  },
  {
   "cell_type": "code",
   "execution_count": 55,
   "metadata": {},
   "outputs": [
    {
     "data": {
      "text/html": [
       "<style>#sk-container-id-2 {color: black;background-color: white;}#sk-container-id-2 pre{padding: 0;}#sk-container-id-2 div.sk-toggleable {background-color: white;}#sk-container-id-2 label.sk-toggleable__label {cursor: pointer;display: block;width: 100%;margin-bottom: 0;padding: 0.3em;box-sizing: border-box;text-align: center;}#sk-container-id-2 label.sk-toggleable__label-arrow:before {content: \"▸\";float: left;margin-right: 0.25em;color: #696969;}#sk-container-id-2 label.sk-toggleable__label-arrow:hover:before {color: black;}#sk-container-id-2 div.sk-estimator:hover label.sk-toggleable__label-arrow:before {color: black;}#sk-container-id-2 div.sk-toggleable__content {max-height: 0;max-width: 0;overflow: hidden;text-align: left;background-color: #f0f8ff;}#sk-container-id-2 div.sk-toggleable__content pre {margin: 0.2em;color: black;border-radius: 0.25em;background-color: #f0f8ff;}#sk-container-id-2 input.sk-toggleable__control:checked~div.sk-toggleable__content {max-height: 200px;max-width: 100%;overflow: auto;}#sk-container-id-2 input.sk-toggleable__control:checked~label.sk-toggleable__label-arrow:before {content: \"▾\";}#sk-container-id-2 div.sk-estimator input.sk-toggleable__control:checked~label.sk-toggleable__label {background-color: #d4ebff;}#sk-container-id-2 div.sk-label input.sk-toggleable__control:checked~label.sk-toggleable__label {background-color: #d4ebff;}#sk-container-id-2 input.sk-hidden--visually {border: 0;clip: rect(1px 1px 1px 1px);clip: rect(1px, 1px, 1px, 1px);height: 1px;margin: -1px;overflow: hidden;padding: 0;position: absolute;width: 1px;}#sk-container-id-2 div.sk-estimator {font-family: monospace;background-color: #f0f8ff;border: 1px dotted black;border-radius: 0.25em;box-sizing: border-box;margin-bottom: 0.5em;}#sk-container-id-2 div.sk-estimator:hover {background-color: #d4ebff;}#sk-container-id-2 div.sk-parallel-item::after {content: \"\";width: 100%;border-bottom: 1px solid gray;flex-grow: 1;}#sk-container-id-2 div.sk-label:hover label.sk-toggleable__label {background-color: #d4ebff;}#sk-container-id-2 div.sk-serial::before {content: \"\";position: absolute;border-left: 1px solid gray;box-sizing: border-box;top: 0;bottom: 0;left: 50%;z-index: 0;}#sk-container-id-2 div.sk-serial {display: flex;flex-direction: column;align-items: center;background-color: white;padding-right: 0.2em;padding-left: 0.2em;position: relative;}#sk-container-id-2 div.sk-item {position: relative;z-index: 1;}#sk-container-id-2 div.sk-parallel {display: flex;align-items: stretch;justify-content: center;background-color: white;position: relative;}#sk-container-id-2 div.sk-item::before, #sk-container-id-2 div.sk-parallel-item::before {content: \"\";position: absolute;border-left: 1px solid gray;box-sizing: border-box;top: 0;bottom: 0;left: 50%;z-index: -1;}#sk-container-id-2 div.sk-parallel-item {display: flex;flex-direction: column;z-index: 1;position: relative;background-color: white;}#sk-container-id-2 div.sk-parallel-item:first-child::after {align-self: flex-end;width: 50%;}#sk-container-id-2 div.sk-parallel-item:last-child::after {align-self: flex-start;width: 50%;}#sk-container-id-2 div.sk-parallel-item:only-child::after {width: 0;}#sk-container-id-2 div.sk-dashed-wrapped {border: 1px dashed gray;margin: 0 0.4em 0.5em 0.4em;box-sizing: border-box;padding-bottom: 0.4em;background-color: white;}#sk-container-id-2 div.sk-label label {font-family: monospace;font-weight: bold;display: inline-block;line-height: 1.2em;}#sk-container-id-2 div.sk-label-container {text-align: center;}#sk-container-id-2 div.sk-container {/* jupyter's `normalize.less` sets `[hidden] { display: none; }` but bootstrap.min.css set `[hidden] { display: none !important; }` so we also need the `!important` here to be able to override the default hidden behavior on the sphinx rendered scikit-learn.org. See: https://github.com/scikit-learn/scikit-learn/issues/21755 */display: inline-block !important;position: relative;}#sk-container-id-2 div.sk-text-repr-fallback {display: none;}</style><div id=\"sk-container-id-2\" class=\"sk-top-container\"><div class=\"sk-text-repr-fallback\"><pre>RandomForestClassifier(max_depth=5, min_samples_split=1000, random_state=0)</pre><b>In a Jupyter environment, please rerun this cell to show the HTML representation or trust the notebook. <br />On GitHub, the HTML representation is unable to render, please try loading this page with nbviewer.org.</b></div><div class=\"sk-container\" hidden><div class=\"sk-item\"><div class=\"sk-estimator sk-toggleable\"><input class=\"sk-toggleable__control sk-hidden--visually\" id=\"sk-estimator-id-2\" type=\"checkbox\" checked><label for=\"sk-estimator-id-2\" class=\"sk-toggleable__label sk-toggleable__label-arrow\">RandomForestClassifier</label><div class=\"sk-toggleable__content\"><pre>RandomForestClassifier(max_depth=5, min_samples_split=1000, random_state=0)</pre></div></div></div></div></div>"
      ],
      "text/plain": [
       "RandomForestClassifier(max_depth=5, min_samples_split=1000, random_state=0)"
      ]
     },
     "execution_count": 55,
     "metadata": {},
     "output_type": "execute_result"
    }
   ],
   "source": [
    "from sklearn.ensemble import RandomForestClassifier\n",
    "rf=RandomForestClassifier(criterion='gini',random_state=0,max_depth=5,min_samples_split=1000)\n",
    "rf.fit(X_train,y_train)"
   ]
  },
  {
   "cell_type": "markdown",
   "metadata": {},
   "source": [
    "# Building Gradient Boosting Model"
   ]
  },
  {
   "cell_type": "code",
   "execution_count": 57,
   "metadata": {},
   "outputs": [
    {
     "data": {
      "text/html": [
       "<style>#sk-container-id-3 {color: black;background-color: white;}#sk-container-id-3 pre{padding: 0;}#sk-container-id-3 div.sk-toggleable {background-color: white;}#sk-container-id-3 label.sk-toggleable__label {cursor: pointer;display: block;width: 100%;margin-bottom: 0;padding: 0.3em;box-sizing: border-box;text-align: center;}#sk-container-id-3 label.sk-toggleable__label-arrow:before {content: \"▸\";float: left;margin-right: 0.25em;color: #696969;}#sk-container-id-3 label.sk-toggleable__label-arrow:hover:before {color: black;}#sk-container-id-3 div.sk-estimator:hover label.sk-toggleable__label-arrow:before {color: black;}#sk-container-id-3 div.sk-toggleable__content {max-height: 0;max-width: 0;overflow: hidden;text-align: left;background-color: #f0f8ff;}#sk-container-id-3 div.sk-toggleable__content pre {margin: 0.2em;color: black;border-radius: 0.25em;background-color: #f0f8ff;}#sk-container-id-3 input.sk-toggleable__control:checked~div.sk-toggleable__content {max-height: 200px;max-width: 100%;overflow: auto;}#sk-container-id-3 input.sk-toggleable__control:checked~label.sk-toggleable__label-arrow:before {content: \"▾\";}#sk-container-id-3 div.sk-estimator input.sk-toggleable__control:checked~label.sk-toggleable__label {background-color: #d4ebff;}#sk-container-id-3 div.sk-label input.sk-toggleable__control:checked~label.sk-toggleable__label {background-color: #d4ebff;}#sk-container-id-3 input.sk-hidden--visually {border: 0;clip: rect(1px 1px 1px 1px);clip: rect(1px, 1px, 1px, 1px);height: 1px;margin: -1px;overflow: hidden;padding: 0;position: absolute;width: 1px;}#sk-container-id-3 div.sk-estimator {font-family: monospace;background-color: #f0f8ff;border: 1px dotted black;border-radius: 0.25em;box-sizing: border-box;margin-bottom: 0.5em;}#sk-container-id-3 div.sk-estimator:hover {background-color: #d4ebff;}#sk-container-id-3 div.sk-parallel-item::after {content: \"\";width: 100%;border-bottom: 1px solid gray;flex-grow: 1;}#sk-container-id-3 div.sk-label:hover label.sk-toggleable__label {background-color: #d4ebff;}#sk-container-id-3 div.sk-serial::before {content: \"\";position: absolute;border-left: 1px solid gray;box-sizing: border-box;top: 0;bottom: 0;left: 50%;z-index: 0;}#sk-container-id-3 div.sk-serial {display: flex;flex-direction: column;align-items: center;background-color: white;padding-right: 0.2em;padding-left: 0.2em;position: relative;}#sk-container-id-3 div.sk-item {position: relative;z-index: 1;}#sk-container-id-3 div.sk-parallel {display: flex;align-items: stretch;justify-content: center;background-color: white;position: relative;}#sk-container-id-3 div.sk-item::before, #sk-container-id-3 div.sk-parallel-item::before {content: \"\";position: absolute;border-left: 1px solid gray;box-sizing: border-box;top: 0;bottom: 0;left: 50%;z-index: -1;}#sk-container-id-3 div.sk-parallel-item {display: flex;flex-direction: column;z-index: 1;position: relative;background-color: white;}#sk-container-id-3 div.sk-parallel-item:first-child::after {align-self: flex-end;width: 50%;}#sk-container-id-3 div.sk-parallel-item:last-child::after {align-self: flex-start;width: 50%;}#sk-container-id-3 div.sk-parallel-item:only-child::after {width: 0;}#sk-container-id-3 div.sk-dashed-wrapped {border: 1px dashed gray;margin: 0 0.4em 0.5em 0.4em;box-sizing: border-box;padding-bottom: 0.4em;background-color: white;}#sk-container-id-3 div.sk-label label {font-family: monospace;font-weight: bold;display: inline-block;line-height: 1.2em;}#sk-container-id-3 div.sk-label-container {text-align: center;}#sk-container-id-3 div.sk-container {/* jupyter's `normalize.less` sets `[hidden] { display: none; }` but bootstrap.min.css set `[hidden] { display: none !important; }` so we also need the `!important` here to be able to override the default hidden behavior on the sphinx rendered scikit-learn.org. See: https://github.com/scikit-learn/scikit-learn/issues/21755 */display: inline-block !important;position: relative;}#sk-container-id-3 div.sk-text-repr-fallback {display: none;}</style><div id=\"sk-container-id-3\" class=\"sk-top-container\"><div class=\"sk-text-repr-fallback\"><pre>GradientBoostingClassifier(max_depth=6, min_samples_split=150, random_state=0)</pre><b>In a Jupyter environment, please rerun this cell to show the HTML representation or trust the notebook. <br />On GitHub, the HTML representation is unable to render, please try loading this page with nbviewer.org.</b></div><div class=\"sk-container\" hidden><div class=\"sk-item\"><div class=\"sk-estimator sk-toggleable\"><input class=\"sk-toggleable__control sk-hidden--visually\" id=\"sk-estimator-id-3\" type=\"checkbox\" checked><label for=\"sk-estimator-id-3\" class=\"sk-toggleable__label sk-toggleable__label-arrow\">GradientBoostingClassifier</label><div class=\"sk-toggleable__content\"><pre>GradientBoostingClassifier(max_depth=6, min_samples_split=150, random_state=0)</pre></div></div></div></div></div>"
      ],
      "text/plain": [
       "GradientBoostingClassifier(max_depth=6, min_samples_split=150, random_state=0)"
      ]
     },
     "execution_count": 57,
     "metadata": {},
     "output_type": "execute_result"
    }
   ],
   "source": [
    "from sklearn.ensemble import GradientBoostingClassifier\n",
    "gbm=GradientBoostingClassifier(criterion='friedman_mse',random_state=0,max_depth=6,min_samples_split=150)\n",
    "gbm.fit(X_train,y_train)"
   ]
  },
  {
   "cell_type": "markdown",
   "metadata": {},
   "source": [
    "# Model Evaluation"
   ]
  },
  {
   "cell_type": "code",
   "execution_count": 58,
   "metadata": {},
   "outputs": [],
   "source": [
    "from sklearn import metrics\n",
    "from sklearn.metrics import confusion_matrix"
   ]
  },
  {
   "cell_type": "code",
   "execution_count": 59,
   "metadata": {},
   "outputs": [],
   "source": [
    "y_pred_tree=dtree.predict(X_test)\n",
    "y_pred_rf=rf.predict(X_test)\n",
    "y_pred_gbm=gbm.predict(X_test)"
   ]
  },
  {
   "cell_type": "code",
   "execution_count": 60,
   "metadata": {},
   "outputs": [
    {
     "name": "stdout",
     "output_type": "stream",
     "text": [
      "Accuracy from Decision Tree Model : 0.8014099295035249\n",
      "Precision from Decision Tree Model : 0.6643286573146293\n",
      "Recall from Decision Tree Model : 0.4013317191283293\n",
      "f1_score from Decision Tree Model : 0.5003773584905661\n",
      "Area under ROC Curve from Decision Tree Model : 0.6672660589659593\n",
      "Gini from the Decision Tree Model : 0.3345321179319185\n"
     ]
    }
   ],
   "source": [
    "print(\"Accuracy from Decision Tree Model :\",metrics.accuracy_score(y_test, y_pred_tree))\n",
    "print(\"Precision from Decision Tree Model :\",metrics.precision_score(y_test,y_pred_tree))\n",
    "print(\"Recall from Decision Tree Model :\",metrics.recall_score(y_test,y_pred_tree))\n",
    "print(\"f1_score from Decision Tree Model :\",metrics.f1_score(y_test,y_pred_tree))\n",
    "print(\"Area under ROC Curve from Decision Tree Model :\",metrics.roc_auc_score(y_test,y_pred_tree))\n",
    "print(\"Gini from the Decision Tree Model :\",2*metrics.roc_auc_score(y_test,y_pred_tree)-1)"
   ]
  },
  {
   "cell_type": "code",
   "execution_count": 64,
   "metadata": {},
   "outputs": [
    {
     "name": "stdout",
     "output_type": "stream",
     "text": [
      "Accuracy from Random Forest Model : 0.7937603119844008\n",
      "Precision from Random Forest Model : 0.791578947368421\n",
      "Recall from Random Forest Model : 0.22760290556900725\n",
      "f1_score from Random Forest Model : 0.35354960037611655\n",
      "Area under ROC Curve from Random Forest Model : 0.6039310639510042\n",
      "Gini from the Random Forest Model : 0.2078621279020083\n"
     ]
    }
   ],
   "source": [
    "print(\"Accuracy from Random Forest Model :\",metrics.accuracy_score(y_test, y_pred_rf))\n",
    "print(\"Precision from Random Forest Model :\",metrics.precision_score(y_test,y_pred_rf))\n",
    "print(\"Recall from Random Forest Model :\",metrics.recall_score(y_test,y_pred_rf))\n",
    "print(\"f1_score from Random Forest Model :\",metrics.f1_score(y_test,y_pred_rf))\n",
    "print(\"Area under ROC Curve from Random Forest Model :\",metrics.roc_auc_score(y_test,y_pred_rf))\n",
    "print(\"Gini from the Random Forest Model :\",2*metrics.roc_auc_score(y_test,y_pred_rf)-1)"
   ]
  },
  {
   "cell_type": "code",
   "execution_count": 65,
   "metadata": {},
   "outputs": [
    {
     "name": "stdout",
     "output_type": "stream",
     "text": [
      "Accuracy from GBM Model : 0.807409629518524\n",
      "Precision from GBM Model : 0.6735849056603773\n",
      "Recall from GBM Model : 0.4322033898305085\n",
      "f1_score from GBM Model : 0.5265486725663717\n",
      "Area under ROC Curve from GBM Model : 0.6816051844466601\n",
      "Gini from the GBM Model : 0.36321036889332015\n"
     ]
    }
   ],
   "source": [
    "print(\"Accuracy from GBM Model :\",metrics.accuracy_score(y_test, y_pred_gbm))\n",
    "print(\"Precision from GBM Model :\",metrics.precision_score(y_test,y_pred_gbm))\n",
    "print(\"Recall from GBM Model :\",metrics.recall_score(y_test,y_pred_gbm))\n",
    "print(\"f1_score from GBM Model :\",metrics.f1_score(y_test,y_pred_gbm))\n",
    "print(\"Area under ROC Curve from GBM Model :\",metrics.roc_auc_score(y_test,y_pred_gbm))\n",
    "print(\"Gini from the GBM Model :\",2*metrics.roc_auc_score(y_test,y_pred_gbm)-1)"
   ]
  },
  {
   "cell_type": "markdown",
   "metadata": {},
   "source": [
    "# Extracting Feature Importance from the best model"
   ]
  },
  {
   "cell_type": "code",
   "execution_count": 67,
   "metadata": {},
   "outputs": [
    {
     "data": {
      "text/plain": [
       "(8, 1)"
      ]
     },
     "execution_count": 67,
     "metadata": {},
     "output_type": "execute_result"
    }
   ],
   "source": [
    "import pandas as pd\n",
    "feature_importances=pd.DataFrame(gbm.feature_importances_,\n",
    "                                 index=X_train.columns,\n",
    "                                 columns=['importance']).sort_values('importance',ascending=False)\n",
    "feature_importances.shape"
   ]
  },
  {
   "cell_type": "markdown",
   "metadata": {},
   "source": [
    "# Extracting the Top 10 Important Model Features"
   ]
  },
  {
   "cell_type": "code",
   "execution_count": 68,
   "metadata": {},
   "outputs": [
    {
     "data": {
      "text/html": [
       "<div>\n",
       "<style scoped>\n",
       "    .dataframe tbody tr th:only-of-type {\n",
       "        vertical-align: middle;\n",
       "    }\n",
       "\n",
       "    .dataframe tbody tr th {\n",
       "        vertical-align: top;\n",
       "    }\n",
       "\n",
       "    .dataframe thead th {\n",
       "        text-align: right;\n",
       "    }\n",
       "</style>\n",
       "<table border=\"1\" class=\"dataframe\">\n",
       "  <thead>\n",
       "    <tr style=\"text-align: right;\">\n",
       "      <th></th>\n",
       "      <th>importance</th>\n",
       "    </tr>\n",
       "  </thead>\n",
       "  <tbody>\n",
       "    <tr>\n",
       "      <th>Age</th>\n",
       "      <td>0.465276</td>\n",
       "    </tr>\n",
       "    <tr>\n",
       "      <th>Affluence_Grade</th>\n",
       "      <td>0.338126</td>\n",
       "    </tr>\n",
       "    <tr>\n",
       "      <th>Gender</th>\n",
       "      <td>0.088179</td>\n",
       "    </tr>\n",
       "    <tr>\n",
       "      <th>Total_Spend</th>\n",
       "      <td>0.040849</td>\n",
       "    </tr>\n",
       "    <tr>\n",
       "      <th>Neigborhood_Cluster-55_Level</th>\n",
       "      <td>0.032923</td>\n",
       "    </tr>\n",
       "    <tr>\n",
       "      <th>Loyalty_Card_Tenure</th>\n",
       "      <td>0.026945</td>\n",
       "    </tr>\n",
       "    <tr>\n",
       "      <th>Neighborhood_Cluster-7_Level</th>\n",
       "      <td>0.005339</td>\n",
       "    </tr>\n",
       "    <tr>\n",
       "      <th>Loyalty_Status</th>\n",
       "      <td>0.002362</td>\n",
       "    </tr>\n",
       "  </tbody>\n",
       "</table>\n",
       "</div>"
      ],
      "text/plain": [
       "                              importance\n",
       "Age                             0.465276\n",
       "Affluence_Grade                 0.338126\n",
       "Gender                          0.088179\n",
       "Total_Spend                     0.040849\n",
       "Neigborhood_Cluster-55_Level    0.032923\n",
       "Loyalty_Card_Tenure             0.026945\n",
       "Neighborhood_Cluster-7_Level    0.005339\n",
       "Loyalty_Status                  0.002362"
      ]
     },
     "execution_count": 68,
     "metadata": {},
     "output_type": "execute_result"
    }
   ],
   "source": [
    "feature_importances.iloc[0:10]"
   ]
  },
  {
   "cell_type": "markdown",
   "metadata": {},
   "source": [
    "# Plotting the top 10 feature importances in a Horizontal Bar Plot"
   ]
  },
  {
   "cell_type": "code",
   "execution_count": 69,
   "metadata": {},
   "outputs": [
    {
     "data": {
      "image/png": "[encoded data removed]",
      "text/plain": [
       "<Figure size 640x480 with 1 Axes>"
      ]
     },
     "metadata": {},
     "output_type": "display_data"
    }
   ],
   "source": [
    "ax=sns.barplot(x='importance',y=feature_importances.iloc[0:10].index,data=feature_importances.iloc[0:10])"
   ]
  },
  {
   "cell_type": "markdown",
   "metadata": {},
   "source": [
    "# Probability Decile Analysis and Gains Chart / Lorenz Curve"
   ]
  },
  {
   "cell_type": "markdown",
   "metadata": {},
   "source": [
    "# Step 1 : Getting the Model Probabilities"
   ]
  },
  {
   "cell_type": "code",
   "execution_count": 70,
   "metadata": {},
   "outputs": [],
   "source": [
    "y_pred_prob = gbm.predict_proba(X_all)[:, 1]\n",
    "df['pred_prob']=pd.DataFrame(y_pred_prob)"
   ]
  },
  {
   "cell_type": "markdown",
   "metadata": {},
   "source": [
    "# Step 2 : Create Deciles based on the Model Probabilities"
   ]
  },
  {
   "cell_type": "code",
   "execution_count": 71,
   "metadata": {},
   "outputs": [
    {
     "data": {
      "text/html": [
       "<div>\n",
       "<style scoped>\n",
       "    .dataframe tbody tr th:only-of-type {\n",
       "        vertical-align: middle;\n",
       "    }\n",
       "\n",
       "    .dataframe tbody tr th {\n",
       "        vertical-align: top;\n",
       "    }\n",
       "\n",
       "    .dataframe thead th {\n",
       "        text-align: right;\n",
       "    }\n",
       "</style>\n",
       "<table border=\"1\" class=\"dataframe\">\n",
       "  <thead>\n",
       "    <tr style=\"text-align: right;\">\n",
       "      <th></th>\n",
       "      <th>pred_prob</th>\n",
       "      <th>P_Rank_gbm</th>\n",
       "    </tr>\n",
       "  </thead>\n",
       "  <tbody>\n",
       "    <tr>\n",
       "      <th>22218</th>\n",
       "      <td>0.415660</td>\n",
       "      <td>9</td>\n",
       "    </tr>\n",
       "    <tr>\n",
       "      <th>22219</th>\n",
       "      <td>0.106895</td>\n",
       "      <td>4</td>\n",
       "    </tr>\n",
       "    <tr>\n",
       "      <th>22220</th>\n",
       "      <td>0.200496</td>\n",
       "      <td>6</td>\n",
       "    </tr>\n",
       "    <tr>\n",
       "      <th>22221</th>\n",
       "      <td>0.269651</td>\n",
       "      <td>7</td>\n",
       "    </tr>\n",
       "    <tr>\n",
       "      <th>22222</th>\n",
       "      <td>0.075347</td>\n",
       "      <td>3</td>\n",
       "    </tr>\n",
       "  </tbody>\n",
       "</table>\n",
       "</div>"
      ],
      "text/plain": [
       "       pred_prob  P_Rank_gbm\n",
       "22218   0.415660           9\n",
       "22219   0.106895           4\n",
       "22220   0.200496           6\n",
       "22221   0.269651           7\n",
       "22222   0.075347           3"
      ]
     },
     "execution_count": 71,
     "metadata": {},
     "output_type": "execute_result"
    }
   ],
   "source": [
    "df['P_Rank_gbm']=pd.qcut(df['pred_prob'].rank(method='first').values,10,duplicates='drop').codes+1\n",
    "df[['pred_prob','P_Rank_gbm']].tail()"
   ]
  },
  {
   "cell_type": "markdown",
   "metadata": {},
   "source": [
    "# Step 3 : Summarize the data at Decile Level for Analysis"
   ]
  },
  {
   "cell_type": "code",
   "execution_count": 72,
   "metadata": {},
   "outputs": [
    {
     "data": {
      "text/html": [
       "<div>\n",
       "<style scoped>\n",
       "    .dataframe tbody tr th:only-of-type {\n",
       "        vertical-align: middle;\n",
       "    }\n",
       "\n",
       "    .dataframe tbody tr th {\n",
       "        vertical-align: top;\n",
       "    }\n",
       "\n",
       "    .dataframe thead th {\n",
       "        text-align: right;\n",
       "    }\n",
       "</style>\n",
       "<table border=\"1\" class=\"dataframe\">\n",
       "  <thead>\n",
       "    <tr style=\"text-align: right;\">\n",
       "      <th></th>\n",
       "      <th>count</th>\n",
       "      <th>Actual_event_rate</th>\n",
       "    </tr>\n",
       "    <tr>\n",
       "      <th>P_Rank_gbm</th>\n",
       "      <th></th>\n",
       "      <th></th>\n",
       "    </tr>\n",
       "  </thead>\n",
       "  <tbody>\n",
       "    <tr>\n",
       "      <th>10</th>\n",
       "      <td>2223</td>\n",
       "      <td>0.804768</td>\n",
       "    </tr>\n",
       "    <tr>\n",
       "      <th>9</th>\n",
       "      <td>2222</td>\n",
       "      <td>0.528803</td>\n",
       "    </tr>\n",
       "    <tr>\n",
       "      <th>8</th>\n",
       "      <td>2222</td>\n",
       "      <td>0.341584</td>\n",
       "    </tr>\n",
       "    <tr>\n",
       "      <th>7</th>\n",
       "      <td>2222</td>\n",
       "      <td>0.248875</td>\n",
       "    </tr>\n",
       "    <tr>\n",
       "      <th>6</th>\n",
       "      <td>2222</td>\n",
       "      <td>0.183168</td>\n",
       "    </tr>\n",
       "    <tr>\n",
       "      <th>5</th>\n",
       "      <td>2223</td>\n",
       "      <td>0.131354</td>\n",
       "    </tr>\n",
       "    <tr>\n",
       "      <th>4</th>\n",
       "      <td>2222</td>\n",
       "      <td>0.104860</td>\n",
       "    </tr>\n",
       "    <tr>\n",
       "      <th>3</th>\n",
       "      <td>2222</td>\n",
       "      <td>0.081458</td>\n",
       "    </tr>\n",
       "    <tr>\n",
       "      <th>2</th>\n",
       "      <td>2222</td>\n",
       "      <td>0.039604</td>\n",
       "    </tr>\n",
       "    <tr>\n",
       "      <th>1</th>\n",
       "      <td>2223</td>\n",
       "      <td>0.012596</td>\n",
       "    </tr>\n",
       "  </tbody>\n",
       "</table>\n",
       "</div>"
      ],
      "text/plain": [
       "            count  Actual_event_rate\n",
       "P_Rank_gbm                          \n",
       "10           2223           0.804768\n",
       "9            2222           0.528803\n",
       "8            2222           0.341584\n",
       "7            2222           0.248875\n",
       "6            2222           0.183168\n",
       "5            2223           0.131354\n",
       "4            2222           0.104860\n",
       "3            2222           0.081458\n",
       "2            2222           0.039604\n",
       "1            2223           0.012596"
      ]
     },
     "execution_count": 72,
     "metadata": {},
     "output_type": "execute_result"
    }
   ],
   "source": [
    "rank_df=df.groupby('P_Rank_gbm')['Organics_Purchase_Indicator'].agg(['count','mean']).sort_values(by='P_Rank_gbm',ascending=False)\n",
    "rank_df.rename(columns={'mean':'Actual_event_rate'},inplace=True)\n",
    "rank_df"
   ]
  },
  {
   "cell_type": "markdown",
   "metadata": {},
   "source": [
    "# Step 4 - Event Capture Analysis across Probability Deciles"
   ]
  },
  {
   "cell_type": "code",
   "execution_count": 73,
   "metadata": {},
   "outputs": [
    {
     "data": {
      "text/html": [
       "<div>\n",
       "<style scoped>\n",
       "    .dataframe tbody tr th:only-of-type {\n",
       "        vertical-align: middle;\n",
       "    }\n",
       "\n",
       "    .dataframe tbody tr th {\n",
       "        vertical-align: top;\n",
       "    }\n",
       "\n",
       "    .dataframe thead th {\n",
       "        text-align: right;\n",
       "    }\n",
       "</style>\n",
       "<table border=\"1\" class=\"dataframe\">\n",
       "  <thead>\n",
       "    <tr style=\"text-align: right;\">\n",
       "      <th></th>\n",
       "      <th>count</th>\n",
       "      <th>Actual_event_rate</th>\n",
       "      <th>N_events</th>\n",
       "      <th>cum_events</th>\n",
       "      <th>event_cap</th>\n",
       "      <th>cum_event_cap</th>\n",
       "    </tr>\n",
       "    <tr>\n",
       "      <th>P_Rank_gbm</th>\n",
       "      <th></th>\n",
       "      <th></th>\n",
       "      <th></th>\n",
       "      <th></th>\n",
       "      <th></th>\n",
       "      <th></th>\n",
       "    </tr>\n",
       "  </thead>\n",
       "  <tbody>\n",
       "    <tr>\n",
       "      <th>10</th>\n",
       "      <td>2223</td>\n",
       "      <td>0.804768</td>\n",
       "      <td>1789.0</td>\n",
       "      <td>1789.0</td>\n",
       "      <td>0.324977</td>\n",
       "      <td>0.324977</td>\n",
       "    </tr>\n",
       "    <tr>\n",
       "      <th>9</th>\n",
       "      <td>2222</td>\n",
       "      <td>0.528803</td>\n",
       "      <td>1175.0</td>\n",
       "      <td>2964.0</td>\n",
       "      <td>0.213442</td>\n",
       "      <td>0.538420</td>\n",
       "    </tr>\n",
       "    <tr>\n",
       "      <th>8</th>\n",
       "      <td>2222</td>\n",
       "      <td>0.341584</td>\n",
       "      <td>759.0</td>\n",
       "      <td>3723.0</td>\n",
       "      <td>0.137875</td>\n",
       "      <td>0.676294</td>\n",
       "    </tr>\n",
       "    <tr>\n",
       "      <th>7</th>\n",
       "      <td>2222</td>\n",
       "      <td>0.248875</td>\n",
       "      <td>553.0</td>\n",
       "      <td>4276.0</td>\n",
       "      <td>0.100454</td>\n",
       "      <td>0.776748</td>\n",
       "    </tr>\n",
       "    <tr>\n",
       "      <th>6</th>\n",
       "      <td>2222</td>\n",
       "      <td>0.183168</td>\n",
       "      <td>407.0</td>\n",
       "      <td>4683.0</td>\n",
       "      <td>0.073933</td>\n",
       "      <td>0.850681</td>\n",
       "    </tr>\n",
       "    <tr>\n",
       "      <th>5</th>\n",
       "      <td>2223</td>\n",
       "      <td>0.131354</td>\n",
       "      <td>292.0</td>\n",
       "      <td>4975.0</td>\n",
       "      <td>0.053043</td>\n",
       "      <td>0.903724</td>\n",
       "    </tr>\n",
       "    <tr>\n",
       "      <th>4</th>\n",
       "      <td>2222</td>\n",
       "      <td>0.104860</td>\n",
       "      <td>233.0</td>\n",
       "      <td>5208.0</td>\n",
       "      <td>0.042325</td>\n",
       "      <td>0.946049</td>\n",
       "    </tr>\n",
       "    <tr>\n",
       "      <th>3</th>\n",
       "      <td>2222</td>\n",
       "      <td>0.081458</td>\n",
       "      <td>181.0</td>\n",
       "      <td>5389.0</td>\n",
       "      <td>0.032879</td>\n",
       "      <td>0.978928</td>\n",
       "    </tr>\n",
       "    <tr>\n",
       "      <th>2</th>\n",
       "      <td>2222</td>\n",
       "      <td>0.039604</td>\n",
       "      <td>88.0</td>\n",
       "      <td>5477.0</td>\n",
       "      <td>0.015985</td>\n",
       "      <td>0.994914</td>\n",
       "    </tr>\n",
       "    <tr>\n",
       "      <th>1</th>\n",
       "      <td>2223</td>\n",
       "      <td>0.012596</td>\n",
       "      <td>28.0</td>\n",
       "      <td>5505.0</td>\n",
       "      <td>0.005086</td>\n",
       "      <td>1.000000</td>\n",
       "    </tr>\n",
       "  </tbody>\n",
       "</table>\n",
       "</div>"
      ],
      "text/plain": [
       "            count  Actual_event_rate  N_events  cum_events  event_cap  \\\n",
       "P_Rank_gbm                                                              \n",
       "10           2223           0.804768    1789.0      1789.0   0.324977   \n",
       "9            2222           0.528803    1175.0      2964.0   0.213442   \n",
       "8            2222           0.341584     759.0      3723.0   0.137875   \n",
       "7            2222           0.248875     553.0      4276.0   0.100454   \n",
       "6            2222           0.183168     407.0      4683.0   0.073933   \n",
       "5            2223           0.131354     292.0      4975.0   0.053043   \n",
       "4            2222           0.104860     233.0      5208.0   0.042325   \n",
       "3            2222           0.081458     181.0      5389.0   0.032879   \n",
       "2            2222           0.039604      88.0      5477.0   0.015985   \n",
       "1            2223           0.012596      28.0      5505.0   0.005086   \n",
       "\n",
       "            cum_event_cap  \n",
       "P_Rank_gbm                 \n",
       "10               0.324977  \n",
       "9                0.538420  \n",
       "8                0.676294  \n",
       "7                0.776748  \n",
       "6                0.850681  \n",
       "5                0.903724  \n",
       "4                0.946049  \n",
       "3                0.978928  \n",
       "2                0.994914  \n",
       "1                1.000000  "
      ]
     },
     "execution_count": 73,
     "metadata": {},
     "output_type": "execute_result"
    }
   ],
   "source": [
    "rank_df['N_events']=rank_df['count']*rank_df['Actual_event_rate']\n",
    "rank_df['cum_events']=rank_df['N_events'].cumsum()\n",
    "rank_df['event_cap']=rank_df['N_events']/max(rank_df['N_events'].cumsum())\n",
    "rank_df['cum_event_cap']=rank_df['event_cap'].cumsum()\n",
    "rank_df"
   ]
  },
  {
   "cell_type": "markdown",
   "metadata": {},
   "source": [
    "# Step 5 - Non Event Capture Analysis across Probability Deciles"
   ]
  },
  {
   "cell_type": "code",
   "execution_count": 75,
   "metadata": {},
   "outputs": [
    {
     "data": {
      "text/html": [
       "<div>\n",
       "<style scoped>\n",
       "    .dataframe tbody tr th:only-of-type {\n",
       "        vertical-align: middle;\n",
       "    }\n",
       "\n",
       "    .dataframe tbody tr th {\n",
       "        vertical-align: top;\n",
       "    }\n",
       "\n",
       "    .dataframe thead th {\n",
       "        text-align: right;\n",
       "    }\n",
       "</style>\n",
       "<table border=\"1\" class=\"dataframe\">\n",
       "  <thead>\n",
       "    <tr style=\"text-align: right;\">\n",
       "      <th></th>\n",
       "      <th>count</th>\n",
       "      <th>Actual_event_rate</th>\n",
       "      <th>N_events</th>\n",
       "      <th>cum_events</th>\n",
       "      <th>event_cap</th>\n",
       "      <th>cum_event_cap</th>\n",
       "      <th>N_non_events</th>\n",
       "      <th>cum_non_events</th>\n",
       "      <th>non_event_cap</th>\n",
       "      <th>cum_non_event_cap</th>\n",
       "    </tr>\n",
       "    <tr>\n",
       "      <th>P_Rank_gbm</th>\n",
       "      <th></th>\n",
       "      <th></th>\n",
       "      <th></th>\n",
       "      <th></th>\n",
       "      <th></th>\n",
       "      <th></th>\n",
       "      <th></th>\n",
       "      <th></th>\n",
       "      <th></th>\n",
       "      <th></th>\n",
       "    </tr>\n",
       "  </thead>\n",
       "  <tbody>\n",
       "    <tr>\n",
       "      <th>10</th>\n",
       "      <td>2223</td>\n",
       "      <td>0.804768</td>\n",
       "      <td>1789.0</td>\n",
       "      <td>1789.0</td>\n",
       "      <td>0.324977</td>\n",
       "      <td>0.324977</td>\n",
       "      <td>434.0</td>\n",
       "      <td>434.0</td>\n",
       "      <td>0.025960</td>\n",
       "      <td>0.025960</td>\n",
       "    </tr>\n",
       "    <tr>\n",
       "      <th>9</th>\n",
       "      <td>2222</td>\n",
       "      <td>0.528803</td>\n",
       "      <td>1175.0</td>\n",
       "      <td>2964.0</td>\n",
       "      <td>0.213442</td>\n",
       "      <td>0.538420</td>\n",
       "      <td>1047.0</td>\n",
       "      <td>1481.0</td>\n",
       "      <td>0.062627</td>\n",
       "      <td>0.088587</td>\n",
       "    </tr>\n",
       "    <tr>\n",
       "      <th>8</th>\n",
       "      <td>2222</td>\n",
       "      <td>0.341584</td>\n",
       "      <td>759.0</td>\n",
       "      <td>3723.0</td>\n",
       "      <td>0.137875</td>\n",
       "      <td>0.676294</td>\n",
       "      <td>1463.0</td>\n",
       "      <td>2944.0</td>\n",
       "      <td>0.087510</td>\n",
       "      <td>0.176098</td>\n",
       "    </tr>\n",
       "    <tr>\n",
       "      <th>7</th>\n",
       "      <td>2222</td>\n",
       "      <td>0.248875</td>\n",
       "      <td>553.0</td>\n",
       "      <td>4276.0</td>\n",
       "      <td>0.100454</td>\n",
       "      <td>0.776748</td>\n",
       "      <td>1669.0</td>\n",
       "      <td>4613.0</td>\n",
       "      <td>0.099833</td>\n",
       "      <td>0.275930</td>\n",
       "    </tr>\n",
       "    <tr>\n",
       "      <th>6</th>\n",
       "      <td>2222</td>\n",
       "      <td>0.183168</td>\n",
       "      <td>407.0</td>\n",
       "      <td>4683.0</td>\n",
       "      <td>0.073933</td>\n",
       "      <td>0.850681</td>\n",
       "      <td>1815.0</td>\n",
       "      <td>6428.0</td>\n",
       "      <td>0.108566</td>\n",
       "      <td>0.384496</td>\n",
       "    </tr>\n",
       "    <tr>\n",
       "      <th>5</th>\n",
       "      <td>2223</td>\n",
       "      <td>0.131354</td>\n",
       "      <td>292.0</td>\n",
       "      <td>4975.0</td>\n",
       "      <td>0.053043</td>\n",
       "      <td>0.903724</td>\n",
       "      <td>1931.0</td>\n",
       "      <td>8359.0</td>\n",
       "      <td>0.115504</td>\n",
       "      <td>0.500000</td>\n",
       "    </tr>\n",
       "    <tr>\n",
       "      <th>4</th>\n",
       "      <td>2222</td>\n",
       "      <td>0.104860</td>\n",
       "      <td>233.0</td>\n",
       "      <td>5208.0</td>\n",
       "      <td>0.042325</td>\n",
       "      <td>0.946049</td>\n",
       "      <td>1989.0</td>\n",
       "      <td>10348.0</td>\n",
       "      <td>0.118974</td>\n",
       "      <td>0.618974</td>\n",
       "    </tr>\n",
       "    <tr>\n",
       "      <th>3</th>\n",
       "      <td>2222</td>\n",
       "      <td>0.081458</td>\n",
       "      <td>181.0</td>\n",
       "      <td>5389.0</td>\n",
       "      <td>0.032879</td>\n",
       "      <td>0.978928</td>\n",
       "      <td>2041.0</td>\n",
       "      <td>12389.0</td>\n",
       "      <td>0.122084</td>\n",
       "      <td>0.741058</td>\n",
       "    </tr>\n",
       "    <tr>\n",
       "      <th>2</th>\n",
       "      <td>2222</td>\n",
       "      <td>0.039604</td>\n",
       "      <td>88.0</td>\n",
       "      <td>5477.0</td>\n",
       "      <td>0.015985</td>\n",
       "      <td>0.994914</td>\n",
       "      <td>2134.0</td>\n",
       "      <td>14523.0</td>\n",
       "      <td>0.127647</td>\n",
       "      <td>0.868704</td>\n",
       "    </tr>\n",
       "    <tr>\n",
       "      <th>1</th>\n",
       "      <td>2223</td>\n",
       "      <td>0.012596</td>\n",
       "      <td>28.0</td>\n",
       "      <td>5505.0</td>\n",
       "      <td>0.005086</td>\n",
       "      <td>1.000000</td>\n",
       "      <td>2195.0</td>\n",
       "      <td>16718.0</td>\n",
       "      <td>0.131296</td>\n",
       "      <td>1.000000</td>\n",
       "    </tr>\n",
       "  </tbody>\n",
       "</table>\n",
       "</div>"
      ],
      "text/plain": [
       "            count  Actual_event_rate  N_events  cum_events  event_cap  \\\n",
       "P_Rank_gbm                                                              \n",
       "10           2223           0.804768    1789.0      1789.0   0.324977   \n",
       "9            2222           0.528803    1175.0      2964.0   0.213442   \n",
       "8            2222           0.341584     759.0      3723.0   0.137875   \n",
       "7            2222           0.248875     553.0      4276.0   0.100454   \n",
       "6            2222           0.183168     407.0      4683.0   0.073933   \n",
       "5            2223           0.131354     292.0      4975.0   0.053043   \n",
       "4            2222           0.104860     233.0      5208.0   0.042325   \n",
       "3            2222           0.081458     181.0      5389.0   0.032879   \n",
       "2            2222           0.039604      88.0      5477.0   0.015985   \n",
       "1            2223           0.012596      28.0      5505.0   0.005086   \n",
       "\n",
       "            cum_event_cap  N_non_events  cum_non_events  non_event_cap  \\\n",
       "P_Rank_gbm                                                               \n",
       "10               0.324977         434.0           434.0       0.025960   \n",
       "9                0.538420        1047.0          1481.0       0.062627   \n",
       "8                0.676294        1463.0          2944.0       0.087510   \n",
       "7                0.776748        1669.0          4613.0       0.099833   \n",
       "6                0.850681        1815.0          6428.0       0.108566   \n",
       "5                0.903724        1931.0          8359.0       0.115504   \n",
       "4                0.946049        1989.0         10348.0       0.118974   \n",
       "3                0.978928        2041.0         12389.0       0.122084   \n",
       "2                0.994914        2134.0         14523.0       0.127647   \n",
       "1                1.000000        2195.0         16718.0       0.131296   \n",
       "\n",
       "            cum_non_event_cap  \n",
       "P_Rank_gbm                     \n",
       "10                   0.025960  \n",
       "9                    0.088587  \n",
       "8                    0.176098  \n",
       "7                    0.275930  \n",
       "6                    0.384496  \n",
       "5                    0.500000  \n",
       "4                    0.618974  \n",
       "3                    0.741058  \n",
       "2                    0.868704  \n",
       "1                    1.000000  "
      ]
     },
     "execution_count": 75,
     "metadata": {},
     "output_type": "execute_result"
    }
   ],
   "source": [
    "rank_df['N_non_events']=rank_df['count']-rank_df['N_events']\n",
    "rank_df['cum_non_events']=rank_df['N_non_events'].cumsum()\n",
    "rank_df['non_event_cap']=rank_df['N_non_events']/max(rank_df['N_non_events'].cumsum())\n",
    "rank_df['cum_non_event_cap']=rank_df['non_event_cap'].cumsum()\n",
    "rank_df"
   ]
  },
  {
   "cell_type": "markdown",
   "metadata": {},
   "source": [
    "# Step 6 - Compute KS Statistic and Lift over Baseline Event Rate"
   ]
  },
  {
   "cell_type": "code",
   "execution_count": 76,
   "metadata": {},
   "outputs": [
    {
     "data": {
      "text/html": [
       "<div>\n",
       "<style scoped>\n",
       "    .dataframe tbody tr th:only-of-type {\n",
       "        vertical-align: middle;\n",
       "    }\n",
       "\n",
       "    .dataframe tbody tr th {\n",
       "        vertical-align: top;\n",
       "    }\n",
       "\n",
       "    .dataframe thead th {\n",
       "        text-align: right;\n",
       "    }\n",
       "</style>\n",
       "<table border=\"1\" class=\"dataframe\">\n",
       "  <thead>\n",
       "    <tr style=\"text-align: right;\">\n",
       "      <th></th>\n",
       "      <th>count</th>\n",
       "      <th>Actual_event_rate</th>\n",
       "      <th>N_events</th>\n",
       "      <th>cum_events</th>\n",
       "      <th>event_cap</th>\n",
       "      <th>cum_event_cap</th>\n",
       "      <th>N_non_events</th>\n",
       "      <th>cum_non_events</th>\n",
       "      <th>non_event_cap</th>\n",
       "      <th>cum_non_event_cap</th>\n",
       "      <th>KS</th>\n",
       "      <th>Baseline_Event_Rate</th>\n",
       "      <th>Lift_over_Avg</th>\n",
       "    </tr>\n",
       "    <tr>\n",
       "      <th>P_Rank_gbm</th>\n",
       "      <th></th>\n",
       "      <th></th>\n",
       "      <th></th>\n",
       "      <th></th>\n",
       "      <th></th>\n",
       "      <th></th>\n",
       "      <th></th>\n",
       "      <th></th>\n",
       "      <th></th>\n",
       "      <th></th>\n",
       "      <th></th>\n",
       "      <th></th>\n",
       "      <th></th>\n",
       "    </tr>\n",
       "  </thead>\n",
       "  <tbody>\n",
       "    <tr>\n",
       "      <th>10</th>\n",
       "      <td>2223</td>\n",
       "      <td>0.804768</td>\n",
       "      <td>1789.0</td>\n",
       "      <td>1789.0</td>\n",
       "      <td>0.324977</td>\n",
       "      <td>0.324977</td>\n",
       "      <td>434.0</td>\n",
       "      <td>434.0</td>\n",
       "      <td>0.025960</td>\n",
       "      <td>0.025960</td>\n",
       "      <td>0.2990</td>\n",
       "      <td>0.247716</td>\n",
       "      <td>3.248750</td>\n",
       "    </tr>\n",
       "    <tr>\n",
       "      <th>9</th>\n",
       "      <td>2222</td>\n",
       "      <td>0.528803</td>\n",
       "      <td>1175.0</td>\n",
       "      <td>2964.0</td>\n",
       "      <td>0.213442</td>\n",
       "      <td>0.538420</td>\n",
       "      <td>1047.0</td>\n",
       "      <td>1481.0</td>\n",
       "      <td>0.062627</td>\n",
       "      <td>0.088587</td>\n",
       "      <td>0.4498</td>\n",
       "      <td>0.247716</td>\n",
       "      <td>2.134711</td>\n",
       "    </tr>\n",
       "    <tr>\n",
       "      <th>8</th>\n",
       "      <td>2222</td>\n",
       "      <td>0.341584</td>\n",
       "      <td>759.0</td>\n",
       "      <td>3723.0</td>\n",
       "      <td>0.137875</td>\n",
       "      <td>0.676294</td>\n",
       "      <td>1463.0</td>\n",
       "      <td>2944.0</td>\n",
       "      <td>0.087510</td>\n",
       "      <td>0.176098</td>\n",
       "      <td>0.5002</td>\n",
       "      <td>0.247716</td>\n",
       "      <td>1.378933</td>\n",
       "    </tr>\n",
       "    <tr>\n",
       "      <th>7</th>\n",
       "      <td>2222</td>\n",
       "      <td>0.248875</td>\n",
       "      <td>553.0</td>\n",
       "      <td>4276.0</td>\n",
       "      <td>0.100454</td>\n",
       "      <td>0.776748</td>\n",
       "      <td>1669.0</td>\n",
       "      <td>4613.0</td>\n",
       "      <td>0.099833</td>\n",
       "      <td>0.275930</td>\n",
       "      <td>0.5008</td>\n",
       "      <td>0.247716</td>\n",
       "      <td>1.004677</td>\n",
       "    </tr>\n",
       "    <tr>\n",
       "      <th>6</th>\n",
       "      <td>2222</td>\n",
       "      <td>0.183168</td>\n",
       "      <td>407.0</td>\n",
       "      <td>4683.0</td>\n",
       "      <td>0.073933</td>\n",
       "      <td>0.850681</td>\n",
       "      <td>1815.0</td>\n",
       "      <td>6428.0</td>\n",
       "      <td>0.108566</td>\n",
       "      <td>0.384496</td>\n",
       "      <td>0.4662</td>\n",
       "      <td>0.247716</td>\n",
       "      <td>0.739428</td>\n",
       "    </tr>\n",
       "    <tr>\n",
       "      <th>5</th>\n",
       "      <td>2223</td>\n",
       "      <td>0.131354</td>\n",
       "      <td>292.0</td>\n",
       "      <td>4975.0</td>\n",
       "      <td>0.053043</td>\n",
       "      <td>0.903724</td>\n",
       "      <td>1931.0</td>\n",
       "      <td>8359.0</td>\n",
       "      <td>0.115504</td>\n",
       "      <td>0.500000</td>\n",
       "      <td>0.4037</td>\n",
       "      <td>0.247716</td>\n",
       "      <td>0.530260</td>\n",
       "    </tr>\n",
       "    <tr>\n",
       "      <th>4</th>\n",
       "      <td>2222</td>\n",
       "      <td>0.104860</td>\n",
       "      <td>233.0</td>\n",
       "      <td>5208.0</td>\n",
       "      <td>0.042325</td>\n",
       "      <td>0.946049</td>\n",
       "      <td>1989.0</td>\n",
       "      <td>10348.0</td>\n",
       "      <td>0.118974</td>\n",
       "      <td>0.618974</td>\n",
       "      <td>0.3271</td>\n",
       "      <td>0.247716</td>\n",
       "      <td>0.423309</td>\n",
       "    </tr>\n",
       "    <tr>\n",
       "      <th>3</th>\n",
       "      <td>2222</td>\n",
       "      <td>0.081458</td>\n",
       "      <td>181.0</td>\n",
       "      <td>5389.0</td>\n",
       "      <td>0.032879</td>\n",
       "      <td>0.978928</td>\n",
       "      <td>2041.0</td>\n",
       "      <td>12389.0</td>\n",
       "      <td>0.122084</td>\n",
       "      <td>0.741058</td>\n",
       "      <td>0.2379</td>\n",
       "      <td>0.247716</td>\n",
       "      <td>0.328836</td>\n",
       "    </tr>\n",
       "    <tr>\n",
       "      <th>2</th>\n",
       "      <td>2222</td>\n",
       "      <td>0.039604</td>\n",
       "      <td>88.0</td>\n",
       "      <td>5477.0</td>\n",
       "      <td>0.015985</td>\n",
       "      <td>0.994914</td>\n",
       "      <td>2134.0</td>\n",
       "      <td>14523.0</td>\n",
       "      <td>0.127647</td>\n",
       "      <td>0.868704</td>\n",
       "      <td>0.1262</td>\n",
       "      <td>0.247716</td>\n",
       "      <td>0.159876</td>\n",
       "    </tr>\n",
       "    <tr>\n",
       "      <th>1</th>\n",
       "      <td>2223</td>\n",
       "      <td>0.012596</td>\n",
       "      <td>28.0</td>\n",
       "      <td>5505.0</td>\n",
       "      <td>0.005086</td>\n",
       "      <td>1.000000</td>\n",
       "      <td>2195.0</td>\n",
       "      <td>16718.0</td>\n",
       "      <td>0.131296</td>\n",
       "      <td>1.000000</td>\n",
       "      <td>0.0000</td>\n",
       "      <td>0.247716</td>\n",
       "      <td>0.050847</td>\n",
       "    </tr>\n",
       "  </tbody>\n",
       "</table>\n",
       "</div>"
      ],
      "text/plain": [
       "            count  Actual_event_rate  N_events  cum_events  event_cap  \\\n",
       "P_Rank_gbm                                                              \n",
       "10           2223           0.804768    1789.0      1789.0   0.324977   \n",
       "9            2222           0.528803    1175.0      2964.0   0.213442   \n",
       "8            2222           0.341584     759.0      3723.0   0.137875   \n",
       "7            2222           0.248875     553.0      4276.0   0.100454   \n",
       "6            2222           0.183168     407.0      4683.0   0.073933   \n",
       "5            2223           0.131354     292.0      4975.0   0.053043   \n",
       "4            2222           0.104860     233.0      5208.0   0.042325   \n",
       "3            2222           0.081458     181.0      5389.0   0.032879   \n",
       "2            2222           0.039604      88.0      5477.0   0.015985   \n",
       "1            2223           0.012596      28.0      5505.0   0.005086   \n",
       "\n",
       "            cum_event_cap  N_non_events  cum_non_events  non_event_cap  \\\n",
       "P_Rank_gbm                                                               \n",
       "10               0.324977         434.0           434.0       0.025960   \n",
       "9                0.538420        1047.0          1481.0       0.062627   \n",
       "8                0.676294        1463.0          2944.0       0.087510   \n",
       "7                0.776748        1669.0          4613.0       0.099833   \n",
       "6                0.850681        1815.0          6428.0       0.108566   \n",
       "5                0.903724        1931.0          8359.0       0.115504   \n",
       "4                0.946049        1989.0         10348.0       0.118974   \n",
       "3                0.978928        2041.0         12389.0       0.122084   \n",
       "2                0.994914        2134.0         14523.0       0.127647   \n",
       "1                1.000000        2195.0         16718.0       0.131296   \n",
       "\n",
       "            cum_non_event_cap      KS  Baseline_Event_Rate  Lift_over_Avg  \n",
       "P_Rank_gbm                                                                 \n",
       "10                   0.025960  0.2990             0.247716       3.248750  \n",
       "9                    0.088587  0.4498             0.247716       2.134711  \n",
       "8                    0.176098  0.5002             0.247716       1.378933  \n",
       "7                    0.275930  0.5008             0.247716       1.004677  \n",
       "6                    0.384496  0.4662             0.247716       0.739428  \n",
       "5                    0.500000  0.4037             0.247716       0.530260  \n",
       "4                    0.618974  0.3271             0.247716       0.423309  \n",
       "3                    0.741058  0.2379             0.247716       0.328836  \n",
       "2                    0.868704  0.1262             0.247716       0.159876  \n",
       "1                    1.000000  0.0000             0.247716       0.050847  "
      ]
     },
     "execution_count": 76,
     "metadata": {},
     "output_type": "execute_result"
    }
   ],
   "source": [
    "rank_df['KS']=round((rank_df['cum_event_cap']-rank_df['cum_non_event_cap']),4)\n",
    "rank_df['Baseline_Event_Rate']=(max(rank_df['cum_events'])/max(rank_df['count'].cumsum()))\n",
    "rank_df['Lift_over_Avg']=rank_df['Actual_event_rate']/rank_df['Baseline_Event_Rate']\n",
    "rank_df"
   ]
  },
  {
   "cell_type": "markdown",
   "metadata": {},
   "source": [
    "# Step 7 - Create Deciles (1-10) column to indicate the Decile number"
   ]
  },
  {
   "cell_type": "code",
   "execution_count": 77,
   "metadata": {},
   "outputs": [
    {
     "data": {
      "text/html": [
       "<div>\n",
       "<style scoped>\n",
       "    .dataframe tbody tr th:only-of-type {\n",
       "        vertical-align: middle;\n",
       "    }\n",
       "\n",
       "    .dataframe tbody tr th {\n",
       "        vertical-align: top;\n",
       "    }\n",
       "\n",
       "    .dataframe thead th {\n",
       "        text-align: right;\n",
       "    }\n",
       "</style>\n",
       "<table border=\"1\" class=\"dataframe\">\n",
       "  <thead>\n",
       "    <tr style=\"text-align: right;\">\n",
       "      <th></th>\n",
       "      <th>P_Rank_gbm</th>\n",
       "      <th>count</th>\n",
       "      <th>Actual_event_rate</th>\n",
       "      <th>N_events</th>\n",
       "      <th>cum_events</th>\n",
       "      <th>event_cap</th>\n",
       "      <th>cum_event_cap</th>\n",
       "      <th>N_non_events</th>\n",
       "      <th>cum_non_events</th>\n",
       "      <th>non_event_cap</th>\n",
       "      <th>cum_non_event_cap</th>\n",
       "      <th>KS</th>\n",
       "      <th>Baseline_Event_Rate</th>\n",
       "      <th>Lift_over_Avg</th>\n",
       "      <th>Decile</th>\n",
       "    </tr>\n",
       "  </thead>\n",
       "  <tbody>\n",
       "    <tr>\n",
       "      <th>0</th>\n",
       "      <td>10</td>\n",
       "      <td>2223</td>\n",
       "      <td>0.804768</td>\n",
       "      <td>1789.0</td>\n",
       "      <td>1789.0</td>\n",
       "      <td>0.324977</td>\n",
       "      <td>0.324977</td>\n",
       "      <td>434.0</td>\n",
       "      <td>434.0</td>\n",
       "      <td>0.025960</td>\n",
       "      <td>0.025960</td>\n",
       "      <td>0.2990</td>\n",
       "      <td>0.247716</td>\n",
       "      <td>3.248750</td>\n",
       "      <td>1</td>\n",
       "    </tr>\n",
       "    <tr>\n",
       "      <th>1</th>\n",
       "      <td>9</td>\n",
       "      <td>2222</td>\n",
       "      <td>0.528803</td>\n",
       "      <td>1175.0</td>\n",
       "      <td>2964.0</td>\n",
       "      <td>0.213442</td>\n",
       "      <td>0.538420</td>\n",
       "      <td>1047.0</td>\n",
       "      <td>1481.0</td>\n",
       "      <td>0.062627</td>\n",
       "      <td>0.088587</td>\n",
       "      <td>0.4498</td>\n",
       "      <td>0.247716</td>\n",
       "      <td>2.134711</td>\n",
       "      <td>2</td>\n",
       "    </tr>\n",
       "    <tr>\n",
       "      <th>2</th>\n",
       "      <td>8</td>\n",
       "      <td>2222</td>\n",
       "      <td>0.341584</td>\n",
       "      <td>759.0</td>\n",
       "      <td>3723.0</td>\n",
       "      <td>0.137875</td>\n",
       "      <td>0.676294</td>\n",
       "      <td>1463.0</td>\n",
       "      <td>2944.0</td>\n",
       "      <td>0.087510</td>\n",
       "      <td>0.176098</td>\n",
       "      <td>0.5002</td>\n",
       "      <td>0.247716</td>\n",
       "      <td>1.378933</td>\n",
       "      <td>3</td>\n",
       "    </tr>\n",
       "    <tr>\n",
       "      <th>3</th>\n",
       "      <td>7</td>\n",
       "      <td>2222</td>\n",
       "      <td>0.248875</td>\n",
       "      <td>553.0</td>\n",
       "      <td>4276.0</td>\n",
       "      <td>0.100454</td>\n",
       "      <td>0.776748</td>\n",
       "      <td>1669.0</td>\n",
       "      <td>4613.0</td>\n",
       "      <td>0.099833</td>\n",
       "      <td>0.275930</td>\n",
       "      <td>0.5008</td>\n",
       "      <td>0.247716</td>\n",
       "      <td>1.004677</td>\n",
       "      <td>4</td>\n",
       "    </tr>\n",
       "    <tr>\n",
       "      <th>4</th>\n",
       "      <td>6</td>\n",
       "      <td>2222</td>\n",
       "      <td>0.183168</td>\n",
       "      <td>407.0</td>\n",
       "      <td>4683.0</td>\n",
       "      <td>0.073933</td>\n",
       "      <td>0.850681</td>\n",
       "      <td>1815.0</td>\n",
       "      <td>6428.0</td>\n",
       "      <td>0.108566</td>\n",
       "      <td>0.384496</td>\n",
       "      <td>0.4662</td>\n",
       "      <td>0.247716</td>\n",
       "      <td>0.739428</td>\n",
       "      <td>5</td>\n",
       "    </tr>\n",
       "    <tr>\n",
       "      <th>5</th>\n",
       "      <td>5</td>\n",
       "      <td>2223</td>\n",
       "      <td>0.131354</td>\n",
       "      <td>292.0</td>\n",
       "      <td>4975.0</td>\n",
       "      <td>0.053043</td>\n",
       "      <td>0.903724</td>\n",
       "      <td>1931.0</td>\n",
       "      <td>8359.0</td>\n",
       "      <td>0.115504</td>\n",
       "      <td>0.500000</td>\n",
       "      <td>0.4037</td>\n",
       "      <td>0.247716</td>\n",
       "      <td>0.530260</td>\n",
       "      <td>6</td>\n",
       "    </tr>\n",
       "    <tr>\n",
       "      <th>6</th>\n",
       "      <td>4</td>\n",
       "      <td>2222</td>\n",
       "      <td>0.104860</td>\n",
       "      <td>233.0</td>\n",
       "      <td>5208.0</td>\n",
       "      <td>0.042325</td>\n",
       "      <td>0.946049</td>\n",
       "      <td>1989.0</td>\n",
       "      <td>10348.0</td>\n",
       "      <td>0.118974</td>\n",
       "      <td>0.618974</td>\n",
       "      <td>0.3271</td>\n",
       "      <td>0.247716</td>\n",
       "      <td>0.423309</td>\n",
       "      <td>7</td>\n",
       "    </tr>\n",
       "    <tr>\n",
       "      <th>7</th>\n",
       "      <td>3</td>\n",
       "      <td>2222</td>\n",
       "      <td>0.081458</td>\n",
       "      <td>181.0</td>\n",
       "      <td>5389.0</td>\n",
       "      <td>0.032879</td>\n",
       "      <td>0.978928</td>\n",
       "      <td>2041.0</td>\n",
       "      <td>12389.0</td>\n",
       "      <td>0.122084</td>\n",
       "      <td>0.741058</td>\n",
       "      <td>0.2379</td>\n",
       "      <td>0.247716</td>\n",
       "      <td>0.328836</td>\n",
       "      <td>8</td>\n",
       "    </tr>\n",
       "    <tr>\n",
       "      <th>8</th>\n",
       "      <td>2</td>\n",
       "      <td>2222</td>\n",
       "      <td>0.039604</td>\n",
       "      <td>88.0</td>\n",
       "      <td>5477.0</td>\n",
       "      <td>0.015985</td>\n",
       "      <td>0.994914</td>\n",
       "      <td>2134.0</td>\n",
       "      <td>14523.0</td>\n",
       "      <td>0.127647</td>\n",
       "      <td>0.868704</td>\n",
       "      <td>0.1262</td>\n",
       "      <td>0.247716</td>\n",
       "      <td>0.159876</td>\n",
       "      <td>9</td>\n",
       "    </tr>\n",
       "    <tr>\n",
       "      <th>9</th>\n",
       "      <td>1</td>\n",
       "      <td>2223</td>\n",
       "      <td>0.012596</td>\n",
       "      <td>28.0</td>\n",
       "      <td>5505.0</td>\n",
       "      <td>0.005086</td>\n",
       "      <td>1.000000</td>\n",
       "      <td>2195.0</td>\n",
       "      <td>16718.0</td>\n",
       "      <td>0.131296</td>\n",
       "      <td>1.000000</td>\n",
       "      <td>0.0000</td>\n",
       "      <td>0.247716</td>\n",
       "      <td>0.050847</td>\n",
       "      <td>10</td>\n",
       "    </tr>\n",
       "  </tbody>\n",
       "</table>\n",
       "</div>"
      ],
      "text/plain": [
       "   P_Rank_gbm  count  Actual_event_rate  N_events  cum_events  event_cap  \\\n",
       "0          10   2223           0.804768    1789.0      1789.0   0.324977   \n",
       "1           9   2222           0.528803    1175.0      2964.0   0.213442   \n",
       "2           8   2222           0.341584     759.0      3723.0   0.137875   \n",
       "3           7   2222           0.248875     553.0      4276.0   0.100454   \n",
       "4           6   2222           0.183168     407.0      4683.0   0.073933   \n",
       "5           5   2223           0.131354     292.0      4975.0   0.053043   \n",
       "6           4   2222           0.104860     233.0      5208.0   0.042325   \n",
       "7           3   2222           0.081458     181.0      5389.0   0.032879   \n",
       "8           2   2222           0.039604      88.0      5477.0   0.015985   \n",
       "9           1   2223           0.012596      28.0      5505.0   0.005086   \n",
       "\n",
       "   cum_event_cap  N_non_events  cum_non_events  non_event_cap  \\\n",
       "0       0.324977         434.0           434.0       0.025960   \n",
       "1       0.538420        1047.0          1481.0       0.062627   \n",
       "2       0.676294        1463.0          2944.0       0.087510   \n",
       "3       0.776748        1669.0          4613.0       0.099833   \n",
       "4       0.850681        1815.0          6428.0       0.108566   \n",
       "5       0.903724        1931.0          8359.0       0.115504   \n",
       "6       0.946049        1989.0         10348.0       0.118974   \n",
       "7       0.978928        2041.0         12389.0       0.122084   \n",
       "8       0.994914        2134.0         14523.0       0.127647   \n",
       "9       1.000000        2195.0         16718.0       0.131296   \n",
       "\n",
       "   cum_non_event_cap      KS  Baseline_Event_Rate  Lift_over_Avg  Decile  \n",
       "0           0.025960  0.2990             0.247716       3.248750       1  \n",
       "1           0.088587  0.4498             0.247716       2.134711       2  \n",
       "2           0.176098  0.5002             0.247716       1.378933       3  \n",
       "3           0.275930  0.5008             0.247716       1.004677       4  \n",
       "4           0.384496  0.4662             0.247716       0.739428       5  \n",
       "5           0.500000  0.4037             0.247716       0.530260       6  \n",
       "6           0.618974  0.3271             0.247716       0.423309       7  \n",
       "7           0.741058  0.2379             0.247716       0.328836       8  \n",
       "8           0.868704  0.1262             0.247716       0.159876       9  \n",
       "9           1.000000  0.0000             0.247716       0.050847      10  "
      ]
     },
     "execution_count": 77,
     "metadata": {},
     "output_type": "execute_result"
    }
   ],
   "source": [
    "rank_df=rank_df.reset_index()\n",
    "rank_df['Decile']=rank_df.index+1\n",
    "rank_df"
   ]
  },
  {
   "cell_type": "markdown",
   "metadata": {},
   "source": [
    "# Visualizing the performance of Model Probabilties across Deciles"
   ]
  },
  {
   "cell_type": "markdown",
   "metadata": {},
   "source": [
    "# Step 8 - Create the Rank Ordering Chart"
   ]
  },
  {
   "cell_type": "code",
   "execution_count": 78,
   "metadata": {},
   "outputs": [
    {
     "data": {
      "text/plain": [
       "<matplotlib.legend.Legend at 0x1f25b87ed50>"
      ]
     },
     "execution_count": 78,
     "metadata": {},
     "output_type": "execute_result"
    },
    {
     "data": {
      "image/png": "[encoded data removed]",
      "text/plain": [
       "<Figure size 640x480 with 1 Axes>"
      ]
     },
     "metadata": {},
     "output_type": "display_data"
    }
   ],
   "source": [
    "ax = sns.lineplot(x=\"Decile\", y=\"Actual_event_rate\", data=rank_df,color='green').set_title('Rank Ordering Chart')\n",
    "ax = sns.scatterplot( x=\"Decile\", y=\"Baseline_Event_Rate\", data=rank_df,color='red')\n",
    "ax.legend(['Actual_event_rate', 'Baseline_Event_Rate'])"
   ]
  },
  {
   "cell_type": "markdown",
   "metadata": {},
   "source": [
    "# Step 9 - Create the Lift Chart"
   ]
  },
  {
   "cell_type": "code",
   "execution_count": 79,
   "metadata": {},
   "outputs": [
    {
     "data": {
      "image/png": "[encoded data removed]",
      "text/plain": [
       "<Figure size 640x480 with 1 Axes>"
      ]
     },
     "metadata": {},
     "output_type": "display_data"
    }
   ],
   "source": [
    "ax = sns.barplot( x=\"Decile\", y=\"Lift_over_Avg\", data=rank_df,color='blue').set_title('Lift Chart')"
   ]
  },
  {
   "cell_type": "markdown",
   "metadata": {},
   "source": [
    "# Step 10 - Create the Gains Chart / Lorenz Curve"
   ]
  },
  {
   "cell_type": "code",
   "execution_count": 80,
   "metadata": {},
   "outputs": [
    {
     "data": {
      "text/plain": [
       "<matplotlib.legend.Legend at 0x1f25ba84f10>"
      ]
     },
     "execution_count": 80,
     "metadata": {},
     "output_type": "execute_result"
    },
    {
     "data": {
      "image/png": "[encoded data removed]",
      "text/plain": [
       "<Figure size 640x480 with 1 Axes>"
      ]
     },
     "metadata": {},
     "output_type": "display_data"
    }
   ],
   "source": [
    "ax = sns.lineplot( x=\"Decile\", y=\"cum_event_cap\", data=rank_df,color='red').set_title('Rank Ordering Chart')\n",
    "ax = sns.lineplot( x=\"Decile\", y=\"cum_non_event_cap\", data=rank_df,color='green')\n",
    "ax.legend(['cum_event_cap', 'cum_non_event_cap'])"
   ]
  },
  {
   "cell_type": "markdown",
   "metadata": {},
   "source": [
    "# Is our Model able to Maximise Event/Non-Event Discrimination by the Top 3 deciles?"
   ]
  },
  {
   "cell_type": "code",
   "execution_count": 81,
   "metadata": {},
   "outputs": [
    {
     "data": {
      "text/plain": [
       "<matplotlib.legend.Legend at 0x1f25baf1650>"
      ]
     },
     "execution_count": 81,
     "metadata": {},
     "output_type": "execute_result"
    },
    {
     "data": {
      "image/png": "[encoded data removed]",
      "text/plain": [
       "<Figure size 640x480 with 1 Axes>"
      ]
     },
     "metadata": {},
     "output_type": "display_data"
    }
   ],
   "source": [
    "ax = sns.barplot( x=\"Decile\", y=\"KS\", data=rank_df,color='brown')\n",
    "ax.legend(['KS'])"
   ]
  },
  {
   "cell_type": "markdown",
   "metadata": {},
   "source": [
    "# Utlize APT framework to build a Machine Learning Driven Strategy"
   ]
  },
  {
   "cell_type": "markdown",
   "metadata": {},
   "source": [
    "# A - Audience (Who do we target?)"
   ]
  },
  {
   "cell_type": "code",
   "execution_count": 82,
   "metadata": {},
   "outputs": [
    {
     "data": {
      "text/plain": [
       "Predicted_Resp_Rank\n",
       "Bottom7    15556\n",
       "Top3        6667\n",
       "Name: count, dtype: int64"
      ]
     },
     "execution_count": 82,
     "metadata": {},
     "output_type": "execute_result"
    }
   ],
   "source": [
    "df['Predicted_Resp_Rank']=np.where(df['P_Rank_gbm']<8,\"Bottom7\",\"Top3\")\n",
    "df['Predicted_Resp_Rank'].value_counts()"
   ]
  },
  {
   "cell_type": "code",
   "execution_count": 83,
   "metadata": {},
   "outputs": [
    {
     "data": {
      "text/plain": [
       "(6667, 14)"
      ]
     },
     "execution_count": 83,
     "metadata": {},
     "output_type": "execute_result"
    }
   ],
   "source": [
    "df_top3=df.loc[df['Predicted_Resp_Rank']==\"Top3\",:]\n",
    "df_top3.shape"
   ]
  },
  {
   "cell_type": "markdown",
   "metadata": {},
   "source": [
    "# P - Prioritization (Based on Business Value and Customer Engagement)"
   ]
  },
  {
   "cell_type": "code",
   "execution_count": 84,
   "metadata": {
    "scrolled": true
   },
   "outputs": [
    {
     "data": {
      "text/plain": [
       "spend_level\n",
       "Low Spend     5582\n",
       "High Spend    1085\n",
       "Name: count, dtype: int64"
      ]
     },
     "execution_count": 84,
     "metadata": {},
     "output_type": "execute_result"
    }
   ],
   "source": [
    "df_top3['spend_level']=np.where(df_top3['Total_Spend']<=df_top3['Total_Spend'].quantile(0.80),\"Low Spend\",\"High Spend\")\n",
    "df_top3['spend_level'].value_counts()"
   ]
  },
  {
   "cell_type": "code",
   "execution_count": 85,
   "metadata": {},
   "outputs": [
    {
     "data": {
      "text/plain": [
       "Affluence_level\n",
       "Low Affluence     4446\n",
       "High Affluence    2221\n",
       "Name: count, dtype: int64"
      ]
     },
     "execution_count": 85,
     "metadata": {},
     "output_type": "execute_result"
    }
   ],
   "source": [
    "df_top3['Affluence_level']=np.where(df_top3['Affluence_Grade']>=13,\"High Affluence\",\"Low Affluence\")\n",
    "df_top3['Affluence_level'].value_counts()"
   ]
  },
  {
   "cell_type": "code",
   "execution_count": 86,
   "metadata": {
    "scrolled": true
   },
   "outputs": [
    {
     "data": {
      "text/html": [
       "<div>\n",
       "<style scoped>\n",
       "    .dataframe tbody tr th:only-of-type {\n",
       "        vertical-align: middle;\n",
       "    }\n",
       "\n",
       "    .dataframe tbody tr th {\n",
       "        vertical-align: top;\n",
       "    }\n",
       "\n",
       "    .dataframe thead th {\n",
       "        text-align: right;\n",
       "    }\n",
       "</style>\n",
       "<table border=\"1\" class=\"dataframe\">\n",
       "  <thead>\n",
       "    <tr style=\"text-align: right;\">\n",
       "      <th>Affluence_level</th>\n",
       "      <th>High Affluence</th>\n",
       "      <th>Low Affluence</th>\n",
       "    </tr>\n",
       "    <tr>\n",
       "      <th>spend_level</th>\n",
       "      <th></th>\n",
       "      <th></th>\n",
       "    </tr>\n",
       "  </thead>\n",
       "  <tbody>\n",
       "    <tr>\n",
       "      <th>High Spend</th>\n",
       "      <td>0.554552</td>\n",
       "      <td>0.459187</td>\n",
       "    </tr>\n",
       "    <tr>\n",
       "      <th>Low Spend</th>\n",
       "      <td>0.655429</td>\n",
       "      <td>0.497102</td>\n",
       "    </tr>\n",
       "  </tbody>\n",
       "</table>\n",
       "</div>"
      ],
      "text/plain": [
       "Affluence_level  High Affluence  Low Affluence\n",
       "spend_level                                   \n",
       "High Spend             0.554552       0.459187\n",
       "Low Spend              0.655429       0.497102"
      ]
     },
     "execution_count": 86,
     "metadata": {},
     "output_type": "execute_result"
    }
   ],
   "source": [
    "pd.crosstab(index=df_top3['spend_level'], columns=df_top3['Affluence_level'],values=df_top3['pred_prob'],aggfunc='mean')"
   ]
  },
  {
   "cell_type": "code",
   "execution_count": 87,
   "metadata": {},
   "outputs": [
    {
     "data": {
      "text/html": [
       "<div>\n",
       "<style scoped>\n",
       "    .dataframe tbody tr th:only-of-type {\n",
       "        vertical-align: middle;\n",
       "    }\n",
       "\n",
       "    .dataframe tbody tr th {\n",
       "        vertical-align: top;\n",
       "    }\n",
       "\n",
       "    .dataframe thead th {\n",
       "        text-align: right;\n",
       "    }\n",
       "</style>\n",
       "<table border=\"1\" class=\"dataframe\">\n",
       "  <thead>\n",
       "    <tr style=\"text-align: right;\">\n",
       "      <th>Affluence_level</th>\n",
       "      <th>High Affluence</th>\n",
       "      <th>Low Affluence</th>\n",
       "    </tr>\n",
       "    <tr>\n",
       "      <th>spend_level</th>\n",
       "      <th></th>\n",
       "      <th></th>\n",
       "    </tr>\n",
       "  </thead>\n",
       "  <tbody>\n",
       "    <tr>\n",
       "      <th>High Spend</th>\n",
       "      <td>449</td>\n",
       "      <td>636</td>\n",
       "    </tr>\n",
       "    <tr>\n",
       "      <th>Low Spend</th>\n",
       "      <td>1772</td>\n",
       "      <td>3810</td>\n",
       "    </tr>\n",
       "  </tbody>\n",
       "</table>\n",
       "</div>"
      ],
      "text/plain": [
       "Affluence_level  High Affluence  Low Affluence\n",
       "spend_level                                   \n",
       "High Spend                  449            636\n",
       "Low Spend                  1772           3810"
      ]
     },
     "execution_count": 87,
     "metadata": {},
     "output_type": "execute_result"
    }
   ],
   "source": [
    "pd.crosstab(index=df_top3['spend_level'], columns=df_top3['Affluence_level'],values=df_top3['pred_prob'],aggfunc='count')"
   ]
  },
  {
   "cell_type": "code",
   "execution_count": 88,
   "metadata": {},
   "outputs": [
    {
     "data": {
      "text/plain": [
       "(1772, 16)"
      ]
     },
     "execution_count": 88,
     "metadata": {},
     "output_type": "execute_result"
    }
   ],
   "source": [
    "df_priority_1=df_top3.loc[(df_top3['spend_level']=='Low Spend') & (df_top3['Affluence_level']=='High Affluence'),:]\n",
    "df_priority_1.shape"
   ]
  },
  {
   "cell_type": "code",
   "execution_count": 89,
   "metadata": {},
   "outputs": [
    {
     "data": {
      "text/plain": [
       "(449, 16)"
      ]
     },
     "execution_count": 89,
     "metadata": {},
     "output_type": "execute_result"
    }
   ],
   "source": [
    "df_priority_2=df_top3.loc[(df_top3['spend_level']=='High Spend') & (df_top3['Affluence_level']=='High Affluence'),:]\n",
    "df_priority_2.shape"
   ]
  },
  {
   "cell_type": "code",
   "execution_count": 90,
   "metadata": {},
   "outputs": [
    {
     "data": {
      "text/plain": [
       "(3810, 16)"
      ]
     },
     "execution_count": 90,
     "metadata": {},
     "output_type": "execute_result"
    }
   ],
   "source": [
    "df_priority_3=df_top3.loc[(df_top3['spend_level']=='Low Spend') & (df_top3['Affluence_level']=='Low Affluence'),:]\n",
    "df_priority_3.shape"
   ]
  },
  {
   "cell_type": "code",
   "execution_count": 91,
   "metadata": {},
   "outputs": [
    {
     "data": {
      "text/plain": [
       "(636, 16)"
      ]
     },
     "execution_count": 91,
     "metadata": {},
     "output_type": "execute_result"
    }
   ],
   "source": [
    "df_priority_4=df_top3.loc[(df_top3['spend_level']=='High Spend') & (df_top3['Affluence_level']=='Low Affluence'),:]\n",
    "df_priority_4.shape"
   ]
  },
  {
   "cell_type": "markdown",
   "metadata": {},
   "source": [
    "# Project Report and Actionable Insights"
   ]
  },
  {
   "cell_type": "markdown",
   "metadata": {},
   "source": [
    "# Objective of the Project\n",
    "Predict Loyalty towards Organic Products  for enabling Supermarket to design the next Marketing Campaign"
   ]
  },
  {
   "cell_type": "markdown",
   "metadata": {},
   "source": [
    "# Baseline Event Rate\n",
    "The Response Rate from the data is 25%"
   ]
  },
  {
   "cell_type": "markdown",
   "metadata": {},
   "source": [
    "# Algorithms Used :\n",
    "In this project we have used Decision Trees, Random Forests and Gradient Boosting Algorithms"
   ]
  },
  {
   "cell_type": "markdown",
   "metadata": {},
   "source": [
    "# Final Model Algorithm\n",
    "\n",
    "Among the models that we tried building the GBM Algorithm performed the best in terms of F1_Score, Area under ROC Curve and Overall Model Gini\n",
    "\n",
    "Therefore we have kept GBM as the final model algorithm"
   ]
  },
  {
   "cell_type": "markdown",
   "metadata": {},
   "source": [
    "# Grid Search CV parameters\n",
    "Maximum Depth of Tree - 5\n",
    "\n",
    "Minimum Sample Size for Nodes to be Split - 1000 Observations"
   ]
  },
  {
   "cell_type": "markdown",
   "metadata": {},
   "source": [
    "# Model Performance Measures\n",
    "\n",
    "Accuracy - 0.80\n",
    "\n",
    "Precision - 0.64\n",
    "\n",
    "Recall - 0.42\n",
    "\n",
    "F1 Score - 0.51\n",
    "\n",
    "AUC - 0.67\n",
    "\n",
    "Gini - 0.34          "
   ]
  },
  {
   "cell_type": "markdown",
   "metadata": {},
   "source": [
    "# Model Probability Discrimination Measures\n",
    "Steady Event Rate Rank Ordering (Yes/No) - Yes\n",
    "\n",
    "Rank Ordering Reverals in Top 3 Deciles (Yes/No) - No\n",
    "\n",
    "lift over  baseline event rate in the Top Decile - 3.14\n",
    "\n",
    "Cumulative Event Capture in the Top 3 Deciles - 67%\n",
    "\n",
    "Maximum KS Statistic Value - 0.49\n",
    "\n",
    "Does KS Statistic Maximize within Top 3 Deciles (Yes/No) - Yes\n"
   ]
  },
  {
   "cell_type": "markdown",
   "metadata": {},
   "source": [
    "# Top 10 drivers from the Model\n",
    "\n",
    "Age\n",
    "\n",
    "High_Affluence_Ind\n",
    "\n",
    "Total_Spend\n",
    "\n",
    "Gender_U\n",
    "\n",
    "Neigborhood_Cluster-55_Level\n",
    "\n",
    "Gender_M\n",
    "\n",
    "Loyalty_Card_Tenure\n",
    "\n",
    "Neighborhood_Cluster-7_Level_B\n",
    "\n",
    "Neighborhood_Cluster-7_Level_E\n",
    "\n",
    "Neighborhood_Cluster-7_Level_U\n"
   ]
  },
  {
   "attachments": {
    "APTFRA~1.PNG": {
     "image/png": "[encoded data removed]"
    }
   },
   "cell_type": "markdown",
   "metadata": {},
   "source": [
    "# Deploying the APT Strategy \n",
    "![APTFRA~1.PNG](attachment:APTFRA~1.PNG)\n"
   ]
  }
 ],
 "metadata": {
  "kernelspec": {
   "display_name": "Python 3 (ipykernel)",
   "language": "python",
   "name": "python3"
  },
  "language_info": {
   "codemirror_mode": {
    "name": "ipython",
    "version": 3
   },
   "file_extension": ".py",
   "mimetype": "text/x-python",
   "name": "python",
   "nbconvert_exporter": "python",
   "pygments_lexer": "ipython3",
   "version": "3.11.7"
  }
 },
 "nbformat": 4,
 "nbformat_minor": 4
}
