{
 "cells": [
  {
   "cell_type": "code",
   "execution_count": 1,
   "id": "95b8b357-5bfc-4efe-93ff-98cccdae16f4",
   "metadata": {},
   "outputs": [],
   "source": [
    "import numpy as np\n",
    "import pandas as pd\n",
    "from sklearn.base import BaseEstimator, TransformerMixin\n",
    "from sklearn.impute import SimpleImputer\n",
    "from sklearn.pipeline import Pipeline\n",
    "from sklearn.preprocessing import StandardScaler, LabelEncoder"
   ]
  },
  {
   "cell_type": "code",
   "execution_count": 2,
   "id": "eca61677-c6a4-4d3c-aaa2-9669a7d1b74d",
   "metadata": {},
   "outputs": [],
   "source": [
    "df = pd.read_csv('../../Data/loan.csv', low_memory = False)"
   ]
  },
  {
   "cell_type": "code",
   "execution_count": 4,
   "id": "9ac3f4c5-84c4-4a21-b1d6-8401d92ac2bb",
   "metadata": {},
   "outputs": [],
   "source": [
    "df['target'] = np.where(df['loan_status'].isin(['Default','Charged Off','Does not meet the credit policy. Status:Charged Off']),1,0)\n",
    "df.drop(['loan_status'], axis = 1, inplace = True)\n",
    "df2 = df.copy()"
   ]
  },
  {
   "cell_type": "code",
   "execution_count": 5,
   "id": "026cd603-1fc8-4c9f-b149-43282c2b86b2",
   "metadata": {},
   "outputs": [],
   "source": [
    "X = df2.drop(['target'], axis = 1)\n",
    "y = df2['target']"
   ]
  },
  {
   "cell_type": "code",
   "execution_count": 7,
   "id": "245cc2f9-3671-4e05-9e37-db474a55e289",
   "metadata": {},
   "outputs": [],
   "source": [
    "from sklearn.model_selection import train_test_split\n",
    "X_train, X_test, y_train, y_test = train_test_split(X, y, test_size=0.2, stratify = y, random_state=42)"
   ]
  },
  {
   "cell_type": "code",
   "execution_count": 8,
   "id": "8b39a5de-24b6-47fd-95ab-f620f6c90392",
   "metadata": {},
   "outputs": [],
   "source": [
    "class DropNullFeatures(BaseEstimator, TransformerMixin):\n",
    "    def __init__(self):\n",
    "        pass\n",
    "    def fit(self,df):\n",
    "        return self\n",
    "    def transform(self,df):\n",
    "        for col in df.columns:\n",
    "            if df[col].isnull().mean() > 0.3:\n",
    "                df.drop([col], axis = 1, inplace = True)\n",
    "        print(\"Null features dropped\")\n",
    "        return df"
   ]
  },
  {
   "cell_type": "code",
   "execution_count": 9,
   "id": "af0057e3-ff18-4317-80fb-35bbe682bbb1",
   "metadata": {},
   "outputs": [],
   "source": [
    "class DropFeatures(BaseEstimator,TransformerMixin):\n",
    "    def __init__(self,feature_to_drop = ['id','member_id','url','zip_code','emp_title','issue_d','addr_state','title','policy_code', \n",
    "                                        'total_rec_late_fee', 'recoveries', 'collection_recovery_fee', 'collections_12_mths_ex_med',\n",
    "                                        'acc_now_delinq', 'last_pymnt_d', 'next_pymnt_d', 'last_credit_pull_d', 'emp_length', 'earliest_cr_line']):\n",
    "        self.feature_to_drop = feature_to_drop\n",
    "    def fit(self,df):\n",
    "        return self\n",
    "    def transform(self,df):\n",
    "        if (set(self.feature_to_drop).issubset(df.columns)):\n",
    "            df.drop(self.feature_to_drop,axis=1,inplace=True)\n",
    "            print(\"Irrelevant features dropped\")\n",
    "            return df\n",
    "        else:\n",
    "            print(\"One or more features are not in the dataframe 1\")\n",
    "            return df"
   ]
  },
  {
   "cell_type": "code",
   "execution_count": 10,
   "id": "647e49c6-4019-4815-8898-85060aeb293b",
   "metadata": {},
   "outputs": [],
   "source": [
    "class OutlierRemover(BaseEstimator, TransformerMixin):\n",
    "    def __init__(self,feat_with_outliers = ['int_rate', 'installment', 'annual_inc', 'dti', 'delinq_2yrs', 'inq_last_6mths', 'open_acc',\n",
    "                                           'pub_rec', 'revol_bal', 'revol_util', 'total_acc', 'out_prncp', 'out_prncp_inv', 'total_pymnt',\n",
    "                                           'total_pymnt_inv', 'total_rec_prncp', 'total_rec_int', 'last_pymnt_amnt', 'tot_coll_amt', \n",
    "                                            'tot_cur_bal', 'total_rev_hi_lim']):\n",
    "        self.feat_with_outliers = feat_with_outliers\n",
    "    def fit(self,df):\n",
    "        return self\n",
    "    def transform(self,df):\n",
    "        if (set(self.feat_with_outliers).issubset(df.columns)):\n",
    "            # 25% quantile\n",
    "            Q1 = df[self.feat_with_outliers].quantile(.25)\n",
    "            # 75% quantile\n",
    "            Q3 = df[self.feat_with_outliers].quantile(.75)\n",
    "            IQR = Q3 - Q1\n",
    "            # keep the data within 3 IQR\n",
    "            df = df[~((df[self.feat_with_outliers] < (Q1 - 3 * IQR)) |(df[self.feat_with_outliers] > (Q3 + 3 * IQR))).any(axis=1)]\n",
    "            print(\"Outliers removed\")\n",
    "            return df\n",
    "        else:\n",
    "            print(\"One or more features are not in the dataframe 2\")\n",
    "            print(df.columns)\n",
    "            return df"
   ]
  },
  {
   "cell_type": "code",
   "execution_count": 11,
   "id": "3976deba-2334-45d3-9777-4f08842ee618",
   "metadata": {},
   "outputs": [],
   "source": [
    "class SkewnessHandler(BaseEstimator, TransformerMixin):\n",
    "    def __init__(self,feat_with_skewness= ['annual_inc', 'dti', 'delinq_2yrs', 'inq_last_6mths', 'open_acc',\n",
    "                                           'pub_rec', 'revol_bal', 'revol_util', 'total_acc', 'out_prncp', 'out_prncp_inv', 'total_pymnt',\n",
    "                                           'total_pymnt_inv', 'total_rec_prncp', 'total_rec_int', 'last_pymnt_amnt', 'tot_coll_amt', \n",
    "                                            'tot_cur_bal', 'total_rev_hi_lim']):\n",
    "        self.feat_with_skewness = feat_with_skewness\n",
    "    def fit(self,df):\n",
    "        return self\n",
    "    def transform(self,df):\n",
    "        if (set(self.feat_with_skewness).issubset(df.columns)):\n",
    "            # Handle skewness with cubic root transformation\n",
    "            df[self.feat_with_skewness] = np.cbrt(df[self.feat_with_skewness])\n",
    "            print(\"Skewness handled\")\n",
    "            return df\n",
    "        else:\n",
    "            print(\"One or more features are not in the dataframe 3\")\n",
    "            print(df.columns)\n",
    "            return df"
   ]
  },
  {
   "cell_type": "code",
   "execution_count": 12,
   "id": "ea3c3694-0f1e-45e4-92d9-c672a8253371",
   "metadata": {},
   "outputs": [],
   "source": [
    "class CustomLabelEncoder(BaseEstimator, TransformerMixin):\n",
    "    def __init__(self, columns = ['term', 'grade', 'sub_grade', 'home_ownership', 'verification_status', 'pymnt_plan', 'purpose', \n",
    "                                 'initial_list_status', 'application_type']):\n",
    "        self.columns = columns\n",
    "        self.encoders = {}\n",
    "    def fit(self, df, y=None):\n",
    "        for col in self.columns:\n",
    "            le = LabelEncoder()\n",
    "            le.fit(df[col])\n",
    "            self.encoders[col] = le\n",
    "        return self\n",
    "    def transform(self, df):\n",
    "        df_copy = df.copy()\n",
    "        for col, encoder in self.encoders.items():\n",
    "            df_copy[col] = encoder.transform(df[col])\n",
    "        print(\"Lable encoding done\")\n",
    "        return df_copy"
   ]
  },
  {
   "cell_type": "code",
   "execution_count": 13,
   "id": "92b614ef-b602-4b7f-b644-4faa0ce7b00c",
   "metadata": {},
   "outputs": [],
   "source": [
    "class CustomStandardScaler(BaseEstimator, TransformerMixin):\n",
    "    def __init__(self, columns = ['int_rate', 'installment', 'annual_inc', 'dti', 'delinq_2yrs', 'inq_last_6mths', 'open_acc', 'pub_rec', \n",
    "                                  'revol_bal', 'revol_util', 'total_acc', 'out_prncp', 'out_prncp_inv', 'total_pymnt', 'total_pymnt_inv', \n",
    "                                  'total_rec_prncp', 'total_rec_int', 'last_pymnt_amnt', 'tot_coll_amt', 'tot_cur_bal', 'total_rev_hi_lim']):\n",
    "        self.columns = columns\n",
    "        self.scalers = {}\n",
    "\n",
    "    def fit(self, df, y=None):\n",
    "        for col in self.columns:\n",
    "            scaler = StandardScaler()\n",
    "            scaler.fit(df[[col]])\n",
    "            self.scalers[col] = scaler\n",
    "        return self\n",
    "\n",
    "    def transform(self, df):\n",
    "        df_copy = df.copy()\n",
    "        for col, scaler in self.scalers.items():\n",
    "            df_copy[col] = scaler.transform(df[[col]])\n",
    "        print(\"Scaling done\")\n",
    "        return df_copy"
   ]
  },
  {
   "cell_type": "code",
   "execution_count": 14,
   "id": "e359383e-560f-4444-a2f5-9c8043f290a7",
   "metadata": {},
   "outputs": [],
   "source": [
    "class CustomImputer(BaseEstimator, TransformerMixin):\n",
    "    def __init__(self, columns = ['loan_amnt', 'funded_amnt', 'funded_amnt_inv', 'int_rate', 'installment', 'annual_inc', 'dti', 'delinq_2yrs', 'inq_last_6mths', 'open_acc', 'pub_rec', \n",
    "                                  'revol_bal', 'revol_util', 'total_acc', 'out_prncp', 'out_prncp_inv', 'total_pymnt', 'total_pymnt_inv', \n",
    "                                  'total_rec_prncp', 'total_rec_int', 'last_pymnt_amnt', 'tot_coll_amt', 'tot_cur_bal', 'total_rev_hi_lim']):\n",
    "        self.columns = columns\n",
    "        self.imputers = {}\n",
    "        \n",
    "    def fit(self, df, y=None):\n",
    "        for col in self.columns:\n",
    "            imputer = SimpleImputer()\n",
    "            imputer.fit(df[[col]])\n",
    "            self.imputers[col] = imputer\n",
    "        return self\n",
    "\n",
    "    def transform(self, df):\n",
    "        df_copy = df.copy()\n",
    "        for col, imputer in self.imputers.items():\n",
    "            df_copy[col] = imputer.transform(df[[col]])\n",
    "        print(\"Imuting done\")\n",
    "        return df_copy"
   ]
  },
  {
   "cell_type": "code",
   "execution_count": 15,
   "id": "18b8b506-788a-4aae-88a2-d8347257ce57",
   "metadata": {},
   "outputs": [],
   "source": [
    "from imblearn.over_sampling import ADASYN\n",
    "class ADASYNTransformer(BaseEstimator, TransformerMixin):\n",
    "    def __init__(self, target_column, random_state=None):\n",
    "        self.target_column = target_column\n",
    "        self.random_state = 87\n",
    "        self.adasyn = ADASYN(random_state=random_state)\n",
    "        \n",
    "    def fit(self, X, y=None):\n",
    "        # Determine the class to resample\n",
    "        self.classes_, self.class_counts_ = np.unique(X[self.target_column], return_counts=True)\n",
    "        self.class_to_resample_ = self.classes_[np.argmin(self.class_counts_)]\n",
    "        return self\n",
    "    \n",
    "    def transform(self, X, y=None):\n",
    "        # Extract features and target variable\n",
    "        features = X.drop(columns=[self.target_column])\n",
    "        target = X[self.target_column]\n",
    "        \n",
    "        # Apply ADASYN\n",
    "        X_resampled, y_resampled = self.adasyn.fit_resample(features, target)\n",
    "        \n",
    "        # Combine resampled features and target into a DataFrame\n",
    "        df_resampled = pd.DataFrame(X_resampled, columns=features.columns)\n",
    "        df_resampled[self.target_column] = y_resampled\n",
    "        print(\"Adaptive Synthetic Sampling done\")\n",
    "        return df_resampled\n"
   ]
  },
  {
   "cell_type": "code",
   "execution_count": 20,
   "id": "b55baed5-0fc1-4c39-8398-a9bb2deea83d",
   "metadata": {},
   "outputs": [],
   "source": [
    "def full_pipeline_1(df):\n",
    "    pipeline = Pipeline([\n",
    "        ('drop_null_features', DropNullFeatures()),\n",
    "        ('drop_features', DropFeatures()),\n",
    "        ('missing_value_imputer', CustomImputer()),\n",
    "        ('outlier_removal', OutlierRemover()),\n",
    "        ('skewness_handler', SkewnessHandler()),\n",
    "        ('label_encoder', CustomLabelEncoder()),\n",
    "        ('standard_scaler', CustomStandardScaler()),\n",
    "        # ('oversample', ADASYNTransformer('target'))\n",
    "    ])\n",
    "    df_train_new = pipeline.fit_transform(df_train)\n",
    "    return df_train_new"
   ]
  },
  {
   "cell_type": "code",
   "execution_count": 21,
   "id": "c924eaad-1424-48c6-8334-93adcd3fef9b",
   "metadata": {},
   "outputs": [],
   "source": [
    "df_train = pd.concat([X_train, y_train], axis = 1)"
   ]
  },
  {
   "cell_type": "code",
   "execution_count": 22,
   "id": "54efdf45-7c94-49b2-8f38-4333c090609f",
   "metadata": {},
   "outputs": [
    {
     "name": "stdout",
     "output_type": "stream",
     "text": [
      "Null features dropped\n",
      "Irrelevant features dropped\n",
      "Imuting done\n",
      "Outliers removed\n",
      "Skewness handled\n",
      "Lable encoding done\n",
      "Scaling done\n"
     ]
    }
   ],
   "source": [
    "data_train = full_pipeline_1(df_train)"
   ]
  },
  {
   "cell_type": "code",
   "execution_count": 23,
   "id": "5de2d1e4-7c57-42f1-b6c3-8a8b3ca89d1c",
   "metadata": {},
   "outputs": [
    {
     "data": {
      "text/plain": [
       "0.058193280183789844"
      ]
     },
     "execution_count": 23,
     "metadata": {},
     "output_type": "execute_result"
    }
   ],
   "source": [
    "data_train.target.mean()"
   ]
  },
  {
   "cell_type": "code",
   "execution_count": 14,
   "id": "6dcf7291-00f8-4524-8082-9a619f5f092a",
   "metadata": {},
   "outputs": [],
   "source": [
    "# def full_pipeline_2(df):\n",
    "#     pipeline = Pipeline([\n",
    "#         ('drop_null_features', DropNullFeatures()),\n",
    "#         ('drop_features', DropFeatures()),\n",
    "#         ('missing_value_imputer', CustomImputer()),\n",
    "#         ('outlier_removal', OutlierRemover()),\n",
    "#         ('skewness_handler', SkewnessHandler()),\n",
    "#         ('label_encoder', CustomLabelEncoder()),\n",
    "#         # ('standard_scaler', CustomStandardScaler())\n",
    "#     ])\n",
    "    \n",
    "#     df_new = pipeline.fit_transform(df)\n",
    "#     return df_new"
   ]
  },
  {
   "cell_type": "code",
   "execution_count": 15,
   "id": "349ea4a1-9dda-4621-ae25-8a750e76155d",
   "metadata": {},
   "outputs": [
    {
     "name": "stdout",
     "output_type": "stream",
     "text": [
      "Null features dropped\n",
      "Irrelevant features dropped\n",
      "Imuting done\n",
      "Outliers removed\n",
      "Skewness handled\n",
      "Lable encoding done\n",
      "Scaling done\n"
     ]
    }
   ],
   "source": [
    "# data_no_outliers = full_pipeline_2(df2)"
   ]
  },
  {
   "cell_type": "code",
   "execution_count": 16,
   "id": "06192039-ccee-4caa-b65f-de521a381038",
   "metadata": {},
   "outputs": [
    {
     "data": {
      "text/plain": [
       "(365825, 34)"
      ]
     },
     "execution_count": 16,
     "metadata": {},
     "output_type": "execute_result"
    }
   ],
   "source": [
    "# data_no_outliers.shape"
   ]
  },
  {
   "cell_type": "code",
   "execution_count": 14,
   "id": "db8fc8ea-ee63-4175-8fd0-dbcc4cce1d6c",
   "metadata": {},
   "outputs": [],
   "source": [
    "# X = data_outliers.drop(['target'], axis = 1)\n",
    "# y = data_outliers['target']\n",
    "# from sklearn.model_selection import train_test_split\n",
    "# X_train, X_test, y_train, y_test = train_test_split(X, y,test_size = 0.2, random_state = 43)"
   ]
  },
  {
   "cell_type": "code",
   "execution_count": 75,
   "id": "858e6798-2a76-45a0-bed6-489440038a48",
   "metadata": {},
   "outputs": [
    {
     "name": "stdout",
     "output_type": "stream",
     "text": [
      "Cross-validation scores: [0.98292285 0.98084837 0.98171771 0.98022894 0.98089307]\n",
      "Mean CV score: 0.9813221906820144\n"
     ]
    }
   ],
   "source": [
    "from sklearn.model_selection import KFold\n",
    "from sklearn.model_selection import cross_val_score\n",
    "from sklearn.ensemble import RandomForestClassifier\n",
    "k = 5\n",
    "rf_classifier = RandomForestClassifier(n_estimators=100, max_depth=10)\n",
    "kf = KFold(n_splits=k, shuffle=True, random_state=42)\n",
    "cv_scores = cross_val_score(rf_classifier, X_train, y_train, cv=kf)\n",
    "print(\"Cross-validation scores:\", cv_scores)\n",
    "print(\"Mean CV score:\", np.mean(cv_scores))"
   ]
  },
  {
   "cell_type": "code",
   "execution_count": 15,
   "id": "453e621b-526d-4b3c-b2a2-3e0f66d1a072",
   "metadata": {},
   "outputs": [],
   "source": [
    "# df_test = pd.concat([X_test, y_test], axis =1)\n",
    "\n",
    "# def balance_subset(df, target_column):\n",
    "#     positive_cases = df[df[target_column] == 1]\n",
    "#     negative_cases = df[df[target_column] == 0]\n",
    "\n",
    "#     num_samples_per_class = min(len(positive_cases), len(negative_cases))\n",
    "\n",
    "#     balanced_subset = pd.concat([\n",
    "#         positive_cases.sample(n=num_samples_per_class, replace=True, random_state=42),\n",
    "#         negative_cases.sample(n=num_samples_per_class, replace=True, random_state=42)\n",
    "#     ])\n",
    "\n",
    "#     return balanced_subset\n",
    "\n",
    "# balanced_subset_df = balance_subset(df_test, 'target')"
   ]
  },
  {
   "cell_type": "code",
   "execution_count": 16,
   "id": "8e5a6934-1d67-4871-8241-a65fb1f8aab3",
   "metadata": {},
   "outputs": [],
   "source": [
    "# balanced_subset_df.shape"
   ]
  },
  {
   "cell_type": "code",
   "execution_count": 17,
   "id": "3adbc0bd-13cf-4987-bdc1-e794467fd5db",
   "metadata": {},
   "outputs": [],
   "source": [
    "# X_balanced = balanced_subset_df.drop(['target'], axis = 1)\n",
    "# y_balanced = balanced_subset_df['target']"
   ]
  },
  {
   "cell_type": "code",
   "execution_count": 24,
   "id": "04235abc-5285-4cef-9d20-f81b053f4309",
   "metadata": {},
   "outputs": [
    {
     "data": {
      "text/html": [
       "<style>#sk-container-id-1 {\n",
       "  /* Definition of color scheme common for light and dark mode */\n",
       "  --sklearn-color-text: black;\n",
       "  --sklearn-color-line: gray;\n",
       "  /* Definition of color scheme for unfitted estimators */\n",
       "  --sklearn-color-unfitted-level-0: #fff5e6;\n",
       "  --sklearn-color-unfitted-level-1: #f6e4d2;\n",
       "  --sklearn-color-unfitted-level-2: #ffe0b3;\n",
       "  --sklearn-color-unfitted-level-3: chocolate;\n",
       "  /* Definition of color scheme for fitted estimators */\n",
       "  --sklearn-color-fitted-level-0: #f0f8ff;\n",
       "  --sklearn-color-fitted-level-1: #d4ebff;\n",
       "  --sklearn-color-fitted-level-2: #b3dbfd;\n",
       "  --sklearn-color-fitted-level-3: cornflowerblue;\n",
       "\n",
       "  /* Specific color for light theme */\n",
       "  --sklearn-color-text-on-default-background: var(--sg-text-color, var(--theme-code-foreground, var(--jp-content-font-color1, black)));\n",
       "  --sklearn-color-background: var(--sg-background-color, var(--theme-background, var(--jp-layout-color0, white)));\n",
       "  --sklearn-color-border-box: var(--sg-text-color, var(--theme-code-foreground, var(--jp-content-font-color1, black)));\n",
       "  --sklearn-color-icon: #696969;\n",
       "\n",
       "  @media (prefers-color-scheme: dark) {\n",
       "    /* Redefinition of color scheme for dark theme */\n",
       "    --sklearn-color-text-on-default-background: var(--sg-text-color, var(--theme-code-foreground, var(--jp-content-font-color1, white)));\n",
       "    --sklearn-color-background: var(--sg-background-color, var(--theme-background, var(--jp-layout-color0, #111)));\n",
       "    --sklearn-color-border-box: var(--sg-text-color, var(--theme-code-foreground, var(--jp-content-font-color1, white)));\n",
       "    --sklearn-color-icon: #878787;\n",
       "  }\n",
       "}\n",
       "\n",
       "#sk-container-id-1 {\n",
       "  color: var(--sklearn-color-text);\n",
       "}\n",
       "\n",
       "#sk-container-id-1 pre {\n",
       "  padding: 0;\n",
       "}\n",
       "\n",
       "#sk-container-id-1 input.sk-hidden--visually {\n",
       "  border: 0;\n",
       "  clip: rect(1px 1px 1px 1px);\n",
       "  clip: rect(1px, 1px, 1px, 1px);\n",
       "  height: 1px;\n",
       "  margin: -1px;\n",
       "  overflow: hidden;\n",
       "  padding: 0;\n",
       "  position: absolute;\n",
       "  width: 1px;\n",
       "}\n",
       "\n",
       "#sk-container-id-1 div.sk-dashed-wrapped {\n",
       "  border: 1px dashed var(--sklearn-color-line);\n",
       "  margin: 0 0.4em 0.5em 0.4em;\n",
       "  box-sizing: border-box;\n",
       "  padding-bottom: 0.4em;\n",
       "  background-color: var(--sklearn-color-background);\n",
       "}\n",
       "\n",
       "#sk-container-id-1 div.sk-container {\n",
       "  /* jupyter's `normalize.less` sets `[hidden] { display: none; }`\n",
       "     but bootstrap.min.css set `[hidden] { display: none !important; }`\n",
       "     so we also need the `!important` here to be able to override the\n",
       "     default hidden behavior on the sphinx rendered scikit-learn.org.\n",
       "     See: https://github.com/scikit-learn/scikit-learn/issues/21755 */\n",
       "  display: inline-block !important;\n",
       "  position: relative;\n",
       "}\n",
       "\n",
       "#sk-container-id-1 div.sk-text-repr-fallback {\n",
       "  display: none;\n",
       "}\n",
       "\n",
       "div.sk-parallel-item,\n",
       "div.sk-serial,\n",
       "div.sk-item {\n",
       "  /* draw centered vertical line to link estimators */\n",
       "  background-image: linear-gradient(var(--sklearn-color-text-on-default-background), var(--sklearn-color-text-on-default-background));\n",
       "  background-size: 2px 100%;\n",
       "  background-repeat: no-repeat;\n",
       "  background-position: center center;\n",
       "}\n",
       "\n",
       "/* Parallel-specific style estimator block */\n",
       "\n",
       "#sk-container-id-1 div.sk-parallel-item::after {\n",
       "  content: \"\";\n",
       "  width: 100%;\n",
       "  border-bottom: 2px solid var(--sklearn-color-text-on-default-background);\n",
       "  flex-grow: 1;\n",
       "}\n",
       "\n",
       "#sk-container-id-1 div.sk-parallel {\n",
       "  display: flex;\n",
       "  align-items: stretch;\n",
       "  justify-content: center;\n",
       "  background-color: var(--sklearn-color-background);\n",
       "  position: relative;\n",
       "}\n",
       "\n",
       "#sk-container-id-1 div.sk-parallel-item {\n",
       "  display: flex;\n",
       "  flex-direction: column;\n",
       "}\n",
       "\n",
       "#sk-container-id-1 div.sk-parallel-item:first-child::after {\n",
       "  align-self: flex-end;\n",
       "  width: 50%;\n",
       "}\n",
       "\n",
       "#sk-container-id-1 div.sk-parallel-item:last-child::after {\n",
       "  align-self: flex-start;\n",
       "  width: 50%;\n",
       "}\n",
       "\n",
       "#sk-container-id-1 div.sk-parallel-item:only-child::after {\n",
       "  width: 0;\n",
       "}\n",
       "\n",
       "/* Serial-specific style estimator block */\n",
       "\n",
       "#sk-container-id-1 div.sk-serial {\n",
       "  display: flex;\n",
       "  flex-direction: column;\n",
       "  align-items: center;\n",
       "  background-color: var(--sklearn-color-background);\n",
       "  padding-right: 1em;\n",
       "  padding-left: 1em;\n",
       "}\n",
       "\n",
       "\n",
       "/* Toggleable style: style used for estimator/Pipeline/ColumnTransformer box that is\n",
       "clickable and can be expanded/collapsed.\n",
       "- Pipeline and ColumnTransformer use this feature and define the default style\n",
       "- Estimators will overwrite some part of the style using the `sk-estimator` class\n",
       "*/\n",
       "\n",
       "/* Pipeline and ColumnTransformer style (default) */\n",
       "\n",
       "#sk-container-id-1 div.sk-toggleable {\n",
       "  /* Default theme specific background. It is overwritten whether we have a\n",
       "  specific estimator or a Pipeline/ColumnTransformer */\n",
       "  background-color: var(--sklearn-color-background);\n",
       "}\n",
       "\n",
       "/* Toggleable label */\n",
       "#sk-container-id-1 label.sk-toggleable__label {\n",
       "  cursor: pointer;\n",
       "  display: block;\n",
       "  width: 100%;\n",
       "  margin-bottom: 0;\n",
       "  padding: 0.5em;\n",
       "  box-sizing: border-box;\n",
       "  text-align: center;\n",
       "}\n",
       "\n",
       "#sk-container-id-1 label.sk-toggleable__label-arrow:before {\n",
       "  /* Arrow on the left of the label */\n",
       "  content: \"▸\";\n",
       "  float: left;\n",
       "  margin-right: 0.25em;\n",
       "  color: var(--sklearn-color-icon);\n",
       "}\n",
       "\n",
       "#sk-container-id-1 label.sk-toggleable__label-arrow:hover:before {\n",
       "  color: var(--sklearn-color-text);\n",
       "}\n",
       "\n",
       "/* Toggleable content - dropdown */\n",
       "\n",
       "#sk-container-id-1 div.sk-toggleable__content {\n",
       "  max-height: 0;\n",
       "  max-width: 0;\n",
       "  overflow: hidden;\n",
       "  text-align: left;\n",
       "  /* unfitted */\n",
       "  background-color: var(--sklearn-color-unfitted-level-0);\n",
       "}\n",
       "\n",
       "#sk-container-id-1 div.sk-toggleable__content.fitted {\n",
       "  /* fitted */\n",
       "  background-color: var(--sklearn-color-fitted-level-0);\n",
       "}\n",
       "\n",
       "#sk-container-id-1 div.sk-toggleable__content pre {\n",
       "  margin: 0.2em;\n",
       "  border-radius: 0.25em;\n",
       "  color: var(--sklearn-color-text);\n",
       "  /* unfitted */\n",
       "  background-color: var(--sklearn-color-unfitted-level-0);\n",
       "}\n",
       "\n",
       "#sk-container-id-1 div.sk-toggleable__content.fitted pre {\n",
       "  /* unfitted */\n",
       "  background-color: var(--sklearn-color-fitted-level-0);\n",
       "}\n",
       "\n",
       "#sk-container-id-1 input.sk-toggleable__control:checked~div.sk-toggleable__content {\n",
       "  /* Expand drop-down */\n",
       "  max-height: 200px;\n",
       "  max-width: 100%;\n",
       "  overflow: auto;\n",
       "}\n",
       "\n",
       "#sk-container-id-1 input.sk-toggleable__control:checked~label.sk-toggleable__label-arrow:before {\n",
       "  content: \"▾\";\n",
       "}\n",
       "\n",
       "/* Pipeline/ColumnTransformer-specific style */\n",
       "\n",
       "#sk-container-id-1 div.sk-label input.sk-toggleable__control:checked~label.sk-toggleable__label {\n",
       "  color: var(--sklearn-color-text);\n",
       "  background-color: var(--sklearn-color-unfitted-level-2);\n",
       "}\n",
       "\n",
       "#sk-container-id-1 div.sk-label.fitted input.sk-toggleable__control:checked~label.sk-toggleable__label {\n",
       "  background-color: var(--sklearn-color-fitted-level-2);\n",
       "}\n",
       "\n",
       "/* Estimator-specific style */\n",
       "\n",
       "/* Colorize estimator box */\n",
       "#sk-container-id-1 div.sk-estimator input.sk-toggleable__control:checked~label.sk-toggleable__label {\n",
       "  /* unfitted */\n",
       "  background-color: var(--sklearn-color-unfitted-level-2);\n",
       "}\n",
       "\n",
       "#sk-container-id-1 div.sk-estimator.fitted input.sk-toggleable__control:checked~label.sk-toggleable__label {\n",
       "  /* fitted */\n",
       "  background-color: var(--sklearn-color-fitted-level-2);\n",
       "}\n",
       "\n",
       "#sk-container-id-1 div.sk-label label.sk-toggleable__label,\n",
       "#sk-container-id-1 div.sk-label label {\n",
       "  /* The background is the default theme color */\n",
       "  color: var(--sklearn-color-text-on-default-background);\n",
       "}\n",
       "\n",
       "/* On hover, darken the color of the background */\n",
       "#sk-container-id-1 div.sk-label:hover label.sk-toggleable__label {\n",
       "  color: var(--sklearn-color-text);\n",
       "  background-color: var(--sklearn-color-unfitted-level-2);\n",
       "}\n",
       "\n",
       "/* Label box, darken color on hover, fitted */\n",
       "#sk-container-id-1 div.sk-label.fitted:hover label.sk-toggleable__label.fitted {\n",
       "  color: var(--sklearn-color-text);\n",
       "  background-color: var(--sklearn-color-fitted-level-2);\n",
       "}\n",
       "\n",
       "/* Estimator label */\n",
       "\n",
       "#sk-container-id-1 div.sk-label label {\n",
       "  font-family: monospace;\n",
       "  font-weight: bold;\n",
       "  display: inline-block;\n",
       "  line-height: 1.2em;\n",
       "}\n",
       "\n",
       "#sk-container-id-1 div.sk-label-container {\n",
       "  text-align: center;\n",
       "}\n",
       "\n",
       "/* Estimator-specific */\n",
       "#sk-container-id-1 div.sk-estimator {\n",
       "  font-family: monospace;\n",
       "  border: 1px dotted var(--sklearn-color-border-box);\n",
       "  border-radius: 0.25em;\n",
       "  box-sizing: border-box;\n",
       "  margin-bottom: 0.5em;\n",
       "  /* unfitted */\n",
       "  background-color: var(--sklearn-color-unfitted-level-0);\n",
       "}\n",
       "\n",
       "#sk-container-id-1 div.sk-estimator.fitted {\n",
       "  /* fitted */\n",
       "  background-color: var(--sklearn-color-fitted-level-0);\n",
       "}\n",
       "\n",
       "/* on hover */\n",
       "#sk-container-id-1 div.sk-estimator:hover {\n",
       "  /* unfitted */\n",
       "  background-color: var(--sklearn-color-unfitted-level-2);\n",
       "}\n",
       "\n",
       "#sk-container-id-1 div.sk-estimator.fitted:hover {\n",
       "  /* fitted */\n",
       "  background-color: var(--sklearn-color-fitted-level-2);\n",
       "}\n",
       "\n",
       "/* Specification for estimator info (e.g. \"i\" and \"?\") */\n",
       "\n",
       "/* Common style for \"i\" and \"?\" */\n",
       "\n",
       ".sk-estimator-doc-link,\n",
       "a:link.sk-estimator-doc-link,\n",
       "a:visited.sk-estimator-doc-link {\n",
       "  float: right;\n",
       "  font-size: smaller;\n",
       "  line-height: 1em;\n",
       "  font-family: monospace;\n",
       "  background-color: var(--sklearn-color-background);\n",
       "  border-radius: 1em;\n",
       "  height: 1em;\n",
       "  width: 1em;\n",
       "  text-decoration: none !important;\n",
       "  margin-left: 1ex;\n",
       "  /* unfitted */\n",
       "  border: var(--sklearn-color-unfitted-level-1) 1pt solid;\n",
       "  color: var(--sklearn-color-unfitted-level-1);\n",
       "}\n",
       "\n",
       ".sk-estimator-doc-link.fitted,\n",
       "a:link.sk-estimator-doc-link.fitted,\n",
       "a:visited.sk-estimator-doc-link.fitted {\n",
       "  /* fitted */\n",
       "  border: var(--sklearn-color-fitted-level-1) 1pt solid;\n",
       "  color: var(--sklearn-color-fitted-level-1);\n",
       "}\n",
       "\n",
       "/* On hover */\n",
       "div.sk-estimator:hover .sk-estimator-doc-link:hover,\n",
       ".sk-estimator-doc-link:hover,\n",
       "div.sk-label-container:hover .sk-estimator-doc-link:hover,\n",
       ".sk-estimator-doc-link:hover {\n",
       "  /* unfitted */\n",
       "  background-color: var(--sklearn-color-unfitted-level-3);\n",
       "  color: var(--sklearn-color-background);\n",
       "  text-decoration: none;\n",
       "}\n",
       "\n",
       "div.sk-estimator.fitted:hover .sk-estimator-doc-link.fitted:hover,\n",
       ".sk-estimator-doc-link.fitted:hover,\n",
       "div.sk-label-container:hover .sk-estimator-doc-link.fitted:hover,\n",
       ".sk-estimator-doc-link.fitted:hover {\n",
       "  /* fitted */\n",
       "  background-color: var(--sklearn-color-fitted-level-3);\n",
       "  color: var(--sklearn-color-background);\n",
       "  text-decoration: none;\n",
       "}\n",
       "\n",
       "/* Span, style for the box shown on hovering the info icon */\n",
       ".sk-estimator-doc-link span {\n",
       "  display: none;\n",
       "  z-index: 9999;\n",
       "  position: relative;\n",
       "  font-weight: normal;\n",
       "  right: .2ex;\n",
       "  padding: .5ex;\n",
       "  margin: .5ex;\n",
       "  width: min-content;\n",
       "  min-width: 20ex;\n",
       "  max-width: 50ex;\n",
       "  color: var(--sklearn-color-text);\n",
       "  box-shadow: 2pt 2pt 4pt #999;\n",
       "  /* unfitted */\n",
       "  background: var(--sklearn-color-unfitted-level-0);\n",
       "  border: .5pt solid var(--sklearn-color-unfitted-level-3);\n",
       "}\n",
       "\n",
       ".sk-estimator-doc-link.fitted span {\n",
       "  /* fitted */\n",
       "  background: var(--sklearn-color-fitted-level-0);\n",
       "  border: var(--sklearn-color-fitted-level-3);\n",
       "}\n",
       "\n",
       ".sk-estimator-doc-link:hover span {\n",
       "  display: block;\n",
       "}\n",
       "\n",
       "/* \"?\"-specific style due to the `<a>` HTML tag */\n",
       "\n",
       "#sk-container-id-1 a.estimator_doc_link {\n",
       "  float: right;\n",
       "  font-size: 1rem;\n",
       "  line-height: 1em;\n",
       "  font-family: monospace;\n",
       "  background-color: var(--sklearn-color-background);\n",
       "  border-radius: 1rem;\n",
       "  height: 1rem;\n",
       "  width: 1rem;\n",
       "  text-decoration: none;\n",
       "  /* unfitted */\n",
       "  color: var(--sklearn-color-unfitted-level-1);\n",
       "  border: var(--sklearn-color-unfitted-level-1) 1pt solid;\n",
       "}\n",
       "\n",
       "#sk-container-id-1 a.estimator_doc_link.fitted {\n",
       "  /* fitted */\n",
       "  border: var(--sklearn-color-fitted-level-1) 1pt solid;\n",
       "  color: var(--sklearn-color-fitted-level-1);\n",
       "}\n",
       "\n",
       "/* On hover */\n",
       "#sk-container-id-1 a.estimator_doc_link:hover {\n",
       "  /* unfitted */\n",
       "  background-color: var(--sklearn-color-unfitted-level-3);\n",
       "  color: var(--sklearn-color-background);\n",
       "  text-decoration: none;\n",
       "}\n",
       "\n",
       "#sk-container-id-1 a.estimator_doc_link.fitted:hover {\n",
       "  /* fitted */\n",
       "  background-color: var(--sklearn-color-fitted-level-3);\n",
       "}\n",
       "</style><div id=\"sk-container-id-1\" class=\"sk-top-container\"><div class=\"sk-text-repr-fallback\"><pre>RandomForestClassifier(max_depth=10)</pre><b>In a Jupyter environment, please rerun this cell to show the HTML representation or trust the notebook. <br />On GitHub, the HTML representation is unable to render, please try loading this page with nbviewer.org.</b></div><div class=\"sk-container\" hidden><div class=\"sk-item\"><div class=\"sk-estimator fitted sk-toggleable\"><input class=\"sk-toggleable__control sk-hidden--visually\" id=\"sk-estimator-id-1\" type=\"checkbox\" checked><label for=\"sk-estimator-id-1\" class=\"sk-toggleable__label fitted sk-toggleable__label-arrow fitted\">&nbsp;&nbsp;RandomForestClassifier<a class=\"sk-estimator-doc-link fitted\" rel=\"noreferrer\" target=\"_blank\" href=\"https://scikit-learn.org/1.4/modules/generated/sklearn.ensemble.RandomForestClassifier.html\">?<span>Documentation for RandomForestClassifier</span></a><span class=\"sk-estimator-doc-link fitted\">i<span>Fitted</span></span></label><div class=\"sk-toggleable__content fitted\"><pre>RandomForestClassifier(max_depth=10)</pre></div> </div></div></div></div>"
      ],
      "text/plain": [
       "RandomForestClassifier(max_depth=10)"
      ]
     },
     "execution_count": 24,
     "metadata": {},
     "output_type": "execute_result"
    }
   ],
   "source": [
    "from sklearn.ensemble import RandomForestClassifier\n",
    "rf_classifier = RandomForestClassifier(n_estimators=100, max_depth=10)\n",
    "X_train = data_train.drop(['target'], axis = 1)\n",
    "y_train = data_train['target']\n",
    "rf_classifier.fit(X_train,y_train)"
   ]
  },
  {
   "cell_type": "code",
   "execution_count": 26,
   "id": "fb841580-ee61-4486-b814-452cf10c5007",
   "metadata": {},
   "outputs": [
    {
     "data": {
      "text/plain": [
       "0.9974496424029429"
      ]
     },
     "execution_count": 26,
     "metadata": {},
     "output_type": "execute_result"
    }
   ],
   "source": [
    "rf_classifier.score(X_train, y_train)"
   ]
  },
  {
   "cell_type": "code",
   "execution_count": 28,
   "id": "787e0da3-8a17-49b6-b0b7-de6cae45b025",
   "metadata": {},
   "outputs": [],
   "source": [
    "df_test = pd.concat([X_test, y_test], axis = 1)"
   ]
  },
  {
   "cell_type": "code",
   "execution_count": 29,
   "id": "5c638a60-e41d-418e-8e98-5ff1a0cb5348",
   "metadata": {},
   "outputs": [
    {
     "name": "stdout",
     "output_type": "stream",
     "text": [
      "Null features dropped\n",
      "One or more features are not in the dataframe 1\n",
      "Imuting done\n",
      "Outliers removed\n",
      "Skewness handled\n",
      "Lable encoding done\n",
      "Scaling done\n"
     ]
    }
   ],
   "source": [
    "data_test = full_pipeline_1(df_test)"
   ]
  },
  {
   "cell_type": "code",
   "execution_count": 34,
   "id": "c2a26088-9e48-4210-91c1-de6c45672180",
   "metadata": {},
   "outputs": [],
   "source": [
    "X_test = data_test.drop(['target'], axis = 1)\n",
    "y_test = data_test['target']"
   ]
  },
  {
   "cell_type": "code",
   "execution_count": 35,
   "id": "6a2e825c-e085-4802-a273-884bdd62bbd4",
   "metadata": {},
   "outputs": [],
   "source": [
    "# rf_classifier.fit(X_train,y_train)\n",
    "y_pred = rf_classifier.predict(X_test)"
   ]
  },
  {
   "cell_type": "code",
   "execution_count": 36,
   "id": "79d2b702-1678-48d5-869b-28487110a027",
   "metadata": {},
   "outputs": [
    {
     "name": "stdout",
     "output_type": "stream",
     "text": [
      "0.9974496424029429\n",
      "[[275486      0]\n",
      " [   746  16276]]\n",
      "              precision    recall  f1-score   support\n",
      "\n",
      "           0       1.00      1.00      1.00    275486\n",
      "           1       1.00      0.96      0.98     17022\n",
      "\n",
      "    accuracy                           1.00    292508\n",
      "   macro avg       1.00      0.98      0.99    292508\n",
      "weighted avg       1.00      1.00      1.00    292508\n",
      "\n"
     ]
    }
   ],
   "source": [
    "from sklearn.metrics import classification_report, accuracy_score, confusion_matrix\n",
    "print(accuracy_score(y_test,y_pred))\n",
    "\n",
    "print(confusion_matrix(y_test,y_pred))\n",
    "\n",
    "print(classification_report(y_test, y_pred))"
   ]
  },
  {
   "cell_type": "code",
   "execution_count": 37,
   "id": "4f674287-e913-4efd-b4fe-84094107a5b3",
   "metadata": {},
   "outputs": [
    {
     "name": "stdout",
     "output_type": "stream",
     "text": [
      "0.978087181294795\n"
     ]
    }
   ],
   "source": [
    "from sklearn.metrics import roc_auc_score\n",
    "print(roc_auc_score(y_test,y_pred))"
   ]
  },
  {
   "cell_type": "code",
   "execution_count": 34,
   "id": "56ec637a-0384-4d13-99f4-d755adb246ef",
   "metadata": {},
   "outputs": [
    {
     "data": {
      "text/plain": [
       "'individual_tree.pdf'"
      ]
     },
     "execution_count": 34,
     "metadata": {},
     "output_type": "execute_result"
    }
   ],
   "source": [
    "import graphviz\n",
    "from sklearn.tree import export_graphviz\n",
    "\n",
    "individual_tree = rf_classifier.estimators_[0]\n",
    "dot_data = export_graphviz(individual_tree, out_file=None,\n",
    "                                filled=True, rounded=True,  \n",
    "                                special_characters=True)  \n",
    "graph = graphviz.Source(dot_data)  \n",
    "graph.render(\"individual_tree\")  "
   ]
  },
  {
   "cell_type": "code",
   "execution_count": null,
   "id": "8b036cab-82b0-4829-a2ff-c0392b307ab9",
   "metadata": {},
   "outputs": [],
   "source": []
  }
 ],
 "metadata": {
  "kernelspec": {
   "display_name": "Python 3 (ipykernel)",
   "language": "python",
   "name": "python3"
  },
  "language_info": {
   "codemirror_mode": {
    "name": "ipython",
    "version": 3
   },
   "file_extension": ".py",
   "mimetype": "text/x-python",
   "name": "python",
   "nbconvert_exporter": "python",
   "pygments_lexer": "ipython3",
   "version": "3.11.7"
  }
 },
 "nbformat": 4,
 "nbformat_minor": 5
}
