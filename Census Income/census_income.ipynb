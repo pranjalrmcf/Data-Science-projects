{
 "cells": [
  {
   "cell_type": "code",
   "execution_count": 1,
   "id": "5eadde8e",
   "metadata": {},
   "outputs": [],
   "source": [
    "import numpy as np\n",
    "import pandas as pd\n",
    "import seaborn as sns\n",
    "import matplotlib.pyplot as plt\n",
    "%matplotlib inline"
   ]
  },
  {
   "cell_type": "code",
   "execution_count": 2,
   "id": "898410c5",
   "metadata": {},
   "outputs": [],
   "source": [
    "df = pd.read_csv('train.csv')"
   ]
  },
  {
   "cell_type": "code",
   "execution_count": 3,
   "id": "1ff5b13c",
   "metadata": {},
   "outputs": [
    {
     "data": {
      "text/html": [
       "<div>\n",
       "<style scoped>\n",
       "    .dataframe tbody tr th:only-of-type {\n",
       "        vertical-align: middle;\n",
       "    }\n",
       "\n",
       "    .dataframe tbody tr th {\n",
       "        vertical-align: top;\n",
       "    }\n",
       "\n",
       "    .dataframe thead th {\n",
       "        text-align: right;\n",
       "    }\n",
       "</style>\n",
       "<table border=\"1\" class=\"dataframe\">\n",
       "  <thead>\n",
       "    <tr style=\"text-align: right;\">\n",
       "      <th></th>\n",
       "      <th>age</th>\n",
       "      <th>class_of_worker</th>\n",
       "      <th>industry_code</th>\n",
       "      <th>occupation_code</th>\n",
       "      <th>education</th>\n",
       "      <th>wage_per_hour</th>\n",
       "      <th>enrolled_in_edu_inst_lastwk</th>\n",
       "      <th>marital_status</th>\n",
       "      <th>major_industry_code</th>\n",
       "      <th>major_occupation_code</th>\n",
       "      <th>...</th>\n",
       "      <th>country_father</th>\n",
       "      <th>country_mother</th>\n",
       "      <th>country_self</th>\n",
       "      <th>citizenship</th>\n",
       "      <th>business_or_self_employed</th>\n",
       "      <th>fill_questionnaire_veteran_admin</th>\n",
       "      <th>veterans_benefits</th>\n",
       "      <th>weeks_worked_in_year</th>\n",
       "      <th>year</th>\n",
       "      <th>income_level</th>\n",
       "    </tr>\n",
       "  </thead>\n",
       "  <tbody>\n",
       "    <tr>\n",
       "      <th>0</th>\n",
       "      <td>73</td>\n",
       "      <td>Not in universe</td>\n",
       "      <td>0</td>\n",
       "      <td>0</td>\n",
       "      <td>High school graduate</td>\n",
       "      <td>0</td>\n",
       "      <td>Not in universe</td>\n",
       "      <td>Widowed</td>\n",
       "      <td>Not in universe or children</td>\n",
       "      <td>Not in universe</td>\n",
       "      <td>...</td>\n",
       "      <td>United-States</td>\n",
       "      <td>United-States</td>\n",
       "      <td>United-States</td>\n",
       "      <td>Native- Born in the United States</td>\n",
       "      <td>0</td>\n",
       "      <td>Not in universe</td>\n",
       "      <td>2</td>\n",
       "      <td>0</td>\n",
       "      <td>95</td>\n",
       "      <td>-50000</td>\n",
       "    </tr>\n",
       "    <tr>\n",
       "      <th>1</th>\n",
       "      <td>58</td>\n",
       "      <td>Self-employed-not incorporated</td>\n",
       "      <td>4</td>\n",
       "      <td>34</td>\n",
       "      <td>Some college but no degree</td>\n",
       "      <td>0</td>\n",
       "      <td>Not in universe</td>\n",
       "      <td>Divorced</td>\n",
       "      <td>Construction</td>\n",
       "      <td>Precision production craft &amp; repair</td>\n",
       "      <td>...</td>\n",
       "      <td>United-States</td>\n",
       "      <td>United-States</td>\n",
       "      <td>United-States</td>\n",
       "      <td>Native- Born in the United States</td>\n",
       "      <td>0</td>\n",
       "      <td>Not in universe</td>\n",
       "      <td>2</td>\n",
       "      <td>52</td>\n",
       "      <td>94</td>\n",
       "      <td>-50000</td>\n",
       "    </tr>\n",
       "    <tr>\n",
       "      <th>2</th>\n",
       "      <td>18</td>\n",
       "      <td>Not in universe</td>\n",
       "      <td>0</td>\n",
       "      <td>0</td>\n",
       "      <td>10th grade</td>\n",
       "      <td>0</td>\n",
       "      <td>High school</td>\n",
       "      <td>Never married</td>\n",
       "      <td>Not in universe or children</td>\n",
       "      <td>Not in universe</td>\n",
       "      <td>...</td>\n",
       "      <td>Vietnam</td>\n",
       "      <td>Vietnam</td>\n",
       "      <td>Vietnam</td>\n",
       "      <td>Foreign born- Not a citizen of U S</td>\n",
       "      <td>0</td>\n",
       "      <td>Not in universe</td>\n",
       "      <td>2</td>\n",
       "      <td>0</td>\n",
       "      <td>95</td>\n",
       "      <td>-50000</td>\n",
       "    </tr>\n",
       "    <tr>\n",
       "      <th>3</th>\n",
       "      <td>9</td>\n",
       "      <td>Not in universe</td>\n",
       "      <td>0</td>\n",
       "      <td>0</td>\n",
       "      <td>Children</td>\n",
       "      <td>0</td>\n",
       "      <td>Not in universe</td>\n",
       "      <td>Never married</td>\n",
       "      <td>Not in universe or children</td>\n",
       "      <td>Not in universe</td>\n",
       "      <td>...</td>\n",
       "      <td>United-States</td>\n",
       "      <td>United-States</td>\n",
       "      <td>United-States</td>\n",
       "      <td>Native- Born in the United States</td>\n",
       "      <td>0</td>\n",
       "      <td>Not in universe</td>\n",
       "      <td>0</td>\n",
       "      <td>0</td>\n",
       "      <td>94</td>\n",
       "      <td>-50000</td>\n",
       "    </tr>\n",
       "    <tr>\n",
       "      <th>4</th>\n",
       "      <td>10</td>\n",
       "      <td>Not in universe</td>\n",
       "      <td>0</td>\n",
       "      <td>0</td>\n",
       "      <td>Children</td>\n",
       "      <td>0</td>\n",
       "      <td>Not in universe</td>\n",
       "      <td>Never married</td>\n",
       "      <td>Not in universe or children</td>\n",
       "      <td>Not in universe</td>\n",
       "      <td>...</td>\n",
       "      <td>United-States</td>\n",
       "      <td>United-States</td>\n",
       "      <td>United-States</td>\n",
       "      <td>Native- Born in the United States</td>\n",
       "      <td>0</td>\n",
       "      <td>Not in universe</td>\n",
       "      <td>0</td>\n",
       "      <td>0</td>\n",
       "      <td>94</td>\n",
       "      <td>-50000</td>\n",
       "    </tr>\n",
       "    <tr>\n",
       "      <th>5</th>\n",
       "      <td>48</td>\n",
       "      <td>Private</td>\n",
       "      <td>40</td>\n",
       "      <td>10</td>\n",
       "      <td>Some college but no degree</td>\n",
       "      <td>1200</td>\n",
       "      <td>Not in universe</td>\n",
       "      <td>Married-civilian spouse present</td>\n",
       "      <td>Entertainment</td>\n",
       "      <td>Professional specialty</td>\n",
       "      <td>...</td>\n",
       "      <td>Philippines</td>\n",
       "      <td>United-States</td>\n",
       "      <td>United-States</td>\n",
       "      <td>Native- Born in the United States</td>\n",
       "      <td>2</td>\n",
       "      <td>Not in universe</td>\n",
       "      <td>2</td>\n",
       "      <td>52</td>\n",
       "      <td>95</td>\n",
       "      <td>-50000</td>\n",
       "    </tr>\n",
       "    <tr>\n",
       "      <th>6</th>\n",
       "      <td>42</td>\n",
       "      <td>Private</td>\n",
       "      <td>34</td>\n",
       "      <td>3</td>\n",
       "      <td>Bachelors degree(BA AB BS)</td>\n",
       "      <td>0</td>\n",
       "      <td>Not in universe</td>\n",
       "      <td>Married-civilian spouse present</td>\n",
       "      <td>Finance insurance and real estate</td>\n",
       "      <td>Executive admin and managerial</td>\n",
       "      <td>...</td>\n",
       "      <td>United-States</td>\n",
       "      <td>United-States</td>\n",
       "      <td>United-States</td>\n",
       "      <td>Native- Born in the United States</td>\n",
       "      <td>0</td>\n",
       "      <td>Not in universe</td>\n",
       "      <td>2</td>\n",
       "      <td>52</td>\n",
       "      <td>94</td>\n",
       "      <td>-50000</td>\n",
       "    </tr>\n",
       "    <tr>\n",
       "      <th>7</th>\n",
       "      <td>28</td>\n",
       "      <td>Private</td>\n",
       "      <td>4</td>\n",
       "      <td>40</td>\n",
       "      <td>High school graduate</td>\n",
       "      <td>0</td>\n",
       "      <td>Not in universe</td>\n",
       "      <td>Never married</td>\n",
       "      <td>Construction</td>\n",
       "      <td>Handlers equip cleaners etc</td>\n",
       "      <td>...</td>\n",
       "      <td>United-States</td>\n",
       "      <td>United-States</td>\n",
       "      <td>United-States</td>\n",
       "      <td>Native- Born in the United States</td>\n",
       "      <td>0</td>\n",
       "      <td>Not in universe</td>\n",
       "      <td>2</td>\n",
       "      <td>30</td>\n",
       "      <td>95</td>\n",
       "      <td>-50000</td>\n",
       "    </tr>\n",
       "    <tr>\n",
       "      <th>8</th>\n",
       "      <td>47</td>\n",
       "      <td>Local government</td>\n",
       "      <td>43</td>\n",
       "      <td>26</td>\n",
       "      <td>Some college but no degree</td>\n",
       "      <td>876</td>\n",
       "      <td>Not in universe</td>\n",
       "      <td>Married-civilian spouse present</td>\n",
       "      <td>Education</td>\n",
       "      <td>Adm support including clerical</td>\n",
       "      <td>...</td>\n",
       "      <td>United-States</td>\n",
       "      <td>United-States</td>\n",
       "      <td>United-States</td>\n",
       "      <td>Native- Born in the United States</td>\n",
       "      <td>0</td>\n",
       "      <td>Not in universe</td>\n",
       "      <td>2</td>\n",
       "      <td>52</td>\n",
       "      <td>95</td>\n",
       "      <td>-50000</td>\n",
       "    </tr>\n",
       "    <tr>\n",
       "      <th>9</th>\n",
       "      <td>34</td>\n",
       "      <td>Private</td>\n",
       "      <td>4</td>\n",
       "      <td>37</td>\n",
       "      <td>Some college but no degree</td>\n",
       "      <td>0</td>\n",
       "      <td>Not in universe</td>\n",
       "      <td>Married-civilian spouse present</td>\n",
       "      <td>Construction</td>\n",
       "      <td>Machine operators assmblrs &amp; inspctrs</td>\n",
       "      <td>...</td>\n",
       "      <td>United-States</td>\n",
       "      <td>United-States</td>\n",
       "      <td>United-States</td>\n",
       "      <td>Native- Born in the United States</td>\n",
       "      <td>0</td>\n",
       "      <td>Not in universe</td>\n",
       "      <td>2</td>\n",
       "      <td>52</td>\n",
       "      <td>94</td>\n",
       "      <td>-50000</td>\n",
       "    </tr>\n",
       "    <tr>\n",
       "      <th>10</th>\n",
       "      <td>8</td>\n",
       "      <td>Not in universe</td>\n",
       "      <td>0</td>\n",
       "      <td>0</td>\n",
       "      <td>Children</td>\n",
       "      <td>0</td>\n",
       "      <td>Not in universe</td>\n",
       "      <td>Never married</td>\n",
       "      <td>Not in universe or children</td>\n",
       "      <td>Not in universe</td>\n",
       "      <td>...</td>\n",
       "      <td>United-States</td>\n",
       "      <td>United-States</td>\n",
       "      <td>United-States</td>\n",
       "      <td>Native- Born in the United States</td>\n",
       "      <td>0</td>\n",
       "      <td>Not in universe</td>\n",
       "      <td>0</td>\n",
       "      <td>0</td>\n",
       "      <td>94</td>\n",
       "      <td>-50000</td>\n",
       "    </tr>\n",
       "    <tr>\n",
       "      <th>11</th>\n",
       "      <td>32</td>\n",
       "      <td>Not in universe</td>\n",
       "      <td>0</td>\n",
       "      <td>0</td>\n",
       "      <td>High school graduate</td>\n",
       "      <td>0</td>\n",
       "      <td>Not in universe</td>\n",
       "      <td>Never married</td>\n",
       "      <td>Not in universe or children</td>\n",
       "      <td>Not in universe</td>\n",
       "      <td>...</td>\n",
       "      <td>NaN</td>\n",
       "      <td>NaN</td>\n",
       "      <td>NaN</td>\n",
       "      <td>Foreign born- Not a citizen of U S</td>\n",
       "      <td>0</td>\n",
       "      <td>Not in universe</td>\n",
       "      <td>2</td>\n",
       "      <td>0</td>\n",
       "      <td>95</td>\n",
       "      <td>-50000</td>\n",
       "    </tr>\n",
       "    <tr>\n",
       "      <th>12</th>\n",
       "      <td>51</td>\n",
       "      <td>Private</td>\n",
       "      <td>4</td>\n",
       "      <td>34</td>\n",
       "      <td>Some college but no degree</td>\n",
       "      <td>0</td>\n",
       "      <td>Not in universe</td>\n",
       "      <td>Married-civilian spouse present</td>\n",
       "      <td>Construction</td>\n",
       "      <td>Precision production craft &amp; repair</td>\n",
       "      <td>...</td>\n",
       "      <td>United-States</td>\n",
       "      <td>United-States</td>\n",
       "      <td>United-States</td>\n",
       "      <td>Native- Born in the United States</td>\n",
       "      <td>0</td>\n",
       "      <td>Not in universe</td>\n",
       "      <td>2</td>\n",
       "      <td>52</td>\n",
       "      <td>94</td>\n",
       "      <td>-50000</td>\n",
       "    </tr>\n",
       "    <tr>\n",
       "      <th>13</th>\n",
       "      <td>46</td>\n",
       "      <td>Private</td>\n",
       "      <td>37</td>\n",
       "      <td>31</td>\n",
       "      <td>High school graduate</td>\n",
       "      <td>0</td>\n",
       "      <td>Not in universe</td>\n",
       "      <td>Divorced</td>\n",
       "      <td>Business and repair services</td>\n",
       "      <td>Other service</td>\n",
       "      <td>...</td>\n",
       "      <td>Columbia</td>\n",
       "      <td>Columbia</td>\n",
       "      <td>Columbia</td>\n",
       "      <td>Foreign born- Not a citizen of U S</td>\n",
       "      <td>0</td>\n",
       "      <td>Not in universe</td>\n",
       "      <td>2</td>\n",
       "      <td>52</td>\n",
       "      <td>94</td>\n",
       "      <td>-50000</td>\n",
       "    </tr>\n",
       "    <tr>\n",
       "      <th>14</th>\n",
       "      <td>26</td>\n",
       "      <td>Private</td>\n",
       "      <td>24</td>\n",
       "      <td>12</td>\n",
       "      <td>Bachelors degree(BA AB BS)</td>\n",
       "      <td>0</td>\n",
       "      <td>Not in universe</td>\n",
       "      <td>Never married</td>\n",
       "      <td>Manufacturing-nondurable goods</td>\n",
       "      <td>Professional specialty</td>\n",
       "      <td>...</td>\n",
       "      <td>United-States</td>\n",
       "      <td>United-States</td>\n",
       "      <td>United-States</td>\n",
       "      <td>Native- Born in the United States</td>\n",
       "      <td>0</td>\n",
       "      <td>Not in universe</td>\n",
       "      <td>2</td>\n",
       "      <td>52</td>\n",
       "      <td>95</td>\n",
       "      <td>-50000</td>\n",
       "    </tr>\n",
       "    <tr>\n",
       "      <th>15</th>\n",
       "      <td>13</td>\n",
       "      <td>Not in universe</td>\n",
       "      <td>0</td>\n",
       "      <td>0</td>\n",
       "      <td>Children</td>\n",
       "      <td>0</td>\n",
       "      <td>Not in universe</td>\n",
       "      <td>Never married</td>\n",
       "      <td>Not in universe or children</td>\n",
       "      <td>Not in universe</td>\n",
       "      <td>...</td>\n",
       "      <td>United-States</td>\n",
       "      <td>United-States</td>\n",
       "      <td>United-States</td>\n",
       "      <td>Native- Born in the United States</td>\n",
       "      <td>0</td>\n",
       "      <td>Not in universe</td>\n",
       "      <td>0</td>\n",
       "      <td>0</td>\n",
       "      <td>94</td>\n",
       "      <td>-50000</td>\n",
       "    </tr>\n",
       "    <tr>\n",
       "      <th>16</th>\n",
       "      <td>47</td>\n",
       "      <td>Private</td>\n",
       "      <td>39</td>\n",
       "      <td>36</td>\n",
       "      <td>Bachelors degree(BA AB BS)</td>\n",
       "      <td>0</td>\n",
       "      <td>Not in universe</td>\n",
       "      <td>Never married</td>\n",
       "      <td>Personal services except private HH</td>\n",
       "      <td>Machine operators assmblrs &amp; inspctrs</td>\n",
       "      <td>...</td>\n",
       "      <td>Germany</td>\n",
       "      <td>United-States</td>\n",
       "      <td>United-States</td>\n",
       "      <td>Native- Born in the United States</td>\n",
       "      <td>0</td>\n",
       "      <td>Not in universe</td>\n",
       "      <td>2</td>\n",
       "      <td>52</td>\n",
       "      <td>95</td>\n",
       "      <td>-50000</td>\n",
       "    </tr>\n",
       "    <tr>\n",
       "      <th>17</th>\n",
       "      <td>39</td>\n",
       "      <td>Not in universe</td>\n",
       "      <td>0</td>\n",
       "      <td>0</td>\n",
       "      <td>10th grade</td>\n",
       "      <td>0</td>\n",
       "      <td>Not in universe</td>\n",
       "      <td>Married-civilian spouse present</td>\n",
       "      <td>Not in universe or children</td>\n",
       "      <td>Not in universe</td>\n",
       "      <td>...</td>\n",
       "      <td>Mexico</td>\n",
       "      <td>Mexico</td>\n",
       "      <td>Mexico</td>\n",
       "      <td>Foreign born- Not a citizen of U S</td>\n",
       "      <td>0</td>\n",
       "      <td>Not in universe</td>\n",
       "      <td>2</td>\n",
       "      <td>0</td>\n",
       "      <td>94</td>\n",
       "      <td>-50000</td>\n",
       "    </tr>\n",
       "    <tr>\n",
       "      <th>18</th>\n",
       "      <td>16</td>\n",
       "      <td>Not in universe</td>\n",
       "      <td>0</td>\n",
       "      <td>0</td>\n",
       "      <td>10th grade</td>\n",
       "      <td>0</td>\n",
       "      <td>High school</td>\n",
       "      <td>Never married</td>\n",
       "      <td>Not in universe or children</td>\n",
       "      <td>Not in universe</td>\n",
       "      <td>...</td>\n",
       "      <td>United-States</td>\n",
       "      <td>El-Salvador</td>\n",
       "      <td>United-States</td>\n",
       "      <td>Native- Born in the United States</td>\n",
       "      <td>0</td>\n",
       "      <td>Not in universe</td>\n",
       "      <td>2</td>\n",
       "      <td>0</td>\n",
       "      <td>95</td>\n",
       "      <td>-50000</td>\n",
       "    </tr>\n",
       "    <tr>\n",
       "      <th>19</th>\n",
       "      <td>35</td>\n",
       "      <td>Private</td>\n",
       "      <td>12</td>\n",
       "      <td>41</td>\n",
       "      <td>High school graduate</td>\n",
       "      <td>0</td>\n",
       "      <td>Not in universe</td>\n",
       "      <td>Married-civilian spouse present</td>\n",
       "      <td>Manufacturing-durable goods</td>\n",
       "      <td>Handlers equip cleaners etc</td>\n",
       "      <td>...</td>\n",
       "      <td>United-States</td>\n",
       "      <td>United-States</td>\n",
       "      <td>United-States</td>\n",
       "      <td>Native- Born in the United States</td>\n",
       "      <td>0</td>\n",
       "      <td>Not in universe</td>\n",
       "      <td>2</td>\n",
       "      <td>49</td>\n",
       "      <td>95</td>\n",
       "      <td>-50000</td>\n",
       "    </tr>\n",
       "  </tbody>\n",
       "</table>\n",
       "<p>20 rows × 41 columns</p>\n",
       "</div>"
      ],
      "text/plain": [
       "    age                 class_of_worker  industry_code  occupation_code  \\\n",
       "0    73                 Not in universe              0                0   \n",
       "1    58  Self-employed-not incorporated              4               34   \n",
       "2    18                 Not in universe              0                0   \n",
       "3     9                 Not in universe              0                0   \n",
       "4    10                 Not in universe              0                0   \n",
       "5    48                         Private             40               10   \n",
       "6    42                         Private             34                3   \n",
       "7    28                         Private              4               40   \n",
       "8    47                Local government             43               26   \n",
       "9    34                         Private              4               37   \n",
       "10    8                 Not in universe              0                0   \n",
       "11   32                 Not in universe              0                0   \n",
       "12   51                         Private              4               34   \n",
       "13   46                         Private             37               31   \n",
       "14   26                         Private             24               12   \n",
       "15   13                 Not in universe              0                0   \n",
       "16   47                         Private             39               36   \n",
       "17   39                 Not in universe              0                0   \n",
       "18   16                 Not in universe              0                0   \n",
       "19   35                         Private             12               41   \n",
       "\n",
       "                     education  wage_per_hour enrolled_in_edu_inst_lastwk  \\\n",
       "0         High school graduate              0             Not in universe   \n",
       "1   Some college but no degree              0             Not in universe   \n",
       "2                   10th grade              0                 High school   \n",
       "3                     Children              0             Not in universe   \n",
       "4                     Children              0             Not in universe   \n",
       "5   Some college but no degree           1200             Not in universe   \n",
       "6   Bachelors degree(BA AB BS)              0             Not in universe   \n",
       "7         High school graduate              0             Not in universe   \n",
       "8   Some college but no degree            876             Not in universe   \n",
       "9   Some college but no degree              0             Not in universe   \n",
       "10                    Children              0             Not in universe   \n",
       "11        High school graduate              0             Not in universe   \n",
       "12  Some college but no degree              0             Not in universe   \n",
       "13        High school graduate              0             Not in universe   \n",
       "14  Bachelors degree(BA AB BS)              0             Not in universe   \n",
       "15                    Children              0             Not in universe   \n",
       "16  Bachelors degree(BA AB BS)              0             Not in universe   \n",
       "17                  10th grade              0             Not in universe   \n",
       "18                  10th grade              0                 High school   \n",
       "19        High school graduate              0             Not in universe   \n",
       "\n",
       "                     marital_status                  major_industry_code  \\\n",
       "0                           Widowed          Not in universe or children   \n",
       "1                          Divorced                         Construction   \n",
       "2                     Never married          Not in universe or children   \n",
       "3                     Never married          Not in universe or children   \n",
       "4                     Never married          Not in universe or children   \n",
       "5   Married-civilian spouse present                        Entertainment   \n",
       "6   Married-civilian spouse present    Finance insurance and real estate   \n",
       "7                     Never married                         Construction   \n",
       "8   Married-civilian spouse present                            Education   \n",
       "9   Married-civilian spouse present                         Construction   \n",
       "10                    Never married          Not in universe or children   \n",
       "11                    Never married          Not in universe or children   \n",
       "12  Married-civilian spouse present                         Construction   \n",
       "13                         Divorced         Business and repair services   \n",
       "14                    Never married       Manufacturing-nondurable goods   \n",
       "15                    Never married          Not in universe or children   \n",
       "16                    Never married  Personal services except private HH   \n",
       "17  Married-civilian spouse present          Not in universe or children   \n",
       "18                    Never married          Not in universe or children   \n",
       "19  Married-civilian spouse present          Manufacturing-durable goods   \n",
       "\n",
       "                    major_occupation_code  ... country_father country_mother  \\\n",
       "0                         Not in universe  ...  United-States  United-States   \n",
       "1     Precision production craft & repair  ...  United-States  United-States   \n",
       "2                         Not in universe  ...        Vietnam        Vietnam   \n",
       "3                         Not in universe  ...  United-States  United-States   \n",
       "4                         Not in universe  ...  United-States  United-States   \n",
       "5                  Professional specialty  ...    Philippines  United-States   \n",
       "6          Executive admin and managerial  ...  United-States  United-States   \n",
       "7             Handlers equip cleaners etc  ...  United-States  United-States   \n",
       "8          Adm support including clerical  ...  United-States  United-States   \n",
       "9   Machine operators assmblrs & inspctrs  ...  United-States  United-States   \n",
       "10                        Not in universe  ...  United-States  United-States   \n",
       "11                        Not in universe  ...            NaN            NaN   \n",
       "12    Precision production craft & repair  ...  United-States  United-States   \n",
       "13                          Other service  ...       Columbia       Columbia   \n",
       "14                 Professional specialty  ...  United-States  United-States   \n",
       "15                        Not in universe  ...  United-States  United-States   \n",
       "16  Machine operators assmblrs & inspctrs  ...        Germany  United-States   \n",
       "17                        Not in universe  ...         Mexico         Mexico   \n",
       "18                        Not in universe  ...  United-States    El-Salvador   \n",
       "19            Handlers equip cleaners etc  ...  United-States  United-States   \n",
       "\n",
       "     country_self                         citizenship  \\\n",
       "0   United-States   Native- Born in the United States   \n",
       "1   United-States   Native- Born in the United States   \n",
       "2         Vietnam  Foreign born- Not a citizen of U S   \n",
       "3   United-States   Native- Born in the United States   \n",
       "4   United-States   Native- Born in the United States   \n",
       "5   United-States   Native- Born in the United States   \n",
       "6   United-States   Native- Born in the United States   \n",
       "7   United-States   Native- Born in the United States   \n",
       "8   United-States   Native- Born in the United States   \n",
       "9   United-States   Native- Born in the United States   \n",
       "10  United-States   Native- Born in the United States   \n",
       "11            NaN  Foreign born- Not a citizen of U S   \n",
       "12  United-States   Native- Born in the United States   \n",
       "13       Columbia  Foreign born- Not a citizen of U S   \n",
       "14  United-States   Native- Born in the United States   \n",
       "15  United-States   Native- Born in the United States   \n",
       "16  United-States   Native- Born in the United States   \n",
       "17         Mexico  Foreign born- Not a citizen of U S   \n",
       "18  United-States   Native- Born in the United States   \n",
       "19  United-States   Native- Born in the United States   \n",
       "\n",
       "   business_or_self_employed fill_questionnaire_veteran_admin  \\\n",
       "0                          0                  Not in universe   \n",
       "1                          0                  Not in universe   \n",
       "2                          0                  Not in universe   \n",
       "3                          0                  Not in universe   \n",
       "4                          0                  Not in universe   \n",
       "5                          2                  Not in universe   \n",
       "6                          0                  Not in universe   \n",
       "7                          0                  Not in universe   \n",
       "8                          0                  Not in universe   \n",
       "9                          0                  Not in universe   \n",
       "10                         0                  Not in universe   \n",
       "11                         0                  Not in universe   \n",
       "12                         0                  Not in universe   \n",
       "13                         0                  Not in universe   \n",
       "14                         0                  Not in universe   \n",
       "15                         0                  Not in universe   \n",
       "16                         0                  Not in universe   \n",
       "17                         0                  Not in universe   \n",
       "18                         0                  Not in universe   \n",
       "19                         0                  Not in universe   \n",
       "\n",
       "    veterans_benefits  weeks_worked_in_year  year income_level  \n",
       "0                   2                     0    95       -50000  \n",
       "1                   2                    52    94       -50000  \n",
       "2                   2                     0    95       -50000  \n",
       "3                   0                     0    94       -50000  \n",
       "4                   0                     0    94       -50000  \n",
       "5                   2                    52    95       -50000  \n",
       "6                   2                    52    94       -50000  \n",
       "7                   2                    30    95       -50000  \n",
       "8                   2                    52    95       -50000  \n",
       "9                   2                    52    94       -50000  \n",
       "10                  0                     0    94       -50000  \n",
       "11                  2                     0    95       -50000  \n",
       "12                  2                    52    94       -50000  \n",
       "13                  2                    52    94       -50000  \n",
       "14                  2                    52    95       -50000  \n",
       "15                  0                     0    94       -50000  \n",
       "16                  2                    52    95       -50000  \n",
       "17                  2                     0    94       -50000  \n",
       "18                  2                     0    95       -50000  \n",
       "19                  2                    49    95       -50000  \n",
       "\n",
       "[20 rows x 41 columns]"
      ]
     },
     "execution_count": 3,
     "metadata": {},
     "output_type": "execute_result"
    }
   ],
   "source": [
    "df.head(20)"
   ]
  },
  {
   "cell_type": "code",
   "execution_count": 4,
   "id": "dd6ba81e",
   "metadata": {},
   "outputs": [
    {
     "name": "stdout",
     "output_type": "stream",
     "text": [
      "<class 'pandas.core.frame.DataFrame'>\n",
      "RangeIndex: 199523 entries, 0 to 199522\n",
      "Data columns (total 41 columns):\n",
      " #   Column                            Non-Null Count   Dtype \n",
      "---  ------                            --------------   ----- \n",
      " 0   age                               199523 non-null  int64 \n",
      " 1   class_of_worker                   199523 non-null  object\n",
      " 2   industry_code                     199523 non-null  int64 \n",
      " 3   occupation_code                   199523 non-null  int64 \n",
      " 4   education                         199523 non-null  object\n",
      " 5   wage_per_hour                     199523 non-null  int64 \n",
      " 6   enrolled_in_edu_inst_lastwk       199523 non-null  object\n",
      " 7   marital_status                    199523 non-null  object\n",
      " 8   major_industry_code               199523 non-null  object\n",
      " 9   major_occupation_code             199523 non-null  object\n",
      " 10  race                              199523 non-null  object\n",
      " 11  hispanic_origin                   198649 non-null  object\n",
      " 12  sex                               199523 non-null  object\n",
      " 13  member_of_labor_union             199523 non-null  object\n",
      " 14  reason_for_unemployment           199523 non-null  object\n",
      " 15  full_parttime_employment_stat     199523 non-null  object\n",
      " 16  capital_gains                     199523 non-null  int64 \n",
      " 17  capital_losses                    199523 non-null  int64 \n",
      " 18  dividend_from_Stocks              199523 non-null  int64 \n",
      " 19  tax_filer_status                  199523 non-null  object\n",
      " 20  region_of_previous_residence      199523 non-null  object\n",
      " 21  state_of_previous_residence       198815 non-null  object\n",
      " 22  d_household_family_stat           199523 non-null  object\n",
      " 23  d_household_summary               199523 non-null  object\n",
      " 24  migration_msa                     99827 non-null   object\n",
      " 25  migration_reg                     99827 non-null   object\n",
      " 26  migration_within_reg              99827 non-null   object\n",
      " 27  live_1_year_ago                   199523 non-null  object\n",
      " 28  migration_sunbelt                 99827 non-null   object\n",
      " 29  num_person_Worked_employer        199523 non-null  int64 \n",
      " 30  family_members_under_18           199523 non-null  object\n",
      " 31  country_father                    192810 non-null  object\n",
      " 32  country_mother                    193404 non-null  object\n",
      " 33  country_self                      196130 non-null  object\n",
      " 34  citizenship                       199523 non-null  object\n",
      " 35  business_or_self_employed         199523 non-null  int64 \n",
      " 36  fill_questionnaire_veteran_admin  199523 non-null  object\n",
      " 37  veterans_benefits                 199523 non-null  int64 \n",
      " 38  weeks_worked_in_year              199523 non-null  int64 \n",
      " 39  year                              199523 non-null  int64 \n",
      " 40  income_level                      199523 non-null  int64 \n",
      "dtypes: int64(13), object(28)\n",
      "memory usage: 62.4+ MB\n"
     ]
    }
   ],
   "source": [
    "df.info()"
   ]
  },
  {
   "cell_type": "code",
   "execution_count": 5,
   "id": "e014ce39",
   "metadata": {},
   "outputs": [
    {
     "data": {
      "text/plain": [
       "-50000    187141\n",
       " 50000     12382\n",
       "Name: income_level, dtype: int64"
      ]
     },
     "execution_count": 5,
     "metadata": {},
     "output_type": "execute_result"
    }
   ],
   "source": [
    "df['income_level'].value_counts()"
   ]
  },
  {
   "cell_type": "code",
   "execution_count": 6,
   "id": "82e3dc3e",
   "metadata": {},
   "outputs": [],
   "source": [
    "df['income_level'] = np.where(df['income_level'] == -50000, 0 , 1)"
   ]
  },
  {
   "cell_type": "code",
   "execution_count": 7,
   "id": "5abca497",
   "metadata": {},
   "outputs": [
    {
     "data": {
      "text/plain": [
       "0    187141\n",
       "1     12382\n",
       "Name: income_level, dtype: int64"
      ]
     },
     "execution_count": 7,
     "metadata": {},
     "output_type": "execute_result"
    }
   ],
   "source": [
    "df['income_level'].value_counts()"
   ]
  },
  {
   "cell_type": "code",
   "execution_count": 8,
   "id": "9e3558ad",
   "metadata": {},
   "outputs": [
    {
     "name": "stderr",
     "output_type": "stream",
     "text": [
      "C:\\Users\\pranj\\AppData\\Local\\Programs\\Python\\Python39\\lib\\site-packages\\seaborn\\_decorators.py:36: FutureWarning: Pass the following variable as a keyword arg: x. From version 0.12, the only valid positional argument will be `data`, and passing other arguments without an explicit keyword will result in an error or misinterpretation.\n",
      "  warnings.warn(\n"
     ]
    },
    {
     "data": {
      "text/plain": [
       "<AxesSubplot:xlabel='income_level', ylabel='count'>"
      ]
     },
     "execution_count": 8,
     "metadata": {},
     "output_type": "execute_result"
    },
    {
     "data": {
      "image/png": "[encoded data removed]",
      "text/plain": [
       "<Figure size 432x288 with 1 Axes>"
      ]
     },
     "metadata": {
      "needs_background": "light"
     },
     "output_type": "display_data"
    }
   ],
   "source": [
    "sns.countplot(df['income_level'])"
   ]
  },
  {
   "cell_type": "code",
   "execution_count": 9,
   "id": "a5255051",
   "metadata": {},
   "outputs": [
    {
     "data": {
      "text/plain": [
       "RangeIndex(start=0, stop=199523, step=1)"
      ]
     },
     "execution_count": 9,
     "metadata": {},
     "output_type": "execute_result"
    }
   ],
   "source": [
    "df.index"
   ]
  },
  {
   "cell_type": "code",
   "execution_count": 10,
   "id": "23891af3",
   "metadata": {},
   "outputs": [],
   "source": [
    "from sklearn.utils import resample\n",
    "#create two different dataframe of majority and minority class \n",
    "df_majority = df[(df['income_level']==0)] \n",
    "df_minority = df[(df['income_level']==1)] \n",
    "# upsample minority class\n",
    "df_minority_upsampled = resample(df_minority, \n",
    "                                 replace=True,    # sample with replacement\n",
    "                                 n_samples= 187141, # to match majority class\n",
    "                                 random_state=42)  # reproducible results\n",
    "# Combine majority class with upsampled minority class\n",
    "df_upsampled = pd.concat([df_minority_upsampled, df_majority])"
   ]
  },
  {
   "cell_type": "code",
   "execution_count": 11,
   "id": "c1be05c4",
   "metadata": {},
   "outputs": [
    {
     "data": {
      "text/plain": [
       "Int64Index([117254,  14247,  87358,  84187, 193116, 182641,  92858, 101235,\n",
       "              8075,  71655,\n",
       "            ...\n",
       "            199513, 199514, 199515, 199516, 199517, 199518, 199519, 199520,\n",
       "            199521, 199522],\n",
       "           dtype='int64', length=374282)"
      ]
     },
     "execution_count": 11,
     "metadata": {},
     "output_type": "execute_result"
    }
   ],
   "source": [
    "df_upsampled.index"
   ]
  },
  {
   "cell_type": "code",
   "execution_count": 198,
   "id": "17f4930d",
   "metadata": {},
   "outputs": [
    {
     "data": {
      "text/plain": [
       "1    187141\n",
       "0    187141\n",
       "Name: income_level, dtype: int64"
      ]
     },
     "execution_count": 198,
     "metadata": {},
     "output_type": "execute_result"
    }
   ],
   "source": [
    "df_upsampled['income_level'].value_counts()"
   ]
  },
  {
   "cell_type": "code",
   "execution_count": 12,
   "id": "4714dbbf",
   "metadata": {},
   "outputs": [],
   "source": [
    "df = df_upsampled"
   ]
  },
  {
   "cell_type": "code",
   "execution_count": 13,
   "id": "316c3329",
   "metadata": {
    "scrolled": true
   },
   "outputs": [
    {
     "name": "stdout",
     "output_type": "stream",
     "text": [
      "<class 'pandas.core.frame.DataFrame'>\n",
      "Int64Index: 374282 entries, 117254 to 199522\n",
      "Data columns (total 41 columns):\n",
      " #   Column                            Non-Null Count   Dtype \n",
      "---  ------                            --------------   ----- \n",
      " 0   age                               374282 non-null  int64 \n",
      " 1   class_of_worker                   374282 non-null  object\n",
      " 2   industry_code                     374282 non-null  int64 \n",
      " 3   occupation_code                   374282 non-null  int64 \n",
      " 4   education                         374282 non-null  object\n",
      " 5   wage_per_hour                     374282 non-null  int64 \n",
      " 6   enrolled_in_edu_inst_lastwk       374282 non-null  object\n",
      " 7   marital_status                    374282 non-null  object\n",
      " 8   major_industry_code               374282 non-null  object\n",
      " 9   major_occupation_code             374282 non-null  object\n",
      " 10  race                              374282 non-null  object\n",
      " 11  hispanic_origin                   372552 non-null  object\n",
      " 12  sex                               374282 non-null  object\n",
      " 13  member_of_labor_union             374282 non-null  object\n",
      " 14  reason_for_unemployment           374282 non-null  object\n",
      " 15  full_parttime_employment_stat     374282 non-null  object\n",
      " 16  capital_gains                     374282 non-null  int64 \n",
      " 17  capital_losses                    374282 non-null  int64 \n",
      " 18  dividend_from_Stocks              374282 non-null  int64 \n",
      " 19  tax_filer_status                  374282 non-null  object\n",
      " 20  region_of_previous_residence      374282 non-null  object\n",
      " 21  state_of_previous_residence       372908 non-null  object\n",
      " 22  d_household_family_stat           374282 non-null  object\n",
      " 23  d_household_summary               374282 non-null  object\n",
      " 24  migration_msa                     182256 non-null  object\n",
      " 25  migration_reg                     182256 non-null  object\n",
      " 26  migration_within_reg              182256 non-null  object\n",
      " 27  live_1_year_ago                   374282 non-null  object\n",
      " 28  migration_sunbelt                 182256 non-null  object\n",
      " 29  num_person_Worked_employer        374282 non-null  int64 \n",
      " 30  family_members_under_18           374282 non-null  object\n",
      " 31  country_father                    359830 non-null  object\n",
      " 32  country_mother                    361450 non-null  object\n",
      " 33  country_self                      366662 non-null  object\n",
      " 34  citizenship                       374282 non-null  object\n",
      " 35  business_or_self_employed         374282 non-null  int64 \n",
      " 36  fill_questionnaire_veteran_admin  374282 non-null  object\n",
      " 37  veterans_benefits                 374282 non-null  int64 \n",
      " 38  weeks_worked_in_year              374282 non-null  int64 \n",
      " 39  year                              374282 non-null  int64 \n",
      " 40  income_level                      374282 non-null  int32 \n",
      "dtypes: int32(1), int64(12), object(28)\n",
      "memory usage: 118.5+ MB\n"
     ]
    }
   ],
   "source": [
    "df.info()"
   ]
  },
  {
   "cell_type": "code",
   "execution_count": 14,
   "id": "0b551c98",
   "metadata": {},
   "outputs": [
    {
     "data": {
      "text/plain": [
       "Int64Index([117254,  14247,  87358,  84187, 193116, 182641,  92858, 101235,\n",
       "              8075,  71655,\n",
       "            ...\n",
       "            199513, 199514, 199515, 199516, 199517, 199518, 199519, 199520,\n",
       "            199521, 199522],\n",
       "           dtype='int64', length=374282)"
      ]
     },
     "execution_count": 14,
     "metadata": {},
     "output_type": "execute_result"
    }
   ],
   "source": [
    "df.index"
   ]
  },
  {
   "cell_type": "code",
   "execution_count": 15,
   "id": "9ec5450f",
   "metadata": {},
   "outputs": [],
   "source": [
    "df.reset_index(inplace = True)"
   ]
  },
  {
   "cell_type": "code",
   "execution_count": 16,
   "id": "0c11dced",
   "metadata": {},
   "outputs": [
    {
     "data": {
      "text/plain": [
       "RangeIndex(start=0, stop=374282, step=1)"
      ]
     },
     "execution_count": 16,
     "metadata": {},
     "output_type": "execute_result"
    }
   ],
   "source": [
    "df.index"
   ]
  },
  {
   "cell_type": "code",
   "execution_count": 17,
   "id": "d4ccf630",
   "metadata": {},
   "outputs": [
    {
     "data": {
      "text/plain": [
       "index                                    0\n",
       "age                                      0\n",
       "class_of_worker                          0\n",
       "industry_code                            0\n",
       "occupation_code                          0\n",
       "education                                0\n",
       "wage_per_hour                            0\n",
       "enrolled_in_edu_inst_lastwk              0\n",
       "marital_status                           0\n",
       "major_industry_code                      0\n",
       "major_occupation_code                    0\n",
       "race                                     0\n",
       "hispanic_origin                       1730\n",
       "sex                                      0\n",
       "member_of_labor_union                    0\n",
       "reason_for_unemployment                  0\n",
       "full_parttime_employment_stat            0\n",
       "capital_gains                            0\n",
       "capital_losses                           0\n",
       "dividend_from_Stocks                     0\n",
       "tax_filer_status                         0\n",
       "region_of_previous_residence             0\n",
       "state_of_previous_residence           1374\n",
       "d_household_family_stat                  0\n",
       "d_household_summary                      0\n",
       "migration_msa                       192026\n",
       "migration_reg                       192026\n",
       "migration_within_reg                192026\n",
       "live_1_year_ago                          0\n",
       "migration_sunbelt                   192026\n",
       "num_person_Worked_employer               0\n",
       "family_members_under_18                  0\n",
       "country_father                       14452\n",
       "country_mother                       12832\n",
       "country_self                          7620\n",
       "citizenship                              0\n",
       "business_or_self_employed                0\n",
       "fill_questionnaire_veteran_admin         0\n",
       "veterans_benefits                        0\n",
       "weeks_worked_in_year                     0\n",
       "year                                     0\n",
       "income_level                             0\n",
       "dtype: int64"
      ]
     },
     "execution_count": 17,
     "metadata": {},
     "output_type": "execute_result"
    }
   ],
   "source": [
    "df.isnull().sum()"
   ]
  },
  {
   "cell_type": "code",
   "execution_count": 18,
   "id": "dfa32b3a",
   "metadata": {},
   "outputs": [],
   "source": [
    "X = df.drop(['income_level'], axis = 1)\n",
    "Y = df[['income_level']]"
   ]
  },
  {
   "cell_type": "code",
   "execution_count": 19,
   "id": "a777ec1f",
   "metadata": {},
   "outputs": [
    {
     "data": {
      "text/plain": [
       "RangeIndex(start=0, stop=374282, step=1)"
      ]
     },
     "execution_count": 19,
     "metadata": {},
     "output_type": "execute_result"
    }
   ],
   "source": [
    "X.index"
   ]
  },
  {
   "cell_type": "code",
   "execution_count": 20,
   "id": "2e39853c",
   "metadata": {},
   "outputs": [
    {
     "data": {
      "text/plain": [
       "RangeIndex(start=0, stop=374282, step=1)"
      ]
     },
     "execution_count": 20,
     "metadata": {},
     "output_type": "execute_result"
    }
   ],
   "source": [
    "Y.index"
   ]
  },
  {
   "cell_type": "code",
   "execution_count": 21,
   "id": "18afe68c",
   "metadata": {},
   "outputs": [],
   "source": [
    "num = X.select_dtypes(include = ['number'])\n",
    "char = X.select_dtypes(include = ['object'])"
   ]
  },
  {
   "cell_type": "code",
   "execution_count": 22,
   "id": "e3a1b613",
   "metadata": {},
   "outputs": [
    {
     "data": {
      "text/html": [
       "<div>\n",
       "<style scoped>\n",
       "    .dataframe tbody tr th:only-of-type {\n",
       "        vertical-align: middle;\n",
       "    }\n",
       "\n",
       "    .dataframe tbody tr th {\n",
       "        vertical-align: top;\n",
       "    }\n",
       "\n",
       "    .dataframe thead th {\n",
       "        text-align: right;\n",
       "    }\n",
       "</style>\n",
       "<table border=\"1\" class=\"dataframe\">\n",
       "  <thead>\n",
       "    <tr style=\"text-align: right;\">\n",
       "      <th></th>\n",
       "      <th>index</th>\n",
       "      <th>age</th>\n",
       "      <th>industry_code</th>\n",
       "      <th>occupation_code</th>\n",
       "      <th>wage_per_hour</th>\n",
       "      <th>capital_gains</th>\n",
       "      <th>capital_losses</th>\n",
       "      <th>dividend_from_Stocks</th>\n",
       "      <th>num_person_Worked_employer</th>\n",
       "      <th>business_or_self_employed</th>\n",
       "      <th>veterans_benefits</th>\n",
       "      <th>weeks_worked_in_year</th>\n",
       "      <th>year</th>\n",
       "    </tr>\n",
       "  </thead>\n",
       "  <tbody>\n",
       "    <tr>\n",
       "      <th>374262</th>\n",
       "      <td>199501</td>\n",
       "      <td>13</td>\n",
       "      <td>0</td>\n",
       "      <td>0</td>\n",
       "      <td>0</td>\n",
       "      <td>0</td>\n",
       "      <td>0</td>\n",
       "      <td>0</td>\n",
       "      <td>0</td>\n",
       "      <td>0</td>\n",
       "      <td>0</td>\n",
       "      <td>0</td>\n",
       "      <td>94</td>\n",
       "    </tr>\n",
       "    <tr>\n",
       "      <th>374263</th>\n",
       "      <td>199502</td>\n",
       "      <td>50</td>\n",
       "      <td>29</td>\n",
       "      <td>2</td>\n",
       "      <td>0</td>\n",
       "      <td>0</td>\n",
       "      <td>0</td>\n",
       "      <td>0</td>\n",
       "      <td>4</td>\n",
       "      <td>2</td>\n",
       "      <td>2</td>\n",
       "      <td>48</td>\n",
       "      <td>95</td>\n",
       "    </tr>\n",
       "    <tr>\n",
       "      <th>374264</th>\n",
       "      <td>199503</td>\n",
       "      <td>24</td>\n",
       "      <td>33</td>\n",
       "      <td>29</td>\n",
       "      <td>0</td>\n",
       "      <td>0</td>\n",
       "      <td>0</td>\n",
       "      <td>0</td>\n",
       "      <td>6</td>\n",
       "      <td>2</td>\n",
       "      <td>2</td>\n",
       "      <td>52</td>\n",
       "      <td>95</td>\n",
       "    </tr>\n",
       "    <tr>\n",
       "      <th>374265</th>\n",
       "      <td>199504</td>\n",
       "      <td>43</td>\n",
       "      <td>22</td>\n",
       "      <td>36</td>\n",
       "      <td>0</td>\n",
       "      <td>0</td>\n",
       "      <td>0</td>\n",
       "      <td>0</td>\n",
       "      <td>4</td>\n",
       "      <td>0</td>\n",
       "      <td>2</td>\n",
       "      <td>52</td>\n",
       "      <td>95</td>\n",
       "    </tr>\n",
       "    <tr>\n",
       "      <th>374266</th>\n",
       "      <td>199505</td>\n",
       "      <td>33</td>\n",
       "      <td>34</td>\n",
       "      <td>3</td>\n",
       "      <td>0</td>\n",
       "      <td>0</td>\n",
       "      <td>0</td>\n",
       "      <td>0</td>\n",
       "      <td>6</td>\n",
       "      <td>0</td>\n",
       "      <td>2</td>\n",
       "      <td>52</td>\n",
       "      <td>95</td>\n",
       "    </tr>\n",
       "    <tr>\n",
       "      <th>374267</th>\n",
       "      <td>199506</td>\n",
       "      <td>14</td>\n",
       "      <td>0</td>\n",
       "      <td>0</td>\n",
       "      <td>0</td>\n",
       "      <td>0</td>\n",
       "      <td>0</td>\n",
       "      <td>0</td>\n",
       "      <td>0</td>\n",
       "      <td>0</td>\n",
       "      <td>0</td>\n",
       "      <td>0</td>\n",
       "      <td>94</td>\n",
       "    </tr>\n",
       "    <tr>\n",
       "      <th>374268</th>\n",
       "      <td>199507</td>\n",
       "      <td>25</td>\n",
       "      <td>33</td>\n",
       "      <td>16</td>\n",
       "      <td>0</td>\n",
       "      <td>0</td>\n",
       "      <td>0</td>\n",
       "      <td>0</td>\n",
       "      <td>1</td>\n",
       "      <td>0</td>\n",
       "      <td>2</td>\n",
       "      <td>52</td>\n",
       "      <td>94</td>\n",
       "    </tr>\n",
       "    <tr>\n",
       "      <th>374269</th>\n",
       "      <td>199510</td>\n",
       "      <td>25</td>\n",
       "      <td>33</td>\n",
       "      <td>41</td>\n",
       "      <td>0</td>\n",
       "      <td>0</td>\n",
       "      <td>0</td>\n",
       "      <td>0</td>\n",
       "      <td>4</td>\n",
       "      <td>0</td>\n",
       "      <td>2</td>\n",
       "      <td>52</td>\n",
       "      <td>94</td>\n",
       "    </tr>\n",
       "    <tr>\n",
       "      <th>374270</th>\n",
       "      <td>199511</td>\n",
       "      <td>47</td>\n",
       "      <td>23</td>\n",
       "      <td>37</td>\n",
       "      <td>0</td>\n",
       "      <td>0</td>\n",
       "      <td>0</td>\n",
       "      <td>0</td>\n",
       "      <td>5</td>\n",
       "      <td>0</td>\n",
       "      <td>2</td>\n",
       "      <td>52</td>\n",
       "      <td>95</td>\n",
       "    </tr>\n",
       "    <tr>\n",
       "      <th>374271</th>\n",
       "      <td>199512</td>\n",
       "      <td>71</td>\n",
       "      <td>0</td>\n",
       "      <td>0</td>\n",
       "      <td>0</td>\n",
       "      <td>0</td>\n",
       "      <td>0</td>\n",
       "      <td>0</td>\n",
       "      <td>0</td>\n",
       "      <td>0</td>\n",
       "      <td>2</td>\n",
       "      <td>0</td>\n",
       "      <td>95</td>\n",
       "    </tr>\n",
       "    <tr>\n",
       "      <th>374272</th>\n",
       "      <td>199513</td>\n",
       "      <td>57</td>\n",
       "      <td>9</td>\n",
       "      <td>37</td>\n",
       "      <td>0</td>\n",
       "      <td>0</td>\n",
       "      <td>0</td>\n",
       "      <td>0</td>\n",
       "      <td>4</td>\n",
       "      <td>0</td>\n",
       "      <td>2</td>\n",
       "      <td>52</td>\n",
       "      <td>95</td>\n",
       "    </tr>\n",
       "    <tr>\n",
       "      <th>374273</th>\n",
       "      <td>199514</td>\n",
       "      <td>51</td>\n",
       "      <td>33</td>\n",
       "      <td>19</td>\n",
       "      <td>0</td>\n",
       "      <td>0</td>\n",
       "      <td>0</td>\n",
       "      <td>0</td>\n",
       "      <td>6</td>\n",
       "      <td>0</td>\n",
       "      <td>2</td>\n",
       "      <td>52</td>\n",
       "      <td>94</td>\n",
       "    </tr>\n",
       "    <tr>\n",
       "      <th>374274</th>\n",
       "      <td>199515</td>\n",
       "      <td>87</td>\n",
       "      <td>0</td>\n",
       "      <td>0</td>\n",
       "      <td>0</td>\n",
       "      <td>0</td>\n",
       "      <td>0</td>\n",
       "      <td>0</td>\n",
       "      <td>0</td>\n",
       "      <td>0</td>\n",
       "      <td>2</td>\n",
       "      <td>0</td>\n",
       "      <td>95</td>\n",
       "    </tr>\n",
       "    <tr>\n",
       "      <th>374275</th>\n",
       "      <td>199516</td>\n",
       "      <td>3</td>\n",
       "      <td>0</td>\n",
       "      <td>0</td>\n",
       "      <td>0</td>\n",
       "      <td>0</td>\n",
       "      <td>0</td>\n",
       "      <td>0</td>\n",
       "      <td>0</td>\n",
       "      <td>0</td>\n",
       "      <td>0</td>\n",
       "      <td>0</td>\n",
       "      <td>94</td>\n",
       "    </tr>\n",
       "    <tr>\n",
       "      <th>374276</th>\n",
       "      <td>199517</td>\n",
       "      <td>39</td>\n",
       "      <td>43</td>\n",
       "      <td>26</td>\n",
       "      <td>0</td>\n",
       "      <td>6849</td>\n",
       "      <td>0</td>\n",
       "      <td>0</td>\n",
       "      <td>6</td>\n",
       "      <td>2</td>\n",
       "      <td>2</td>\n",
       "      <td>52</td>\n",
       "      <td>95</td>\n",
       "    </tr>\n",
       "    <tr>\n",
       "      <th>374277</th>\n",
       "      <td>199518</td>\n",
       "      <td>87</td>\n",
       "      <td>0</td>\n",
       "      <td>0</td>\n",
       "      <td>0</td>\n",
       "      <td>0</td>\n",
       "      <td>0</td>\n",
       "      <td>0</td>\n",
       "      <td>0</td>\n",
       "      <td>0</td>\n",
       "      <td>2</td>\n",
       "      <td>0</td>\n",
       "      <td>95</td>\n",
       "    </tr>\n",
       "    <tr>\n",
       "      <th>374278</th>\n",
       "      <td>199519</td>\n",
       "      <td>65</td>\n",
       "      <td>37</td>\n",
       "      <td>2</td>\n",
       "      <td>0</td>\n",
       "      <td>6418</td>\n",
       "      <td>0</td>\n",
       "      <td>9</td>\n",
       "      <td>1</td>\n",
       "      <td>0</td>\n",
       "      <td>2</td>\n",
       "      <td>52</td>\n",
       "      <td>94</td>\n",
       "    </tr>\n",
       "    <tr>\n",
       "      <th>374279</th>\n",
       "      <td>199520</td>\n",
       "      <td>47</td>\n",
       "      <td>0</td>\n",
       "      <td>0</td>\n",
       "      <td>0</td>\n",
       "      <td>0</td>\n",
       "      <td>0</td>\n",
       "      <td>157</td>\n",
       "      <td>6</td>\n",
       "      <td>0</td>\n",
       "      <td>2</td>\n",
       "      <td>52</td>\n",
       "      <td>95</td>\n",
       "    </tr>\n",
       "    <tr>\n",
       "      <th>374280</th>\n",
       "      <td>199521</td>\n",
       "      <td>16</td>\n",
       "      <td>0</td>\n",
       "      <td>0</td>\n",
       "      <td>0</td>\n",
       "      <td>0</td>\n",
       "      <td>0</td>\n",
       "      <td>0</td>\n",
       "      <td>0</td>\n",
       "      <td>0</td>\n",
       "      <td>2</td>\n",
       "      <td>0</td>\n",
       "      <td>95</td>\n",
       "    </tr>\n",
       "    <tr>\n",
       "      <th>374281</th>\n",
       "      <td>199522</td>\n",
       "      <td>32</td>\n",
       "      <td>42</td>\n",
       "      <td>30</td>\n",
       "      <td>0</td>\n",
       "      <td>0</td>\n",
       "      <td>0</td>\n",
       "      <td>0</td>\n",
       "      <td>6</td>\n",
       "      <td>0</td>\n",
       "      <td>2</td>\n",
       "      <td>52</td>\n",
       "      <td>94</td>\n",
       "    </tr>\n",
       "  </tbody>\n",
       "</table>\n",
       "</div>"
      ],
      "text/plain": [
       "         index  age  industry_code  occupation_code  wage_per_hour  \\\n",
       "374262  199501   13              0                0              0   \n",
       "374263  199502   50             29                2              0   \n",
       "374264  199503   24             33               29              0   \n",
       "374265  199504   43             22               36              0   \n",
       "374266  199505   33             34                3              0   \n",
       "374267  199506   14              0                0              0   \n",
       "374268  199507   25             33               16              0   \n",
       "374269  199510   25             33               41              0   \n",
       "374270  199511   47             23               37              0   \n",
       "374271  199512   71              0                0              0   \n",
       "374272  199513   57              9               37              0   \n",
       "374273  199514   51             33               19              0   \n",
       "374274  199515   87              0                0              0   \n",
       "374275  199516    3              0                0              0   \n",
       "374276  199517   39             43               26              0   \n",
       "374277  199518   87              0                0              0   \n",
       "374278  199519   65             37                2              0   \n",
       "374279  199520   47              0                0              0   \n",
       "374280  199521   16              0                0              0   \n",
       "374281  199522   32             42               30              0   \n",
       "\n",
       "        capital_gains  capital_losses  dividend_from_Stocks  \\\n",
       "374262              0               0                     0   \n",
       "374263              0               0                     0   \n",
       "374264              0               0                     0   \n",
       "374265              0               0                     0   \n",
       "374266              0               0                     0   \n",
       "374267              0               0                     0   \n",
       "374268              0               0                     0   \n",
       "374269              0               0                     0   \n",
       "374270              0               0                     0   \n",
       "374271              0               0                     0   \n",
       "374272              0               0                     0   \n",
       "374273              0               0                     0   \n",
       "374274              0               0                     0   \n",
       "374275              0               0                     0   \n",
       "374276           6849               0                     0   \n",
       "374277              0               0                     0   \n",
       "374278           6418               0                     9   \n",
       "374279              0               0                   157   \n",
       "374280              0               0                     0   \n",
       "374281              0               0                     0   \n",
       "\n",
       "        num_person_Worked_employer  business_or_self_employed  \\\n",
       "374262                           0                          0   \n",
       "374263                           4                          2   \n",
       "374264                           6                          2   \n",
       "374265                           4                          0   \n",
       "374266                           6                          0   \n",
       "374267                           0                          0   \n",
       "374268                           1                          0   \n",
       "374269                           4                          0   \n",
       "374270                           5                          0   \n",
       "374271                           0                          0   \n",
       "374272                           4                          0   \n",
       "374273                           6                          0   \n",
       "374274                           0                          0   \n",
       "374275                           0                          0   \n",
       "374276                           6                          2   \n",
       "374277                           0                          0   \n",
       "374278                           1                          0   \n",
       "374279                           6                          0   \n",
       "374280                           0                          0   \n",
       "374281                           6                          0   \n",
       "\n",
       "        veterans_benefits  weeks_worked_in_year  year  \n",
       "374262                  0                     0    94  \n",
       "374263                  2                    48    95  \n",
       "374264                  2                    52    95  \n",
       "374265                  2                    52    95  \n",
       "374266                  2                    52    95  \n",
       "374267                  0                     0    94  \n",
       "374268                  2                    52    94  \n",
       "374269                  2                    52    94  \n",
       "374270                  2                    52    95  \n",
       "374271                  2                     0    95  \n",
       "374272                  2                    52    95  \n",
       "374273                  2                    52    94  \n",
       "374274                  2                     0    95  \n",
       "374275                  0                     0    94  \n",
       "374276                  2                    52    95  \n",
       "374277                  2                     0    95  \n",
       "374278                  2                    52    94  \n",
       "374279                  2                    52    95  \n",
       "374280                  2                     0    95  \n",
       "374281                  2                    52    94  "
      ]
     },
     "execution_count": 22,
     "metadata": {},
     "output_type": "execute_result"
    }
   ],
   "source": [
    "num.tail(20)"
   ]
  },
  {
   "cell_type": "code",
   "execution_count": 23,
   "id": "f00c9270",
   "metadata": {},
   "outputs": [
    {
     "name": "stderr",
     "output_type": "stream",
     "text": [
      "C:\\Users\\pranj\\AppData\\Local\\Programs\\Python\\Python39\\lib\\site-packages\\seaborn\\_decorators.py:36: FutureWarning: Pass the following variable as a keyword arg: x. From version 0.12, the only valid positional argument will be `data`, and passing other arguments without an explicit keyword will result in an error or misinterpretation.\n",
      "  warnings.warn(\n",
      "C:\\Users\\pranj\\AppData\\Local\\Programs\\Python\\Python39\\lib\\site-packages\\seaborn\\_decorators.py:36: FutureWarning: Pass the following variable as a keyword arg: x. From version 0.12, the only valid positional argument will be `data`, and passing other arguments without an explicit keyword will result in an error or misinterpretation.\n",
      "  warnings.warn(\n",
      "C:\\Users\\pranj\\AppData\\Local\\Programs\\Python\\Python39\\lib\\site-packages\\seaborn\\_decorators.py:36: FutureWarning: Pass the following variable as a keyword arg: x. From version 0.12, the only valid positional argument will be `data`, and passing other arguments without an explicit keyword will result in an error or misinterpretation.\n",
      "  warnings.warn(\n",
      "C:\\Users\\pranj\\AppData\\Local\\Programs\\Python\\Python39\\lib\\site-packages\\seaborn\\_decorators.py:36: FutureWarning: Pass the following variable as a keyword arg: x. From version 0.12, the only valid positional argument will be `data`, and passing other arguments without an explicit keyword will result in an error or misinterpretation.\n",
      "  warnings.warn(\n",
      "C:\\Users\\pranj\\AppData\\Local\\Programs\\Python\\Python39\\lib\\site-packages\\seaborn\\_decorators.py:36: FutureWarning: Pass the following variable as a keyword arg: x. From version 0.12, the only valid positional argument will be `data`, and passing other arguments without an explicit keyword will result in an error or misinterpretation.\n",
      "  warnings.warn(\n",
      "C:\\Users\\pranj\\AppData\\Local\\Programs\\Python\\Python39\\lib\\site-packages\\seaborn\\_decorators.py:36: FutureWarning: Pass the following variable as a keyword arg: x. From version 0.12, the only valid positional argument will be `data`, and passing other arguments without an explicit keyword will result in an error or misinterpretation.\n",
      "  warnings.warn(\n",
      "C:\\Users\\pranj\\AppData\\Local\\Programs\\Python\\Python39\\lib\\site-packages\\seaborn\\_decorators.py:36: FutureWarning: Pass the following variable as a keyword arg: x. From version 0.12, the only valid positional argument will be `data`, and passing other arguments without an explicit keyword will result in an error or misinterpretation.\n",
      "  warnings.warn(\n",
      "C:\\Users\\pranj\\AppData\\Local\\Programs\\Python\\Python39\\lib\\site-packages\\seaborn\\_decorators.py:36: FutureWarning: Pass the following variable as a keyword arg: x. From version 0.12, the only valid positional argument will be `data`, and passing other arguments without an explicit keyword will result in an error or misinterpretation.\n",
      "  warnings.warn(\n",
      "C:\\Users\\pranj\\AppData\\Local\\Programs\\Python\\Python39\\lib\\site-packages\\seaborn\\_decorators.py:36: FutureWarning: Pass the following variable as a keyword arg: x. From version 0.12, the only valid positional argument will be `data`, and passing other arguments without an explicit keyword will result in an error or misinterpretation.\n",
      "  warnings.warn(\n",
      "C:\\Users\\pranj\\AppData\\Local\\Programs\\Python\\Python39\\lib\\site-packages\\seaborn\\_decorators.py:36: FutureWarning: Pass the following variable as a keyword arg: x. From version 0.12, the only valid positional argument will be `data`, and passing other arguments without an explicit keyword will result in an error or misinterpretation.\n",
      "  warnings.warn(\n",
      "C:\\Users\\pranj\\AppData\\Local\\Programs\\Python\\Python39\\lib\\site-packages\\seaborn\\_decorators.py:36: FutureWarning: Pass the following variable as a keyword arg: x. From version 0.12, the only valid positional argument will be `data`, and passing other arguments without an explicit keyword will result in an error or misinterpretation.\n",
      "  warnings.warn(\n",
      "C:\\Users\\pranj\\AppData\\Local\\Programs\\Python\\Python39\\lib\\site-packages\\seaborn\\_decorators.py:36: FutureWarning: Pass the following variable as a keyword arg: x. From version 0.12, the only valid positional argument will be `data`, and passing other arguments without an explicit keyword will result in an error or misinterpretation.\n",
      "  warnings.warn(\n",
      "C:\\Users\\pranj\\AppData\\Local\\Programs\\Python\\Python39\\lib\\site-packages\\seaborn\\_decorators.py:36: FutureWarning: Pass the following variable as a keyword arg: x. From version 0.12, the only valid positional argument will be `data`, and passing other arguments without an explicit keyword will result in an error or misinterpretation.\n",
      "  warnings.warn(\n"
     ]
    },
    {
     "data": {
      "image/png": "[encoded data removed]",
      "text/plain": [
       "<Figure size 432x288 with 1 Axes>"
      ]
     },
     "metadata": {
      "needs_background": "light"
     },
     "output_type": "display_data"
    },
    {
     "data": {
      "image/png": "[encoded data removed]",
      "text/plain": [
       "<Figure size 432x288 with 1 Axes>"
      ]
     },
     "metadata": {
      "needs_background": "light"
     },
     "output_type": "display_data"
    },
    {
     "data": {
      "image/png": "[encoded data removed]",
      "text/plain": [
       "<Figure size 432x288 with 1 Axes>"
      ]
     },
     "metadata": {
      "needs_background": "light"
     },
     "output_type": "display_data"
    },
    {
     "data": {
      "image/png": "[encoded data removed]",
      "text/plain": [
       "<Figure size 432x288 with 1 Axes>"
      ]
     },
     "metadata": {
      "needs_background": "light"
     },
     "output_type": "display_data"
    },
    {
     "data": {
      "image/png": "[encoded data removed]",
      "text/plain": [
       "<Figure size 432x288 with 1 Axes>"
      ]
     },
     "metadata": {
      "needs_background": "light"
     },
     "output_type": "display_data"
    },
    {
     "data": {
      "image/png": "[encoded data removed]",
      "text/plain": [
       "<Figure size 432x288 with 1 Axes>"
      ]
     },
     "metadata": {
      "needs_background": "light"
     },
     "output_type": "display_data"
    },
    {
     "data": {
      "image/png": "[encoded data removed]",
      "text/plain": [
       "<Figure size 432x288 with 1 Axes>"
      ]
     },
     "metadata": {
      "needs_background": "light"
     },
     "output_type": "display_data"
    },
    {
     "data": {
      "image/png": "[encoded data removed]",
      "text/plain": [
       "<Figure size 432x288 with 1 Axes>"
      ]
     },
     "metadata": {
      "needs_background": "light"
     },
     "output_type": "display_data"
    },
    {
     "data": {
      "image/png": "[encoded data removed]",
      "text/plain": [
       "<Figure size 432x288 with 1 Axes>"
      ]
     },
     "metadata": {
      "needs_background": "light"
     },
     "output_type": "display_data"
    },
    {
     "data": {
      "image/png": "[encoded data removed]",
      "text/plain": [
       "<Figure size 432x288 with 1 Axes>"
      ]
     },
     "metadata": {
      "needs_background": "light"
     },
     "output_type": "display_data"
    },
    {
     "data": {
      "image/png": "[encoded data removed]",
      "text/plain": [
       "<Figure size 432x288 with 1 Axes>"
      ]
     },
     "metadata": {
      "needs_background": "light"
     },
     "output_type": "display_data"
    },
    {
     "data": {
      "image/png": "[encoded data removed]",
      "text/plain": [
       "<Figure size 432x288 with 1 Axes>"
      ]
     },
     "metadata": {
      "needs_background": "light"
     },
     "output_type": "display_data"
    },
    {
     "data": {
      "image/png": "[encoded data removed]",
      "text/plain": [
       "<Figure size 432x288 with 1 Axes>"
      ]
     },
     "metadata": {
      "needs_background": "light"
     },
     "output_type": "display_data"
    }
   ],
   "source": [
    "for col in num.columns:\n",
    "    plt.figure()\n",
    "    sns.boxplot(num[col])"
   ]
  },
  {
   "cell_type": "code",
   "execution_count": 24,
   "id": "30392d32",
   "metadata": {},
   "outputs": [
    {
     "data": {
      "text/plain": [
       "index                         0\n",
       "age                           0\n",
       "industry_code                 0\n",
       "occupation_code               0\n",
       "wage_per_hour                 0\n",
       "capital_gains                 0\n",
       "capital_losses                0\n",
       "dividend_from_Stocks          0\n",
       "num_person_Worked_employer    0\n",
       "business_or_self_employed     0\n",
       "veterans_benefits             0\n",
       "weeks_worked_in_year          0\n",
       "year                          0\n",
       "dtype: int64"
      ]
     },
     "execution_count": 24,
     "metadata": {},
     "output_type": "execute_result"
    }
   ],
   "source": [
    "num.isnull().sum()"
   ]
  },
  {
   "cell_type": "code",
   "execution_count": 25,
   "id": "99bbf36a",
   "metadata": {},
   "outputs": [
    {
     "name": "stderr",
     "output_type": "stream",
     "text": [
      "C:\\Users\\pranj\\AppData\\Local\\Temp/ipykernel_31864/1926996054.py:7: SettingWithCopyWarning: \n",
      "A value is trying to be set on a copy of a slice from a DataFrame.\n",
      "Try using .loc[row_indexer,col_indexer] = value instead\n",
      "\n",
      "See the caveats in the documentation: https://pandas.pydata.org/pandas-docs/stable/user_guide/indexing.html#returning-a-view-versus-a-copy\n",
      "  num[col] = np.where(num[col]>upper, np.nan, num[col])\n",
      "C:\\Users\\pranj\\AppData\\Local\\Temp/ipykernel_31864/1926996054.py:8: SettingWithCopyWarning: \n",
      "A value is trying to be set on a copy of a slice from a DataFrame.\n",
      "Try using .loc[row_indexer,col_indexer] = value instead\n",
      "\n",
      "See the caveats in the documentation: https://pandas.pydata.org/pandas-docs/stable/user_guide/indexing.html#returning-a-view-versus-a-copy\n",
      "  num[col] = np.where(num[col]<lower, np.nan, num[col])\n"
     ]
    }
   ],
   "source": [
    "for col in num.columns:\n",
    "    q1 = num[col].quantile(0.25)\n",
    "    q3 = num[col].quantile(0.75)\n",
    "    iqr = q3 - q1\n",
    "    upper = q3 + 1.5 * iqr\n",
    "    lower = q1 - 1.5 * iqr\n",
    "    num[col] = np.where(num[col]>upper, np.nan, num[col])\n",
    "    num[col] = np.where(num[col]<lower, np.nan, num[col])"
   ]
  },
  {
   "cell_type": "code",
   "execution_count": 26,
   "id": "5507b62f",
   "metadata": {},
   "outputs": [
    {
     "data": {
      "text/plain": [
       "index                         0.000000\n",
       "age                           0.005354\n",
       "industry_code                 0.000000\n",
       "occupation_code               0.000000\n",
       "wage_per_hour                 0.051314\n",
       "capital_gains                 0.110091\n",
       "capital_losses                0.054860\n",
       "dividend_from_Stocks          0.246042\n",
       "num_person_Worked_employer    0.000000\n",
       "business_or_self_employed     0.122867\n",
       "veterans_benefits             0.140659\n",
       "weeks_worked_in_year          0.000000\n",
       "year                          0.000000\n",
       "dtype: float64"
      ]
     },
     "execution_count": 26,
     "metadata": {},
     "output_type": "execute_result"
    }
   ],
   "source": [
    "num.isnull().mean()"
   ]
  },
  {
   "cell_type": "code",
   "execution_count": 27,
   "id": "c7f1a797",
   "metadata": {},
   "outputs": [
    {
     "name": "stderr",
     "output_type": "stream",
     "text": [
      "C:\\Users\\pranj\\AppData\\Local\\Programs\\Python\\Python39\\lib\\site-packages\\pandas\\core\\generic.py:6392: SettingWithCopyWarning: \n",
      "A value is trying to be set on a copy of a slice from a DataFrame\n",
      "\n",
      "See the caveats in the documentation: https://pandas.pydata.org/pandas-docs/stable/user_guide/indexing.html#returning-a-view-versus-a-copy\n",
      "  return self._update_inplace(result)\n",
      "C:\\Users\\pranj\\AppData\\Local\\Programs\\Python\\Python39\\lib\\site-packages\\pandas\\core\\generic.py:6392: SettingWithCopyWarning: \n",
      "A value is trying to be set on a copy of a slice from a DataFrame\n",
      "\n",
      "See the caveats in the documentation: https://pandas.pydata.org/pandas-docs/stable/user_guide/indexing.html#returning-a-view-versus-a-copy\n",
      "  return self._update_inplace(result)\n",
      "C:\\Users\\pranj\\AppData\\Local\\Programs\\Python\\Python39\\lib\\site-packages\\pandas\\core\\generic.py:6392: SettingWithCopyWarning: \n",
      "A value is trying to be set on a copy of a slice from a DataFrame\n",
      "\n",
      "See the caveats in the documentation: https://pandas.pydata.org/pandas-docs/stable/user_guide/indexing.html#returning-a-view-versus-a-copy\n",
      "  return self._update_inplace(result)\n",
      "C:\\Users\\pranj\\AppData\\Local\\Programs\\Python\\Python39\\lib\\site-packages\\pandas\\core\\generic.py:6392: SettingWithCopyWarning: \n",
      "A value is trying to be set on a copy of a slice from a DataFrame\n",
      "\n",
      "See the caveats in the documentation: https://pandas.pydata.org/pandas-docs/stable/user_guide/indexing.html#returning-a-view-versus-a-copy\n",
      "  return self._update_inplace(result)\n",
      "C:\\Users\\pranj\\AppData\\Local\\Programs\\Python\\Python39\\lib\\site-packages\\pandas\\core\\generic.py:6392: SettingWithCopyWarning: \n",
      "A value is trying to be set on a copy of a slice from a DataFrame\n",
      "\n",
      "See the caveats in the documentation: https://pandas.pydata.org/pandas-docs/stable/user_guide/indexing.html#returning-a-view-versus-a-copy\n",
      "  return self._update_inplace(result)\n",
      "C:\\Users\\pranj\\AppData\\Local\\Programs\\Python\\Python39\\lib\\site-packages\\pandas\\core\\generic.py:6392: SettingWithCopyWarning: \n",
      "A value is trying to be set on a copy of a slice from a DataFrame\n",
      "\n",
      "See the caveats in the documentation: https://pandas.pydata.org/pandas-docs/stable/user_guide/indexing.html#returning-a-view-versus-a-copy\n",
      "  return self._update_inplace(result)\n",
      "C:\\Users\\pranj\\AppData\\Local\\Programs\\Python\\Python39\\lib\\site-packages\\pandas\\core\\generic.py:6392: SettingWithCopyWarning: \n",
      "A value is trying to be set on a copy of a slice from a DataFrame\n",
      "\n",
      "See the caveats in the documentation: https://pandas.pydata.org/pandas-docs/stable/user_guide/indexing.html#returning-a-view-versus-a-copy\n",
      "  return self._update_inplace(result)\n",
      "C:\\Users\\pranj\\AppData\\Local\\Programs\\Python\\Python39\\lib\\site-packages\\pandas\\core\\generic.py:6392: SettingWithCopyWarning: \n",
      "A value is trying to be set on a copy of a slice from a DataFrame\n",
      "\n",
      "See the caveats in the documentation: https://pandas.pydata.org/pandas-docs/stable/user_guide/indexing.html#returning-a-view-versus-a-copy\n",
      "  return self._update_inplace(result)\n",
      "C:\\Users\\pranj\\AppData\\Local\\Programs\\Python\\Python39\\lib\\site-packages\\pandas\\core\\generic.py:6392: SettingWithCopyWarning: \n",
      "A value is trying to be set on a copy of a slice from a DataFrame\n",
      "\n",
      "See the caveats in the documentation: https://pandas.pydata.org/pandas-docs/stable/user_guide/indexing.html#returning-a-view-versus-a-copy\n",
      "  return self._update_inplace(result)\n",
      "C:\\Users\\pranj\\AppData\\Local\\Programs\\Python\\Python39\\lib\\site-packages\\pandas\\core\\generic.py:6392: SettingWithCopyWarning: \n",
      "A value is trying to be set on a copy of a slice from a DataFrame\n",
      "\n",
      "See the caveats in the documentation: https://pandas.pydata.org/pandas-docs/stable/user_guide/indexing.html#returning-a-view-versus-a-copy\n",
      "  return self._update_inplace(result)\n",
      "C:\\Users\\pranj\\AppData\\Local\\Programs\\Python\\Python39\\lib\\site-packages\\pandas\\core\\generic.py:6392: SettingWithCopyWarning: \n",
      "A value is trying to be set on a copy of a slice from a DataFrame\n",
      "\n",
      "See the caveats in the documentation: https://pandas.pydata.org/pandas-docs/stable/user_guide/indexing.html#returning-a-view-versus-a-copy\n",
      "  return self._update_inplace(result)\n",
      "C:\\Users\\pranj\\AppData\\Local\\Programs\\Python\\Python39\\lib\\site-packages\\pandas\\core\\generic.py:6392: SettingWithCopyWarning: \n",
      "A value is trying to be set on a copy of a slice from a DataFrame\n",
      "\n",
      "See the caveats in the documentation: https://pandas.pydata.org/pandas-docs/stable/user_guide/indexing.html#returning-a-view-versus-a-copy\n",
      "  return self._update_inplace(result)\n",
      "C:\\Users\\pranj\\AppData\\Local\\Programs\\Python\\Python39\\lib\\site-packages\\pandas\\core\\generic.py:6392: SettingWithCopyWarning: \n",
      "A value is trying to be set on a copy of a slice from a DataFrame\n",
      "\n",
      "See the caveats in the documentation: https://pandas.pydata.org/pandas-docs/stable/user_guide/indexing.html#returning-a-view-versus-a-copy\n",
      "  return self._update_inplace(result)\n"
     ]
    }
   ],
   "source": [
    "for col in num.columns:\n",
    "    num[col].fillna(num[col].median(), inplace = True)"
   ]
  },
  {
   "cell_type": "code",
   "execution_count": 28,
   "id": "cef8a560",
   "metadata": {},
   "outputs": [
    {
     "data": {
      "text/plain": [
       "index                         0.0\n",
       "age                           0.0\n",
       "industry_code                 0.0\n",
       "occupation_code               0.0\n",
       "wage_per_hour                 0.0\n",
       "capital_gains                 0.0\n",
       "capital_losses                0.0\n",
       "dividend_from_Stocks          0.0\n",
       "num_person_Worked_employer    0.0\n",
       "business_or_self_employed     0.0\n",
       "veterans_benefits             0.0\n",
       "weeks_worked_in_year          0.0\n",
       "year                          0.0\n",
       "dtype: float64"
      ]
     },
     "execution_count": 28,
     "metadata": {},
     "output_type": "execute_result"
    }
   ],
   "source": [
    "num.isnull().mean()"
   ]
  },
  {
   "cell_type": "code",
   "execution_count": 29,
   "id": "977c6398",
   "metadata": {},
   "outputs": [
    {
     "name": "stderr",
     "output_type": "stream",
     "text": [
      "C:\\Users\\pranj\\AppData\\Local\\Temp/ipykernel_31864/621953406.py:7: SettingWithCopyWarning: \n",
      "A value is trying to be set on a copy of a slice from a DataFrame.\n",
      "Try using .loc[row_indexer,col_indexer] = value instead\n",
      "\n",
      "See the caveats in the documentation: https://pandas.pydata.org/pandas-docs/stable/user_guide/indexing.html#returning-a-view-versus-a-copy\n",
      "  num[col] = np.where(num[col]>upper, upper, num[col])\n",
      "C:\\Users\\pranj\\AppData\\Local\\Temp/ipykernel_31864/621953406.py:8: SettingWithCopyWarning: \n",
      "A value is trying to be set on a copy of a slice from a DataFrame.\n",
      "Try using .loc[row_indexer,col_indexer] = value instead\n",
      "\n",
      "See the caveats in the documentation: https://pandas.pydata.org/pandas-docs/stable/user_guide/indexing.html#returning-a-view-versus-a-copy\n",
      "  num[col] = np.where(num[col]<lower, lower, num[col])\n"
     ]
    }
   ],
   "source": [
    "for col in num.columns:\n",
    "    q1 = num[col].quantile(0.25)\n",
    "    q3 = num[col].quantile(0.75)\n",
    "    iqr = q3 - q1\n",
    "    upper = q3 + 1.5 * iqr\n",
    "    lower = q1 - 1.5 * iqr\n",
    "    num[col] = np.where(num[col]>upper, upper, num[col])\n",
    "    num[col] = np.where(num[col]<lower, lower, num[col])"
   ]
  },
  {
   "cell_type": "code",
   "execution_count": 30,
   "id": "8aa1c2e7",
   "metadata": {},
   "outputs": [
    {
     "name": "stderr",
     "output_type": "stream",
     "text": [
      "C:\\Users\\pranj\\AppData\\Local\\Programs\\Python\\Python39\\lib\\site-packages\\seaborn\\_decorators.py:36: FutureWarning: Pass the following variable as a keyword arg: x. From version 0.12, the only valid positional argument will be `data`, and passing other arguments without an explicit keyword will result in an error or misinterpretation.\n",
      "  warnings.warn(\n",
      "C:\\Users\\pranj\\AppData\\Local\\Programs\\Python\\Python39\\lib\\site-packages\\seaborn\\_decorators.py:36: FutureWarning: Pass the following variable as a keyword arg: x. From version 0.12, the only valid positional argument will be `data`, and passing other arguments without an explicit keyword will result in an error or misinterpretation.\n",
      "  warnings.warn(\n",
      "C:\\Users\\pranj\\AppData\\Local\\Programs\\Python\\Python39\\lib\\site-packages\\seaborn\\_decorators.py:36: FutureWarning: Pass the following variable as a keyword arg: x. From version 0.12, the only valid positional argument will be `data`, and passing other arguments without an explicit keyword will result in an error or misinterpretation.\n",
      "  warnings.warn(\n",
      "C:\\Users\\pranj\\AppData\\Local\\Programs\\Python\\Python39\\lib\\site-packages\\seaborn\\_decorators.py:36: FutureWarning: Pass the following variable as a keyword arg: x. From version 0.12, the only valid positional argument will be `data`, and passing other arguments without an explicit keyword will result in an error or misinterpretation.\n",
      "  warnings.warn(\n",
      "C:\\Users\\pranj\\AppData\\Local\\Programs\\Python\\Python39\\lib\\site-packages\\seaborn\\_decorators.py:36: FutureWarning: Pass the following variable as a keyword arg: x. From version 0.12, the only valid positional argument will be `data`, and passing other arguments without an explicit keyword will result in an error or misinterpretation.\n",
      "  warnings.warn(\n",
      "C:\\Users\\pranj\\AppData\\Local\\Programs\\Python\\Python39\\lib\\site-packages\\seaborn\\_decorators.py:36: FutureWarning: Pass the following variable as a keyword arg: x. From version 0.12, the only valid positional argument will be `data`, and passing other arguments without an explicit keyword will result in an error or misinterpretation.\n",
      "  warnings.warn(\n",
      "C:\\Users\\pranj\\AppData\\Local\\Programs\\Python\\Python39\\lib\\site-packages\\seaborn\\_decorators.py:36: FutureWarning: Pass the following variable as a keyword arg: x. From version 0.12, the only valid positional argument will be `data`, and passing other arguments without an explicit keyword will result in an error or misinterpretation.\n",
      "  warnings.warn(\n",
      "C:\\Users\\pranj\\AppData\\Local\\Programs\\Python\\Python39\\lib\\site-packages\\seaborn\\_decorators.py:36: FutureWarning: Pass the following variable as a keyword arg: x. From version 0.12, the only valid positional argument will be `data`, and passing other arguments without an explicit keyword will result in an error or misinterpretation.\n",
      "  warnings.warn(\n",
      "C:\\Users\\pranj\\AppData\\Local\\Programs\\Python\\Python39\\lib\\site-packages\\seaborn\\_decorators.py:36: FutureWarning: Pass the following variable as a keyword arg: x. From version 0.12, the only valid positional argument will be `data`, and passing other arguments without an explicit keyword will result in an error or misinterpretation.\n",
      "  warnings.warn(\n",
      "C:\\Users\\pranj\\AppData\\Local\\Programs\\Python\\Python39\\lib\\site-packages\\seaborn\\_decorators.py:36: FutureWarning: Pass the following variable as a keyword arg: x. From version 0.12, the only valid positional argument will be `data`, and passing other arguments without an explicit keyword will result in an error or misinterpretation.\n",
      "  warnings.warn(\n",
      "C:\\Users\\pranj\\AppData\\Local\\Programs\\Python\\Python39\\lib\\site-packages\\seaborn\\_decorators.py:36: FutureWarning: Pass the following variable as a keyword arg: x. From version 0.12, the only valid positional argument will be `data`, and passing other arguments without an explicit keyword will result in an error or misinterpretation.\n",
      "  warnings.warn(\n",
      "C:\\Users\\pranj\\AppData\\Local\\Programs\\Python\\Python39\\lib\\site-packages\\seaborn\\_decorators.py:36: FutureWarning: Pass the following variable as a keyword arg: x. From version 0.12, the only valid positional argument will be `data`, and passing other arguments without an explicit keyword will result in an error or misinterpretation.\n",
      "  warnings.warn(\n",
      "C:\\Users\\pranj\\AppData\\Local\\Programs\\Python\\Python39\\lib\\site-packages\\seaborn\\_decorators.py:36: FutureWarning: Pass the following variable as a keyword arg: x. From version 0.12, the only valid positional argument will be `data`, and passing other arguments without an explicit keyword will result in an error or misinterpretation.\n",
      "  warnings.warn(\n"
     ]
    },
    {
     "data": {
      "image/png": "[encoded data removed]",
      "text/plain": [
       "<Figure size 432x288 with 1 Axes>"
      ]
     },
     "metadata": {
      "needs_background": "light"
     },
     "output_type": "display_data"
    },
    {
     "data": {
      "image/png": "[encoded data removed]",
      "text/plain": [
       "<Figure size 432x288 with 1 Axes>"
      ]
     },
     "metadata": {
      "needs_background": "light"
     },
     "output_type": "display_data"
    },
    {
     "data": {
      "image/png": "[encoded data removed]",
      "text/plain": [
       "<Figure size 432x288 with 1 Axes>"
      ]
     },
     "metadata": {
      "needs_background": "light"
     },
     "output_type": "display_data"
    },
    {
     "data": {
      "image/png": "[encoded data removed]",
      "text/plain": [
       "<Figure size 432x288 with 1 Axes>"
      ]
     },
     "metadata": {
      "needs_background": "light"
     },
     "output_type": "display_data"
    },
    {
     "data": {
      "image/png": "[encoded data removed]",
      "text/plain": [
       "<Figure size 432x288 with 1 Axes>"
      ]
     },
     "metadata": {
      "needs_background": "light"
     },
     "output_type": "display_data"
    },
    {
     "data": {
      "image/png": "[encoded data removed]",
      "text/plain": [
       "<Figure size 432x288 with 1 Axes>"
      ]
     },
     "metadata": {
      "needs_background": "light"
     },
     "output_type": "display_data"
    },
    {
     "data": {
      "image/png": "[encoded data removed]",
      "text/plain": [
       "<Figure size 432x288 with 1 Axes>"
      ]
     },
     "metadata": {
      "needs_background": "light"
     },
     "output_type": "display_data"
    },
    {
     "data": {
      "image/png": "[encoded data removed]",
      "text/plain": [
       "<Figure size 432x288 with 1 Axes>"
      ]
     },
     "metadata": {
      "needs_background": "light"
     },
     "output_type": "display_data"
    },
    {
     "data": {
      "image/png": "[encoded data removed]",
      "text/plain": [
       "<Figure size 432x288 with 1 Axes>"
      ]
     },
     "metadata": {
      "needs_background": "light"
     },
     "output_type": "display_data"
    },
    {
     "data": {
      "image/png": "[encoded data removed]",
      "text/plain": [
       "<Figure size 432x288 with 1 Axes>"
      ]
     },
     "metadata": {
      "needs_background": "light"
     },
     "output_type": "display_data"
    },
    {
     "data": {
      "image/png": "[encoded data removed]",
      "text/plain": [
       "<Figure size 432x288 with 1 Axes>"
      ]
     },
     "metadata": {
      "needs_background": "light"
     },
     "output_type": "display_data"
    },
    {
     "data": {
      "image/png": "[encoded data removed]",
      "text/plain": [
       "<Figure size 432x288 with 1 Axes>"
      ]
     },
     "metadata": {
      "needs_background": "light"
     },
     "output_type": "display_data"
    },
    {
     "data": {
      "image/png": "[encoded data removed]",
      "text/plain": [
       "<Figure size 432x288 with 1 Axes>"
      ]
     },
     "metadata": {
      "needs_background": "light"
     },
     "output_type": "display_data"
    }
   ],
   "source": [
    "for col in num.columns:\n",
    "    plt.figure()\n",
    "    sns.boxplot(num[col])"
   ]
  },
  {
   "cell_type": "code",
   "execution_count": 31,
   "id": "3da3c7ad",
   "metadata": {},
   "outputs": [
    {
     "name": "stderr",
     "output_type": "stream",
     "text": [
      "C:\\Users\\pranj\\AppData\\Local\\Programs\\Python\\Python39\\lib\\site-packages\\pandas\\core\\frame.py:4906: SettingWithCopyWarning: \n",
      "A value is trying to be set on a copy of a slice from a DataFrame\n",
      "\n",
      "See the caveats in the documentation: https://pandas.pydata.org/pandas-docs/stable/user_guide/indexing.html#returning-a-view-versus-a-copy\n",
      "  return super().drop(\n"
     ]
    }
   ],
   "source": [
    "num.drop(['wage_per_hour','capital_gains','capital_losses','dividend_from_Stocks','business_or_self_employed',\n",
    "         'veterans_benefits'], axis = 1, inplace = True)"
   ]
  },
  {
   "cell_type": "code",
   "execution_count": 32,
   "id": "02011dcf",
   "metadata": {},
   "outputs": [
    {
     "data": {
      "text/plain": [
       "Index(['index', 'age', 'industry_code', 'occupation_code',\n",
       "       'num_person_Worked_employer', 'weeks_worked_in_year', 'year'],\n",
       "      dtype='object')"
      ]
     },
     "execution_count": 32,
     "metadata": {},
     "output_type": "execute_result"
    }
   ],
   "source": [
    "num.columns"
   ]
  },
  {
   "cell_type": "code",
   "execution_count": 33,
   "id": "aa6dc88e",
   "metadata": {},
   "outputs": [
    {
     "data": {
      "text/html": [
       "<div>\n",
       "<style scoped>\n",
       "    .dataframe tbody tr th:only-of-type {\n",
       "        vertical-align: middle;\n",
       "    }\n",
       "\n",
       "    .dataframe tbody tr th {\n",
       "        vertical-align: top;\n",
       "    }\n",
       "\n",
       "    .dataframe thead th {\n",
       "        text-align: right;\n",
       "    }\n",
       "</style>\n",
       "<table border=\"1\" class=\"dataframe\">\n",
       "  <thead>\n",
       "    <tr style=\"text-align: right;\">\n",
       "      <th></th>\n",
       "      <th>index</th>\n",
       "      <th>age</th>\n",
       "      <th>industry_code</th>\n",
       "      <th>occupation_code</th>\n",
       "      <th>num_person_Worked_employer</th>\n",
       "      <th>weeks_worked_in_year</th>\n",
       "      <th>year</th>\n",
       "    </tr>\n",
       "  </thead>\n",
       "  <tbody>\n",
       "    <tr>\n",
       "      <th>0</th>\n",
       "      <td>117254.0</td>\n",
       "      <td>34.0</td>\n",
       "      <td>41.0</td>\n",
       "      <td>8.0</td>\n",
       "      <td>6.0</td>\n",
       "      <td>52.0</td>\n",
       "      <td>94.0</td>\n",
       "    </tr>\n",
       "    <tr>\n",
       "      <th>1</th>\n",
       "      <td>14247.0</td>\n",
       "      <td>55.0</td>\n",
       "      <td>13.0</td>\n",
       "      <td>2.0</td>\n",
       "      <td>3.0</td>\n",
       "      <td>52.0</td>\n",
       "      <td>94.0</td>\n",
       "    </tr>\n",
       "    <tr>\n",
       "      <th>2</th>\n",
       "      <td>87358.0</td>\n",
       "      <td>55.0</td>\n",
       "      <td>45.0</td>\n",
       "      <td>12.0</td>\n",
       "      <td>1.0</td>\n",
       "      <td>48.0</td>\n",
       "      <td>94.0</td>\n",
       "    </tr>\n",
       "    <tr>\n",
       "      <th>3</th>\n",
       "      <td>84187.0</td>\n",
       "      <td>34.0</td>\n",
       "      <td>11.0</td>\n",
       "      <td>11.0</td>\n",
       "      <td>6.0</td>\n",
       "      <td>52.0</td>\n",
       "      <td>94.0</td>\n",
       "    </tr>\n",
       "    <tr>\n",
       "      <th>4</th>\n",
       "      <td>193116.0</td>\n",
       "      <td>43.0</td>\n",
       "      <td>30.0</td>\n",
       "      <td>2.0</td>\n",
       "      <td>6.0</td>\n",
       "      <td>52.0</td>\n",
       "      <td>95.0</td>\n",
       "    </tr>\n",
       "    <tr>\n",
       "      <th>5</th>\n",
       "      <td>182641.0</td>\n",
       "      <td>51.0</td>\n",
       "      <td>43.0</td>\n",
       "      <td>12.0</td>\n",
       "      <td>6.0</td>\n",
       "      <td>40.0</td>\n",
       "      <td>94.0</td>\n",
       "    </tr>\n",
       "    <tr>\n",
       "      <th>6</th>\n",
       "      <td>92858.0</td>\n",
       "      <td>39.0</td>\n",
       "      <td>30.0</td>\n",
       "      <td>11.0</td>\n",
       "      <td>6.0</td>\n",
       "      <td>52.0</td>\n",
       "      <td>94.0</td>\n",
       "    </tr>\n",
       "    <tr>\n",
       "      <th>7</th>\n",
       "      <td>101235.0</td>\n",
       "      <td>47.0</td>\n",
       "      <td>32.0</td>\n",
       "      <td>18.0</td>\n",
       "      <td>6.0</td>\n",
       "      <td>52.0</td>\n",
       "      <td>94.0</td>\n",
       "    </tr>\n",
       "    <tr>\n",
       "      <th>8</th>\n",
       "      <td>8075.0</td>\n",
       "      <td>35.0</td>\n",
       "      <td>12.0</td>\n",
       "      <td>18.0</td>\n",
       "      <td>3.0</td>\n",
       "      <td>52.0</td>\n",
       "      <td>95.0</td>\n",
       "    </tr>\n",
       "    <tr>\n",
       "      <th>9</th>\n",
       "      <td>71655.0</td>\n",
       "      <td>48.0</td>\n",
       "      <td>33.0</td>\n",
       "      <td>3.0</td>\n",
       "      <td>2.0</td>\n",
       "      <td>52.0</td>\n",
       "      <td>94.0</td>\n",
       "    </tr>\n",
       "    <tr>\n",
       "      <th>10</th>\n",
       "      <td>90342.0</td>\n",
       "      <td>47.0</td>\n",
       "      <td>31.0</td>\n",
       "      <td>4.0</td>\n",
       "      <td>6.0</td>\n",
       "      <td>52.0</td>\n",
       "      <td>95.0</td>\n",
       "    </tr>\n",
       "    <tr>\n",
       "      <th>11</th>\n",
       "      <td>187685.0</td>\n",
       "      <td>55.0</td>\n",
       "      <td>37.0</td>\n",
       "      <td>5.0</td>\n",
       "      <td>6.0</td>\n",
       "      <td>52.0</td>\n",
       "      <td>94.0</td>\n",
       "    </tr>\n",
       "    <tr>\n",
       "      <th>12</th>\n",
       "      <td>183829.0</td>\n",
       "      <td>52.0</td>\n",
       "      <td>9.0</td>\n",
       "      <td>35.0</td>\n",
       "      <td>6.0</td>\n",
       "      <td>52.0</td>\n",
       "      <td>94.0</td>\n",
       "    </tr>\n",
       "    <tr>\n",
       "      <th>13</th>\n",
       "      <td>180065.0</td>\n",
       "      <td>40.0</td>\n",
       "      <td>50.0</td>\n",
       "      <td>15.0</td>\n",
       "      <td>3.0</td>\n",
       "      <td>52.0</td>\n",
       "      <td>94.0</td>\n",
       "    </tr>\n",
       "    <tr>\n",
       "      <th>14</th>\n",
       "      <td>134426.0</td>\n",
       "      <td>66.0</td>\n",
       "      <td>0.0</td>\n",
       "      <td>0.0</td>\n",
       "      <td>0.0</td>\n",
       "      <td>0.0</td>\n",
       "      <td>94.0</td>\n",
       "    </tr>\n",
       "    <tr>\n",
       "      <th>15</th>\n",
       "      <td>27996.0</td>\n",
       "      <td>36.0</td>\n",
       "      <td>47.0</td>\n",
       "      <td>28.0</td>\n",
       "      <td>6.0</td>\n",
       "      <td>52.0</td>\n",
       "      <td>94.0</td>\n",
       "    </tr>\n",
       "    <tr>\n",
       "      <th>16</th>\n",
       "      <td>12802.0</td>\n",
       "      <td>45.0</td>\n",
       "      <td>30.0</td>\n",
       "      <td>33.0</td>\n",
       "      <td>6.0</td>\n",
       "      <td>52.0</td>\n",
       "      <td>94.0</td>\n",
       "    </tr>\n",
       "    <tr>\n",
       "      <th>17</th>\n",
       "      <td>171700.0</td>\n",
       "      <td>67.0</td>\n",
       "      <td>32.0</td>\n",
       "      <td>3.0</td>\n",
       "      <td>4.0</td>\n",
       "      <td>52.0</td>\n",
       "      <td>95.0</td>\n",
       "    </tr>\n",
       "    <tr>\n",
       "      <th>18</th>\n",
       "      <td>112304.0</td>\n",
       "      <td>46.0</td>\n",
       "      <td>35.0</td>\n",
       "      <td>16.0</td>\n",
       "      <td>2.0</td>\n",
       "      <td>52.0</td>\n",
       "      <td>94.0</td>\n",
       "    </tr>\n",
       "    <tr>\n",
       "      <th>19</th>\n",
       "      <td>40005.0</td>\n",
       "      <td>52.0</td>\n",
       "      <td>31.0</td>\n",
       "      <td>23.0</td>\n",
       "      <td>6.0</td>\n",
       "      <td>52.0</td>\n",
       "      <td>95.0</td>\n",
       "    </tr>\n",
       "    <tr>\n",
       "      <th>20</th>\n",
       "      <td>86104.0</td>\n",
       "      <td>30.0</td>\n",
       "      <td>25.0</td>\n",
       "      <td>28.0</td>\n",
       "      <td>6.0</td>\n",
       "      <td>52.0</td>\n",
       "      <td>95.0</td>\n",
       "    </tr>\n",
       "    <tr>\n",
       "      <th>21</th>\n",
       "      <td>81909.0</td>\n",
       "      <td>38.0</td>\n",
       "      <td>33.0</td>\n",
       "      <td>16.0</td>\n",
       "      <td>1.0</td>\n",
       "      <td>52.0</td>\n",
       "      <td>95.0</td>\n",
       "    </tr>\n",
       "    <tr>\n",
       "      <th>22</th>\n",
       "      <td>103807.0</td>\n",
       "      <td>39.0</td>\n",
       "      <td>3.0</td>\n",
       "      <td>3.0</td>\n",
       "      <td>6.0</td>\n",
       "      <td>52.0</td>\n",
       "      <td>95.0</td>\n",
       "    </tr>\n",
       "    <tr>\n",
       "      <th>23</th>\n",
       "      <td>19463.0</td>\n",
       "      <td>62.0</td>\n",
       "      <td>42.0</td>\n",
       "      <td>7.0</td>\n",
       "      <td>6.0</td>\n",
       "      <td>52.0</td>\n",
       "      <td>95.0</td>\n",
       "    </tr>\n",
       "    <tr>\n",
       "      <th>24</th>\n",
       "      <td>73521.0</td>\n",
       "      <td>38.0</td>\n",
       "      <td>4.0</td>\n",
       "      <td>34.0</td>\n",
       "      <td>1.0</td>\n",
       "      <td>52.0</td>\n",
       "      <td>94.0</td>\n",
       "    </tr>\n",
       "  </tbody>\n",
       "</table>\n",
       "</div>"
      ],
      "text/plain": [
       "       index   age  industry_code  occupation_code  \\\n",
       "0   117254.0  34.0           41.0              8.0   \n",
       "1    14247.0  55.0           13.0              2.0   \n",
       "2    87358.0  55.0           45.0             12.0   \n",
       "3    84187.0  34.0           11.0             11.0   \n",
       "4   193116.0  43.0           30.0              2.0   \n",
       "5   182641.0  51.0           43.0             12.0   \n",
       "6    92858.0  39.0           30.0             11.0   \n",
       "7   101235.0  47.0           32.0             18.0   \n",
       "8     8075.0  35.0           12.0             18.0   \n",
       "9    71655.0  48.0           33.0              3.0   \n",
       "10   90342.0  47.0           31.0              4.0   \n",
       "11  187685.0  55.0           37.0              5.0   \n",
       "12  183829.0  52.0            9.0             35.0   \n",
       "13  180065.0  40.0           50.0             15.0   \n",
       "14  134426.0  66.0            0.0              0.0   \n",
       "15   27996.0  36.0           47.0             28.0   \n",
       "16   12802.0  45.0           30.0             33.0   \n",
       "17  171700.0  67.0           32.0              3.0   \n",
       "18  112304.0  46.0           35.0             16.0   \n",
       "19   40005.0  52.0           31.0             23.0   \n",
       "20   86104.0  30.0           25.0             28.0   \n",
       "21   81909.0  38.0           33.0             16.0   \n",
       "22  103807.0  39.0            3.0              3.0   \n",
       "23   19463.0  62.0           42.0              7.0   \n",
       "24   73521.0  38.0            4.0             34.0   \n",
       "\n",
       "    num_person_Worked_employer  weeks_worked_in_year  year  \n",
       "0                          6.0                  52.0  94.0  \n",
       "1                          3.0                  52.0  94.0  \n",
       "2                          1.0                  48.0  94.0  \n",
       "3                          6.0                  52.0  94.0  \n",
       "4                          6.0                  52.0  95.0  \n",
       "5                          6.0                  40.0  94.0  \n",
       "6                          6.0                  52.0  94.0  \n",
       "7                          6.0                  52.0  94.0  \n",
       "8                          3.0                  52.0  95.0  \n",
       "9                          2.0                  52.0  94.0  \n",
       "10                         6.0                  52.0  95.0  \n",
       "11                         6.0                  52.0  94.0  \n",
       "12                         6.0                  52.0  94.0  \n",
       "13                         3.0                  52.0  94.0  \n",
       "14                         0.0                   0.0  94.0  \n",
       "15                         6.0                  52.0  94.0  \n",
       "16                         6.0                  52.0  94.0  \n",
       "17                         4.0                  52.0  95.0  \n",
       "18                         2.0                  52.0  94.0  \n",
       "19                         6.0                  52.0  95.0  \n",
       "20                         6.0                  52.0  95.0  \n",
       "21                         1.0                  52.0  95.0  \n",
       "22                         6.0                  52.0  95.0  \n",
       "23                         6.0                  52.0  95.0  \n",
       "24                         1.0                  52.0  94.0  "
      ]
     },
     "execution_count": 33,
     "metadata": {},
     "output_type": "execute_result"
    }
   ],
   "source": [
    "num.head(25)"
   ]
  },
  {
   "cell_type": "code",
   "execution_count": 34,
   "id": "2c748de1",
   "metadata": {},
   "outputs": [
    {
     "data": {
      "text/html": [
       "<div>\n",
       "<style scoped>\n",
       "    .dataframe tbody tr th:only-of-type {\n",
       "        vertical-align: middle;\n",
       "    }\n",
       "\n",
       "    .dataframe tbody tr th {\n",
       "        vertical-align: top;\n",
       "    }\n",
       "\n",
       "    .dataframe thead th {\n",
       "        text-align: right;\n",
       "    }\n",
       "</style>\n",
       "<table border=\"1\" class=\"dataframe\">\n",
       "  <thead>\n",
       "    <tr style=\"text-align: right;\">\n",
       "      <th></th>\n",
       "      <th>class_of_worker</th>\n",
       "      <th>education</th>\n",
       "      <th>enrolled_in_edu_inst_lastwk</th>\n",
       "      <th>marital_status</th>\n",
       "      <th>major_industry_code</th>\n",
       "      <th>major_occupation_code</th>\n",
       "      <th>race</th>\n",
       "      <th>hispanic_origin</th>\n",
       "      <th>sex</th>\n",
       "      <th>member_of_labor_union</th>\n",
       "      <th>...</th>\n",
       "      <th>migration_reg</th>\n",
       "      <th>migration_within_reg</th>\n",
       "      <th>live_1_year_ago</th>\n",
       "      <th>migration_sunbelt</th>\n",
       "      <th>family_members_under_18</th>\n",
       "      <th>country_father</th>\n",
       "      <th>country_mother</th>\n",
       "      <th>country_self</th>\n",
       "      <th>citizenship</th>\n",
       "      <th>fill_questionnaire_veteran_admin</th>\n",
       "    </tr>\n",
       "  </thead>\n",
       "  <tbody>\n",
       "    <tr>\n",
       "      <th>0</th>\n",
       "      <td>Private</td>\n",
       "      <td>High school graduate</td>\n",
       "      <td>Not in universe</td>\n",
       "      <td>Never married</td>\n",
       "      <td>Hospital services</td>\n",
       "      <td>Professional specialty</td>\n",
       "      <td>White</td>\n",
       "      <td>All other</td>\n",
       "      <td>Female</td>\n",
       "      <td>Not in universe</td>\n",
       "      <td>...</td>\n",
       "      <td>Nonmover</td>\n",
       "      <td>Nonmover</td>\n",
       "      <td>Yes</td>\n",
       "      <td>Not in universe</td>\n",
       "      <td>Not in universe</td>\n",
       "      <td>Ireland</td>\n",
       "      <td>Ireland</td>\n",
       "      <td>Ireland</td>\n",
       "      <td>Foreign born- Not a citizen of U S</td>\n",
       "      <td>Not in universe</td>\n",
       "    </tr>\n",
       "    <tr>\n",
       "      <th>1</th>\n",
       "      <td>Private</td>\n",
       "      <td>Masters degree(MA MS MEng MEd MSW MBA)</td>\n",
       "      <td>Not in universe</td>\n",
       "      <td>Married-civilian spouse present</td>\n",
       "      <td>Manufacturing-durable goods</td>\n",
       "      <td>Executive admin and managerial</td>\n",
       "      <td>White</td>\n",
       "      <td>All other</td>\n",
       "      <td>Male</td>\n",
       "      <td>Not in universe</td>\n",
       "      <td>...</td>\n",
       "      <td>Nonmover</td>\n",
       "      <td>Nonmover</td>\n",
       "      <td>Yes</td>\n",
       "      <td>Not in universe</td>\n",
       "      <td>Not in universe</td>\n",
       "      <td>United-States</td>\n",
       "      <td>United-States</td>\n",
       "      <td>United-States</td>\n",
       "      <td>Native- Born in the United States</td>\n",
       "      <td>Not in universe</td>\n",
       "    </tr>\n",
       "    <tr>\n",
       "      <th>2</th>\n",
       "      <td>Private</td>\n",
       "      <td>Some college but no degree</td>\n",
       "      <td>Not in universe</td>\n",
       "      <td>Married-civilian spouse present</td>\n",
       "      <td>Other professional services</td>\n",
       "      <td>Professional specialty</td>\n",
       "      <td>White</td>\n",
       "      <td>All other</td>\n",
       "      <td>Male</td>\n",
       "      <td>Not in universe</td>\n",
       "      <td>...</td>\n",
       "      <td>Nonmover</td>\n",
       "      <td>Nonmover</td>\n",
       "      <td>Yes</td>\n",
       "      <td>Not in universe</td>\n",
       "      <td>Not in universe</td>\n",
       "      <td>United-States</td>\n",
       "      <td>United-States</td>\n",
       "      <td>United-States</td>\n",
       "      <td>Native- Born in the United States</td>\n",
       "      <td>Not in universe</td>\n",
       "    </tr>\n",
       "    <tr>\n",
       "      <th>3</th>\n",
       "      <td>Private</td>\n",
       "      <td>Prof school degree (MD DDS DVM LLB JD)</td>\n",
       "      <td>Not in universe</td>\n",
       "      <td>Married-civilian spouse present</td>\n",
       "      <td>Manufacturing-durable goods</td>\n",
       "      <td>Professional specialty</td>\n",
       "      <td>White</td>\n",
       "      <td>All other</td>\n",
       "      <td>Female</td>\n",
       "      <td>Not in universe</td>\n",
       "      <td>...</td>\n",
       "      <td>Nonmover</td>\n",
       "      <td>Nonmover</td>\n",
       "      <td>Yes</td>\n",
       "      <td>Not in universe</td>\n",
       "      <td>Not in universe</td>\n",
       "      <td>United-States</td>\n",
       "      <td>United-States</td>\n",
       "      <td>United-States</td>\n",
       "      <td>Native- Born in the United States</td>\n",
       "      <td>Not in universe</td>\n",
       "    </tr>\n",
       "    <tr>\n",
       "      <th>4</th>\n",
       "      <td>Private</td>\n",
       "      <td>Masters degree(MA MS MEng MEd MSW MBA)</td>\n",
       "      <td>Not in universe</td>\n",
       "      <td>Married-civilian spouse present</td>\n",
       "      <td>Communications</td>\n",
       "      <td>Executive admin and managerial</td>\n",
       "      <td>White</td>\n",
       "      <td>All other</td>\n",
       "      <td>Female</td>\n",
       "      <td>Not in universe</td>\n",
       "      <td>...</td>\n",
       "      <td>NaN</td>\n",
       "      <td>NaN</td>\n",
       "      <td>Not in universe under 1 year old</td>\n",
       "      <td>NaN</td>\n",
       "      <td>Not in universe</td>\n",
       "      <td>United-States</td>\n",
       "      <td>United-States</td>\n",
       "      <td>United-States</td>\n",
       "      <td>Native- Born in the United States</td>\n",
       "      <td>Not in universe</td>\n",
       "    </tr>\n",
       "  </tbody>\n",
       "</table>\n",
       "<p>5 rows × 28 columns</p>\n",
       "</div>"
      ],
      "text/plain": [
       "  class_of_worker                               education  \\\n",
       "0         Private                    High school graduate   \n",
       "1         Private  Masters degree(MA MS MEng MEd MSW MBA)   \n",
       "2         Private              Some college but no degree   \n",
       "3         Private  Prof school degree (MD DDS DVM LLB JD)   \n",
       "4         Private  Masters degree(MA MS MEng MEd MSW MBA)   \n",
       "\n",
       "  enrolled_in_edu_inst_lastwk                   marital_status  \\\n",
       "0             Not in universe                    Never married   \n",
       "1             Not in universe  Married-civilian spouse present   \n",
       "2             Not in universe  Married-civilian spouse present   \n",
       "3             Not in universe  Married-civilian spouse present   \n",
       "4             Not in universe  Married-civilian spouse present   \n",
       "\n",
       "           major_industry_code           major_occupation_code   race  \\\n",
       "0            Hospital services          Professional specialty  White   \n",
       "1  Manufacturing-durable goods  Executive admin and managerial  White   \n",
       "2  Other professional services          Professional specialty  White   \n",
       "3  Manufacturing-durable goods          Professional specialty  White   \n",
       "4               Communications  Executive admin and managerial  White   \n",
       "\n",
       "  hispanic_origin     sex member_of_labor_union  ... migration_reg  \\\n",
       "0       All other  Female       Not in universe  ...      Nonmover   \n",
       "1       All other    Male       Not in universe  ...      Nonmover   \n",
       "2       All other    Male       Not in universe  ...      Nonmover   \n",
       "3       All other  Female       Not in universe  ...      Nonmover   \n",
       "4       All other  Female       Not in universe  ...           NaN   \n",
       "\n",
       "  migration_within_reg                   live_1_year_ago migration_sunbelt  \\\n",
       "0             Nonmover                               Yes   Not in universe   \n",
       "1             Nonmover                               Yes   Not in universe   \n",
       "2             Nonmover                               Yes   Not in universe   \n",
       "3             Nonmover                               Yes   Not in universe   \n",
       "4                  NaN  Not in universe under 1 year old               NaN   \n",
       "\n",
       "  family_members_under_18 country_father country_mother   country_self  \\\n",
       "0         Not in universe        Ireland        Ireland        Ireland   \n",
       "1         Not in universe  United-States  United-States  United-States   \n",
       "2         Not in universe  United-States  United-States  United-States   \n",
       "3         Not in universe  United-States  United-States  United-States   \n",
       "4         Not in universe  United-States  United-States  United-States   \n",
       "\n",
       "                          citizenship fill_questionnaire_veteran_admin  \n",
       "0  Foreign born- Not a citizen of U S                  Not in universe  \n",
       "1   Native- Born in the United States                  Not in universe  \n",
       "2   Native- Born in the United States                  Not in universe  \n",
       "3   Native- Born in the United States                  Not in universe  \n",
       "4   Native- Born in the United States                  Not in universe  \n",
       "\n",
       "[5 rows x 28 columns]"
      ]
     },
     "execution_count": 34,
     "metadata": {},
     "output_type": "execute_result"
    }
   ],
   "source": [
    "char.head()"
   ]
  },
  {
   "cell_type": "code",
   "execution_count": 35,
   "id": "fa097bdf",
   "metadata": {},
   "outputs": [
    {
     "data": {
      "text/plain": [
       "Private                           175109\n",
       "Not in universe                   112922\n",
       "Self-employed-not incorporated     23817\n",
       "Local government                   19783\n",
       "Self-employed-incorporated         19458\n",
       "Federal government                 11404\n",
       "State government                   11155\n",
       "Never worked                         462\n",
       "Without pay                          172\n",
       "Name: class_of_worker, dtype: int64"
      ]
     },
     "execution_count": 35,
     "metadata": {},
     "output_type": "execute_result"
    }
   ],
   "source": [
    "char['class_of_worker'].value_counts()"
   ]
  },
  {
   "cell_type": "code",
   "execution_count": 36,
   "id": "86f0b225",
   "metadata": {},
   "outputs": [
    {
     "data": {
      "text/plain": [
       "class_of_worker                     0.000000\n",
       "education                           0.000000\n",
       "enrolled_in_edu_inst_lastwk         0.000000\n",
       "marital_status                      0.000000\n",
       "major_industry_code                 0.000000\n",
       "major_occupation_code               0.000000\n",
       "race                                0.000000\n",
       "hispanic_origin                     0.004622\n",
       "sex                                 0.000000\n",
       "member_of_labor_union               0.000000\n",
       "reason_for_unemployment             0.000000\n",
       "full_parttime_employment_stat       0.000000\n",
       "tax_filer_status                    0.000000\n",
       "region_of_previous_residence        0.000000\n",
       "state_of_previous_residence         0.003671\n",
       "d_household_family_stat             0.000000\n",
       "d_household_summary                 0.000000\n",
       "migration_msa                       0.513052\n",
       "migration_reg                       0.513052\n",
       "migration_within_reg                0.513052\n",
       "live_1_year_ago                     0.000000\n",
       "migration_sunbelt                   0.513052\n",
       "family_members_under_18             0.000000\n",
       "country_father                      0.038613\n",
       "country_mother                      0.034284\n",
       "country_self                        0.020359\n",
       "citizenship                         0.000000\n",
       "fill_questionnaire_veteran_admin    0.000000\n",
       "dtype: float64"
      ]
     },
     "execution_count": 36,
     "metadata": {},
     "output_type": "execute_result"
    }
   ],
   "source": [
    "char.isnull().mean()"
   ]
  },
  {
   "cell_type": "code",
   "execution_count": 37,
   "id": "2789f9ca",
   "metadata": {},
   "outputs": [
    {
     "name": "stderr",
     "output_type": "stream",
     "text": [
      "C:\\Users\\pranj\\AppData\\Local\\Programs\\Python\\Python39\\lib\\site-packages\\pandas\\core\\frame.py:4906: SettingWithCopyWarning: \n",
      "A value is trying to be set on a copy of a slice from a DataFrame\n",
      "\n",
      "See the caveats in the documentation: https://pandas.pydata.org/pandas-docs/stable/user_guide/indexing.html#returning-a-view-versus-a-copy\n",
      "  return super().drop(\n"
     ]
    }
   ],
   "source": [
    "char.drop(['migration_msa','migration_reg','migration_within_reg','migration_sunbelt'], axis = 1, inplace = True)"
   ]
  },
  {
   "cell_type": "code",
   "execution_count": 38,
   "id": "a9b23601",
   "metadata": {},
   "outputs": [
    {
     "data": {
      "text/plain": [
       "Index(['class_of_worker', 'education', 'enrolled_in_edu_inst_lastwk',\n",
       "       'marital_status', 'major_industry_code', 'major_occupation_code',\n",
       "       'race', 'hispanic_origin', 'sex', 'member_of_labor_union',\n",
       "       'reason_for_unemployment', 'full_parttime_employment_stat',\n",
       "       'tax_filer_status', 'region_of_previous_residence',\n",
       "       'state_of_previous_residence', 'd_household_family_stat',\n",
       "       'd_household_summary', 'live_1_year_ago', 'family_members_under_18',\n",
       "       'country_father', 'country_mother', 'country_self', 'citizenship',\n",
       "       'fill_questionnaire_veteran_admin'],\n",
       "      dtype='object')"
      ]
     },
     "execution_count": 38,
     "metadata": {},
     "output_type": "execute_result"
    }
   ],
   "source": [
    "char.columns"
   ]
  },
  {
   "cell_type": "code",
   "execution_count": 39,
   "id": "888b4c22",
   "metadata": {},
   "outputs": [
    {
     "name": "stderr",
     "output_type": "stream",
     "text": [
      "C:\\Users\\pranj\\AppData\\Local\\Programs\\Python\\Python39\\lib\\site-packages\\sklearn\\preprocessing\\_discretization.py:209: FutureWarning: In version 1.3 onwards, subsample=2e5 will be used by default. Set subsample explicitly to silence this warning in the mean time. Set subsample=None to disable subsampling explicitly.\n",
      "  warnings.warn(\n",
      "C:\\Users\\pranj\\AppData\\Local\\Programs\\Python\\Python39\\lib\\site-packages\\sklearn\\preprocessing\\_discretization.py:291: UserWarning: Bins whose width are too small (i.e., <= 1e-8) in feature 2 are removed. Consider decreasing the number of bins.\n",
      "  warnings.warn(\n",
      "C:\\Users\\pranj\\AppData\\Local\\Programs\\Python\\Python39\\lib\\site-packages\\sklearn\\preprocessing\\_discretization.py:291: UserWarning: Bins whose width are too small (i.e., <= 1e-8) in feature 3 are removed. Consider decreasing the number of bins.\n",
      "  warnings.warn(\n",
      "C:\\Users\\pranj\\AppData\\Local\\Programs\\Python\\Python39\\lib\\site-packages\\sklearn\\preprocessing\\_discretization.py:291: UserWarning: Bins whose width are too small (i.e., <= 1e-8) in feature 4 are removed. Consider decreasing the number of bins.\n",
      "  warnings.warn(\n",
      "C:\\Users\\pranj\\AppData\\Local\\Programs\\Python\\Python39\\lib\\site-packages\\sklearn\\preprocessing\\_discretization.py:291: UserWarning: Bins whose width are too small (i.e., <= 1e-8) in feature 5 are removed. Consider decreasing the number of bins.\n",
      "  warnings.warn(\n",
      "C:\\Users\\pranj\\AppData\\Local\\Programs\\Python\\Python39\\lib\\site-packages\\sklearn\\preprocessing\\_discretization.py:291: UserWarning: Bins whose width are too small (i.e., <= 1e-8) in feature 6 are removed. Consider decreasing the number of bins.\n",
      "  warnings.warn(\n"
     ]
    }
   ],
   "source": [
    "from sklearn.preprocessing import KBinsDiscretizer\n",
    "kbins = KBinsDiscretizer(n_bins=10, strategy='quantile',encode = 'ordinal')\n",
    "num_binned = pd.DataFrame(kbins.fit_transform(num), columns = num.columns)"
   ]
  },
  {
   "cell_type": "code",
   "execution_count": 40,
   "id": "7cb81694",
   "metadata": {},
   "outputs": [
    {
     "name": "stdout",
     "output_type": "stream",
     "text": [
      "<class 'pandas.core.frame.DataFrame'>\n",
      "RangeIndex: 374282 entries, 0 to 374281\n",
      "Data columns (total 7 columns):\n",
      " #   Column                      Non-Null Count   Dtype  \n",
      "---  ------                      --------------   -----  \n",
      " 0   index                       374282 non-null  float64\n",
      " 1   age                         374282 non-null  float64\n",
      " 2   industry_code               374282 non-null  float64\n",
      " 3   occupation_code             374282 non-null  float64\n",
      " 4   num_person_Worked_employer  374282 non-null  float64\n",
      " 5   weeks_worked_in_year        374282 non-null  float64\n",
      " 6   year                        374282 non-null  float64\n",
      "dtypes: float64(7)\n",
      "memory usage: 20.0 MB\n"
     ]
    }
   ],
   "source": [
    "num.info()"
   ]
  },
  {
   "cell_type": "code",
   "execution_count": null,
   "id": "288a8185",
   "metadata": {},
   "outputs": [],
   "source": []
  },
  {
   "cell_type": "code",
   "execution_count": 41,
   "id": "fa778385",
   "metadata": {},
   "outputs": [
    {
     "name": "stdout",
     "output_type": "stream",
     "text": [
      "<class 'pandas.core.frame.DataFrame'>\n",
      "RangeIndex: 374282 entries, 0 to 374281\n",
      "Data columns (total 7 columns):\n",
      " #   Column                      Non-Null Count   Dtype  \n",
      "---  ------                      --------------   -----  \n",
      " 0   index                       374282 non-null  float64\n",
      " 1   age                         374282 non-null  float64\n",
      " 2   industry_code               374282 non-null  float64\n",
      " 3   occupation_code             374282 non-null  float64\n",
      " 4   num_person_Worked_employer  374282 non-null  float64\n",
      " 5   weeks_worked_in_year        374282 non-null  float64\n",
      " 6   year                        374282 non-null  float64\n",
      "dtypes: float64(7)\n",
      "memory usage: 20.0 MB\n"
     ]
    }
   ],
   "source": [
    "num_binned.info()"
   ]
  },
  {
   "cell_type": "code",
   "execution_count": 42,
   "id": "ea31f49f",
   "metadata": {},
   "outputs": [
    {
     "data": {
      "text/plain": [
       "RangeIndex(start=0, stop=374282, step=1)"
      ]
     },
     "execution_count": 42,
     "metadata": {},
     "output_type": "execute_result"
    }
   ],
   "source": [
    "num_binned.index"
   ]
  },
  {
   "cell_type": "code",
   "execution_count": 43,
   "id": "5056c8d5",
   "metadata": {},
   "outputs": [],
   "source": [
    "Y.reset_index(inplace = True)"
   ]
  },
  {
   "cell_type": "code",
   "execution_count": 44,
   "id": "ff2160fa",
   "metadata": {},
   "outputs": [],
   "source": [
    "num_binned_Y = pd.concat([num_binned,Y], axis = 1)"
   ]
  },
  {
   "cell_type": "code",
   "execution_count": 46,
   "id": "f45765be",
   "metadata": {},
   "outputs": [
    {
     "data": {
      "text/plain": [
       "RangeIndex(start=0, stop=374282, step=1)"
      ]
     },
     "execution_count": 46,
     "metadata": {},
     "output_type": "execute_result"
    }
   ],
   "source": [
    "Y.index"
   ]
  },
  {
   "cell_type": "code",
   "execution_count": 47,
   "id": "b5731628",
   "metadata": {},
   "outputs": [
    {
     "data": {
      "text/plain": [
       "RangeIndex(start=0, stop=374282, step=1)"
      ]
     },
     "execution_count": 47,
     "metadata": {},
     "output_type": "execute_result"
    }
   ],
   "source": [
    "num_binned_Y.index"
   ]
  },
  {
   "cell_type": "code",
   "execution_count": 53,
   "id": "d0068473",
   "metadata": {},
   "outputs": [
    {
     "data": {
      "text/plain": [
       "Index(['index', 'age', 'industry_code', 'occupation_code',\n",
       "       'num_person_Worked_employer', 'weeks_worked_in_year', 'year'],\n",
       "      dtype='object')"
      ]
     },
     "execution_count": 53,
     "metadata": {},
     "output_type": "execute_result"
    }
   ],
   "source": [
    "num_binned.columns"
   ]
  },
  {
   "cell_type": "code",
   "execution_count": 55,
   "id": "cc4cea1c",
   "metadata": {},
   "outputs": [
    {
     "data": {
      "image/png": "[encoded data removed]",
      "text/plain": [
       "<Figure size 432x288 with 1 Axes>"
      ]
     },
     "metadata": {
      "needs_background": "light"
     },
     "output_type": "display_data"
    },
    {
     "data": {
      "image/png": "[encoded data removed]",
      "text/plain": [
       "<Figure size 432x288 with 1 Axes>"
      ]
     },
     "metadata": {
      "needs_background": "light"
     },
     "output_type": "display_data"
    },
    {
     "data": {
      "image/png": "[encoded data removed]",
      "text/plain": [
       "<Figure size 432x288 with 1 Axes>"
      ]
     },
     "metadata": {
      "needs_background": "light"
     },
     "output_type": "display_data"
    },
    {
     "data": {
      "image/png": "[encoded data removed]",
      "text/plain": [
       "<Figure size 432x288 with 1 Axes>"
      ]
     },
     "metadata": {
      "needs_background": "light"
     },
     "output_type": "display_data"
    },
    {
     "data": {
      "image/png": "[encoded data removed]",
      "text/plain": [
       "<Figure size 432x288 with 1 Axes>"
      ]
     },
     "metadata": {
      "needs_background": "light"
     },
     "output_type": "display_data"
    },
    {
     "data": {
      "image/png": "[encoded data removed]",
      "text/plain": [
       "<Figure size 432x288 with 1 Axes>"
      ]
     },
     "metadata": {
      "needs_background": "light"
     },
     "output_type": "display_data"
    }
   ],
   "source": [
    "for col in ['age', 'industry_code', 'occupation_code',\n",
    "       'num_person_Worked_employer', 'weeks_worked_in_year', 'year']:\n",
    "    plt.figure()\n",
    "#     sns.lineplot(x = col, y = Y['income_level'].mean(), data = num_binned_Y)\n",
    "    sns.barplot(x = col, y = 'income_level', data = num_binned_Y)\n",
    "# sns.barplot(x = 'age', y = 'income_level', data = num_binned_Y)"
   ]
  },
  {
   "cell_type": "code",
   "execution_count": 56,
   "id": "962ae299",
   "metadata": {},
   "outputs": [
    {
     "data": {
      "text/html": [
       "<div>\n",
       "<style scoped>\n",
       "    .dataframe tbody tr th:only-of-type {\n",
       "        vertical-align: middle;\n",
       "    }\n",
       "\n",
       "    .dataframe tbody tr th {\n",
       "        vertical-align: top;\n",
       "    }\n",
       "\n",
       "    .dataframe thead th {\n",
       "        text-align: right;\n",
       "    }\n",
       "</style>\n",
       "<table border=\"1\" class=\"dataframe\">\n",
       "  <thead>\n",
       "    <tr style=\"text-align: right;\">\n",
       "      <th></th>\n",
       "      <th>class_of_worker</th>\n",
       "      <th>education</th>\n",
       "      <th>enrolled_in_edu_inst_lastwk</th>\n",
       "      <th>marital_status</th>\n",
       "      <th>major_industry_code</th>\n",
       "      <th>major_occupation_code</th>\n",
       "      <th>race</th>\n",
       "      <th>hispanic_origin</th>\n",
       "      <th>sex</th>\n",
       "      <th>member_of_labor_union</th>\n",
       "      <th>...</th>\n",
       "      <th>state_of_previous_residence</th>\n",
       "      <th>d_household_family_stat</th>\n",
       "      <th>d_household_summary</th>\n",
       "      <th>live_1_year_ago</th>\n",
       "      <th>family_members_under_18</th>\n",
       "      <th>country_father</th>\n",
       "      <th>country_mother</th>\n",
       "      <th>country_self</th>\n",
       "      <th>citizenship</th>\n",
       "      <th>fill_questionnaire_veteran_admin</th>\n",
       "    </tr>\n",
       "  </thead>\n",
       "  <tbody>\n",
       "    <tr>\n",
       "      <th>0</th>\n",
       "      <td>Private</td>\n",
       "      <td>High school graduate</td>\n",
       "      <td>Not in universe</td>\n",
       "      <td>Never married</td>\n",
       "      <td>Hospital services</td>\n",
       "      <td>Professional specialty</td>\n",
       "      <td>White</td>\n",
       "      <td>All other</td>\n",
       "      <td>Female</td>\n",
       "      <td>Not in universe</td>\n",
       "      <td>...</td>\n",
       "      <td>Not in universe</td>\n",
       "      <td>Nonfamily householder</td>\n",
       "      <td>Householder</td>\n",
       "      <td>Yes</td>\n",
       "      <td>Not in universe</td>\n",
       "      <td>Ireland</td>\n",
       "      <td>Ireland</td>\n",
       "      <td>Ireland</td>\n",
       "      <td>Foreign born- Not a citizen of U S</td>\n",
       "      <td>Not in universe</td>\n",
       "    </tr>\n",
       "    <tr>\n",
       "      <th>1</th>\n",
       "      <td>Private</td>\n",
       "      <td>Masters degree(MA MS MEng MEd MSW MBA)</td>\n",
       "      <td>Not in universe</td>\n",
       "      <td>Married-civilian spouse present</td>\n",
       "      <td>Manufacturing-durable goods</td>\n",
       "      <td>Executive admin and managerial</td>\n",
       "      <td>White</td>\n",
       "      <td>All other</td>\n",
       "      <td>Male</td>\n",
       "      <td>Not in universe</td>\n",
       "      <td>...</td>\n",
       "      <td>Not in universe</td>\n",
       "      <td>Householder</td>\n",
       "      <td>Householder</td>\n",
       "      <td>Yes</td>\n",
       "      <td>Not in universe</td>\n",
       "      <td>United-States</td>\n",
       "      <td>United-States</td>\n",
       "      <td>United-States</td>\n",
       "      <td>Native- Born in the United States</td>\n",
       "      <td>Not in universe</td>\n",
       "    </tr>\n",
       "    <tr>\n",
       "      <th>2</th>\n",
       "      <td>Private</td>\n",
       "      <td>Some college but no degree</td>\n",
       "      <td>Not in universe</td>\n",
       "      <td>Married-civilian spouse present</td>\n",
       "      <td>Other professional services</td>\n",
       "      <td>Professional specialty</td>\n",
       "      <td>White</td>\n",
       "      <td>All other</td>\n",
       "      <td>Male</td>\n",
       "      <td>Not in universe</td>\n",
       "      <td>...</td>\n",
       "      <td>Not in universe</td>\n",
       "      <td>Spouse of householder</td>\n",
       "      <td>Spouse of householder</td>\n",
       "      <td>Yes</td>\n",
       "      <td>Not in universe</td>\n",
       "      <td>United-States</td>\n",
       "      <td>United-States</td>\n",
       "      <td>United-States</td>\n",
       "      <td>Native- Born in the United States</td>\n",
       "      <td>Not in universe</td>\n",
       "    </tr>\n",
       "    <tr>\n",
       "      <th>3</th>\n",
       "      <td>Private</td>\n",
       "      <td>Prof school degree (MD DDS DVM LLB JD)</td>\n",
       "      <td>Not in universe</td>\n",
       "      <td>Married-civilian spouse present</td>\n",
       "      <td>Manufacturing-durable goods</td>\n",
       "      <td>Professional specialty</td>\n",
       "      <td>White</td>\n",
       "      <td>All other</td>\n",
       "      <td>Female</td>\n",
       "      <td>Not in universe</td>\n",
       "      <td>...</td>\n",
       "      <td>Not in universe</td>\n",
       "      <td>Spouse of householder</td>\n",
       "      <td>Spouse of householder</td>\n",
       "      <td>Yes</td>\n",
       "      <td>Not in universe</td>\n",
       "      <td>United-States</td>\n",
       "      <td>United-States</td>\n",
       "      <td>United-States</td>\n",
       "      <td>Native- Born in the United States</td>\n",
       "      <td>Not in universe</td>\n",
       "    </tr>\n",
       "    <tr>\n",
       "      <th>4</th>\n",
       "      <td>Private</td>\n",
       "      <td>Masters degree(MA MS MEng MEd MSW MBA)</td>\n",
       "      <td>Not in universe</td>\n",
       "      <td>Married-civilian spouse present</td>\n",
       "      <td>Communications</td>\n",
       "      <td>Executive admin and managerial</td>\n",
       "      <td>White</td>\n",
       "      <td>All other</td>\n",
       "      <td>Female</td>\n",
       "      <td>Not in universe</td>\n",
       "      <td>...</td>\n",
       "      <td>Not in universe</td>\n",
       "      <td>Spouse of householder</td>\n",
       "      <td>Spouse of householder</td>\n",
       "      <td>Not in universe under 1 year old</td>\n",
       "      <td>Not in universe</td>\n",
       "      <td>United-States</td>\n",
       "      <td>United-States</td>\n",
       "      <td>United-States</td>\n",
       "      <td>Native- Born in the United States</td>\n",
       "      <td>Not in universe</td>\n",
       "    </tr>\n",
       "  </tbody>\n",
       "</table>\n",
       "<p>5 rows × 24 columns</p>\n",
       "</div>"
      ],
      "text/plain": [
       "  class_of_worker                               education  \\\n",
       "0         Private                    High school graduate   \n",
       "1         Private  Masters degree(MA MS MEng MEd MSW MBA)   \n",
       "2         Private              Some college but no degree   \n",
       "3         Private  Prof school degree (MD DDS DVM LLB JD)   \n",
       "4         Private  Masters degree(MA MS MEng MEd MSW MBA)   \n",
       "\n",
       "  enrolled_in_edu_inst_lastwk                   marital_status  \\\n",
       "0             Not in universe                    Never married   \n",
       "1             Not in universe  Married-civilian spouse present   \n",
       "2             Not in universe  Married-civilian spouse present   \n",
       "3             Not in universe  Married-civilian spouse present   \n",
       "4             Not in universe  Married-civilian spouse present   \n",
       "\n",
       "           major_industry_code           major_occupation_code   race  \\\n",
       "0            Hospital services          Professional specialty  White   \n",
       "1  Manufacturing-durable goods  Executive admin and managerial  White   \n",
       "2  Other professional services          Professional specialty  White   \n",
       "3  Manufacturing-durable goods          Professional specialty  White   \n",
       "4               Communications  Executive admin and managerial  White   \n",
       "\n",
       "  hispanic_origin     sex member_of_labor_union  ...  \\\n",
       "0       All other  Female       Not in universe  ...   \n",
       "1       All other    Male       Not in universe  ...   \n",
       "2       All other    Male       Not in universe  ...   \n",
       "3       All other  Female       Not in universe  ...   \n",
       "4       All other  Female       Not in universe  ...   \n",
       "\n",
       "  state_of_previous_residence d_household_family_stat    d_household_summary  \\\n",
       "0             Not in universe   Nonfamily householder            Householder   \n",
       "1             Not in universe             Householder            Householder   \n",
       "2             Not in universe   Spouse of householder  Spouse of householder   \n",
       "3             Not in universe   Spouse of householder  Spouse of householder   \n",
       "4             Not in universe   Spouse of householder  Spouse of householder   \n",
       "\n",
       "                    live_1_year_ago family_members_under_18 country_father  \\\n",
       "0                               Yes         Not in universe        Ireland   \n",
       "1                               Yes         Not in universe  United-States   \n",
       "2                               Yes         Not in universe  United-States   \n",
       "3                               Yes         Not in universe  United-States   \n",
       "4  Not in universe under 1 year old         Not in universe  United-States   \n",
       "\n",
       "  country_mother   country_self                         citizenship  \\\n",
       "0        Ireland        Ireland  Foreign born- Not a citizen of U S   \n",
       "1  United-States  United-States   Native- Born in the United States   \n",
       "2  United-States  United-States   Native- Born in the United States   \n",
       "3  United-States  United-States   Native- Born in the United States   \n",
       "4  United-States  United-States   Native- Born in the United States   \n",
       "\n",
       "  fill_questionnaire_veteran_admin  \n",
       "0                  Not in universe  \n",
       "1                  Not in universe  \n",
       "2                  Not in universe  \n",
       "3                  Not in universe  \n",
       "4                  Not in universe  \n",
       "\n",
       "[5 rows x 24 columns]"
      ]
     },
     "execution_count": 56,
     "metadata": {},
     "output_type": "execute_result"
    }
   ],
   "source": [
    "char.head()"
   ]
  },
  {
   "cell_type": "code",
   "execution_count": 57,
   "id": "ea09bccc",
   "metadata": {},
   "outputs": [
    {
     "data": {
      "text/plain": [
       "RangeIndex(start=0, stop=374282, step=1)"
      ]
     },
     "execution_count": 57,
     "metadata": {},
     "output_type": "execute_result"
    }
   ],
   "source": [
    "char.index"
   ]
  },
  {
   "cell_type": "code",
   "execution_count": 58,
   "id": "c7d001f9",
   "metadata": {},
   "outputs": [],
   "source": [
    "char.reset_index(inplace = True)\n",
    "Y.reset_index(inplace = True)"
   ]
  },
  {
   "cell_type": "code",
   "execution_count": 59,
   "id": "7248c348",
   "metadata": {},
   "outputs": [
    {
     "data": {
      "text/plain": [
       "RangeIndex(start=0, stop=374282, step=1)"
      ]
     },
     "execution_count": 59,
     "metadata": {},
     "output_type": "execute_result"
    }
   ],
   "source": [
    "char.index"
   ]
  },
  {
   "cell_type": "code",
   "execution_count": 60,
   "id": "79ecc96c",
   "metadata": {},
   "outputs": [
    {
     "data": {
      "text/plain": [
       "RangeIndex(start=0, stop=374282, step=1)"
      ]
     },
     "execution_count": 60,
     "metadata": {},
     "output_type": "execute_result"
    }
   ],
   "source": [
    "Y.index"
   ]
  },
  {
   "cell_type": "code",
   "execution_count": 61,
   "id": "d49ad989",
   "metadata": {},
   "outputs": [],
   "source": [
    "char_Y = pd.concat([char,Y], axis = 1)"
   ]
  },
  {
   "cell_type": "code",
   "execution_count": 63,
   "id": "b671693e",
   "metadata": {},
   "outputs": [
    {
     "data": {
      "text/plain": [
       "index                               0.000000\n",
       "class_of_worker                     0.000000\n",
       "education                           0.000000\n",
       "enrolled_in_edu_inst_lastwk         0.000000\n",
       "marital_status                      0.000000\n",
       "major_industry_code                 0.000000\n",
       "major_occupation_code               0.000000\n",
       "race                                0.000000\n",
       "hispanic_origin                     0.004622\n",
       "sex                                 0.000000\n",
       "member_of_labor_union               0.000000\n",
       "reason_for_unemployment             0.000000\n",
       "full_parttime_employment_stat       0.000000\n",
       "tax_filer_status                    0.000000\n",
       "region_of_previous_residence        0.000000\n",
       "state_of_previous_residence         0.003671\n",
       "d_household_family_stat             0.000000\n",
       "d_household_summary                 0.000000\n",
       "live_1_year_ago                     0.000000\n",
       "family_members_under_18             0.000000\n",
       "country_father                      0.038613\n",
       "country_mother                      0.034284\n",
       "country_self                        0.020359\n",
       "citizenship                         0.000000\n",
       "fill_questionnaire_veteran_admin    0.000000\n",
       "dtype: float64"
      ]
     },
     "execution_count": 63,
     "metadata": {},
     "output_type": "execute_result"
    }
   ],
   "source": [
    "char.isnull().mean()"
   ]
  },
  {
   "cell_type": "code",
   "execution_count": 64,
   "id": "31ea593a",
   "metadata": {},
   "outputs": [
    {
     "name": "stderr",
     "output_type": "stream",
     "text": [
      "C:\\Users\\pranj\\AppData\\Local\\Programs\\Python\\Python39\\lib\\site-packages\\pandas\\core\\frame.py:4906: SettingWithCopyWarning: \n",
      "A value is trying to be set on a copy of a slice from a DataFrame\n",
      "\n",
      "See the caveats in the documentation: https://pandas.pydata.org/pandas-docs/stable/user_guide/indexing.html#returning-a-view-versus-a-copy\n",
      "  return super().drop(\n"
     ]
    }
   ],
   "source": [
    "char.drop(['index'], axis = 1, inplace = True)"
   ]
  },
  {
   "cell_type": "code",
   "execution_count": 65,
   "id": "742437ec",
   "metadata": {},
   "outputs": [
    {
     "name": "stderr",
     "output_type": "stream",
     "text": [
      "C:\\Users\\pranj\\AppData\\Local\\Programs\\Python\\Python39\\lib\\site-packages\\pandas\\core\\generic.py:6392: SettingWithCopyWarning: \n",
      "A value is trying to be set on a copy of a slice from a DataFrame\n",
      "\n",
      "See the caveats in the documentation: https://pandas.pydata.org/pandas-docs/stable/user_guide/indexing.html#returning-a-view-versus-a-copy\n",
      "  return self._update_inplace(result)\n"
     ]
    }
   ],
   "source": [
    "for col in char.columns:\n",
    "    char[col].fillna(char[col].mode()[0], inplace = True)"
   ]
  },
  {
   "cell_type": "code",
   "execution_count": 66,
   "id": "8412de43",
   "metadata": {},
   "outputs": [
    {
     "data": {
      "text/plain": [
       "level_0         0\n",
       "index           0\n",
       "income_level    0\n",
       "dtype: int64"
      ]
     },
     "execution_count": 66,
     "metadata": {},
     "output_type": "execute_result"
    }
   ],
   "source": [
    "Y.isnull().sum()"
   ]
  },
  {
   "cell_type": "code",
   "execution_count": 67,
   "id": "b34a41a7",
   "metadata": {},
   "outputs": [
    {
     "data": {
      "text/plain": [
       "class_of_worker                     0\n",
       "education                           0\n",
       "enrolled_in_edu_inst_lastwk         0\n",
       "marital_status                      0\n",
       "major_industry_code                 0\n",
       "major_occupation_code               0\n",
       "race                                0\n",
       "hispanic_origin                     0\n",
       "sex                                 0\n",
       "member_of_labor_union               0\n",
       "reason_for_unemployment             0\n",
       "full_parttime_employment_stat       0\n",
       "tax_filer_status                    0\n",
       "region_of_previous_residence        0\n",
       "state_of_previous_residence         0\n",
       "d_household_family_stat             0\n",
       "d_household_summary                 0\n",
       "live_1_year_ago                     0\n",
       "family_members_under_18             0\n",
       "country_father                      0\n",
       "country_mother                      0\n",
       "country_self                        0\n",
       "citizenship                         0\n",
       "fill_questionnaire_veteran_admin    0\n",
       "dtype: int64"
      ]
     },
     "execution_count": 67,
     "metadata": {},
     "output_type": "execute_result"
    }
   ],
   "source": [
    "char.isnull().sum()"
   ]
  },
  {
   "cell_type": "code",
   "execution_count": 68,
   "id": "3c560ab8",
   "metadata": {},
   "outputs": [
    {
     "data": {
      "text/plain": [
       "class_of_worker                     0\n",
       "education                           0\n",
       "enrolled_in_edu_inst_lastwk         0\n",
       "marital_status                      0\n",
       "major_industry_code                 0\n",
       "major_occupation_code               0\n",
       "race                                0\n",
       "hispanic_origin                     0\n",
       "sex                                 0\n",
       "member_of_labor_union               0\n",
       "reason_for_unemployment             0\n",
       "full_parttime_employment_stat       0\n",
       "tax_filer_status                    0\n",
       "region_of_previous_residence        0\n",
       "state_of_previous_residence         0\n",
       "d_household_family_stat             0\n",
       "d_household_summary                 0\n",
       "live_1_year_ago                     0\n",
       "family_members_under_18             0\n",
       "country_father                      0\n",
       "country_mother                      0\n",
       "country_self                        0\n",
       "citizenship                         0\n",
       "fill_questionnaire_veteran_admin    0\n",
       "dtype: int64"
      ]
     },
     "execution_count": 68,
     "metadata": {},
     "output_type": "execute_result"
    }
   ],
   "source": [
    "char.isnull().sum()"
   ]
  },
  {
   "cell_type": "code",
   "execution_count": 69,
   "id": "15dd1079",
   "metadata": {},
   "outputs": [
    {
     "data": {
      "text/plain": [
       "RangeIndex(start=0, stop=374282, step=1)"
      ]
     },
     "execution_count": 69,
     "metadata": {},
     "output_type": "execute_result"
    }
   ],
   "source": [
    "char.index"
   ]
  },
  {
   "cell_type": "code",
   "execution_count": 70,
   "id": "8a504ea0",
   "metadata": {},
   "outputs": [
    {
     "data": {
      "text/plain": [
       "RangeIndex(start=0, stop=374282, step=1)"
      ]
     },
     "execution_count": 70,
     "metadata": {},
     "output_type": "execute_result"
    }
   ],
   "source": [
    "Y.index"
   ]
  },
  {
   "cell_type": "code",
   "execution_count": 71,
   "id": "9760c648",
   "metadata": {},
   "outputs": [],
   "source": [
    "char_Y = pd.concat([char,Y], axis = 1)"
   ]
  },
  {
   "cell_type": "code",
   "execution_count": 72,
   "id": "ead7555d",
   "metadata": {},
   "outputs": [
    {
     "data": {
      "text/plain": [
       "class_of_worker                     0\n",
       "education                           0\n",
       "enrolled_in_edu_inst_lastwk         0\n",
       "marital_status                      0\n",
       "major_industry_code                 0\n",
       "major_occupation_code               0\n",
       "race                                0\n",
       "hispanic_origin                     0\n",
       "sex                                 0\n",
       "member_of_labor_union               0\n",
       "reason_for_unemployment             0\n",
       "full_parttime_employment_stat       0\n",
       "tax_filer_status                    0\n",
       "region_of_previous_residence        0\n",
       "state_of_previous_residence         0\n",
       "d_household_family_stat             0\n",
       "d_household_summary                 0\n",
       "live_1_year_ago                     0\n",
       "family_members_under_18             0\n",
       "country_father                      0\n",
       "country_mother                      0\n",
       "country_self                        0\n",
       "citizenship                         0\n",
       "fill_questionnaire_veteran_admin    0\n",
       "level_0                             0\n",
       "index                               0\n",
       "income_level                        0\n",
       "dtype: int64"
      ]
     },
     "execution_count": 72,
     "metadata": {},
     "output_type": "execute_result"
    }
   ],
   "source": [
    "char_Y.isnull().sum()"
   ]
  },
  {
   "cell_type": "code",
   "execution_count": 73,
   "id": "0ac4c240",
   "metadata": {},
   "outputs": [
    {
     "data": {
      "text/plain": [
       "RangeIndex(start=0, stop=374282, step=1)"
      ]
     },
     "execution_count": 73,
     "metadata": {},
     "output_type": "execute_result"
    }
   ],
   "source": [
    "char_Y.index"
   ]
  },
  {
   "cell_type": "code",
   "execution_count": 74,
   "id": "060d03e6",
   "metadata": {},
   "outputs": [
    {
     "data": {
      "text/plain": [
       "class_of_worker                     0\n",
       "education                           0\n",
       "enrolled_in_edu_inst_lastwk         0\n",
       "marital_status                      0\n",
       "major_industry_code                 0\n",
       "major_occupation_code               0\n",
       "race                                0\n",
       "hispanic_origin                     0\n",
       "sex                                 0\n",
       "member_of_labor_union               0\n",
       "reason_for_unemployment             0\n",
       "full_parttime_employment_stat       0\n",
       "tax_filer_status                    0\n",
       "region_of_previous_residence        0\n",
       "state_of_previous_residence         0\n",
       "d_household_family_stat             0\n",
       "d_household_summary                 0\n",
       "live_1_year_ago                     0\n",
       "family_members_under_18             0\n",
       "country_father                      0\n",
       "country_mother                      0\n",
       "country_self                        0\n",
       "citizenship                         0\n",
       "fill_questionnaire_veteran_admin    0\n",
       "level_0                             0\n",
       "index                               0\n",
       "income_level                        0\n",
       "dtype: int64"
      ]
     },
     "execution_count": 74,
     "metadata": {},
     "output_type": "execute_result"
    }
   ],
   "source": [
    "char_Y.isnull().sum()"
   ]
  },
  {
   "cell_type": "code",
   "execution_count": 75,
   "id": "740ab004",
   "metadata": {},
   "outputs": [
    {
     "name": "stderr",
     "output_type": "stream",
     "text": [
      "C:\\Users\\pranj\\AppData\\Local\\Temp/ipykernel_31864/800188990.py:2: RuntimeWarning: More than 20 figures have been opened. Figures created through the pyplot interface (`matplotlib.pyplot.figure`) are retained until explicitly closed and may consume too much memory. (To control this warning, see the rcParam `figure.max_open_warning`).\n",
      "  plt.figure()\n"
     ]
    },
    {
     "data": {
      "image/png": "[encoded data removed]",
      "text/plain": [
       "<Figure size 432x288 with 1 Axes>"
      ]
     },
     "metadata": {
      "needs_background": "light"
     },
     "output_type": "display_data"
    },
    {
     "data": {
      "image/png": "[encoded data removed]",
      "text/plain": [
       "<Figure size 432x288 with 1 Axes>"
      ]
     },
     "metadata": {
      "needs_background": "light"
     },
     "output_type": "display_data"
    },
    {
     "data": {
      "image/png": "[encoded data removed]",
      "text/plain": [
       "<Figure size 432x288 with 1 Axes>"
      ]
     },
     "metadata": {
      "needs_background": "light"
     },
     "output_type": "display_data"
    },
    {
     "data": {
      "image/png": "[encoded data removed]",
      "text/plain": [
       "<Figure size 432x288 with 1 Axes>"
      ]
     },
     "metadata": {
      "needs_background": "light"
     },
     "output_type": "display_data"
    },
    {
     "data": {
      "image/png": "[encoded data removed]",
      "text/plain": [
       "<Figure size 432x288 with 1 Axes>"
      ]
     },
     "metadata": {
      "needs_background": "light"
     },
     "output_type": "display_data"
    },
    {
     "data": {
      "image/png": "[encoded data removed]",
      "text/plain": [
       "<Figure size 432x288 with 1 Axes>"
      ]
     },
     "metadata": {
      "needs_background": "light"
     },
     "output_type": "display_data"
    },
    {
     "data": {
      "image/png": "[encoded data removed]",
      "text/plain": [
       "<Figure size 432x288 with 1 Axes>"
      ]
     },
     "metadata": {
      "needs_background": "light"
     },
     "output_type": "display_data"
    },
    {
     "data": {
      "image/png": "[encoded data removed]",
      "text/plain": [
       "<Figure size 432x288 with 1 Axes>"
      ]
     },
     "metadata": {
      "needs_background": "light"
     },
     "output_type": "display_data"
    },
    {
     "data": {
      "image/png": "[encoded data removed]",
      "text/plain": [
       "<Figure size 432x288 with 1 Axes>"
      ]
     },
     "metadata": {
      "needs_background": "light"
     },
     "output_type": "display_data"
    },
    {
     "data": {
      "image/png": "[encoded data removed]",
      "text/plain": [
       "<Figure size 432x288 with 1 Axes>"
      ]
     },
     "metadata": {
      "needs_background": "light"
     },
     "output_type": "display_data"
    },
    {
     "data": {
      "image/png": "[encoded data removed]",
      "text/plain": [
       "<Figure size 432x288 with 1 Axes>"
      ]
     },
     "metadata": {
      "needs_background": "light"
     },
     "output_type": "display_data"
    },
    {
     "data": {
      "image/png": "[encoded data removed]",
      "text/plain": [
       "<Figure size 432x288 with 1 Axes>"
      ]
     },
     "metadata": {
      "needs_background": "light"
     },
     "output_type": "display_data"
    },
    {
     "data": {
      "image/png": "[encoded data removed]",
      "text/plain": [
       "<Figure size 432x288 with 1 Axes>"
      ]
     },
     "metadata": {
      "needs_background": "light"
     },
     "output_type": "display_data"
    },
    {
     "data": {
      "image/png": "[encoded data removed]",
      "text/plain": [
       "<Figure size 432x288 with 1 Axes>"
      ]
     },
     "metadata": {
      "needs_background": "light"
     },
     "output_type": "display_data"
    },
    {
     "data": {
      "image/png": "[encoded data removed]",
      "text/plain": [
       "<Figure size 432x288 with 1 Axes>"
      ]
     },
     "metadata": {
      "needs_background": "light"
     },
     "output_type": "display_data"
    },
    {
     "data": {
      "image/png": "[encoded data removed]",
      "text/plain": [
       "<Figure size 432x288 with 1 Axes>"
      ]
     },
     "metadata": {
      "needs_background": "light"
     },
     "output_type": "display_data"
    },
    {
     "data": {
      "image/png": "[encoded data removed]",
      "text/plain": [
       "<Figure size 432x288 with 1 Axes>"
      ]
     },
     "metadata": {
      "needs_background": "light"
     },
     "output_type": "display_data"
    },
    {
     "data": {
      "image/png": "[encoded data removed]",
      "text/plain": [
       "<Figure size 432x288 with 1 Axes>"
      ]
     },
     "metadata": {
      "needs_background": "light"
     },
     "output_type": "display_data"
    },
    {
     "data": {
      "image/png": "[encoded data removed]",
      "text/plain": [
       "<Figure size 432x288 with 1 Axes>"
      ]
     },
     "metadata": {
      "needs_background": "light"
     },
     "output_type": "display_data"
    },
    {
     "data": {
      "image/png": "[encoded data removed]",
      "text/plain": [
       "<Figure size 432x288 with 1 Axes>"
      ]
     },
     "metadata": {
      "needs_background": "light"
     },
     "output_type": "display_data"
    },
    {
     "data": {
      "image/png": "[encoded data removed]",
      "text/plain": [
       "<Figure size 432x288 with 1 Axes>"
      ]
     },
     "metadata": {
      "needs_background": "light"
     },
     "output_type": "display_data"
    },
    {
     "data": {
      "image/png": "[encoded data removed]",
      "text/plain": [
       "<Figure size 432x288 with 1 Axes>"
      ]
     },
     "metadata": {
      "needs_background": "light"
     },
     "output_type": "display_data"
    },
    {
     "data": {
      "image/png": "[encoded data removed]",
      "text/plain": [
       "<Figure size 432x288 with 1 Axes>"
      ]
     },
     "metadata": {
      "needs_background": "light"
     },
     "output_type": "display_data"
    },
    {
     "data": {
      "image/png": "[encoded data removed]",
      "text/plain": [
       "<Figure size 432x288 with 1 Axes>"
      ]
     },
     "metadata": {
      "needs_background": "light"
     },
     "output_type": "display_data"
    }
   ],
   "source": [
    "for col in char.columns:\n",
    "    plt.figure()\n",
    "    sns.barplot(x = col, y = 'income_level', data = char_Y)"
   ]
  },
  {
   "cell_type": "code",
   "execution_count": null,
   "id": "7e991e27",
   "metadata": {},
   "outputs": [],
   "source": [
    "char.columns"
   ]
  },
  {
   "cell_type": "code",
   "execution_count": null,
   "id": "f06f93cc",
   "metadata": {},
   "outputs": [],
   "source": []
  },
  {
   "cell_type": "code",
   "execution_count": null,
   "id": "17e2760a",
   "metadata": {},
   "outputs": [],
   "source": []
  },
  {
   "cell_type": "code",
   "execution_count": null,
   "id": "173e522f",
   "metadata": {},
   "outputs": [],
   "source": []
  },
  {
   "cell_type": "code",
   "execution_count": 76,
   "id": "5711ce40",
   "metadata": {},
   "outputs": [
    {
     "name": "stderr",
     "output_type": "stream",
     "text": [
      "C:\\Users\\pranj\\AppData\\Local\\Temp/ipykernel_31864/3698696735.py:4: SettingWithCopyWarning: \n",
      "A value is trying to be set on a copy of a slice from a DataFrame.\n",
      "Try using .loc[row_indexer,col_indexer] = value instead\n",
      "\n",
      "See the caveats in the documentation: https://pandas.pydata.org/pandas-docs/stable/user_guide/indexing.html#returning-a-view-versus-a-copy\n",
      "  char[col] = pd.DataFrame(le.fit_transform(char[col]), columns = [col])\n"
     ]
    }
   ],
   "source": [
    "from sklearn.preprocessing import LabelEncoder\n",
    "le = LabelEncoder()\n",
    "for col in char.columns:\n",
    "    char[col] = pd.DataFrame(le.fit_transform(char[col]), columns = [col])"
   ]
  },
  {
   "cell_type": "code",
   "execution_count": 77,
   "id": "9ed21e79",
   "metadata": {},
   "outputs": [
    {
     "data": {
      "text/html": [
       "<div>\n",
       "<style scoped>\n",
       "    .dataframe tbody tr th:only-of-type {\n",
       "        vertical-align: middle;\n",
       "    }\n",
       "\n",
       "    .dataframe tbody tr th {\n",
       "        vertical-align: top;\n",
       "    }\n",
       "\n",
       "    .dataframe thead th {\n",
       "        text-align: right;\n",
       "    }\n",
       "</style>\n",
       "<table border=\"1\" class=\"dataframe\">\n",
       "  <thead>\n",
       "    <tr style=\"text-align: right;\">\n",
       "      <th></th>\n",
       "      <th>class_of_worker</th>\n",
       "      <th>education</th>\n",
       "      <th>enrolled_in_edu_inst_lastwk</th>\n",
       "      <th>marital_status</th>\n",
       "      <th>major_industry_code</th>\n",
       "      <th>major_occupation_code</th>\n",
       "      <th>race</th>\n",
       "      <th>hispanic_origin</th>\n",
       "      <th>sex</th>\n",
       "      <th>member_of_labor_union</th>\n",
       "      <th>...</th>\n",
       "      <th>state_of_previous_residence</th>\n",
       "      <th>d_household_family_stat</th>\n",
       "      <th>d_household_summary</th>\n",
       "      <th>live_1_year_ago</th>\n",
       "      <th>family_members_under_18</th>\n",
       "      <th>country_father</th>\n",
       "      <th>country_mother</th>\n",
       "      <th>country_self</th>\n",
       "      <th>citizenship</th>\n",
       "      <th>fill_questionnaire_veteran_admin</th>\n",
       "    </tr>\n",
       "  </thead>\n",
       "  <tbody>\n",
       "    <tr>\n",
       "      <th>0</th>\n",
       "      <td>4</td>\n",
       "      <td>12</td>\n",
       "      <td>2</td>\n",
       "      <td>4</td>\n",
       "      <td>9</td>\n",
       "      <td>10</td>\n",
       "      <td>4</td>\n",
       "      <td>0</td>\n",
       "      <td>0</td>\n",
       "      <td>1</td>\n",
       "      <td>...</td>\n",
       "      <td>35</td>\n",
       "      <td>22</td>\n",
       "      <td>4</td>\n",
       "      <td>2</td>\n",
       "      <td>4</td>\n",
       "      <td>20</td>\n",
       "      <td>20</td>\n",
       "      <td>20</td>\n",
       "      <td>0</td>\n",
       "      <td>1</td>\n",
       "    </tr>\n",
       "    <tr>\n",
       "      <th>1</th>\n",
       "      <td>4</td>\n",
       "      <td>14</td>\n",
       "      <td>2</td>\n",
       "      <td>2</td>\n",
       "      <td>10</td>\n",
       "      <td>2</td>\n",
       "      <td>4</td>\n",
       "      <td>0</td>\n",
       "      <td>1</td>\n",
       "      <td>1</td>\n",
       "      <td>...</td>\n",
       "      <td>35</td>\n",
       "      <td>20</td>\n",
       "      <td>4</td>\n",
       "      <td>2</td>\n",
       "      <td>4</td>\n",
       "      <td>39</td>\n",
       "      <td>39</td>\n",
       "      <td>39</td>\n",
       "      <td>4</td>\n",
       "      <td>1</td>\n",
       "    </tr>\n",
       "    <tr>\n",
       "      <th>2</th>\n",
       "      <td>4</td>\n",
       "      <td>16</td>\n",
       "      <td>2</td>\n",
       "      <td>2</td>\n",
       "      <td>15</td>\n",
       "      <td>10</td>\n",
       "      <td>4</td>\n",
       "      <td>0</td>\n",
       "      <td>1</td>\n",
       "      <td>1</td>\n",
       "      <td>...</td>\n",
       "      <td>35</td>\n",
       "      <td>37</td>\n",
       "      <td>7</td>\n",
       "      <td>2</td>\n",
       "      <td>4</td>\n",
       "      <td>39</td>\n",
       "      <td>39</td>\n",
       "      <td>39</td>\n",
       "      <td>4</td>\n",
       "      <td>1</td>\n",
       "    </tr>\n",
       "    <tr>\n",
       "      <th>3</th>\n",
       "      <td>4</td>\n",
       "      <td>15</td>\n",
       "      <td>2</td>\n",
       "      <td>2</td>\n",
       "      <td>10</td>\n",
       "      <td>10</td>\n",
       "      <td>4</td>\n",
       "      <td>0</td>\n",
       "      <td>0</td>\n",
       "      <td>1</td>\n",
       "      <td>...</td>\n",
       "      <td>35</td>\n",
       "      <td>37</td>\n",
       "      <td>7</td>\n",
       "      <td>2</td>\n",
       "      <td>4</td>\n",
       "      <td>39</td>\n",
       "      <td>39</td>\n",
       "      <td>39</td>\n",
       "      <td>4</td>\n",
       "      <td>1</td>\n",
       "    </tr>\n",
       "    <tr>\n",
       "      <th>4</th>\n",
       "      <td>4</td>\n",
       "      <td>14</td>\n",
       "      <td>2</td>\n",
       "      <td>2</td>\n",
       "      <td>3</td>\n",
       "      <td>2</td>\n",
       "      <td>4</td>\n",
       "      <td>0</td>\n",
       "      <td>0</td>\n",
       "      <td>1</td>\n",
       "      <td>...</td>\n",
       "      <td>35</td>\n",
       "      <td>37</td>\n",
       "      <td>7</td>\n",
       "      <td>1</td>\n",
       "      <td>4</td>\n",
       "      <td>39</td>\n",
       "      <td>39</td>\n",
       "      <td>39</td>\n",
       "      <td>4</td>\n",
       "      <td>1</td>\n",
       "    </tr>\n",
       "  </tbody>\n",
       "</table>\n",
       "<p>5 rows × 24 columns</p>\n",
       "</div>"
      ],
      "text/plain": [
       "   class_of_worker  education  enrolled_in_edu_inst_lastwk  marital_status  \\\n",
       "0                4         12                            2               4   \n",
       "1                4         14                            2               2   \n",
       "2                4         16                            2               2   \n",
       "3                4         15                            2               2   \n",
       "4                4         14                            2               2   \n",
       "\n",
       "   major_industry_code  major_occupation_code  race  hispanic_origin  sex  \\\n",
       "0                    9                     10     4                0    0   \n",
       "1                   10                      2     4                0    1   \n",
       "2                   15                     10     4                0    1   \n",
       "3                   10                     10     4                0    0   \n",
       "4                    3                      2     4                0    0   \n",
       "\n",
       "   member_of_labor_union  ...  state_of_previous_residence  \\\n",
       "0                      1  ...                           35   \n",
       "1                      1  ...                           35   \n",
       "2                      1  ...                           35   \n",
       "3                      1  ...                           35   \n",
       "4                      1  ...                           35   \n",
       "\n",
       "   d_household_family_stat  d_household_summary  live_1_year_ago  \\\n",
       "0                       22                    4                2   \n",
       "1                       20                    4                2   \n",
       "2                       37                    7                2   \n",
       "3                       37                    7                2   \n",
       "4                       37                    7                1   \n",
       "\n",
       "   family_members_under_18  country_father  country_mother  country_self  \\\n",
       "0                        4              20              20            20   \n",
       "1                        4              39              39            39   \n",
       "2                        4              39              39            39   \n",
       "3                        4              39              39            39   \n",
       "4                        4              39              39            39   \n",
       "\n",
       "   citizenship  fill_questionnaire_veteran_admin  \n",
       "0            0                                 1  \n",
       "1            4                                 1  \n",
       "2            4                                 1  \n",
       "3            4                                 1  \n",
       "4            4                                 1  \n",
       "\n",
       "[5 rows x 24 columns]"
      ]
     },
     "execution_count": 77,
     "metadata": {},
     "output_type": "execute_result"
    }
   ],
   "source": [
    "char.head()"
   ]
  },
  {
   "cell_type": "code",
   "execution_count": 78,
   "id": "f9c2454d",
   "metadata": {},
   "outputs": [],
   "source": [
    "data = pd.concat([num,char], axis = 1)"
   ]
  },
  {
   "cell_type": "code",
   "execution_count": 79,
   "id": "ff7b762b",
   "metadata": {},
   "outputs": [
    {
     "data": {
      "text/html": [
       "<div>\n",
       "<style scoped>\n",
       "    .dataframe tbody tr th:only-of-type {\n",
       "        vertical-align: middle;\n",
       "    }\n",
       "\n",
       "    .dataframe tbody tr th {\n",
       "        vertical-align: top;\n",
       "    }\n",
       "\n",
       "    .dataframe thead th {\n",
       "        text-align: right;\n",
       "    }\n",
       "</style>\n",
       "<table border=\"1\" class=\"dataframe\">\n",
       "  <thead>\n",
       "    <tr style=\"text-align: right;\">\n",
       "      <th></th>\n",
       "      <th>index</th>\n",
       "      <th>age</th>\n",
       "      <th>industry_code</th>\n",
       "      <th>occupation_code</th>\n",
       "      <th>num_person_Worked_employer</th>\n",
       "      <th>weeks_worked_in_year</th>\n",
       "      <th>year</th>\n",
       "      <th>class_of_worker</th>\n",
       "      <th>education</th>\n",
       "      <th>enrolled_in_edu_inst_lastwk</th>\n",
       "      <th>...</th>\n",
       "      <th>state_of_previous_residence</th>\n",
       "      <th>d_household_family_stat</th>\n",
       "      <th>d_household_summary</th>\n",
       "      <th>live_1_year_ago</th>\n",
       "      <th>family_members_under_18</th>\n",
       "      <th>country_father</th>\n",
       "      <th>country_mother</th>\n",
       "      <th>country_self</th>\n",
       "      <th>citizenship</th>\n",
       "      <th>fill_questionnaire_veteran_admin</th>\n",
       "    </tr>\n",
       "  </thead>\n",
       "  <tbody>\n",
       "    <tr>\n",
       "      <th>0</th>\n",
       "      <td>117254.0</td>\n",
       "      <td>34.0</td>\n",
       "      <td>41.0</td>\n",
       "      <td>8.0</td>\n",
       "      <td>6.0</td>\n",
       "      <td>52.0</td>\n",
       "      <td>94.0</td>\n",
       "      <td>4</td>\n",
       "      <td>12</td>\n",
       "      <td>2</td>\n",
       "      <td>...</td>\n",
       "      <td>35</td>\n",
       "      <td>22</td>\n",
       "      <td>4</td>\n",
       "      <td>2</td>\n",
       "      <td>4</td>\n",
       "      <td>20</td>\n",
       "      <td>20</td>\n",
       "      <td>20</td>\n",
       "      <td>0</td>\n",
       "      <td>1</td>\n",
       "    </tr>\n",
       "    <tr>\n",
       "      <th>1</th>\n",
       "      <td>14247.0</td>\n",
       "      <td>55.0</td>\n",
       "      <td>13.0</td>\n",
       "      <td>2.0</td>\n",
       "      <td>3.0</td>\n",
       "      <td>52.0</td>\n",
       "      <td>94.0</td>\n",
       "      <td>4</td>\n",
       "      <td>14</td>\n",
       "      <td>2</td>\n",
       "      <td>...</td>\n",
       "      <td>35</td>\n",
       "      <td>20</td>\n",
       "      <td>4</td>\n",
       "      <td>2</td>\n",
       "      <td>4</td>\n",
       "      <td>39</td>\n",
       "      <td>39</td>\n",
       "      <td>39</td>\n",
       "      <td>4</td>\n",
       "      <td>1</td>\n",
       "    </tr>\n",
       "    <tr>\n",
       "      <th>2</th>\n",
       "      <td>87358.0</td>\n",
       "      <td>55.0</td>\n",
       "      <td>45.0</td>\n",
       "      <td>12.0</td>\n",
       "      <td>1.0</td>\n",
       "      <td>48.0</td>\n",
       "      <td>94.0</td>\n",
       "      <td>4</td>\n",
       "      <td>16</td>\n",
       "      <td>2</td>\n",
       "      <td>...</td>\n",
       "      <td>35</td>\n",
       "      <td>37</td>\n",
       "      <td>7</td>\n",
       "      <td>2</td>\n",
       "      <td>4</td>\n",
       "      <td>39</td>\n",
       "      <td>39</td>\n",
       "      <td>39</td>\n",
       "      <td>4</td>\n",
       "      <td>1</td>\n",
       "    </tr>\n",
       "    <tr>\n",
       "      <th>3</th>\n",
       "      <td>84187.0</td>\n",
       "      <td>34.0</td>\n",
       "      <td>11.0</td>\n",
       "      <td>11.0</td>\n",
       "      <td>6.0</td>\n",
       "      <td>52.0</td>\n",
       "      <td>94.0</td>\n",
       "      <td>4</td>\n",
       "      <td>15</td>\n",
       "      <td>2</td>\n",
       "      <td>...</td>\n",
       "      <td>35</td>\n",
       "      <td>37</td>\n",
       "      <td>7</td>\n",
       "      <td>2</td>\n",
       "      <td>4</td>\n",
       "      <td>39</td>\n",
       "      <td>39</td>\n",
       "      <td>39</td>\n",
       "      <td>4</td>\n",
       "      <td>1</td>\n",
       "    </tr>\n",
       "    <tr>\n",
       "      <th>4</th>\n",
       "      <td>193116.0</td>\n",
       "      <td>43.0</td>\n",
       "      <td>30.0</td>\n",
       "      <td>2.0</td>\n",
       "      <td>6.0</td>\n",
       "      <td>52.0</td>\n",
       "      <td>95.0</td>\n",
       "      <td>4</td>\n",
       "      <td>14</td>\n",
       "      <td>2</td>\n",
       "      <td>...</td>\n",
       "      <td>35</td>\n",
       "      <td>37</td>\n",
       "      <td>7</td>\n",
       "      <td>1</td>\n",
       "      <td>4</td>\n",
       "      <td>39</td>\n",
       "      <td>39</td>\n",
       "      <td>39</td>\n",
       "      <td>4</td>\n",
       "      <td>1</td>\n",
       "    </tr>\n",
       "  </tbody>\n",
       "</table>\n",
       "<p>5 rows × 31 columns</p>\n",
       "</div>"
      ],
      "text/plain": [
       "      index   age  industry_code  occupation_code  num_person_Worked_employer  \\\n",
       "0  117254.0  34.0           41.0              8.0                         6.0   \n",
       "1   14247.0  55.0           13.0              2.0                         3.0   \n",
       "2   87358.0  55.0           45.0             12.0                         1.0   \n",
       "3   84187.0  34.0           11.0             11.0                         6.0   \n",
       "4  193116.0  43.0           30.0              2.0                         6.0   \n",
       "\n",
       "   weeks_worked_in_year  year  class_of_worker  education  \\\n",
       "0                  52.0  94.0                4         12   \n",
       "1                  52.0  94.0                4         14   \n",
       "2                  48.0  94.0                4         16   \n",
       "3                  52.0  94.0                4         15   \n",
       "4                  52.0  95.0                4         14   \n",
       "\n",
       "   enrolled_in_edu_inst_lastwk  ...  state_of_previous_residence  \\\n",
       "0                            2  ...                           35   \n",
       "1                            2  ...                           35   \n",
       "2                            2  ...                           35   \n",
       "3                            2  ...                           35   \n",
       "4                            2  ...                           35   \n",
       "\n",
       "   d_household_family_stat  d_household_summary  live_1_year_ago  \\\n",
       "0                       22                    4                2   \n",
       "1                       20                    4                2   \n",
       "2                       37                    7                2   \n",
       "3                       37                    7                2   \n",
       "4                       37                    7                1   \n",
       "\n",
       "   family_members_under_18  country_father  country_mother  country_self  \\\n",
       "0                        4              20              20            20   \n",
       "1                        4              39              39            39   \n",
       "2                        4              39              39            39   \n",
       "3                        4              39              39            39   \n",
       "4                        4              39              39            39   \n",
       "\n",
       "   citizenship  fill_questionnaire_veteran_admin  \n",
       "0            0                                 1  \n",
       "1            4                                 1  \n",
       "2            4                                 1  \n",
       "3            4                                 1  \n",
       "4            4                                 1  \n",
       "\n",
       "[5 rows x 31 columns]"
      ]
     },
     "execution_count": 79,
     "metadata": {},
     "output_type": "execute_result"
    }
   ],
   "source": [
    "data.head()"
   ]
  },
  {
   "cell_type": "code",
   "execution_count": 80,
   "id": "eed9ae87",
   "metadata": {},
   "outputs": [],
   "source": [
    "data.drop(['index'], axis = 1, inplace = True)"
   ]
  },
  {
   "cell_type": "code",
   "execution_count": 81,
   "id": "e8cada17",
   "metadata": {},
   "outputs": [],
   "source": [
    "from sklearn.preprocessing import StandardScaler\n",
    "sc = StandardScaler()\n",
    "data = pd.DataFrame(sc.fit_transform(data), columns = data.columns)"
   ]
  },
  {
   "cell_type": "code",
   "execution_count": 242,
   "id": "94409141",
   "metadata": {},
   "outputs": [
    {
     "data": {
      "text/plain": [
       "index                         0.0\n",
       "age                           0.0\n",
       "industry_code                 0.0\n",
       "occupation_code               0.0\n",
       "num_person_Worked_employer    0.0\n",
       "weeks_worked_in_year          0.0\n",
       "year                          0.0\n",
       "dtype: float64"
      ]
     },
     "execution_count": 242,
     "metadata": {},
     "output_type": "execute_result"
    }
   ],
   "source": [
    "num.isnull().mean()"
   ]
  },
  {
   "cell_type": "code",
   "execution_count": 243,
   "id": "fe5da12f",
   "metadata": {},
   "outputs": [
    {
     "data": {
      "text/plain": [
       "index                               0.0\n",
       "class_of_worker                     0.0\n",
       "education                           0.0\n",
       "enrolled_in_edu_inst_lastwk         0.0\n",
       "marital_status                      0.0\n",
       "major_industry_code                 0.0\n",
       "major_occupation_code               0.0\n",
       "race                                0.0\n",
       "hispanic_origin                     0.0\n",
       "sex                                 0.0\n",
       "member_of_labor_union               0.0\n",
       "reason_for_unemployment             0.0\n",
       "full_parttime_employment_stat       0.0\n",
       "tax_filer_status                    0.0\n",
       "region_of_previous_residence        0.0\n",
       "state_of_previous_residence         0.0\n",
       "d_household_family_stat             0.0\n",
       "d_household_summary                 0.0\n",
       "live_1_year_ago                     0.0\n",
       "family_members_under_18             0.0\n",
       "country_father                      0.0\n",
       "country_mother                      0.0\n",
       "country_self                        0.0\n",
       "citizenship                         0.0\n",
       "fill_questionnaire_veteran_admin    0.0\n",
       "dtype: float64"
      ]
     },
     "execution_count": 243,
     "metadata": {},
     "output_type": "execute_result"
    }
   ],
   "source": [
    "char.isnull().mean()"
   ]
  },
  {
   "cell_type": "code",
   "execution_count": 244,
   "id": "29883bfe",
   "metadata": {},
   "outputs": [
    {
     "data": {
      "text/plain": [
       "index                               0.0\n",
       "age                                 0.0\n",
       "industry_code                       0.0\n",
       "occupation_code                     0.0\n",
       "num_person_Worked_employer          0.0\n",
       "weeks_worked_in_year                0.0\n",
       "year                                0.0\n",
       "index                               0.0\n",
       "class_of_worker                     0.0\n",
       "education                           0.0\n",
       "enrolled_in_edu_inst_lastwk         0.0\n",
       "marital_status                      0.0\n",
       "major_industry_code                 0.0\n",
       "major_occupation_code               0.0\n",
       "race                                0.0\n",
       "hispanic_origin                     0.0\n",
       "sex                                 0.0\n",
       "member_of_labor_union               0.0\n",
       "reason_for_unemployment             0.0\n",
       "full_parttime_employment_stat       0.0\n",
       "tax_filer_status                    0.0\n",
       "region_of_previous_residence        0.0\n",
       "state_of_previous_residence         0.0\n",
       "d_household_family_stat             0.0\n",
       "d_household_summary                 0.0\n",
       "live_1_year_ago                     0.0\n",
       "family_members_under_18             0.0\n",
       "country_father                      0.0\n",
       "country_mother                      0.0\n",
       "country_self                        0.0\n",
       "citizenship                         0.0\n",
       "fill_questionnaire_veteran_admin    0.0\n",
       "dtype: float64"
      ]
     },
     "execution_count": 244,
     "metadata": {},
     "output_type": "execute_result"
    }
   ],
   "source": [
    "data.isnull().mean()"
   ]
  },
  {
   "cell_type": "code",
   "execution_count": 82,
   "id": "48c797af",
   "metadata": {},
   "outputs": [
    {
     "data": {
      "text/html": [
       "<div>\n",
       "<style scoped>\n",
       "    .dataframe tbody tr th:only-of-type {\n",
       "        vertical-align: middle;\n",
       "    }\n",
       "\n",
       "    .dataframe tbody tr th {\n",
       "        vertical-align: top;\n",
       "    }\n",
       "\n",
       "    .dataframe thead th {\n",
       "        text-align: right;\n",
       "    }\n",
       "</style>\n",
       "<table border=\"1\" class=\"dataframe\">\n",
       "  <thead>\n",
       "    <tr style=\"text-align: right;\">\n",
       "      <th></th>\n",
       "      <th>age</th>\n",
       "      <th>industry_code</th>\n",
       "      <th>occupation_code</th>\n",
       "      <th>num_person_Worked_employer</th>\n",
       "      <th>weeks_worked_in_year</th>\n",
       "      <th>year</th>\n",
       "      <th>class_of_worker</th>\n",
       "      <th>education</th>\n",
       "      <th>enrolled_in_edu_inst_lastwk</th>\n",
       "      <th>marital_status</th>\n",
       "      <th>...</th>\n",
       "      <th>state_of_previous_residence</th>\n",
       "      <th>d_household_family_stat</th>\n",
       "      <th>d_household_summary</th>\n",
       "      <th>live_1_year_ago</th>\n",
       "      <th>family_members_under_18</th>\n",
       "      <th>country_father</th>\n",
       "      <th>country_mother</th>\n",
       "      <th>country_self</th>\n",
       "      <th>citizenship</th>\n",
       "      <th>fill_questionnaire_veteran_admin</th>\n",
       "    </tr>\n",
       "  </thead>\n",
       "  <tbody>\n",
       "    <tr>\n",
       "      <th>0</th>\n",
       "      <td>-0.306128</td>\n",
       "      <td>1.057089</td>\n",
       "      <td>-0.273542</td>\n",
       "      <td>1.248450</td>\n",
       "      <td>0.738515</td>\n",
       "      <td>-1.026453</td>\n",
       "      <td>0.237222</td>\n",
       "      <td>0.323645</td>\n",
       "      <td>0.179014</td>\n",
       "      <td>1.032040</td>\n",
       "      <td>...</td>\n",
       "      <td>0.160026</td>\n",
       "      <td>0.032974</td>\n",
       "      <td>-0.133073</td>\n",
       "      <td>1.081319</td>\n",
       "      <td>0.399088</td>\n",
       "      <td>-1.986150</td>\n",
       "      <td>-1.981360</td>\n",
       "      <td>-2.685895</td>\n",
       "      <td>-3.444425</td>\n",
       "      <td>0.090742</td>\n",
       "    </tr>\n",
       "    <tr>\n",
       "      <th>1</th>\n",
       "      <td>0.812302</td>\n",
       "      <td>-0.483835</td>\n",
       "      <td>-0.721340</td>\n",
       "      <td>0.035757</td>\n",
       "      <td>0.738515</td>\n",
       "      <td>-1.026453</td>\n",
       "      <td>0.237222</td>\n",
       "      <td>0.851195</td>\n",
       "      <td>0.179014</td>\n",
       "      <td>-0.455042</td>\n",
       "      <td>...</td>\n",
       "      <td>0.160026</td>\n",
       "      <td>-0.171665</td>\n",
       "      <td>-0.133073</td>\n",
       "      <td>1.081319</td>\n",
       "      <td>0.399088</td>\n",
       "      <td>0.355907</td>\n",
       "      <td>0.353082</td>\n",
       "      <td>0.263485</td>\n",
       "      <td>0.333560</td>\n",
       "      <td>0.090742</td>\n",
       "    </tr>\n",
       "    <tr>\n",
       "      <th>2</th>\n",
       "      <td>0.812302</td>\n",
       "      <td>1.277221</td>\n",
       "      <td>0.024990</td>\n",
       "      <td>-0.772705</td>\n",
       "      <td>0.566713</td>\n",
       "      <td>-1.026453</td>\n",
       "      <td>0.237222</td>\n",
       "      <td>1.378746</td>\n",
       "      <td>0.179014</td>\n",
       "      <td>-0.455042</td>\n",
       "      <td>...</td>\n",
       "      <td>0.160026</td>\n",
       "      <td>1.567771</td>\n",
       "      <td>1.571044</td>\n",
       "      <td>1.081319</td>\n",
       "      <td>0.399088</td>\n",
       "      <td>0.355907</td>\n",
       "      <td>0.353082</td>\n",
       "      <td>0.263485</td>\n",
       "      <td>0.333560</td>\n",
       "      <td>0.090742</td>\n",
       "    </tr>\n",
       "    <tr>\n",
       "      <th>3</th>\n",
       "      <td>-0.306128</td>\n",
       "      <td>-0.593901</td>\n",
       "      <td>-0.049643</td>\n",
       "      <td>1.248450</td>\n",
       "      <td>0.738515</td>\n",
       "      <td>-1.026453</td>\n",
       "      <td>0.237222</td>\n",
       "      <td>1.114971</td>\n",
       "      <td>0.179014</td>\n",
       "      <td>-0.455042</td>\n",
       "      <td>...</td>\n",
       "      <td>0.160026</td>\n",
       "      <td>1.567771</td>\n",
       "      <td>1.571044</td>\n",
       "      <td>1.081319</td>\n",
       "      <td>0.399088</td>\n",
       "      <td>0.355907</td>\n",
       "      <td>0.353082</td>\n",
       "      <td>0.263485</td>\n",
       "      <td>0.333560</td>\n",
       "      <td>0.090742</td>\n",
       "    </tr>\n",
       "    <tr>\n",
       "      <th>4</th>\n",
       "      <td>0.173199</td>\n",
       "      <td>0.451726</td>\n",
       "      <td>-0.721340</td>\n",
       "      <td>1.248450</td>\n",
       "      <td>0.738515</td>\n",
       "      <td>0.974229</td>\n",
       "      <td>0.237222</td>\n",
       "      <td>0.851195</td>\n",
       "      <td>0.179014</td>\n",
       "      <td>-0.455042</td>\n",
       "      <td>...</td>\n",
       "      <td>0.160026</td>\n",
       "      <td>1.567771</td>\n",
       "      <td>1.571044</td>\n",
       "      <td>-0.588201</td>\n",
       "      <td>0.399088</td>\n",
       "      <td>0.355907</td>\n",
       "      <td>0.353082</td>\n",
       "      <td>0.263485</td>\n",
       "      <td>0.333560</td>\n",
       "      <td>0.090742</td>\n",
       "    </tr>\n",
       "  </tbody>\n",
       "</table>\n",
       "<p>5 rows × 30 columns</p>\n",
       "</div>"
      ],
      "text/plain": [
       "        age  industry_code  occupation_code  num_person_Worked_employer  \\\n",
       "0 -0.306128       1.057089        -0.273542                    1.248450   \n",
       "1  0.812302      -0.483835        -0.721340                    0.035757   \n",
       "2  0.812302       1.277221         0.024990                   -0.772705   \n",
       "3 -0.306128      -0.593901        -0.049643                    1.248450   \n",
       "4  0.173199       0.451726        -0.721340                    1.248450   \n",
       "\n",
       "   weeks_worked_in_year      year  class_of_worker  education  \\\n",
       "0              0.738515 -1.026453         0.237222   0.323645   \n",
       "1              0.738515 -1.026453         0.237222   0.851195   \n",
       "2              0.566713 -1.026453         0.237222   1.378746   \n",
       "3              0.738515 -1.026453         0.237222   1.114971   \n",
       "4              0.738515  0.974229         0.237222   0.851195   \n",
       "\n",
       "   enrolled_in_edu_inst_lastwk  marital_status  ...  \\\n",
       "0                     0.179014        1.032040  ...   \n",
       "1                     0.179014       -0.455042  ...   \n",
       "2                     0.179014       -0.455042  ...   \n",
       "3                     0.179014       -0.455042  ...   \n",
       "4                     0.179014       -0.455042  ...   \n",
       "\n",
       "   state_of_previous_residence  d_household_family_stat  d_household_summary  \\\n",
       "0                     0.160026                 0.032974            -0.133073   \n",
       "1                     0.160026                -0.171665            -0.133073   \n",
       "2                     0.160026                 1.567771             1.571044   \n",
       "3                     0.160026                 1.567771             1.571044   \n",
       "4                     0.160026                 1.567771             1.571044   \n",
       "\n",
       "   live_1_year_ago  family_members_under_18  country_father  country_mother  \\\n",
       "0         1.081319                 0.399088       -1.986150       -1.981360   \n",
       "1         1.081319                 0.399088        0.355907        0.353082   \n",
       "2         1.081319                 0.399088        0.355907        0.353082   \n",
       "3         1.081319                 0.399088        0.355907        0.353082   \n",
       "4        -0.588201                 0.399088        0.355907        0.353082   \n",
       "\n",
       "   country_self  citizenship  fill_questionnaire_veteran_admin  \n",
       "0     -2.685895    -3.444425                          0.090742  \n",
       "1      0.263485     0.333560                          0.090742  \n",
       "2      0.263485     0.333560                          0.090742  \n",
       "3      0.263485     0.333560                          0.090742  \n",
       "4      0.263485     0.333560                          0.090742  \n",
       "\n",
       "[5 rows x 30 columns]"
      ]
     },
     "execution_count": 82,
     "metadata": {},
     "output_type": "execute_result"
    }
   ],
   "source": [
    "data.head()"
   ]
  },
  {
   "cell_type": "code",
   "execution_count": 83,
   "id": "67a0f51b",
   "metadata": {},
   "outputs": [],
   "source": [
    "from sklearn.model_selection import train_test_split\n",
    "X_train, X_test, Y_train, Y_test = train_test_split(data, Y, test_size=0.3, random_state=42)"
   ]
  },
  {
   "cell_type": "code",
   "execution_count": 86,
   "id": "c1f2a210",
   "metadata": {},
   "outputs": [
    {
     "data": {
      "text/html": [
       "<div>\n",
       "<style scoped>\n",
       "    .dataframe tbody tr th:only-of-type {\n",
       "        vertical-align: middle;\n",
       "    }\n",
       "\n",
       "    .dataframe tbody tr th {\n",
       "        vertical-align: top;\n",
       "    }\n",
       "\n",
       "    .dataframe thead th {\n",
       "        text-align: right;\n",
       "    }\n",
       "</style>\n",
       "<table border=\"1\" class=\"dataframe\">\n",
       "  <thead>\n",
       "    <tr style=\"text-align: right;\">\n",
       "      <th></th>\n",
       "      <th>age</th>\n",
       "      <th>industry_code</th>\n",
       "      <th>occupation_code</th>\n",
       "      <th>num_person_Worked_employer</th>\n",
       "      <th>weeks_worked_in_year</th>\n",
       "      <th>year</th>\n",
       "      <th>class_of_worker</th>\n",
       "      <th>education</th>\n",
       "      <th>enrolled_in_edu_inst_lastwk</th>\n",
       "      <th>marital_status</th>\n",
       "      <th>...</th>\n",
       "      <th>state_of_previous_residence</th>\n",
       "      <th>d_household_family_stat</th>\n",
       "      <th>d_household_summary</th>\n",
       "      <th>live_1_year_ago</th>\n",
       "      <th>family_members_under_18</th>\n",
       "      <th>country_father</th>\n",
       "      <th>country_mother</th>\n",
       "      <th>country_self</th>\n",
       "      <th>citizenship</th>\n",
       "      <th>fill_questionnaire_veteran_admin</th>\n",
       "    </tr>\n",
       "  </thead>\n",
       "  <tbody>\n",
       "    <tr>\n",
       "      <th>35929</th>\n",
       "      <td>0.279716</td>\n",
       "      <td>1.057089</td>\n",
       "      <td>-0.273542</td>\n",
       "      <td>1.248450</td>\n",
       "      <td>0.738515</td>\n",
       "      <td>-1.026453</td>\n",
       "      <td>-2.783654</td>\n",
       "      <td>-0.467680</td>\n",
       "      <td>0.179014</td>\n",
       "      <td>-0.455042</td>\n",
       "      <td>...</td>\n",
       "      <td>0.160026</td>\n",
       "      <td>-0.171665</td>\n",
       "      <td>-0.133073</td>\n",
       "      <td>1.081319</td>\n",
       "      <td>0.399088</td>\n",
       "      <td>0.355907</td>\n",
       "      <td>0.353082</td>\n",
       "      <td>0.263485</td>\n",
       "      <td>0.33356</td>\n",
       "      <td>0.090742</td>\n",
       "    </tr>\n",
       "    <tr>\n",
       "      <th>126403</th>\n",
       "      <td>-0.519162</td>\n",
       "      <td>1.387287</td>\n",
       "      <td>-0.721340</td>\n",
       "      <td>-0.772705</td>\n",
       "      <td>0.738515</td>\n",
       "      <td>0.974229</td>\n",
       "      <td>-2.783654</td>\n",
       "      <td>1.114971</td>\n",
       "      <td>0.179014</td>\n",
       "      <td>1.032040</td>\n",
       "      <td>...</td>\n",
       "      <td>0.160026</td>\n",
       "      <td>0.032974</td>\n",
       "      <td>-0.133073</td>\n",
       "      <td>-0.588201</td>\n",
       "      <td>0.399088</td>\n",
       "      <td>0.355907</td>\n",
       "      <td>0.353082</td>\n",
       "      <td>0.263485</td>\n",
       "      <td>0.33356</td>\n",
       "      <td>0.090742</td>\n",
       "    </tr>\n",
       "    <tr>\n",
       "      <th>224424</th>\n",
       "      <td>-2.010401</td>\n",
       "      <td>-1.199264</td>\n",
       "      <td>-0.870606</td>\n",
       "      <td>-1.176936</td>\n",
       "      <td>-1.494917</td>\n",
       "      <td>0.974229</td>\n",
       "      <td>-0.517997</td>\n",
       "      <td>-0.203905</td>\n",
       "      <td>0.179014</td>\n",
       "      <td>1.032040</td>\n",
       "      <td>...</td>\n",
       "      <td>0.160026</td>\n",
       "      <td>-1.399503</td>\n",
       "      <td>-1.269151</td>\n",
       "      <td>-0.588201</td>\n",
       "      <td>-2.763989</td>\n",
       "      <td>0.355907</td>\n",
       "      <td>0.353082</td>\n",
       "      <td>0.263485</td>\n",
       "      <td>0.33356</td>\n",
       "      <td>0.090742</td>\n",
       "    </tr>\n",
       "    <tr>\n",
       "      <th>225990</th>\n",
       "      <td>-0.519162</td>\n",
       "      <td>0.396693</td>\n",
       "      <td>1.965448</td>\n",
       "      <td>-0.772705</td>\n",
       "      <td>-0.635905</td>\n",
       "      <td>-1.026453</td>\n",
       "      <td>0.237222</td>\n",
       "      <td>0.323645</td>\n",
       "      <td>0.179014</td>\n",
       "      <td>-0.455042</td>\n",
       "      <td>...</td>\n",
       "      <td>-2.559800</td>\n",
       "      <td>1.567771</td>\n",
       "      <td>1.571044</td>\n",
       "      <td>-2.257721</td>\n",
       "      <td>0.399088</td>\n",
       "      <td>0.355907</td>\n",
       "      <td>0.353082</td>\n",
       "      <td>0.263485</td>\n",
       "      <td>0.33356</td>\n",
       "      <td>0.090742</td>\n",
       "    </tr>\n",
       "    <tr>\n",
       "      <th>46108</th>\n",
       "      <td>-0.252869</td>\n",
       "      <td>0.726891</td>\n",
       "      <td>0.323522</td>\n",
       "      <td>-0.772705</td>\n",
       "      <td>0.738515</td>\n",
       "      <td>-1.026453</td>\n",
       "      <td>0.992442</td>\n",
       "      <td>-0.731456</td>\n",
       "      <td>0.179014</td>\n",
       "      <td>-0.455042</td>\n",
       "      <td>...</td>\n",
       "      <td>0.160026</td>\n",
       "      <td>-0.171665</td>\n",
       "      <td>-0.133073</td>\n",
       "      <td>1.081319</td>\n",
       "      <td>0.399088</td>\n",
       "      <td>0.355907</td>\n",
       "      <td>0.353082</td>\n",
       "      <td>0.263485</td>\n",
       "      <td>0.33356</td>\n",
       "      <td>0.090742</td>\n",
       "    </tr>\n",
       "  </tbody>\n",
       "</table>\n",
       "<p>5 rows × 30 columns</p>\n",
       "</div>"
      ],
      "text/plain": [
       "             age  industry_code  occupation_code  num_person_Worked_employer  \\\n",
       "35929   0.279716       1.057089        -0.273542                    1.248450   \n",
       "126403 -0.519162       1.387287        -0.721340                   -0.772705   \n",
       "224424 -2.010401      -1.199264        -0.870606                   -1.176936   \n",
       "225990 -0.519162       0.396693         1.965448                   -0.772705   \n",
       "46108  -0.252869       0.726891         0.323522                   -0.772705   \n",
       "\n",
       "        weeks_worked_in_year      year  class_of_worker  education  \\\n",
       "35929               0.738515 -1.026453        -2.783654  -0.467680   \n",
       "126403              0.738515  0.974229        -2.783654   1.114971   \n",
       "224424             -1.494917  0.974229        -0.517997  -0.203905   \n",
       "225990             -0.635905 -1.026453         0.237222   0.323645   \n",
       "46108               0.738515 -1.026453         0.992442  -0.731456   \n",
       "\n",
       "        enrolled_in_edu_inst_lastwk  marital_status  ...  \\\n",
       "35929                      0.179014       -0.455042  ...   \n",
       "126403                     0.179014        1.032040  ...   \n",
       "224424                     0.179014        1.032040  ...   \n",
       "225990                     0.179014       -0.455042  ...   \n",
       "46108                      0.179014       -0.455042  ...   \n",
       "\n",
       "        state_of_previous_residence  d_household_family_stat  \\\n",
       "35929                      0.160026                -0.171665   \n",
       "126403                     0.160026                 0.032974   \n",
       "224424                     0.160026                -1.399503   \n",
       "225990                    -2.559800                 1.567771   \n",
       "46108                      0.160026                -0.171665   \n",
       "\n",
       "        d_household_summary  live_1_year_ago  family_members_under_18  \\\n",
       "35929             -0.133073         1.081319                 0.399088   \n",
       "126403            -0.133073        -0.588201                 0.399088   \n",
       "224424            -1.269151        -0.588201                -2.763989   \n",
       "225990             1.571044        -2.257721                 0.399088   \n",
       "46108             -0.133073         1.081319                 0.399088   \n",
       "\n",
       "        country_father  country_mother  country_self  citizenship  \\\n",
       "35929         0.355907        0.353082      0.263485      0.33356   \n",
       "126403        0.355907        0.353082      0.263485      0.33356   \n",
       "224424        0.355907        0.353082      0.263485      0.33356   \n",
       "225990        0.355907        0.353082      0.263485      0.33356   \n",
       "46108         0.355907        0.353082      0.263485      0.33356   \n",
       "\n",
       "        fill_questionnaire_veteran_admin  \n",
       "35929                           0.090742  \n",
       "126403                          0.090742  \n",
       "224424                          0.090742  \n",
       "225990                          0.090742  \n",
       "46108                           0.090742  \n",
       "\n",
       "[5 rows x 30 columns]"
      ]
     },
     "execution_count": 86,
     "metadata": {},
     "output_type": "execute_result"
    }
   ],
   "source": [
    "X_test.head()"
   ]
  },
  {
   "cell_type": "code",
   "execution_count": 87,
   "id": "a9bca65d",
   "metadata": {},
   "outputs": [
    {
     "data": {
      "text/html": [
       "<div>\n",
       "<style scoped>\n",
       "    .dataframe tbody tr th:only-of-type {\n",
       "        vertical-align: middle;\n",
       "    }\n",
       "\n",
       "    .dataframe tbody tr th {\n",
       "        vertical-align: top;\n",
       "    }\n",
       "\n",
       "    .dataframe thead th {\n",
       "        text-align: right;\n",
       "    }\n",
       "</style>\n",
       "<table border=\"1\" class=\"dataframe\">\n",
       "  <thead>\n",
       "    <tr style=\"text-align: right;\">\n",
       "      <th></th>\n",
       "      <th>level_0</th>\n",
       "      <th>index</th>\n",
       "      <th>income_level</th>\n",
       "    </tr>\n",
       "  </thead>\n",
       "  <tbody>\n",
       "    <tr>\n",
       "      <th>230079</th>\n",
       "      <td>230079</td>\n",
       "      <td>230079</td>\n",
       "      <td>0</td>\n",
       "    </tr>\n",
       "    <tr>\n",
       "      <th>163743</th>\n",
       "      <td>163743</td>\n",
       "      <td>163743</td>\n",
       "      <td>1</td>\n",
       "    </tr>\n",
       "    <tr>\n",
       "      <th>106645</th>\n",
       "      <td>106645</td>\n",
       "      <td>106645</td>\n",
       "      <td>1</td>\n",
       "    </tr>\n",
       "    <tr>\n",
       "      <th>339603</th>\n",
       "      <td>339603</td>\n",
       "      <td>339603</td>\n",
       "      <td>0</td>\n",
       "    </tr>\n",
       "    <tr>\n",
       "      <th>314957</th>\n",
       "      <td>314957</td>\n",
       "      <td>314957</td>\n",
       "      <td>0</td>\n",
       "    </tr>\n",
       "  </tbody>\n",
       "</table>\n",
       "</div>"
      ],
      "text/plain": [
       "        level_0   index  income_level\n",
       "230079   230079  230079             0\n",
       "163743   163743  163743             1\n",
       "106645   106645  106645             1\n",
       "339603   339603  339603             0\n",
       "314957   314957  314957             0"
      ]
     },
     "execution_count": 87,
     "metadata": {},
     "output_type": "execute_result"
    }
   ],
   "source": [
    "Y_train.head()"
   ]
  },
  {
   "cell_type": "code",
   "execution_count": 88,
   "id": "1b898f8e",
   "metadata": {},
   "outputs": [],
   "source": [
    "Y_train.drop(['level_0', 'index'], axis = 1, inplace = True)"
   ]
  },
  {
   "cell_type": "code",
   "execution_count": 89,
   "id": "3743eb36",
   "metadata": {},
   "outputs": [
    {
     "data": {
      "text/html": [
       "<div>\n",
       "<style scoped>\n",
       "    .dataframe tbody tr th:only-of-type {\n",
       "        vertical-align: middle;\n",
       "    }\n",
       "\n",
       "    .dataframe tbody tr th {\n",
       "        vertical-align: top;\n",
       "    }\n",
       "\n",
       "    .dataframe thead th {\n",
       "        text-align: right;\n",
       "    }\n",
       "</style>\n",
       "<table border=\"1\" class=\"dataframe\">\n",
       "  <thead>\n",
       "    <tr style=\"text-align: right;\">\n",
       "      <th></th>\n",
       "      <th>level_0</th>\n",
       "      <th>index</th>\n",
       "      <th>income_level</th>\n",
       "    </tr>\n",
       "  </thead>\n",
       "  <tbody>\n",
       "    <tr>\n",
       "      <th>35929</th>\n",
       "      <td>35929</td>\n",
       "      <td>35929</td>\n",
       "      <td>1</td>\n",
       "    </tr>\n",
       "    <tr>\n",
       "      <th>126403</th>\n",
       "      <td>126403</td>\n",
       "      <td>126403</td>\n",
       "      <td>1</td>\n",
       "    </tr>\n",
       "    <tr>\n",
       "      <th>224424</th>\n",
       "      <td>224424</td>\n",
       "      <td>224424</td>\n",
       "      <td>0</td>\n",
       "    </tr>\n",
       "    <tr>\n",
       "      <th>225990</th>\n",
       "      <td>225990</td>\n",
       "      <td>225990</td>\n",
       "      <td>0</td>\n",
       "    </tr>\n",
       "    <tr>\n",
       "      <th>46108</th>\n",
       "      <td>46108</td>\n",
       "      <td>46108</td>\n",
       "      <td>1</td>\n",
       "    </tr>\n",
       "  </tbody>\n",
       "</table>\n",
       "</div>"
      ],
      "text/plain": [
       "        level_0   index  income_level\n",
       "35929     35929   35929             1\n",
       "126403   126403  126403             1\n",
       "224424   224424  224424             0\n",
       "225990   225990  225990             0\n",
       "46108     46108   46108             1"
      ]
     },
     "execution_count": 89,
     "metadata": {},
     "output_type": "execute_result"
    }
   ],
   "source": [
    "Y_test.head()"
   ]
  },
  {
   "cell_type": "code",
   "execution_count": 90,
   "id": "2ce10a83",
   "metadata": {},
   "outputs": [],
   "source": [
    "Y_test.drop(['level_0', 'index'], axis = 1, inplace = True)"
   ]
  },
  {
   "cell_type": "code",
   "execution_count": 91,
   "id": "63d05dc5",
   "metadata": {
    "scrolled": false
   },
   "outputs": [
    {
     "name": "stderr",
     "output_type": "stream",
     "text": [
      "C:\\Users\\pranj\\AppData\\Local\\Programs\\Python\\Python39\\lib\\site-packages\\sklearn\\utils\\validation.py:1111: DataConversionWarning: A column-vector y was passed when a 1d array was expected. Please change the shape of y to (n_samples, ), for example using ravel().\n",
      "  y = column_or_1d(y, warn=True)\n"
     ]
    }
   ],
   "source": [
    "from sklearn.linear_model import LogisticRegression\n",
    "log_reg = LogisticRegression()\n",
    "log_reg.fit(X_train,Y_train)\n",
    "Y_pred = log_reg.predict(X_test)"
   ]
  },
  {
   "cell_type": "code",
   "execution_count": 92,
   "id": "687bab12",
   "metadata": {},
   "outputs": [
    {
     "name": "stdout",
     "output_type": "stream",
     "text": [
      "0.8307075744756646\n",
      "0.8070466734188985\n",
      "0.8680572918526985\n"
     ]
    }
   ],
   "source": [
    "from sklearn.metrics import accuracy_score, precision_score, recall_score, roc_auc_score, confusion_matrix, classification_report\n",
    "print(accuracy_score(Y_test,Y_pred))\n",
    "print(precision_score(Y_test,Y_pred))\n",
    "print(recall_score(Y_test,Y_pred))"
   ]
  },
  {
   "cell_type": "code",
   "execution_count": 93,
   "id": "bbf2be5f",
   "metadata": {},
   "outputs": [
    {
     "name": "stdout",
     "output_type": "stream",
     "text": [
      "0.8308061059110715\n"
     ]
    }
   ],
   "source": [
    "print(roc_auc_score(Y_test,Y_pred))"
   ]
  },
  {
   "cell_type": "code",
   "execution_count": 94,
   "id": "47d41212",
   "metadata": {},
   "outputs": [
    {
     "name": "stderr",
     "output_type": "stream",
     "text": [
      "C:\\Users\\pranj\\AppData\\Local\\Temp/ipykernel_31864/2050257390.py:3: DataConversionWarning: A column-vector y was passed when a 1d array was expected. Please change the shape of y to (n_samples,), for example using ravel().\n",
      "  rfc.fit(X_train,Y_train)\n"
     ]
    }
   ],
   "source": [
    "from sklearn.ensemble import RandomForestClassifier\n",
    "rfc = RandomForestClassifier(n_estimators=100)\n",
    "rfc.fit(X_train,Y_train)\n",
    "Y_pred = rfc.predict(X_test)"
   ]
  },
  {
   "cell_type": "code",
   "execution_count": 95,
   "id": "1a44de62",
   "metadata": {},
   "outputs": [
    {
     "name": "stdout",
     "output_type": "stream",
     "text": [
      "0.9805316827715189\n",
      "0.9645027624309392\n",
      "0.9976783226774297\n"
     ]
    }
   ],
   "source": [
    "print(accuracy_score(Y_test,Y_pred))\n",
    "print(precision_score(Y_test,Y_pred))\n",
    "print(recall_score(Y_test,Y_pred))"
   ]
  },
  {
   "cell_type": "code",
   "execution_count": null,
   "id": "3aaf1132",
   "metadata": {},
   "outputs": [],
   "source": []
  }
 ],
 "metadata": {
  "kernelspec": {
   "display_name": "Python 3 (ipykernel)",
   "language": "python",
   "name": "python3"
  },
  "language_info": {
   "codemirror_mode": {
    "name": "ipython",
    "version": 3
   },
   "file_extension": ".py",
   "mimetype": "text/x-python",
   "name": "python",
   "nbconvert_exporter": "python",
   "pygments_lexer": "ipython3",
   "version": "3.9.7"
  }
 },
 "nbformat": 4,
 "nbformat_minor": 5
}
