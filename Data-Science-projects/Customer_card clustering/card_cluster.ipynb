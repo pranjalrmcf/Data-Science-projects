{
 "cells": [
  {
   "cell_type": "code",
   "execution_count": 1,
   "id": "173a95b2",
   "metadata": {},
   "outputs": [],
   "source": [
    "import numpy as np\n",
    "import pandas as pd\n",
    "import matplotlib.pyplot as plt\n",
    "import seaborn as sns\n",
    "%matplotlib inline\n",
    "import warnings\n",
    "warnings.filterwarnings('ignore')"
   ]
  },
  {
   "cell_type": "code",
   "execution_count": 3,
   "id": "a2abac4e",
   "metadata": {},
   "outputs": [],
   "source": [
    "data = pd.read_excel('card_customer_data.xlsx')"
   ]
  },
  {
   "cell_type": "code",
   "execution_count": 4,
   "id": "78449789",
   "metadata": {},
   "outputs": [
    {
     "data": {
      "text/html": [
       "<div>\n",
       "<style scoped>\n",
       "    .dataframe tbody tr th:only-of-type {\n",
       "        vertical-align: middle;\n",
       "    }\n",
       "\n",
       "    .dataframe tbody tr th {\n",
       "        vertical-align: top;\n",
       "    }\n",
       "\n",
       "    .dataframe thead th {\n",
       "        text-align: right;\n",
       "    }\n",
       "</style>\n",
       "<table border=\"1\" class=\"dataframe\">\n",
       "  <thead>\n",
       "    <tr style=\"text-align: right;\">\n",
       "      <th></th>\n",
       "      <th>CLIENTNUM</th>\n",
       "      <th>Education_Level</th>\n",
       "      <th>Card_Category</th>\n",
       "      <th>Months_on_book</th>\n",
       "      <th>Total_Relationship_Count</th>\n",
       "      <th>Months_Inactive_12_mon</th>\n",
       "      <th>Credit_Limit</th>\n",
       "      <th>Total_Revolving_Bal</th>\n",
       "      <th>Avg_Utilization_Ratio</th>\n",
       "      <th>Total_Trans_Amt</th>\n",
       "      <th>Total_Trans_Ct</th>\n",
       "    </tr>\n",
       "  </thead>\n",
       "  <tbody>\n",
       "    <tr>\n",
       "      <th>0</th>\n",
       "      <td>769911858</td>\n",
       "      <td>High School</td>\n",
       "      <td>Blue</td>\n",
       "      <td>34</td>\n",
       "      <td>3</td>\n",
       "      <td>4</td>\n",
       "      <td>3313.0</td>\n",
       "      <td>2517</td>\n",
       "      <td>0.760</td>\n",
       "      <td>1171</td>\n",
       "      <td>20</td>\n",
       "    </tr>\n",
       "    <tr>\n",
       "      <th>1</th>\n",
       "      <td>713061558</td>\n",
       "      <td>Graduate</td>\n",
       "      <td>Blue</td>\n",
       "      <td>36</td>\n",
       "      <td>3</td>\n",
       "      <td>1</td>\n",
       "      <td>4010.0</td>\n",
       "      <td>1247</td>\n",
       "      <td>0.311</td>\n",
       "      <td>1088</td>\n",
       "      <td>24</td>\n",
       "    </tr>\n",
       "    <tr>\n",
       "      <th>2</th>\n",
       "      <td>818906208</td>\n",
       "      <td>High School</td>\n",
       "      <td>Silver</td>\n",
       "      <td>27</td>\n",
       "      <td>2</td>\n",
       "      <td>2</td>\n",
       "      <td>29081.0</td>\n",
       "      <td>1396</td>\n",
       "      <td>0.048</td>\n",
       "      <td>1538</td>\n",
       "      <td>36</td>\n",
       "    </tr>\n",
       "    <tr>\n",
       "      <th>3</th>\n",
       "      <td>710599683</td>\n",
       "      <td>College</td>\n",
       "      <td>Blue</td>\n",
       "      <td>36</td>\n",
       "      <td>3</td>\n",
       "      <td>6</td>\n",
       "      <td>11751.0</td>\n",
       "      <td>0</td>\n",
       "      <td>0.000</td>\n",
       "      <td>1539</td>\n",
       "      <td>17</td>\n",
       "    </tr>\n",
       "    <tr>\n",
       "      <th>4</th>\n",
       "      <td>712396908</td>\n",
       "      <td>Graduate</td>\n",
       "      <td>Blue</td>\n",
       "      <td>48</td>\n",
       "      <td>5</td>\n",
       "      <td>2</td>\n",
       "      <td>2436.0</td>\n",
       "      <td>680</td>\n",
       "      <td>0.279</td>\n",
       "      <td>1570</td>\n",
       "      <td>29</td>\n",
       "    </tr>\n",
       "  </tbody>\n",
       "</table>\n",
       "</div>"
      ],
      "text/plain": [
       "   CLIENTNUM Education_Level Card_Category  Months_on_book  \\\n",
       "0  769911858     High School          Blue              34   \n",
       "1  713061558        Graduate          Blue              36   \n",
       "2  818906208     High School        Silver              27   \n",
       "3  710599683         College          Blue              36   \n",
       "4  712396908        Graduate          Blue              48   \n",
       "\n",
       "   Total_Relationship_Count  Months_Inactive_12_mon  Credit_Limit  \\\n",
       "0                         3                       4        3313.0   \n",
       "1                         3                       1        4010.0   \n",
       "2                         2                       2       29081.0   \n",
       "3                         3                       6       11751.0   \n",
       "4                         5                       2        2436.0   \n",
       "\n",
       "   Total_Revolving_Bal  Avg_Utilization_Ratio  Total_Trans_Amt  Total_Trans_Ct  \n",
       "0                 2517                  0.760             1171              20  \n",
       "1                 1247                  0.311             1088              24  \n",
       "2                 1396                  0.048             1538              36  \n",
       "3                    0                  0.000             1539              17  \n",
       "4                  680                  0.279             1570              29  "
      ]
     },
     "execution_count": 4,
     "metadata": {},
     "output_type": "execute_result"
    }
   ],
   "source": [
    "data.head()"
   ]
  },
  {
   "cell_type": "code",
   "execution_count": 5,
   "id": "4c03f69c",
   "metadata": {},
   "outputs": [
    {
     "data": {
      "text/plain": [
       "(3078, 11)"
      ]
     },
     "execution_count": 5,
     "metadata": {},
     "output_type": "execute_result"
    }
   ],
   "source": [
    "data.shape"
   ]
  },
  {
   "cell_type": "code",
   "execution_count": 6,
   "id": "f4681e3d",
   "metadata": {},
   "outputs": [
    {
     "data": {
      "text/plain": [
       "CLIENTNUM                     int64\n",
       "Education_Level              object\n",
       "Card_Category                object\n",
       "Months_on_book                int64\n",
       "Total_Relationship_Count      int64\n",
       "Months_Inactive_12_mon        int64\n",
       "Credit_Limit                float64\n",
       "Total_Revolving_Bal           int64\n",
       "Avg_Utilization_Ratio       float64\n",
       "Total_Trans_Amt               int64\n",
       "Total_Trans_Ct                int64\n",
       "dtype: object"
      ]
     },
     "execution_count": 6,
     "metadata": {},
     "output_type": "execute_result"
    }
   ],
   "source": [
    "data.dtypes"
   ]
  },
  {
   "cell_type": "code",
   "execution_count": 7,
   "id": "c764be4a",
   "metadata": {},
   "outputs": [],
   "source": [
    "data.drop(['CLIENTNUM'],axis = 1, inplace = True)"
   ]
  },
  {
   "cell_type": "code",
   "execution_count": 8,
   "id": "75a3bca8",
   "metadata": {},
   "outputs": [
    {
     "data": {
      "text/html": [
       "<div>\n",
       "<style scoped>\n",
       "    .dataframe tbody tr th:only-of-type {\n",
       "        vertical-align: middle;\n",
       "    }\n",
       "\n",
       "    .dataframe tbody tr th {\n",
       "        vertical-align: top;\n",
       "    }\n",
       "\n",
       "    .dataframe thead th {\n",
       "        text-align: right;\n",
       "    }\n",
       "</style>\n",
       "<table border=\"1\" class=\"dataframe\">\n",
       "  <thead>\n",
       "    <tr style=\"text-align: right;\">\n",
       "      <th></th>\n",
       "      <th>Education_Level</th>\n",
       "      <th>Card_Category</th>\n",
       "      <th>Months_on_book</th>\n",
       "      <th>Total_Relationship_Count</th>\n",
       "      <th>Months_Inactive_12_mon</th>\n",
       "      <th>Credit_Limit</th>\n",
       "      <th>Total_Revolving_Bal</th>\n",
       "      <th>Avg_Utilization_Ratio</th>\n",
       "      <th>Total_Trans_Amt</th>\n",
       "      <th>Total_Trans_Ct</th>\n",
       "    </tr>\n",
       "  </thead>\n",
       "  <tbody>\n",
       "    <tr>\n",
       "      <th>0</th>\n",
       "      <td>High School</td>\n",
       "      <td>Blue</td>\n",
       "      <td>34</td>\n",
       "      <td>3</td>\n",
       "      <td>4</td>\n",
       "      <td>3313.0</td>\n",
       "      <td>2517</td>\n",
       "      <td>0.760</td>\n",
       "      <td>1171</td>\n",
       "      <td>20</td>\n",
       "    </tr>\n",
       "    <tr>\n",
       "      <th>1</th>\n",
       "      <td>Graduate</td>\n",
       "      <td>Blue</td>\n",
       "      <td>36</td>\n",
       "      <td>3</td>\n",
       "      <td>1</td>\n",
       "      <td>4010.0</td>\n",
       "      <td>1247</td>\n",
       "      <td>0.311</td>\n",
       "      <td>1088</td>\n",
       "      <td>24</td>\n",
       "    </tr>\n",
       "    <tr>\n",
       "      <th>2</th>\n",
       "      <td>High School</td>\n",
       "      <td>Silver</td>\n",
       "      <td>27</td>\n",
       "      <td>2</td>\n",
       "      <td>2</td>\n",
       "      <td>29081.0</td>\n",
       "      <td>1396</td>\n",
       "      <td>0.048</td>\n",
       "      <td>1538</td>\n",
       "      <td>36</td>\n",
       "    </tr>\n",
       "    <tr>\n",
       "      <th>3</th>\n",
       "      <td>College</td>\n",
       "      <td>Blue</td>\n",
       "      <td>36</td>\n",
       "      <td>3</td>\n",
       "      <td>6</td>\n",
       "      <td>11751.0</td>\n",
       "      <td>0</td>\n",
       "      <td>0.000</td>\n",
       "      <td>1539</td>\n",
       "      <td>17</td>\n",
       "    </tr>\n",
       "    <tr>\n",
       "      <th>4</th>\n",
       "      <td>Graduate</td>\n",
       "      <td>Blue</td>\n",
       "      <td>48</td>\n",
       "      <td>5</td>\n",
       "      <td>2</td>\n",
       "      <td>2436.0</td>\n",
       "      <td>680</td>\n",
       "      <td>0.279</td>\n",
       "      <td>1570</td>\n",
       "      <td>29</td>\n",
       "    </tr>\n",
       "  </tbody>\n",
       "</table>\n",
       "</div>"
      ],
      "text/plain": [
       "  Education_Level Card_Category  Months_on_book  Total_Relationship_Count  \\\n",
       "0     High School          Blue              34                         3   \n",
       "1        Graduate          Blue              36                         3   \n",
       "2     High School        Silver              27                         2   \n",
       "3         College          Blue              36                         3   \n",
       "4        Graduate          Blue              48                         5   \n",
       "\n",
       "   Months_Inactive_12_mon  Credit_Limit  Total_Revolving_Bal  \\\n",
       "0                       4        3313.0                 2517   \n",
       "1                       1        4010.0                 1247   \n",
       "2                       2       29081.0                 1396   \n",
       "3                       6       11751.0                    0   \n",
       "4                       2        2436.0                  680   \n",
       "\n",
       "   Avg_Utilization_Ratio  Total_Trans_Amt  Total_Trans_Ct  \n",
       "0                  0.760             1171              20  \n",
       "1                  0.311             1088              24  \n",
       "2                  0.048             1538              36  \n",
       "3                  0.000             1539              17  \n",
       "4                  0.279             1570              29  "
      ]
     },
     "execution_count": 8,
     "metadata": {},
     "output_type": "execute_result"
    }
   ],
   "source": [
    "data.head()"
   ]
  },
  {
   "cell_type": "code",
   "execution_count": 9,
   "id": "3c1b27cc",
   "metadata": {},
   "outputs": [],
   "source": [
    "num = data.select_dtypes(include = 'number')\n",
    "char = data.select_dtypes(include = 'object')"
   ]
  },
  {
   "cell_type": "code",
   "execution_count": 10,
   "id": "4c531cfe",
   "metadata": {},
   "outputs": [
    {
     "data": {
      "text/plain": [
       "Months_on_book                int64\n",
       "Total_Relationship_Count      int64\n",
       "Months_Inactive_12_mon        int64\n",
       "Credit_Limit                float64\n",
       "Total_Revolving_Bal           int64\n",
       "Avg_Utilization_Ratio       float64\n",
       "Total_Trans_Amt               int64\n",
       "Total_Trans_Ct                int64\n",
       "dtype: object"
      ]
     },
     "execution_count": 10,
     "metadata": {},
     "output_type": "execute_result"
    }
   ],
   "source": [
    "num.dtypes"
   ]
  },
  {
   "cell_type": "code",
   "execution_count": 11,
   "id": "35e55465",
   "metadata": {},
   "outputs": [
    {
     "data": {
      "text/plain": [
       "Education_Level    object\n",
       "Card_Category      object\n",
       "dtype: object"
      ]
     },
     "execution_count": 11,
     "metadata": {},
     "output_type": "execute_result"
    }
   ],
   "source": [
    "char.dtypes"
   ]
  },
  {
   "cell_type": "code",
   "execution_count": 12,
   "id": "46700f2e",
   "metadata": {},
   "outputs": [
    {
     "data": {
      "image/png": "[encoded data removed]",
      "text/plain": [
       "<Figure size 432x288 with 1 Axes>"
      ]
     },
     "metadata": {
      "needs_background": "light"
     },
     "output_type": "display_data"
    },
    {
     "data": {
      "image/png": "[encoded data removed]",
      "text/plain": [
       "<Figure size 432x288 with 1 Axes>"
      ]
     },
     "metadata": {
      "needs_background": "light"
     },
     "output_type": "display_data"
    },
    {
     "data": {
      "image/png": "[encoded data removed]",
      "text/plain": [
       "<Figure size 432x288 with 1 Axes>"
      ]
     },
     "metadata": {
      "needs_background": "light"
     },
     "output_type": "display_data"
    },
    {
     "data": {
      "image/png": "[encoded data removed]",
      "text/plain": [
       "<Figure size 432x288 with 1 Axes>"
      ]
     },
     "metadata": {
      "needs_background": "light"
     },
     "output_type": "display_data"
    },
    {
     "data": {
      "image/png": "[encoded data removed]",
      "text/plain": [
       "<Figure size 432x288 with 1 Axes>"
      ]
     },
     "metadata": {
      "needs_background": "light"
     },
     "output_type": "display_data"
    },
    {
     "data": {
      "image/png": "[encoded data removed]",
      "text/plain": [
       "<Figure size 432x288 with 1 Axes>"
      ]
     },
     "metadata": {
      "needs_background": "light"
     },
     "output_type": "display_data"
    },
    {
     "data": {
      "image/png": "[encoded data removed]",
      "text/plain": [
       "<Figure size 432x288 with 1 Axes>"
      ]
     },
     "metadata": {
      "needs_background": "light"
     },
     "output_type": "display_data"
    },
    {
     "data": {
      "image/png": "[encoded data removed]",
      "text/plain": [
       "<Figure size 432x288 with 1 Axes>"
      ]
     },
     "metadata": {
      "needs_background": "light"
     },
     "output_type": "display_data"
    }
   ],
   "source": [
    "for col in num.columns:\n",
    "    plt.figure()\n",
    "    sns.boxplot(num[col])"
   ]
  },
  {
   "cell_type": "code",
   "execution_count": 15,
   "id": "ec897dc9",
   "metadata": {},
   "outputs": [],
   "source": [
    "for col in num.columns:\n",
    "    q1 = num[col].quantile(0.25)\n",
    "    q3 = num[col].quantile(0.75)\n",
    "    iqr = q3 - q1\n",
    "    lower = q1 - 1.5 * iqr\n",
    "    upper = q3 + 1.5 * iqr\n",
    "    num[col] = np.where(num[col]<lower,lower,num[col])\n",
    "    num[col] = np.where(num[col]>upper,upper,num[col])"
   ]
  },
  {
   "cell_type": "code",
   "execution_count": 16,
   "id": "f8ec34d8",
   "metadata": {},
   "outputs": [
    {
     "data": {
      "image/png": "[encoded data removed]",
      "text/plain": [
       "<Figure size 432x288 with 1 Axes>"
      ]
     },
     "metadata": {
      "needs_background": "light"
     },
     "output_type": "display_data"
    },
    {
     "data": {
      "image/png": "[encoded data removed]",
      "text/plain": [
       "<Figure size 432x288 with 1 Axes>"
      ]
     },
     "metadata": {
      "needs_background": "light"
     },
     "output_type": "display_data"
    },
    {
     "data": {
      "image/png": "[encoded data removed]",
      "text/plain": [
       "<Figure size 432x288 with 1 Axes>"
      ]
     },
     "metadata": {
      "needs_background": "light"
     },
     "output_type": "display_data"
    },
    {
     "data": {
      "image/png": "[encoded data removed]",
      "text/plain": [
       "<Figure size 432x288 with 1 Axes>"
      ]
     },
     "metadata": {
      "needs_background": "light"
     },
     "output_type": "display_data"
    },
    {
     "data": {
      "image/png": "[encoded data removed]",
      "text/plain": [
       "<Figure size 432x288 with 1 Axes>"
      ]
     },
     "metadata": {
      "needs_background": "light"
     },
     "output_type": "display_data"
    },
    {
     "data": {
      "image/png": "[encoded data removed]",
      "text/plain": [
       "<Figure size 432x288 with 1 Axes>"
      ]
     },
     "metadata": {
      "needs_background": "light"
     },
     "output_type": "display_data"
    },
    {
     "data": {
      "image/png": "[encoded data removed]",
      "text/plain": [
       "<Figure size 432x288 with 1 Axes>"
      ]
     },
     "metadata": {
      "needs_background": "light"
     },
     "output_type": "display_data"
    },
    {
     "data": {
      "image/png": "[encoded data removed]",
      "text/plain": [
       "<Figure size 432x288 with 1 Axes>"
      ]
     },
     "metadata": {
      "needs_background": "light"
     },
     "output_type": "display_data"
    }
   ],
   "source": [
    "for col in num.columns:\n",
    "    plt.figure()\n",
    "    sns.boxplot(num[col])"
   ]
  },
  {
   "cell_type": "code",
   "execution_count": 17,
   "id": "96005ce2",
   "metadata": {
    "scrolled": true
   },
   "outputs": [
    {
     "data": {
      "text/plain": [
       "Months_on_book              0\n",
       "Total_Relationship_Count    0\n",
       "Months_Inactive_12_mon      0\n",
       "Credit_Limit                0\n",
       "Total_Revolving_Bal         0\n",
       "Avg_Utilization_Ratio       0\n",
       "Total_Trans_Amt             0\n",
       "Total_Trans_Ct              0\n",
       "dtype: int64"
      ]
     },
     "execution_count": 17,
     "metadata": {},
     "output_type": "execute_result"
    }
   ],
   "source": [
    "num.isnull().sum()"
   ]
  },
  {
   "cell_type": "code",
   "execution_count": 18,
   "id": "5e5e3d21",
   "metadata": {},
   "outputs": [],
   "source": [
    "num['Average_Spend'] = num['Total_Trans_Amt']/num['Total_Trans_Ct']"
   ]
  },
  {
   "cell_type": "code",
   "execution_count": 19,
   "id": "c3c7c4bf",
   "metadata": {},
   "outputs": [
    {
     "data": {
      "text/html": [
       "<div>\n",
       "<style scoped>\n",
       "    .dataframe tbody tr th:only-of-type {\n",
       "        vertical-align: middle;\n",
       "    }\n",
       "\n",
       "    .dataframe tbody tr th {\n",
       "        vertical-align: top;\n",
       "    }\n",
       "\n",
       "    .dataframe thead th {\n",
       "        text-align: right;\n",
       "    }\n",
       "</style>\n",
       "<table border=\"1\" class=\"dataframe\">\n",
       "  <thead>\n",
       "    <tr style=\"text-align: right;\">\n",
       "      <th></th>\n",
       "      <th>Months_on_book</th>\n",
       "      <th>Total_Relationship_Count</th>\n",
       "      <th>Months_Inactive_12_mon</th>\n",
       "      <th>Credit_Limit</th>\n",
       "      <th>Total_Revolving_Bal</th>\n",
       "      <th>Avg_Utilization_Ratio</th>\n",
       "      <th>Total_Trans_Amt</th>\n",
       "      <th>Total_Trans_Ct</th>\n",
       "      <th>Average_Spend</th>\n",
       "    </tr>\n",
       "  </thead>\n",
       "  <tbody>\n",
       "    <tr>\n",
       "      <th>0</th>\n",
       "      <td>34.0</td>\n",
       "      <td>3.0</td>\n",
       "      <td>4.0</td>\n",
       "      <td>3313.0</td>\n",
       "      <td>2517.0</td>\n",
       "      <td>0.760</td>\n",
       "      <td>1171.0</td>\n",
       "      <td>20.0</td>\n",
       "      <td>58.550000</td>\n",
       "    </tr>\n",
       "    <tr>\n",
       "      <th>1</th>\n",
       "      <td>36.0</td>\n",
       "      <td>3.0</td>\n",
       "      <td>1.0</td>\n",
       "      <td>4010.0</td>\n",
       "      <td>1247.0</td>\n",
       "      <td>0.311</td>\n",
       "      <td>1088.0</td>\n",
       "      <td>24.0</td>\n",
       "      <td>45.333333</td>\n",
       "    </tr>\n",
       "    <tr>\n",
       "      <th>2</th>\n",
       "      <td>27.0</td>\n",
       "      <td>2.0</td>\n",
       "      <td>2.0</td>\n",
       "      <td>23655.0</td>\n",
       "      <td>1396.0</td>\n",
       "      <td>0.048</td>\n",
       "      <td>1538.0</td>\n",
       "      <td>36.0</td>\n",
       "      <td>42.722222</td>\n",
       "    </tr>\n",
       "    <tr>\n",
       "      <th>3</th>\n",
       "      <td>36.0</td>\n",
       "      <td>3.0</td>\n",
       "      <td>4.5</td>\n",
       "      <td>11751.0</td>\n",
       "      <td>0.0</td>\n",
       "      <td>0.000</td>\n",
       "      <td>1539.0</td>\n",
       "      <td>17.0</td>\n",
       "      <td>90.529412</td>\n",
       "    </tr>\n",
       "    <tr>\n",
       "      <th>4</th>\n",
       "      <td>48.0</td>\n",
       "      <td>5.0</td>\n",
       "      <td>2.0</td>\n",
       "      <td>2436.0</td>\n",
       "      <td>680.0</td>\n",
       "      <td>0.279</td>\n",
       "      <td>1570.0</td>\n",
       "      <td>29.0</td>\n",
       "      <td>54.137931</td>\n",
       "    </tr>\n",
       "  </tbody>\n",
       "</table>\n",
       "</div>"
      ],
      "text/plain": [
       "   Months_on_book  Total_Relationship_Count  Months_Inactive_12_mon  \\\n",
       "0            34.0                       3.0                     4.0   \n",
       "1            36.0                       3.0                     1.0   \n",
       "2            27.0                       2.0                     2.0   \n",
       "3            36.0                       3.0                     4.5   \n",
       "4            48.0                       5.0                     2.0   \n",
       "\n",
       "   Credit_Limit  Total_Revolving_Bal  Avg_Utilization_Ratio  Total_Trans_Amt  \\\n",
       "0        3313.0               2517.0                  0.760           1171.0   \n",
       "1        4010.0               1247.0                  0.311           1088.0   \n",
       "2       23655.0               1396.0                  0.048           1538.0   \n",
       "3       11751.0                  0.0                  0.000           1539.0   \n",
       "4        2436.0                680.0                  0.279           1570.0   \n",
       "\n",
       "   Total_Trans_Ct  Average_Spend  \n",
       "0            20.0      58.550000  \n",
       "1            24.0      45.333333  \n",
       "2            36.0      42.722222  \n",
       "3            17.0      90.529412  \n",
       "4            29.0      54.137931  "
      ]
     },
     "execution_count": 19,
     "metadata": {},
     "output_type": "execute_result"
    }
   ],
   "source": [
    "num.head()"
   ]
  },
  {
   "cell_type": "code",
   "execution_count": 20,
   "id": "8441a8ab",
   "metadata": {},
   "outputs": [],
   "source": [
    "from sklearn.preprocessing import StandardScaler\n",
    "sc = StandardScaler()\n",
    "num_std = pd.DataFrame(sc.fit_transform(num),columns = num.columns)"
   ]
  },
  {
   "cell_type": "code",
   "execution_count": 21,
   "id": "774e1312",
   "metadata": {},
   "outputs": [
    {
     "data": {
      "text/html": [
       "<div>\n",
       "<style scoped>\n",
       "    .dataframe tbody tr th:only-of-type {\n",
       "        vertical-align: middle;\n",
       "    }\n",
       "\n",
       "    .dataframe tbody tr th {\n",
       "        vertical-align: top;\n",
       "    }\n",
       "\n",
       "    .dataframe thead th {\n",
       "        text-align: right;\n",
       "    }\n",
       "</style>\n",
       "<table border=\"1\" class=\"dataframe\">\n",
       "  <thead>\n",
       "    <tr style=\"text-align: right;\">\n",
       "      <th></th>\n",
       "      <th>Months_on_book</th>\n",
       "      <th>Total_Relationship_Count</th>\n",
       "      <th>Months_Inactive_12_mon</th>\n",
       "      <th>Credit_Limit</th>\n",
       "      <th>Total_Revolving_Bal</th>\n",
       "      <th>Avg_Utilization_Ratio</th>\n",
       "      <th>Total_Trans_Amt</th>\n",
       "      <th>Total_Trans_Ct</th>\n",
       "      <th>Average_Spend</th>\n",
       "    </tr>\n",
       "  </thead>\n",
       "  <tbody>\n",
       "    <tr>\n",
       "      <th>0</th>\n",
       "      <td>-0.233573</td>\n",
       "      <td>-0.481448</td>\n",
       "      <td>1.812931</td>\n",
       "      <td>-0.630489</td>\n",
       "      <td>1.667223</td>\n",
       "      <td>1.754925</td>\n",
       "      <td>-1.267140</td>\n",
       "      <td>-1.886456</td>\n",
       "      <td>-0.006748</td>\n",
       "    </tr>\n",
       "    <tr>\n",
       "      <th>1</th>\n",
       "      <td>0.021437</td>\n",
       "      <td>-0.481448</td>\n",
       "      <td>-1.427918</td>\n",
       "      <td>-0.533627</td>\n",
       "      <td>0.110202</td>\n",
       "      <td>0.134104</td>\n",
       "      <td>-1.304997</td>\n",
       "      <td>-1.717041</td>\n",
       "      <td>-0.759219</td>\n",
       "    </tr>\n",
       "    <tr>\n",
       "      <th>2</th>\n",
       "      <td>-1.126109</td>\n",
       "      <td>-1.124354</td>\n",
       "      <td>-0.347635</td>\n",
       "      <td>2.196440</td>\n",
       "      <td>0.292876</td>\n",
       "      <td>-0.815286</td>\n",
       "      <td>-1.099746</td>\n",
       "      <td>-1.208796</td>\n",
       "      <td>-0.907879</td>\n",
       "    </tr>\n",
       "    <tr>\n",
       "      <th>3</th>\n",
       "      <td>0.021437</td>\n",
       "      <td>-0.481448</td>\n",
       "      <td>2.353072</td>\n",
       "      <td>0.542141</td>\n",
       "      <td>-1.418621</td>\n",
       "      <td>-0.988559</td>\n",
       "      <td>-1.099290</td>\n",
       "      <td>-2.013517</td>\n",
       "      <td>1.813951</td>\n",
       "    </tr>\n",
       "    <tr>\n",
       "      <th>4</th>\n",
       "      <td>1.551499</td>\n",
       "      <td>0.804363</td>\n",
       "      <td>-0.347635</td>\n",
       "      <td>-0.752366</td>\n",
       "      <td>-0.584940</td>\n",
       "      <td>0.018589</td>\n",
       "      <td>-1.085150</td>\n",
       "      <td>-1.505272</td>\n",
       "      <td>-0.257943</td>\n",
       "    </tr>\n",
       "  </tbody>\n",
       "</table>\n",
       "</div>"
      ],
      "text/plain": [
       "   Months_on_book  Total_Relationship_Count  Months_Inactive_12_mon  \\\n",
       "0       -0.233573                 -0.481448                1.812931   \n",
       "1        0.021437                 -0.481448               -1.427918   \n",
       "2       -1.126109                 -1.124354               -0.347635   \n",
       "3        0.021437                 -0.481448                2.353072   \n",
       "4        1.551499                  0.804363               -0.347635   \n",
       "\n",
       "   Credit_Limit  Total_Revolving_Bal  Avg_Utilization_Ratio  Total_Trans_Amt  \\\n",
       "0     -0.630489             1.667223               1.754925        -1.267140   \n",
       "1     -0.533627             0.110202               0.134104        -1.304997   \n",
       "2      2.196440             0.292876              -0.815286        -1.099746   \n",
       "3      0.542141            -1.418621              -0.988559        -1.099290   \n",
       "4     -0.752366            -0.584940               0.018589        -1.085150   \n",
       "\n",
       "   Total_Trans_Ct  Average_Spend  \n",
       "0       -1.886456      -0.006748  \n",
       "1       -1.717041      -0.759219  \n",
       "2       -1.208796      -0.907879  \n",
       "3       -2.013517       1.813951  \n",
       "4       -1.505272      -0.257943  "
      ]
     },
     "execution_count": 21,
     "metadata": {},
     "output_type": "execute_result"
    }
   ],
   "source": [
    "num_std.head()"
   ]
  },
  {
   "cell_type": "code",
   "execution_count": 23,
   "id": "7f12a960",
   "metadata": {},
   "outputs": [
    {
     "data": {
      "text/plain": [
       "<AxesSubplot:>"
      ]
     },
     "execution_count": 23,
     "metadata": {},
     "output_type": "execute_result"
    },
    {
     "data": {
      "image/png": "[encoded data removed]",
      "text/plain": [
       "<Figure size 720x720 with 2 Axes>"
      ]
     },
     "metadata": {
      "needs_background": "light"
     },
     "output_type": "display_data"
    }
   ],
   "source": [
    "plt.figure(figsize = (10,10))\n",
    "sns.heatmap(num_std.corr(), annot = True, cmap = 'coolwarm')"
   ]
  },
  {
   "cell_type": "code",
   "execution_count": 24,
   "id": "aa19e409",
   "metadata": {},
   "outputs": [],
   "source": [
    "num_std.drop(['Credit_Limit','Total_Revolving_Bal','Total_Trans_Amt','Total_Trans_Ct','Total_Relationship_Count'], axis=1, inplace = True)"
   ]
  },
  {
   "cell_type": "code",
   "execution_count": 26,
   "id": "4f413692",
   "metadata": {},
   "outputs": [
    {
     "data": {
      "text/plain": [
       "<AxesSubplot:>"
      ]
     },
     "execution_count": 26,
     "metadata": {},
     "output_type": "execute_result"
    },
    {
     "data": {
      "image/png": "[encoded data removed]",
      "text/plain": [
       "<Figure size 432x288 with 2 Axes>"
      ]
     },
     "metadata": {
      "needs_background": "light"
     },
     "output_type": "display_data"
    }
   ],
   "source": [
    "sns.heatmap(num_std.corr(), annot = True, cmap = 'coolwarm')"
   ]
  },
  {
   "cell_type": "code",
   "execution_count": 28,
   "id": "d88d59ef",
   "metadata": {},
   "outputs": [
    {
     "data": {
      "image/png": "[encoded data removed]",
      "text/plain": [
       "<Figure size 720x720 with 1 Axes>"
      ]
     },
     "metadata": {
      "needs_background": "light"
     },
     "output_type": "display_data"
    }
   ],
   "source": [
    "plt.figure(figsize = (10,10))\n",
    "from sklearn.cluster import KMeans\n",
    "wcss = []\n",
    "K = range(1,11)\n",
    "for i in K:\n",
    "    kmeans = KMeans(n_clusters=i, init = 'k-means++', random_state=42)\n",
    "    kmeans.fit(num_std)\n",
    "    wcss.append(kmeans.inertia_)\n",
    "plt.plot(K,wcss,'o-')\n",
    "plt.xlabel('No of clusters')\n",
    "plt.ylabel('WCSS')\n",
    "plt.title('Elbow method')\n",
    "plt.show()"
   ]
  },
  {
   "cell_type": "code",
   "execution_count": 39,
   "id": "8bc3f8da",
   "metadata": {},
   "outputs": [],
   "source": [
    "from sklearn.cluster import KMeans\n",
    "kmeans = KMeans(n_clusters = 5, init = 'k-means++', random_state = 42)\n",
    "y_means = kmeans.fit_predict(num_std)\n",
    "num_std['Cluster_Label'] = pd.DataFrame(y_means)"
   ]
  },
  {
   "cell_type": "code",
   "execution_count": 40,
   "id": "52f83b49",
   "metadata": {},
   "outputs": [
    {
     "name": "stdout",
     "output_type": "stream",
     "text": [
      "silhouette_score is 0.3443357796216352\n",
      "davies_bouldin_score is 1.0684012265796916\n"
     ]
    }
   ],
   "source": [
    "from sklearn.metrics import silhouette_score\n",
    "cluster_label = num_std['Cluster_Label']\n",
    "sil_score = silhouette_score(num_std, cluster_label)\n",
    "print('silhouette_score is ' + str(sil_score))\n",
    "from sklearn.metrics import davies_bouldin_score\n",
    "dav_bol_score = davies_bouldin_score(num_std, cluster_label)\n",
    "print('davies_bouldin_score is ' + str(dav_bol_score))"
   ]
  },
  {
   "cell_type": "code",
   "execution_count": 41,
   "id": "4acf8647",
   "metadata": {},
   "outputs": [],
   "source": [
    "num['Cluster_Label'] = num_std['Cluster_Label']"
   ]
  },
  {
   "cell_type": "code",
   "execution_count": 42,
   "id": "8d735864",
   "metadata": {},
   "outputs": [
    {
     "data": {
      "text/plain": [
       "4    799\n",
       "3    746\n",
       "2    627\n",
       "1    508\n",
       "0    398\n",
       "Name: Cluster_Label, dtype: int64"
      ]
     },
     "execution_count": 42,
     "metadata": {},
     "output_type": "execute_result"
    }
   ],
   "source": [
    "num['Cluster_Label'].value_counts()"
   ]
  },
  {
   "cell_type": "code",
   "execution_count": 43,
   "id": "622ee242",
   "metadata": {},
   "outputs": [
    {
     "data": {
      "text/html": [
       "<div>\n",
       "<style scoped>\n",
       "    .dataframe tbody tr th:only-of-type {\n",
       "        vertical-align: middle;\n",
       "    }\n",
       "\n",
       "    .dataframe tbody tr th {\n",
       "        vertical-align: top;\n",
       "    }\n",
       "\n",
       "    .dataframe thead tr th {\n",
       "        text-align: left;\n",
       "    }\n",
       "\n",
       "    .dataframe thead tr:last-of-type th {\n",
       "        text-align: right;\n",
       "    }\n",
       "</style>\n",
       "<table border=\"1\" class=\"dataframe\">\n",
       "  <thead>\n",
       "    <tr>\n",
       "      <th></th>\n",
       "      <th>Months_on_book</th>\n",
       "      <th>Total_Relationship_Count</th>\n",
       "      <th>Months_Inactive_12_mon</th>\n",
       "      <th>Credit_Limit</th>\n",
       "      <th>Total_Revolving_Bal</th>\n",
       "      <th>Avg_Utilization_Ratio</th>\n",
       "      <th>Total_Trans_Amt</th>\n",
       "      <th>Total_Trans_Ct</th>\n",
       "      <th>Average_Spend</th>\n",
       "    </tr>\n",
       "    <tr>\n",
       "      <th></th>\n",
       "      <th>mean</th>\n",
       "      <th>mean</th>\n",
       "      <th>mean</th>\n",
       "      <th>mean</th>\n",
       "      <th>mean</th>\n",
       "      <th>mean</th>\n",
       "      <th>mean</th>\n",
       "      <th>mean</th>\n",
       "      <th>mean</th>\n",
       "    </tr>\n",
       "    <tr>\n",
       "      <th>Cluster_Label</th>\n",
       "      <th></th>\n",
       "      <th></th>\n",
       "      <th></th>\n",
       "      <th></th>\n",
       "      <th></th>\n",
       "      <th></th>\n",
       "      <th></th>\n",
       "      <th></th>\n",
       "      <th></th>\n",
       "    </tr>\n",
       "  </thead>\n",
       "  <tbody>\n",
       "    <tr>\n",
       "      <th>0</th>\n",
       "      <td>36.108040</td>\n",
       "      <td>2.459799</td>\n",
       "      <td>2.280151</td>\n",
       "      <td>12385.280402</td>\n",
       "      <td>1197.814070</td>\n",
       "      <td>0.144367</td>\n",
       "      <td>7565.066583</td>\n",
       "      <td>82.984925</td>\n",
       "      <td>92.558633</td>\n",
       "    </tr>\n",
       "    <tr>\n",
       "      <th>1</th>\n",
       "      <td>25.676181</td>\n",
       "      <td>4.096457</td>\n",
       "      <td>1.897638</td>\n",
       "      <td>8815.534252</td>\n",
       "      <td>969.277559</td>\n",
       "      <td>0.161173</td>\n",
       "      <td>3304.871063</td>\n",
       "      <td>61.990157</td>\n",
       "      <td>51.833259</td>\n",
       "    </tr>\n",
       "    <tr>\n",
       "      <th>2</th>\n",
       "      <td>40.328549</td>\n",
       "      <td>3.976077</td>\n",
       "      <td>1.503987</td>\n",
       "      <td>9173.744817</td>\n",
       "      <td>986.655502</td>\n",
       "      <td>0.144085</td>\n",
       "      <td>3505.022329</td>\n",
       "      <td>63.001595</td>\n",
       "      <td>53.685297</td>\n",
       "    </tr>\n",
       "    <tr>\n",
       "      <th>3</th>\n",
       "      <td>38.161528</td>\n",
       "      <td>3.813673</td>\n",
       "      <td>3.231903</td>\n",
       "      <td>9283.997051</td>\n",
       "      <td>813.975871</td>\n",
       "      <td>0.108361</td>\n",
       "      <td>3176.612601</td>\n",
       "      <td>58.274129</td>\n",
       "      <td>52.936874</td>\n",
       "    </tr>\n",
       "    <tr>\n",
       "      <th>4</th>\n",
       "      <td>36.447434</td>\n",
       "      <td>3.931164</td>\n",
       "      <td>2.404255</td>\n",
       "      <td>2598.827660</td>\n",
       "      <td>1710.400501</td>\n",
       "      <td>0.666333</td>\n",
       "      <td>3627.296621</td>\n",
       "      <td>64.032541</td>\n",
       "      <td>55.394896</td>\n",
       "    </tr>\n",
       "  </tbody>\n",
       "</table>\n",
       "</div>"
      ],
      "text/plain": [
       "              Months_on_book Total_Relationship_Count Months_Inactive_12_mon  \\\n",
       "                        mean                     mean                   mean   \n",
       "Cluster_Label                                                                  \n",
       "0                  36.108040                 2.459799               2.280151   \n",
       "1                  25.676181                 4.096457               1.897638   \n",
       "2                  40.328549                 3.976077               1.503987   \n",
       "3                  38.161528                 3.813673               3.231903   \n",
       "4                  36.447434                 3.931164               2.404255   \n",
       "\n",
       "               Credit_Limit Total_Revolving_Bal Avg_Utilization_Ratio  \\\n",
       "                       mean                mean                  mean   \n",
       "Cluster_Label                                                           \n",
       "0              12385.280402         1197.814070              0.144367   \n",
       "1               8815.534252          969.277559              0.161173   \n",
       "2               9173.744817          986.655502              0.144085   \n",
       "3               9283.997051          813.975871              0.108361   \n",
       "4               2598.827660         1710.400501              0.666333   \n",
       "\n",
       "              Total_Trans_Amt Total_Trans_Ct Average_Spend  \n",
       "                         mean           mean          mean  \n",
       "Cluster_Label                                               \n",
       "0                 7565.066583      82.984925     92.558633  \n",
       "1                 3304.871063      61.990157     51.833259  \n",
       "2                 3505.022329      63.001595     53.685297  \n",
       "3                 3176.612601      58.274129     52.936874  \n",
       "4                 3627.296621      64.032541     55.394896  "
      ]
     },
     "execution_count": 43,
     "metadata": {},
     "output_type": "execute_result"
    }
   ],
   "source": [
    "num.groupby('Cluster_Label').agg(['mean'])"
   ]
  },
  {
   "cell_type": "code",
   "execution_count": 44,
   "id": "ac501733",
   "metadata": {},
   "outputs": [],
   "source": [
    "data_all = pd.concat([num,char],axis = 1)"
   ]
  },
  {
   "cell_type": "code",
   "execution_count": 45,
   "id": "0854c6b3",
   "metadata": {},
   "outputs": [
    {
     "data": {
      "text/html": [
       "<div>\n",
       "<style scoped>\n",
       "    .dataframe tbody tr th:only-of-type {\n",
       "        vertical-align: middle;\n",
       "    }\n",
       "\n",
       "    .dataframe tbody tr th {\n",
       "        vertical-align: top;\n",
       "    }\n",
       "\n",
       "    .dataframe thead th {\n",
       "        text-align: right;\n",
       "    }\n",
       "</style>\n",
       "<table border=\"1\" class=\"dataframe\">\n",
       "  <thead>\n",
       "    <tr style=\"text-align: right;\">\n",
       "      <th></th>\n",
       "      <th>Months_on_book</th>\n",
       "      <th>Total_Relationship_Count</th>\n",
       "      <th>Months_Inactive_12_mon</th>\n",
       "      <th>Credit_Limit</th>\n",
       "      <th>Total_Revolving_Bal</th>\n",
       "      <th>Avg_Utilization_Ratio</th>\n",
       "      <th>Total_Trans_Amt</th>\n",
       "      <th>Total_Trans_Ct</th>\n",
       "      <th>Average_Spend</th>\n",
       "      <th>Cluster_Label</th>\n",
       "      <th>Education_Level</th>\n",
       "      <th>Card_Category</th>\n",
       "    </tr>\n",
       "  </thead>\n",
       "  <tbody>\n",
       "    <tr>\n",
       "      <th>0</th>\n",
       "      <td>34.0</td>\n",
       "      <td>3.0</td>\n",
       "      <td>4.0</td>\n",
       "      <td>3313.0</td>\n",
       "      <td>2517.0</td>\n",
       "      <td>0.760</td>\n",
       "      <td>1171.0</td>\n",
       "      <td>20.0</td>\n",
       "      <td>58.550000</td>\n",
       "      <td>4</td>\n",
       "      <td>High School</td>\n",
       "      <td>Blue</td>\n",
       "    </tr>\n",
       "    <tr>\n",
       "      <th>1</th>\n",
       "      <td>36.0</td>\n",
       "      <td>3.0</td>\n",
       "      <td>1.0</td>\n",
       "      <td>4010.0</td>\n",
       "      <td>1247.0</td>\n",
       "      <td>0.311</td>\n",
       "      <td>1088.0</td>\n",
       "      <td>24.0</td>\n",
       "      <td>45.333333</td>\n",
       "      <td>2</td>\n",
       "      <td>Graduate</td>\n",
       "      <td>Blue</td>\n",
       "    </tr>\n",
       "    <tr>\n",
       "      <th>2</th>\n",
       "      <td>27.0</td>\n",
       "      <td>2.0</td>\n",
       "      <td>2.0</td>\n",
       "      <td>23655.0</td>\n",
       "      <td>1396.0</td>\n",
       "      <td>0.048</td>\n",
       "      <td>1538.0</td>\n",
       "      <td>36.0</td>\n",
       "      <td>42.722222</td>\n",
       "      <td>1</td>\n",
       "      <td>High School</td>\n",
       "      <td>Silver</td>\n",
       "    </tr>\n",
       "    <tr>\n",
       "      <th>3</th>\n",
       "      <td>36.0</td>\n",
       "      <td>3.0</td>\n",
       "      <td>4.5</td>\n",
       "      <td>11751.0</td>\n",
       "      <td>0.0</td>\n",
       "      <td>0.000</td>\n",
       "      <td>1539.0</td>\n",
       "      <td>17.0</td>\n",
       "      <td>90.529412</td>\n",
       "      <td>0</td>\n",
       "      <td>College</td>\n",
       "      <td>Blue</td>\n",
       "    </tr>\n",
       "    <tr>\n",
       "      <th>4</th>\n",
       "      <td>48.0</td>\n",
       "      <td>5.0</td>\n",
       "      <td>2.0</td>\n",
       "      <td>2436.0</td>\n",
       "      <td>680.0</td>\n",
       "      <td>0.279</td>\n",
       "      <td>1570.0</td>\n",
       "      <td>29.0</td>\n",
       "      <td>54.137931</td>\n",
       "      <td>2</td>\n",
       "      <td>Graduate</td>\n",
       "      <td>Blue</td>\n",
       "    </tr>\n",
       "  </tbody>\n",
       "</table>\n",
       "</div>"
      ],
      "text/plain": [
       "   Months_on_book  Total_Relationship_Count  Months_Inactive_12_mon  \\\n",
       "0            34.0                       3.0                     4.0   \n",
       "1            36.0                       3.0                     1.0   \n",
       "2            27.0                       2.0                     2.0   \n",
       "3            36.0                       3.0                     4.5   \n",
       "4            48.0                       5.0                     2.0   \n",
       "\n",
       "   Credit_Limit  Total_Revolving_Bal  Avg_Utilization_Ratio  Total_Trans_Amt  \\\n",
       "0        3313.0               2517.0                  0.760           1171.0   \n",
       "1        4010.0               1247.0                  0.311           1088.0   \n",
       "2       23655.0               1396.0                  0.048           1538.0   \n",
       "3       11751.0                  0.0                  0.000           1539.0   \n",
       "4        2436.0                680.0                  0.279           1570.0   \n",
       "\n",
       "   Total_Trans_Ct  Average_Spend  Cluster_Label Education_Level Card_Category  \n",
       "0            20.0      58.550000              4     High School          Blue  \n",
       "1            24.0      45.333333              2        Graduate          Blue  \n",
       "2            36.0      42.722222              1     High School        Silver  \n",
       "3            17.0      90.529412              0         College          Blue  \n",
       "4            29.0      54.137931              2        Graduate          Blue  "
      ]
     },
     "execution_count": 45,
     "metadata": {},
     "output_type": "execute_result"
    }
   ],
   "source": [
    "data_all.head()"
   ]
  },
  {
   "cell_type": "code",
   "execution_count": 47,
   "id": "f1566ce2",
   "metadata": {},
   "outputs": [
    {
     "data": {
      "text/html": [
       "<div>\n",
       "<style scoped>\n",
       "    .dataframe tbody tr th:only-of-type {\n",
       "        vertical-align: middle;\n",
       "    }\n",
       "\n",
       "    .dataframe tbody tr th {\n",
       "        vertical-align: top;\n",
       "    }\n",
       "\n",
       "    .dataframe thead th {\n",
       "        text-align: right;\n",
       "    }\n",
       "</style>\n",
       "<table border=\"1\" class=\"dataframe\">\n",
       "  <thead>\n",
       "    <tr style=\"text-align: right;\">\n",
       "      <th>Card_Category</th>\n",
       "      <th>Blue</th>\n",
       "      <th>Gold</th>\n",
       "      <th>Platinum</th>\n",
       "      <th>Silver</th>\n",
       "    </tr>\n",
       "    <tr>\n",
       "      <th>Cluster_Label</th>\n",
       "      <th></th>\n",
       "      <th></th>\n",
       "      <th></th>\n",
       "      <th></th>\n",
       "    </tr>\n",
       "  </thead>\n",
       "  <tbody>\n",
       "    <tr>\n",
       "      <th>0</th>\n",
       "      <td>317.0</td>\n",
       "      <td>15.0</td>\n",
       "      <td>7.0</td>\n",
       "      <td>59.0</td>\n",
       "    </tr>\n",
       "    <tr>\n",
       "      <th>1</th>\n",
       "      <td>464.0</td>\n",
       "      <td>6.0</td>\n",
       "      <td>NaN</td>\n",
       "      <td>38.0</td>\n",
       "    </tr>\n",
       "    <tr>\n",
       "      <th>2</th>\n",
       "      <td>585.0</td>\n",
       "      <td>6.0</td>\n",
       "      <td>4.0</td>\n",
       "      <td>32.0</td>\n",
       "    </tr>\n",
       "    <tr>\n",
       "      <th>3</th>\n",
       "      <td>701.0</td>\n",
       "      <td>7.0</td>\n",
       "      <td>1.0</td>\n",
       "      <td>37.0</td>\n",
       "    </tr>\n",
       "    <tr>\n",
       "      <th>4</th>\n",
       "      <td>799.0</td>\n",
       "      <td>NaN</td>\n",
       "      <td>NaN</td>\n",
       "      <td>NaN</td>\n",
       "    </tr>\n",
       "  </tbody>\n",
       "</table>\n",
       "</div>"
      ],
      "text/plain": [
       "Card_Category   Blue  Gold  Platinum  Silver\n",
       "Cluster_Label                               \n",
       "0              317.0  15.0       7.0    59.0\n",
       "1              464.0   6.0       NaN    38.0\n",
       "2              585.0   6.0       4.0    32.0\n",
       "3              701.0   7.0       1.0    37.0\n",
       "4              799.0   NaN       NaN     NaN"
      ]
     },
     "execution_count": 47,
     "metadata": {},
     "output_type": "execute_result"
    }
   ],
   "source": [
    "pd.crosstab(index = data_all['Cluster_Label'], columns = data_all['Card_Category'], values = data_all['Card_Category'],aggfunc='count')"
   ]
  },
  {
   "cell_type": "code",
   "execution_count": 49,
   "id": "81306a05",
   "metadata": {},
   "outputs": [
    {
     "data": {
      "text/html": [
       "<div>\n",
       "<style scoped>\n",
       "    .dataframe tbody tr th:only-of-type {\n",
       "        vertical-align: middle;\n",
       "    }\n",
       "\n",
       "    .dataframe tbody tr th {\n",
       "        vertical-align: top;\n",
       "    }\n",
       "\n",
       "    .dataframe thead th {\n",
       "        text-align: right;\n",
       "    }\n",
       "</style>\n",
       "<table border=\"1\" class=\"dataframe\">\n",
       "  <thead>\n",
       "    <tr style=\"text-align: right;\">\n",
       "      <th>Card_Category</th>\n",
       "      <th>Blue</th>\n",
       "      <th>Gold</th>\n",
       "      <th>Platinum</th>\n",
       "      <th>Silver</th>\n",
       "    </tr>\n",
       "    <tr>\n",
       "      <th>Cluster_Label</th>\n",
       "      <th></th>\n",
       "      <th></th>\n",
       "      <th></th>\n",
       "      <th></th>\n",
       "    </tr>\n",
       "  </thead>\n",
       "  <tbody>\n",
       "    <tr>\n",
       "      <th>0</th>\n",
       "      <td>7511.518927</td>\n",
       "      <td>8102.633333</td>\n",
       "      <td>7435.571429</td>\n",
       "      <td>7731.466102</td>\n",
       "    </tr>\n",
       "    <tr>\n",
       "      <th>1</th>\n",
       "      <td>3236.568966</td>\n",
       "      <td>4707.666667</td>\n",
       "      <td>NaN</td>\n",
       "      <td>3917.381579</td>\n",
       "    </tr>\n",
       "    <tr>\n",
       "      <th>2</th>\n",
       "      <td>3464.713675</td>\n",
       "      <td>4948.833333</td>\n",
       "      <td>3446.375000</td>\n",
       "      <td>3978.531250</td>\n",
       "    </tr>\n",
       "    <tr>\n",
       "      <th>3</th>\n",
       "      <td>3112.114836</td>\n",
       "      <td>5533.928571</td>\n",
       "      <td>8679.500000</td>\n",
       "      <td>3803.878378</td>\n",
       "    </tr>\n",
       "    <tr>\n",
       "      <th>4</th>\n",
       "      <td>3627.296621</td>\n",
       "      <td>NaN</td>\n",
       "      <td>NaN</td>\n",
       "      <td>NaN</td>\n",
       "    </tr>\n",
       "  </tbody>\n",
       "</table>\n",
       "</div>"
      ],
      "text/plain": [
       "Card_Category         Blue         Gold     Platinum       Silver\n",
       "Cluster_Label                                                    \n",
       "0              7511.518927  8102.633333  7435.571429  7731.466102\n",
       "1              3236.568966  4707.666667          NaN  3917.381579\n",
       "2              3464.713675  4948.833333  3446.375000  3978.531250\n",
       "3              3112.114836  5533.928571  8679.500000  3803.878378\n",
       "4              3627.296621          NaN          NaN          NaN"
      ]
     },
     "execution_count": 49,
     "metadata": {},
     "output_type": "execute_result"
    }
   ],
   "source": [
    "pd.crosstab(index = data_all['Cluster_Label'], columns = data_all['Card_Category'], values = data_all['Total_Trans_Amt'],aggfunc='mean')"
   ]
  },
  {
   "cell_type": "code",
   "execution_count": 52,
   "id": "d52e7722",
   "metadata": {},
   "outputs": [
    {
     "data": {
      "text/plain": [
       "<AxesSubplot:xlabel='Cluster_Label', ylabel='Avg_Utilization_Ratio'>"
      ]
     },
     "execution_count": 52,
     "metadata": {},
     "output_type": "execute_result"
    },
    {
     "data": {
      "image/png": "[encoded data removed]",
      "text/plain": [
       "<Figure size 432x288 with 1 Axes>"
      ]
     },
     "metadata": {
      "needs_background": "light"
     },
     "output_type": "display_data"
    }
   ],
   "source": [
    "sns.barplot(x = 'Cluster_Label', y = 'Avg_Utilization_Ratio', data = data_all, estimator = np.mean)"
   ]
  },
  {
   "cell_type": "code",
   "execution_count": 53,
   "id": "8610cc15",
   "metadata": {},
   "outputs": [
    {
     "data": {
      "text/plain": [
       "<AxesSubplot:xlabel='Cluster_Label', ylabel='Months_on_book'>"
      ]
     },
     "execution_count": 53,
     "metadata": {},
     "output_type": "execute_result"
    },
    {
     "data": {
      "image/png": "[encoded data removed]",
      "text/plain": [
       "<Figure size 432x288 with 1 Axes>"
      ]
     },
     "metadata": {
      "needs_background": "light"
     },
     "output_type": "display_data"
    }
   ],
   "source": [
    "sns.barplot(x = 'Cluster_Label', y = 'Months_on_book', data = data_all, estimator = np.mean)"
   ]
  },
  {
   "cell_type": "code",
   "execution_count": 54,
   "id": "1f4f0235",
   "metadata": {},
   "outputs": [
    {
     "data": {
      "text/plain": [
       "<AxesSubplot:xlabel='Cluster_Label', ylabel='Months_Inactive_12_mon'>"
      ]
     },
     "execution_count": 54,
     "metadata": {},
     "output_type": "execute_result"
    },
    {
     "data": {
      "image/png": "[encoded data removed]",
      "text/plain": [
       "<Figure size 432x288 with 1 Axes>"
      ]
     },
     "metadata": {
      "needs_background": "light"
     },
     "output_type": "display_data"
    }
   ],
   "source": [
    "sns.barplot(x = 'Cluster_Label', y = 'Months_Inactive_12_mon', data = data_all, estimator = np.mean)"
   ]
  },
  {
   "cell_type": "code",
   "execution_count": 55,
   "id": "45c4f00a",
   "metadata": {},
   "outputs": [
    {
     "data": {
      "text/plain": [
       "<AxesSubplot:xlabel='Cluster_Label', ylabel='Average_Spend'>"
      ]
     },
     "execution_count": 55,
     "metadata": {},
     "output_type": "execute_result"
    },
    {
     "data": {
      "image/png": "[encoded data removed]",
      "text/plain": [
       "<Figure size 432x288 with 1 Axes>"
      ]
     },
     "metadata": {
      "needs_background": "light"
     },
     "output_type": "display_data"
    }
   ],
   "source": [
    "sns.barplot(x = 'Cluster_Label', y = 'Average_Spend', data = data_all, estimator = np.mean)"
   ]
  },
  {
   "cell_type": "code",
   "execution_count": 56,
   "id": "2e2373e7",
   "metadata": {},
   "outputs": [],
   "source": [
    "data_cluster0 = data_all[data_all['Cluster_Label'] == 0]"
   ]
  },
  {
   "cell_type": "code",
   "execution_count": 57,
   "id": "43adcdf6",
   "metadata": {},
   "outputs": [
    {
     "data": {
      "text/plain": [
       "(398, 12)"
      ]
     },
     "execution_count": 57,
     "metadata": {},
     "output_type": "execute_result"
    }
   ],
   "source": [
    "data_cluster0.shape"
   ]
  },
  {
   "cell_type": "code",
   "execution_count": null,
   "id": "a408c6c8",
   "metadata": {},
   "outputs": [],
   "source": []
  }
 ],
 "metadata": {
  "kernelspec": {
   "display_name": "Python 3 (ipykernel)",
   "language": "python",
   "name": "python3"
  },
  "language_info": {
   "codemirror_mode": {
    "name": "ipython",
    "version": 3
   },
   "file_extension": ".py",
   "mimetype": "text/x-python",
   "name": "python",
   "nbconvert_exporter": "python",
   "pygments_lexer": "ipython3",
   "version": "3.9.7"
  }
 },
 "nbformat": 4,
 "nbformat_minor": 5
}
